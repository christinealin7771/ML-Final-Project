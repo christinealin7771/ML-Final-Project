{
 "cells": [
  {
   "cell_type": "code",
   "execution_count": 1,
   "metadata": {},
   "outputs": [],
   "source": [
    "import praw\n",
    "\n",
    "user_agent = \"Scraper 1.0 by /u/Lower-Help4159\"\n",
    "reddit = praw.Reddit(\n",
    "    client_id=\"Z9ZxHGiSoBp1qSyGKScKrg\",\n",
    "    client_secret=\"ZmLPofzPo0Lyl2-PAmPKWHyN56CUpA\",\n",
    "    user_agent=user_agent\n",
    ")"
   ]
  },
  {
   "cell_type": "code",
   "execution_count": 15,
   "metadata": {},
   "outputs": [
    {
     "name": "stdout",
     "output_type": "stream",
     "text": [
      "1287\n"
     ]
    }
   ],
   "source": [
    "headlines = set()\n",
    "for submission in reddit.subreddit('music').hot(limit=20):\n",
    "    # print(submission.author)\n",
    "    \n",
    "    # for title in reddit.redditor(str(submission.author)).submissions.new():\n",
    "    #     print(title.title)\n",
    "    #     text = str(title.title)\n",
    "    #     break\n",
    "    # print(submission.author.submissions)\n",
    "    headlines.add(str(submission.title))\n",
    "    \n",
    "    for comment in submission.comments:\n",
    "        submission.comments.replace_more()\n",
    "        # print(comment.body)\n",
    "        headlines.add(str(comment.body))\n",
    "        # break\n",
    "    # break\n",
    "    # headlines.add(submission.title)\n",
    "    \n",
    "print(len(headlines))"
   ]
  },
  {
   "cell_type": "code",
   "execution_count": 21,
   "metadata": {},
   "outputs": [
    {
     "name": "stdout",
     "output_type": "stream",
     "text": [
      "966\n"
     ]
    }
   ],
   "source": [
    "\n",
    "from nrclex import NRCLex\n",
    "\n",
    "# str_tweet = ''.join(df[‘Tweet String’])\n",
    "listData = list(headlines)\n",
    "dict = {}\n",
    "\n",
    "for i in range(len(listData)):\n",
    "    text = listData[i]\n",
    "    emo = NRCLex(text).top_emotions\n",
    "    if len(emo) != 0 and emo[0][1] > 0.0:\n",
    "        dict[text] = emo[0][0]\n",
    "\n",
    "print(len(dict))\n",
    "\n",
    "\n",
    "\n",
    "\n",
    "# data = text_object.raw_emotion_scores\n",
    "# print(data)"
   ]
  },
  {
   "cell_type": "code",
   "execution_count": 20,
   "metadata": {},
   "outputs": [],
   "source": [
    "\n",
    "import pandas as pd\n",
    "\n",
    "df = pd.DataFrame(dict.items(), columns=['Text', 'Emotion'])\n",
    "\n",
    "df.to_csv('reddit_data.csv')"
   ]
  }
 ],
 "metadata": {
  "kernelspec": {
   "display_name": "Python 3",
   "language": "python",
   "name": "python3"
  },
  "language_info": {
   "codemirror_mode": {
    "name": "ipython",
    "version": 3
   },
   "file_extension": ".py",
   "mimetype": "text/x-python",
   "name": "python",
   "nbconvert_exporter": "python",
   "pygments_lexer": "ipython3",
   "version": "3.10.0"
  },
  "orig_nbformat": 4
 },
 "nbformat": 4,
 "nbformat_minor": 2
}
