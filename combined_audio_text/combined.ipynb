{
 "cells": [
  {
   "cell_type": "code",
   "execution_count": 3,
   "metadata": {},
   "outputs": [
    {
     "name": "stdout",
     "output_type": "stream",
     "text": [
      "0      [-0.50882715  0.21809404  0.13016724 -0.083799...\n",
      "1      [-0.37578919  0.0946471  -0.20731366 -0.577711...\n",
      "2      [-0.66163614  0.24291839  0.01048072  0.179888...\n",
      "3      [-0.16409671  0.18533841 -0.0706801   0.017312...\n",
      "4      [-0.18457078  0.08929034 -0.2302692  -0.300802...\n",
      "                             ...                        \n",
      "685    [-0.22316941  0.48149447  0.10607564 -0.133971...\n",
      "686    [-0.49817212  0.33425377 -0.02707161  0.053169...\n",
      "687    [-0.73422875  0.1554076  -0.05342495  0.147533...\n",
      "688    [-0.34830859 -0.11108223 -0.4708115  -0.096679...\n",
      "689    [-0.319215    0.32126318  0.04530932  0.047102...\n",
      "Name: features, Length: 690, dtype: object\n"
     ]
    }
   ],
   "source": [
    "import pandas as pd \n",
    "import json\n",
    "import numpy as np\n",
    "import glob\n",
    "\n",
    "\n",
    "df = pd.read_csv('../mustard_audio/audio_sarcasm_extraction.csv')\n",
    "print(df['features'])\n",
    "\n"
   ]
  }
 ],
 "metadata": {
  "kernelspec": {
   "display_name": "Python 3",
   "language": "python",
   "name": "python3"
  },
  "language_info": {
   "codemirror_mode": {
    "name": "ipython",
    "version": 3
   },
   "file_extension": ".py",
   "mimetype": "text/x-python",
   "name": "python",
   "nbconvert_exporter": "python",
   "pygments_lexer": "ipython3",
   "version": "3.11.3"
  },
  "orig_nbformat": 4
 },
 "nbformat": 4,
 "nbformat_minor": 2
}
