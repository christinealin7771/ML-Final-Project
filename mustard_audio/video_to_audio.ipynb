{
 "cells": [
  {
   "cell_type": "code",
   "execution_count": 2,
   "metadata": {},
   "outputs": [
    {
     "name": "stdout",
     "output_type": "stream",
     "text": [
      "['utterances_final/2_479.mp4', 'utterances_final/2_337.mp4', 'utterances_final/2_323.mp4', 'utterances_final/2_445.mp4', 'utterances_final/1_11242.mp4', 'utterances_final/2_492.mp4', 'utterances_final/2_486.mp4', 'utterances_final/2_109.mp4', 'utterances_final/1_6426.mp4', 'utterances_final/2_135.mp4', 'utterances_final/1_11901.mp4', 'utterances_final/1_3204.mp4', 'utterances_final/2_121.mp4', 'utterances_final/1_7089.mp4', 'utterances_final/1_7894.mp4', 'utterances_final/1_182.mp4', 'utterances_final/2_1.mp4', 'utterances_final/1_11120.mp4', 'utterances_final/2_525.mp4', 'utterances_final/2_243.mp4', 'utterances_final/1_1003.mp4', 'utterances_final/2_257.mp4', 'utterances_final/2_531.mp4', 'utterances_final/1_11322.mp4', 'utterances_final/2_280.mp4', 'utterances_final/2_294.mp4', 'utterances_final/2_295.mp4', 'utterances_final/1_430.mp4', 'utterances_final/2_281.mp4', 'utterances_final/2_530.mp4', 'utterances_final/2_524.mp4', 'utterances_final/2_242.mp4', 'utterances_final/1_90.mp4', 'utterances_final/2_518.mp4', 'utterances_final/1_3371.mp4', 'utterances_final/1_6221.mp4', 'utterances_final/1_11055.mp4', 'utterances_final/2_120.mp4', 'utterances_final/1_2669.mp4', 'utterances_final/2_134.mp4', 'utterances_final/1_6427.mp4', 'utterances_final/1_6355.mp4', 'utterances_final/1_11928.mp4', 'utterances_final/2_487.mp4', 'utterances_final/2_493.mp4', 'utterances_final/1_8185.mp4', 'utterances_final/1_4967.mp4', 'utterances_final/1_1189.mp4', 'utterances_final/1_11243.mp4', 'utterances_final/1_11257.mp4', 'utterances_final/2_322.mp4', 'utterances_final/2_444.mp4', 'utterances_final/2_450.mp4', 'utterances_final/2_478.mp4', 'utterances_final/1_1638.mp4', 'utterances_final/1_6627.mp4', 'utterances_final/2_446.mp4', 'utterances_final/2_334.mp4', 'utterances_final/2_485.mp4', 'utterances_final/2_491.mp4', 'utterances_final/1_2119.mp4', 'utterances_final/1_5058.mp4', 'utterances_final/1_4352.mp4', 'utterances_final/2_2.mp4', 'utterances_final/1_11889.mp4', 'utterances_final/2_28.mp4', 'utterances_final/1_5919.mp4', 'utterances_final/2_268.mp4', 'utterances_final/2_532.mp4', 'utterances_final/2_254.mp4', 'utterances_final/2_240.mp4', 'utterances_final/2_526.mp4', 'utterances_final/1_1772.mp4', 'utterances_final/2_297.mp4', 'utterances_final/1_340.mp4', 'utterances_final/2_283.mp4', 'utterances_final/2_282.mp4', 'utterances_final/1_427.mp4', 'utterances_final/1_1798.mp4', 'utterances_final/2_241.mp4', 'utterances_final/2_527.mp4', 'utterances_final/2_255.mp4', 'utterances_final/1_1001.mp4', 'utterances_final/1_11485.mp4', 'utterances_final/1_6020.mp4', 'utterances_final/1_4145.mp4', 'utterances_final/2_15.mp4', 'utterances_final/2_29.mp4', 'utterances_final/2_3.mp4', 'utterances_final/1_11042.mp4', 'utterances_final/2_137.mp4', 'utterances_final/2_123.mp4', 'utterances_final/2_490.mp4', 'utterances_final/2_484.mp4', 'utterances_final/1_6183.mp4', 'utterances_final/1_11526.mp4', 'utterances_final/2_447.mp4', 'utterances_final/1_7504.mp4', 'utterances_final/1_4743.mp4', 'utterances_final/1_4031.mp4', 'utterances_final/1_3766.mp4', 'utterances_final/2_443.mp4', 'utterances_final/2_457.mp4', 'utterances_final/2_319.mp4', 'utterances_final/2_494.mp4', 'utterances_final/2_127.mp4', 'utterances_final/1_11913.mp4', 'utterances_final/1_11046.mp4', 'utterances_final/2_7.mp4', 'utterances_final/1_11697.mp4', 'utterances_final/1_1549.mp4', 'utterances_final/2_11.mp4', 'utterances_final/2_39.mp4', 'utterances_final/2_251.mp4', 'utterances_final/2_537.mp4', 'utterances_final/2_523.mp4', 'utterances_final/2_245.mp4', 'utterances_final/1_1987.mp4', 'utterances_final/2_279.mp4', 'utterances_final/2_292.mp4', 'utterances_final/2_286.mp4', 'utterances_final/1_10748.mp4', 'utterances_final/2_287.mp4', 'utterances_final/2_293.mp4', 'utterances_final/2_278.mp4', 'utterances_final/1_7449.mp4', 'utterances_final/2_522.mp4', 'utterances_final/1_8746.mp4', 'utterances_final/2_250.mp4', 'utterances_final/2_536.mp4', 'utterances_final/2_38.mp4', 'utterances_final/1_1560.mp4', 'utterances_final/1_5699.mp4', 'utterances_final/1_4544.mp4', 'utterances_final/2_126.mp4', 'utterances_final/1_4949.mp4', 'utterances_final/2_495.mp4', 'utterances_final/1_12002.mp4', 'utterances_final/2_481.mp4', 'utterances_final/2_318.mp4', 'utterances_final/2_456.mp4', 'utterances_final/2_442.mp4', 'utterances_final/2_454.mp4', 'utterances_final/2_440.mp4', 'utterances_final/2_326.mp4', 'utterances_final/1_11253.mp4', 'utterances_final/1_3573.mp4', 'utterances_final/2_124.mp4', 'utterances_final/1_971.mp4', 'utterances_final/1_5880.mp4', 'utterances_final/2_118.mp4', 'utterances_final/1_4552.mp4', 'utterances_final/1_12202.mp4', 'utterances_final/1_11051.mp4', 'utterances_final/1_11723.mp4', 'utterances_final/1_7661.mp4', 'utterances_final/1_7675.mp4', 'utterances_final/2_12.mp4', 'utterances_final/2_246.mp4', 'utterances_final/1_3177.mp4', 'utterances_final/2_534.mp4', 'utterances_final/1_6769.mp4', 'utterances_final/1_80.mp4', 'utterances_final/2_508.mp4', 'utterances_final/2_291.mp4', 'utterances_final/1_3837.mp4', 'utterances_final/2_284.mp4', 'utterances_final/1_10004.mp4', 'utterances_final/1_6032.mp4', 'utterances_final/2_509.mp4', 'utterances_final/2_535.mp4', 'utterances_final/2_253.mp4', 'utterances_final/2_247.mp4', 'utterances_final/2_521.mp4', 'utterances_final/2_13.mp4', 'utterances_final/1_3348.mp4', 'utterances_final/1_3599.mp4', 'utterances_final/1_11736.mp4', 'utterances_final/2_119.mp4', 'utterances_final/2_125.mp4', 'utterances_final/2_131.mp4', 'utterances_final/1_4792.mp4', 'utterances_final/2_482.mp4', 'utterances_final/2_441.mp4', 'utterances_final/1_1666.mp4', 'utterances_final/2_426.mp4', 'utterances_final/2_340.mp4', 'utterances_final/2_397.mp4', 'utterances_final/1_6860.mp4', 'utterances_final/1_1470.mp4', 'utterances_final/2_181.mp4', 'utterances_final/1_1262.mp4', 'utterances_final/2_48.mp4', 'utterances_final/2_74.mp4', 'utterances_final/1_8078.mp4', 'utterances_final/2_208.mp4', 'utterances_final/1_5212.mp4', 'utterances_final/2_546.mp4', 'utterances_final/2_552.mp4', 'utterances_final/2_234.mp4', 'utterances_final/2_585.mp4', 'utterances_final/2_591.mp4', 'utterances_final/2_590.mp4', 'utterances_final/1_8045.mp4', 'utterances_final/2_553.mp4', 'utterances_final/2_235.mp4', 'utterances_final/2_221.mp4', 'utterances_final/2_547.mp4', 'utterances_final/2_209.mp4', 'utterances_final/2_49.mp4', 'utterances_final/2_180.mp4', 'utterances_final/2_194.mp4', 'utterances_final/1_4290.mp4', 'utterances_final/1_9993.mp4', 'utterances_final/1_5617.mp4', 'utterances_final/1_533.mp4', 'utterances_final/1_3064.mp4', 'utterances_final/2_427.mp4', 'utterances_final/2_341.mp4', 'utterances_final/2_433.mp4', 'utterances_final/1_2420.mp4', 'utterances_final/2_369.mp4', 'utterances_final/1_6134.mp4', 'utterances_final/1_10857.mp4', 'utterances_final/2_419.mp4', 'utterances_final/2_343.mp4', 'utterances_final/2_425.mp4', 'utterances_final/2_431.mp4', 'utterances_final/2_357.mp4', 'utterances_final/1_11236.mp4', 'utterances_final/2_380.mp4', 'utterances_final/2_169.mp4', 'utterances_final/2_627.mp4', 'utterances_final/2_141.mp4', 'utterances_final/2_155.mp4', 'utterances_final/1_4286.mp4', 'utterances_final/2_182.mp4', 'utterances_final/2_196.mp4', 'utterances_final/2_88.mp4', 'utterances_final/1_3476.mp4', 'utterances_final/1_2797.mp4', 'utterances_final/2_77.mp4', 'utterances_final/2_579.mp4', 'utterances_final/2_223.mp4', 'utterances_final/1_3660.mp4', 'utterances_final/1_5211.mp4', 'utterances_final/2_586.mp4', 'utterances_final/2_587.mp4', 'utterances_final/1_2580.mp4', 'utterances_final/1_8052.mp4', 'utterances_final/2_222.mp4', 'utterances_final/2_236.mp4', 'utterances_final/2_550.mp4', 'utterances_final/1_3649.mp4', 'utterances_final/1_5953.mp4', 'utterances_final/2_89.mp4', 'utterances_final/2_197.mp4', 'utterances_final/2_183.mp4', 'utterances_final/1_11021.mp4', 'utterances_final/2_154.mp4', 'utterances_final/1_5166.mp4', 'utterances_final/1_1466.mp4', 'utterances_final/2_626.mp4', 'utterances_final/2_140.mp4', 'utterances_final/2_168.mp4', 'utterances_final/1_3259.mp4', 'utterances_final/2_381.mp4', 'utterances_final/2_430.mp4', 'utterances_final/2_356.mp4', 'utterances_final/2_342.mp4', 'utterances_final/1_2423.mp4', 'utterances_final/1_6645.mp4', 'utterances_final/2_420.mp4', 'utterances_final/1_8136.mp4', 'utterances_final/2_352.mp4', 'utterances_final/2_434.mp4', 'utterances_final/2_408.mp4', 'utterances_final/2_385.mp4', 'utterances_final/2_144.mp4', 'utterances_final/1_8452.mp4', 'utterances_final/2_622.mp4', 'utterances_final/2_150.mp4', 'utterances_final/2_178.mp4', 'utterances_final/2_187.mp4', 'utterances_final/2_193.mp4', 'utterances_final/2_99.mp4', 'utterances_final/1_5758.mp4', 'utterances_final/2_66.mp4', 'utterances_final/2_72.mp4', 'utterances_final/1_2792.mp4', 'utterances_final/1_8042.mp4', 'utterances_final/2_232.mp4', 'utterances_final/2_226.mp4', 'utterances_final/1_5572.mp4', 'utterances_final/2_540.mp4', 'utterances_final/2_583.mp4', 'utterances_final/1_3842.mp4', 'utterances_final/2_596.mp4', 'utterances_final/2_569.mp4', 'utterances_final/1_7402.mp4', 'utterances_final/2_227.mp4', 'utterances_final/2_541.mp4', 'utterances_final/2_555.mp4', 'utterances_final/2_73.mp4', 'utterances_final/1_2778.mp4', 'utterances_final/1_7953.mp4', 'utterances_final/2_186.mp4', 'utterances_final/1_9003.mp4', 'utterances_final/2_151.mp4', 'utterances_final/2_623.mp4', 'utterances_final/1_11232.mp4', 'utterances_final/1_6683.mp4', 'utterances_final/2_390.mp4', 'utterances_final/1_2354.mp4', 'utterances_final/2_409.mp4', 'utterances_final/2_353.mp4', 'utterances_final/2_435.mp4', 'utterances_final/2_421.mp4', 'utterances_final/2_347.mp4', 'utterances_final/2_437.mp4', 'utterances_final/2_351.mp4', 'utterances_final/2_345.mp4', 'utterances_final/2_423.mp4', 'utterances_final/1_10853.mp4', 'utterances_final/1_537.mp4', 'utterances_final/2_392.mp4', 'utterances_final/1_10890.mp4', 'utterances_final/1_11224.mp4', 'utterances_final/2_147.mp4', 'utterances_final/2_609.mp4', 'utterances_final/2_190.mp4', 'utterances_final/1_10462.mp4', 'utterances_final/1_12275.mp4', 'utterances_final/1_6534.mp4', 'utterances_final/2_71.mp4', 'utterances_final/2_65.mp4', 'utterances_final/1_5571.mp4', 'utterances_final/2_225.mp4', 'utterances_final/1_7400.mp4', 'utterances_final/2_231.mp4', 'utterances_final/2_557.mp4', 'utterances_final/1_11378.mp4', 'utterances_final/2_594.mp4', 'utterances_final/1_6092.mp4', 'utterances_final/1_1931.mp4', 'utterances_final/1_3840.mp4', 'utterances_final/2_595.mp4', 'utterances_final/2_581.mp4', 'utterances_final/2_218.mp4', 'utterances_final/2_230.mp4', 'utterances_final/2_556.mp4', 'utterances_final/2_542.mp4', 'utterances_final/2_58.mp4', 'utterances_final/1_11609.mp4', 'utterances_final/1_4281.mp4', 'utterances_final/2_191.mp4', 'utterances_final/2_608.mp4', 'utterances_final/2_146.mp4', 'utterances_final/2_152.mp4', 'utterances_final/2_387.mp4', 'utterances_final/1_536.mp4', 'utterances_final/2_393.mp4', 'utterances_final/2_378.mp4', 'utterances_final/2_344.mp4', 'utterances_final/1_3707.mp4', 'utterances_final/2_422.mp4', 'utterances_final/2_350.mp4', 'utterances_final/1_7575.mp4', 'utterances_final/2_375.mp4', 'utterances_final/2_413.mp4', 'utterances_final/2_407.mp4', 'utterances_final/2_361.mp4', 'utterances_final/1_3911.mp4', 'utterances_final/1_7593.mp4', 'utterances_final/1_507.mp4', 'utterances_final/1_2616.mp4', 'utterances_final/2_611.mp4', 'utterances_final/2_177.mp4', 'utterances_final/2_163.mp4', 'utterances_final/2_188.mp4', 'utterances_final/1_2819.mp4', 'utterances_final/1_6504.mp4', 'utterances_final/2_96.mp4', 'utterances_final/2_69.mp4', 'utterances_final/1_5964.mp4', 'utterances_final/1_12331.mp4', 'utterances_final/2_55.mp4', 'utterances_final/1_8717.mp4', 'utterances_final/2_567.mp4', 'utterances_final/2_573.mp4', 'utterances_final/2_598.mp4', 'utterances_final/1_4850.mp4', 'utterances_final/1_467.mp4', 'utterances_final/1_7395.mp4', 'utterances_final/2_599.mp4', 'utterances_final/1_7357.mp4', 'utterances_final/2_572.mp4', 'utterances_final/1_3125.mp4', 'utterances_final/1_1732.mp4', 'utterances_final/2_228.mp4', 'utterances_final/1_2575.mp4', 'utterances_final/2_54.mp4', 'utterances_final/1_11177.mp4', 'utterances_final/1_3333.mp4', 'utterances_final/2_97.mp4', 'utterances_final/1_9971.mp4', 'utterances_final/1_2830.mp4', 'utterances_final/2_189.mp4', 'utterances_final/2_162.mp4', 'utterances_final/2_604.mp4', 'utterances_final/2_176.mp4', 'utterances_final/1_1478.mp4', 'utterances_final/1_506.mp4', 'utterances_final/1_11201.mp4', 'utterances_final/2_406.mp4', 'utterances_final/2_374.mp4', 'utterances_final/2_438.mp4', 'utterances_final/1_1678.mp4', 'utterances_final/2_410.mp4', 'utterances_final/2_376.mp4', 'utterances_final/2_389.mp4', 'utterances_final/1_276.mp4', 'utterances_final/2_148.mp4', 'utterances_final/2_160.mp4', 'utterances_final/2_174.mp4', 'utterances_final/2_612.mp4', 'utterances_final/1_11773.mp4', 'utterances_final/1_2198.mp4', 'utterances_final/1_672.mp4', 'utterances_final/2_42.mp4', 'utterances_final/2_56.mp4', 'utterances_final/2_558.mp4', 'utterances_final/2_570.mp4', 'utterances_final/2_564.mp4', 'utterances_final/1_7341.mp4', 'utterances_final/2_202.mp4', 'utterances_final/1_5581.mp4', 'utterances_final/1_11439.mp4', 'utterances_final/1_5580.mp4', 'utterances_final/2_203.mp4', 'utterances_final/2_217.mp4', 'utterances_final/2_559.mp4', 'utterances_final/1_1296.mp4', 'utterances_final/2_43.mp4', 'utterances_final/2_94.mp4', 'utterances_final/1_4477.mp4', 'utterances_final/1_3293.mp4', 'utterances_final/1_1484.mp4', 'utterances_final/1_3287.mp4', 'utterances_final/1_9972.mp4', 'utterances_final/2_607.mp4', 'utterances_final/2_161.mp4', 'utterances_final/2_149.mp4', 'utterances_final/1_6472.mp4', 'utterances_final/1_2614.mp4', 'utterances_final/2_388.mp4', 'utterances_final/1_9594.mp4', 'utterances_final/1_10849.mp4', 'utterances_final/2_377.mp4', 'utterances_final/2_405.mp4', 'utterances_final/2_439.mp4', 'utterances_final/1_10859.mp4', 'utterances_final/2_367.mp4', 'utterances_final/2_373.mp4', 'utterances_final/1_6648.mp4', 'utterances_final/2_415.mp4', 'utterances_final/2_429.mp4', 'utterances_final/2_398.mp4', 'utterances_final/2_617.mp4', 'utterances_final/2_171.mp4', 'utterances_final/1_2837.mp4', 'utterances_final/2_84.mp4', 'utterances_final/1_5751.mp4', 'utterances_final/1_5786.mp4', 'utterances_final/2_53.mp4', 'utterances_final/1_105.mp4', 'utterances_final/2_575.mp4', 'utterances_final/2_213.mp4', 'utterances_final/2_549.mp4', 'utterances_final/2_548.mp4', 'utterances_final/2_206.mp4', 'utterances_final/2_560.mp4', 'utterances_final/2_574.mp4', 'utterances_final/2_91.mp4', 'utterances_final/1_9963.mp4', 'utterances_final/2_158.mp4', 'utterances_final/1_10496.mp4', 'utterances_final/2_170.mp4', 'utterances_final/1_5156.mp4', 'utterances_final/2_602.mp4', 'utterances_final/2_428.mp4', 'utterances_final/1_6113.mp4', 'utterances_final/1_2361.mp4', 'utterances_final/2_372.mp4', 'utterances_final/1_12083.mp4', 'utterances_final/2_400.mp4', 'utterances_final/2_416.mp4', 'utterances_final/2_370.mp4', 'utterances_final/1_3069.mp4', 'utterances_final/2_358.mp4', 'utterances_final/2_172.mp4', 'utterances_final/2_166.mp4', 'utterances_final/2_87.mp4', 'utterances_final/2_50.mp4', 'utterances_final/1_7186.mp4', 'utterances_final/1_12320.mp4', 'utterances_final/2_44.mp4', 'utterances_final/2_78.mp4', 'utterances_final/2_562.mp4', 'utterances_final/2_204.mp4', 'utterances_final/2_210.mp4', 'utterances_final/2_576.mp4', 'utterances_final/1_1722.mp4', 'utterances_final/1_6065.mp4', 'utterances_final/2_589.mp4', 'utterances_final/2_588.mp4', 'utterances_final/1_2216.mp4', 'utterances_final/2_577.mp4', 'utterances_final/2_205.mp4', 'utterances_final/2_79.mp4', 'utterances_final/2_45.mp4', 'utterances_final/2_51.mp4', 'utterances_final/2_86.mp4', 'utterances_final/1_8505.mp4', 'utterances_final/2_92.mp4', 'utterances_final/1_11006.mp4', 'utterances_final/2_198.mp4', 'utterances_final/1_5169.mp4', 'utterances_final/1_9009.mp4', 'utterances_final/2_167.mp4', 'utterances_final/2_173.mp4', 'utterances_final/1_10495.mp4', 'utterances_final/2_615.mp4', 'utterances_final/1_3256.mp4', 'utterances_final/1_5627.mp4', 'utterances_final/2_359.mp4', 'utterances_final/2_365.mp4', 'utterances_final/2_371.mp4', 'utterances_final/1_4760.mp4', 'utterances_final/2_458.mp4', 'utterances_final/2_316.mp4', 'utterances_final/2_302.mp4', 'utterances_final/2_464.mp4', 'utterances_final/1_1803.mp4', 'utterances_final/1_8827.mp4', 'utterances_final/1_6188.mp4', 'utterances_final/2_128.mp4', 'utterances_final/1_4576.mp4', 'utterances_final/2_114.mp4', 'utterances_final/2_8.mp4', 'utterances_final/1_9668.mp4', 'utterances_final/2_36.mp4', 'utterances_final/2_504.mp4', 'utterances_final/1_10009.mp4', 'utterances_final/2_289.mp4', 'utterances_final/1_7490.mp4', 'utterances_final/1_410.mp4', 'utterances_final/2_288.mp4', 'utterances_final/2_511.mp4', 'utterances_final/2_505.mp4', 'utterances_final/2_263.mp4', 'utterances_final/1_8749.mp4', 'utterances_final/1_175.mp4', 'utterances_final/1_11699.mp4', 'utterances_final/2_9.mp4', 'utterances_final/1_2853.mp4', 'utterances_final/1_8417.mp4', 'utterances_final/2_115.mp4', 'utterances_final/2_129.mp4', 'utterances_final/1_1180.mp4', 'utterances_final/2_303.mp4', 'utterances_final/2_465.mp4', 'utterances_final/2_471.mp4', 'utterances_final/1_10829.mp4', 'utterances_final/2_317.mp4', 'utterances_final/1_9245.mp4', 'utterances_final/1_8159.mp4', 'utterances_final/2_467.mp4', 'utterances_final/2_301.mp4', 'utterances_final/2_315.mp4', 'utterances_final/1_1627.mp4', 'utterances_final/2_473.mp4', 'utterances_final/2_498.mp4', 'utterances_final/1_5496.mp4', 'utterances_final/1_7281.mp4', 'utterances_final/1_6835.mp4', 'utterances_final/2_103.mp4', 'utterances_final/2_35.mp4', 'utterances_final/1_4603.mp4', 'utterances_final/1_10977.mp4', 'utterances_final/1_6766.mp4', 'utterances_final/2_261.mp4', 'utterances_final/2_507.mp4', 'utterances_final/1_70.mp4', 'utterances_final/1_7487.mp4', 'utterances_final/2_260.mp4', 'utterances_final/1_7445.mp4', 'utterances_final/2_506.mp4', 'utterances_final/2_512.mp4', 'utterances_final/2_248.mp4', 'utterances_final/1_162.mp4', 'utterances_final/2_34.mp4', 'utterances_final/2_20.mp4', 'utterances_final/1_7082.mp4', 'utterances_final/1_9087.mp4', 'utterances_final/2_102.mp4', 'utterances_final/1_4789.mp4', 'utterances_final/2_499.mp4', 'utterances_final/2_314.mp4', 'utterances_final/2_472.mp4', 'utterances_final/2_300.mp4', 'utterances_final/2_462.mp4', 'utterances_final/2_310.mp4', 'utterances_final/1_10190.mp4', 'utterances_final/1_1144.mp4', 'utterances_final/2_338.mp4', 'utterances_final/1_6165.mp4', 'utterances_final/2_489.mp4', 'utterances_final/1_11098.mp4', 'utterances_final/1_3545.mp4', 'utterances_final/1_5134.mp4', 'utterances_final/2_112.mp4', 'utterances_final/1_7938.mp4', 'utterances_final/1_2075.mp4', 'utterances_final/1_3419.mp4', 'utterances_final/2_24.mp4', 'utterances_final/2_30.mp4', 'utterances_final/1_11885.mp4', 'utterances_final/2_270.mp4', 'utterances_final/2_502.mp4', 'utterances_final/1_6039.mp4', 'utterances_final/2_264.mp4', 'utterances_final/2_258.mp4', 'utterances_final/1_60.mp4', 'utterances_final/2_259.mp4', 'utterances_final/2_271.mp4', 'utterances_final/2_517.mp4', 'utterances_final/1_10797.mp4', 'utterances_final/2_31.mp4', 'utterances_final/1_8217.mp4', 'utterances_final/1_5109.mp4', 'utterances_final/2_113.mp4', 'utterances_final/1_6428.mp4', 'utterances_final/1_7722.mp4', 'utterances_final/2_107.mp4', 'utterances_final/2_488.mp4', 'utterances_final/1_2464.mp4', 'utterances_final/2_339.mp4', 'utterances_final/2_477.mp4', 'utterances_final/2_305.mp4', 'utterances_final/2_463.mp4', 'utterances_final/2_313.mp4', 'utterances_final/2_475.mp4', 'utterances_final/2_461.mp4', 'utterances_final/1_4995.mp4', 'utterances_final/2_449.mp4', 'utterances_final/1_213.mp4', 'utterances_final/2_111.mp4', 'utterances_final/1_8407.mp4', 'utterances_final/2_105.mp4', 'utterances_final/1_5679.mp4', 'utterances_final/1_6370.mp4', 'utterances_final/1_2664.mp4', 'utterances_final/2_33.mp4', 'utterances_final/2_27.mp4', 'utterances_final/2_267.mp4', 'utterances_final/1_7442.mp4', 'utterances_final/1_4639.mp4', 'utterances_final/1_11306.mp4', 'utterances_final/2_299.mp4', 'utterances_final/1_1973.mp4', 'utterances_final/1_7494.mp4', 'utterances_final/2_514.mp4', 'utterances_final/2_272.mp4', 'utterances_final/1_7443.mp4', 'utterances_final/2_500.mp4', 'utterances_final/1_6211.mp4', 'utterances_final/1_7641.mp4', 'utterances_final/1_2842.mp4', 'utterances_final/2_104.mp4', 'utterances_final/1_11924.mp4', 'utterances_final/1_7047.mp4', 'utterances_final/1_8837.mp4', 'utterances_final/1_1185.mp4', 'utterances_final/1_11529.mp4', 'utterances_final/2_448.mp4', 'utterances_final/1_10810.mp4', 'utterances_final/2_306.mp4', 'utterances_final/2_312.mp4', 'utterances_final/2_474.mp4']\n",
      "                                       utterance  speaker   \n",
      "2479  No I am worried she might be Phir Resuda's  DOROTHY  \\\n",
      "\n",
      "                                                context context_speakers   \n",
      "2479  [Just keep thinking about Ma and whose mother ...  [DOROTHY, ROSE]  \\\n",
      "\n",
      "             show  sarcasm  \n",
      "2479  GOLDENGIRLS     True  \n",
      "2479    True\n",
      "Name: sarcasm, dtype: bool\n",
      "MoviePy - Writing audio in ./audio_extracted_yes/2479.mp3\n"
     ]
    },
    {
     "name": "stderr",
     "output_type": "stream",
     "text": [
      "                                                       "
     ]
    },
    {
     "name": "stdout",
     "output_type": "stream",
     "text": [
      "MoviePy - Done.\n",
      "                                              utterance speaker   \n",
      "2337  Uh, listen, I need that broiling pan that Joey...  MONICA  \\\n",
      "\n",
      "                                                context   \n",
      "2337  [How many times have I told you guys, you, Hi ...  \\\n",
      "\n",
      "                  context_speakers     show  sarcasm  \n",
      "2337  [CHANDLER, MONICA, CHANDLER]  FRIENDS    False  \n",
      "2337    False\n",
      "Name: sarcasm, dtype: bool\n"
     ]
    },
    {
     "name": "stderr",
     "output_type": "stream",
     "text": [
      "\r"
     ]
    },
    {
     "name": "stdout",
     "output_type": "stream",
     "text": [
      "MoviePy - Writing audio in ./audio_extracted_no/2337.mp3\n"
     ]
    },
    {
     "name": "stderr",
     "output_type": "stream",
     "text": [
      "                                                       "
     ]
    },
    {
     "name": "stdout",
     "output_type": "stream",
     "text": [
      "MoviePy - Done.\n",
      "                                   utterance   speaker context   \n",
      "2323  That monkey has got a Ross on its ass!  CHANDLER  [Hey!]  \\\n",
      "\n",
      "     context_speakers     show  sarcasm  \n",
      "2323       [CHANDLER]  FRIENDS     True  \n",
      "2323    True\n",
      "Name: sarcasm, dtype: bool\n"
     ]
    },
    {
     "name": "stderr",
     "output_type": "stream",
     "text": [
      "\r"
     ]
    },
    {
     "name": "stdout",
     "output_type": "stream",
     "text": [
      "MoviePy - Writing audio in ./audio_extracted_yes/2323.mp3\n"
     ]
    },
    {
     "name": "stderr",
     "output_type": "stream",
     "text": [
      "                                                       "
     ]
    },
    {
     "name": "stdout",
     "output_type": "stream",
     "text": [
      "MoviePy - Done.\n",
      "     utterance speaker                                            context   \n",
      "2445     Okay?  PHOEBE  [Okay, here's what we're gonna do. Okay, I'm g...  \\\n",
      "\n",
      "     context_speakers     show  sarcasm  \n",
      "2445         [PHOEBE]  FRIENDS    False  \n",
      "2445    False\n",
      "Name: sarcasm, dtype: bool\n"
     ]
    },
    {
     "name": "stderr",
     "output_type": "stream",
     "text": [
      "\r"
     ]
    },
    {
     "name": "stdout",
     "output_type": "stream",
     "text": [
      "MoviePy - Writing audio in ./audio_extracted_no/2445.mp3\n"
     ]
    },
    {
     "name": "stderr",
     "output_type": "stream",
     "text": [
      "                                                       "
     ]
    },
    {
     "name": "stdout",
     "output_type": "stream",
     "text": [
      "MoviePy - Done.\n",
      "                                                utterance     speaker   \n",
      "111242  I love that you take pride in your looks, even...  BERNADETTE  \\\n",
      "\n",
      "                                                  context   \n",
      "111242  [I was not panicked, and I am not overly attac...  \\\n",
      "\n",
      "                            context_speakers show  sarcasm  \n",
      "111242  [SHELDON, LEONARD, SHELDON, SHELDON]  BBT     True  \n",
      "111242    True\n",
      "Name: sarcasm, dtype: bool\n"
     ]
    },
    {
     "name": "stderr",
     "output_type": "stream",
     "text": [
      "\r"
     ]
    },
    {
     "name": "stdout",
     "output_type": "stream",
     "text": [
      "MoviePy - Writing audio in ./audio_extracted_yes/111242.mp3\n"
     ]
    },
    {
     "name": "stderr",
     "output_type": "stream",
     "text": [
      "                                                                  "
     ]
    },
    {
     "name": "stdout",
     "output_type": "stream",
     "text": [
      "MoviePy - Done.\n",
      "                                              utterance speaker   \n",
      "2492  I'm sorry Sophia, but in Dorothy's defence, it...    ROSE  \\\n",
      "\n",
      "                                                context   \n",
      "2492  [You what the joke going around teacher's loun...  \\\n",
      "\n",
      "                        context_speakers         show  sarcasm  \n",
      "2492  [DOROTHY, SOPHIA, DOROTHY, SOPHIA]  GOLDENGIRLS     True  \n",
      "2492    True\n",
      "Name: sarcasm, dtype: bool\n"
     ]
    },
    {
     "name": "stderr",
     "output_type": "stream",
     "text": [
      "\r"
     ]
    },
    {
     "name": "stdout",
     "output_type": "stream",
     "text": [
      "MoviePy - Writing audio in ./audio_extracted_yes/2492.mp3\n"
     ]
    },
    {
     "name": "stderr",
     "output_type": "stream",
     "text": [
      "                                                                  "
     ]
    },
    {
     "name": "stdout",
     "output_type": "stream",
     "text": [
      "MoviePy - Done.\n",
      "                                              utterance speaker   \n",
      "2486  Anyway, they want to take us out Saturday nigh...  RACHEL  \\\n",
      "\n",
      "                                              context      context_speakers   \n",
      "2486  [Oh my!, They're male nurses., Not in my head.]  [JOEY, RACHEL, JOEY]  \\\n",
      "\n",
      "         show  sarcasm  \n",
      "2486  FRIENDS    False  \n",
      "2486    False\n",
      "Name: sarcasm, dtype: bool\n"
     ]
    },
    {
     "name": "stderr",
     "output_type": "stream",
     "text": [
      "\r"
     ]
    },
    {
     "name": "stdout",
     "output_type": "stream",
     "text": [
      "MoviePy - Writing audio in ./audio_extracted_no/2486.mp3\n"
     ]
    },
    {
     "name": "stderr",
     "output_type": "stream",
     "text": [
      "                                                       "
     ]
    },
    {
     "name": "stdout",
     "output_type": "stream",
     "text": [
      "MoviePy - Done.\n",
      "                                              utterance   speaker   \n",
      "2109  I thought if I littered, that crying Indian mi...  CHANDLER  \\\n",
      "\n",
      "                                                context context_speakers   \n",
      "2109  [Chandler, what are you doing? There is a tras...         [RACHEL]  \\\n",
      "\n",
      "         show  sarcasm  \n",
      "2109  FRIENDS     True  \n",
      "2109    True\n",
      "Name: sarcasm, dtype: bool\n"
     ]
    },
    {
     "name": "stderr",
     "output_type": "stream",
     "text": [
      "\r"
     ]
    },
    {
     "name": "stdout",
     "output_type": "stream",
     "text": [
      "MoviePy - Writing audio in ./audio_extracted_yes/2109.mp3\n"
     ]
    },
    {
     "name": "stderr",
     "output_type": "stream",
     "text": [
      "                                                        "
     ]
    },
    {
     "name": "stdout",
     "output_type": "stream",
     "text": [
      "MoviePy - Done.\n",
      "                                               utterance  speaker   \n",
      "16426  You know, the holidays are just around the cor...  SHELDON  \\\n",
      "\n",
      "                                                 context   \n",
      "16426  [No, that was a different, different guy., Was...  \\\n",
      "\n",
      "                                        context_speakers show  sarcasm  \n",
      "16426  [LEONARD, SHELDON, SHELDON, SHELDON, LEONARD, ...  BBT     True  \n",
      "16426    True\n",
      "Name: sarcasm, dtype: bool\n"
     ]
    },
    {
     "name": "stderr",
     "output_type": "stream",
     "text": [
      "\r"
     ]
    },
    {
     "name": "stdout",
     "output_type": "stream",
     "text": [
      "MoviePy - Writing audio in ./audio_extracted_yes/16426.mp3\n"
     ]
    },
    {
     "name": "stderr",
     "output_type": "stream",
     "text": [
      "                                                                   "
     ]
    },
    {
     "name": "stdout",
     "output_type": "stream",
     "text": [
      "MoviePy - Done.\n",
      "                                              utterance  speaker   \n",
      "2135  No, she I supset because Jimmy Swaager can't c...  DOROTHY  \\\n",
      "\n",
      "                                                context context_speakers   \n",
      "2135  [But I am still upset., Are you upset because ...  [ROSE, BLANCHE]  \\\n",
      "\n",
      "             show  sarcasm  \n",
      "2135  GOLDENGIRLS     True  \n",
      "2135    True\n",
      "Name: sarcasm, dtype: bool\n"
     ]
    },
    {
     "name": "stderr",
     "output_type": "stream",
     "text": [
      "\r"
     ]
    },
    {
     "name": "stdout",
     "output_type": "stream",
     "text": [
      "MoviePy - Writing audio in ./audio_extracted_yes/2135.mp3\n"
     ]
    },
    {
     "name": "stderr",
     "output_type": "stream",
     "text": [
      "                                                                  "
     ]
    },
    {
     "name": "stdout",
     "output_type": "stream",
     "text": [
      "MoviePy - Done.\n",
      "                                                utterance  speaker   \n",
      "111901  Yeah, good for you, Leonard. That's a lovely l...  SHELDON  \\\n",
      "\n",
      "                                                  context   \n",
      "111901  [I don't believe it matters what the topic is....  \\\n",
      "\n",
      "                                        context_speakers show  sarcasm  \n",
      "111901  [SHELDON, SHELDON, LEONARD, LEONARD, BERNADETTE]  BBT     True  \n",
      "111901    True\n",
      "Name: sarcasm, dtype: bool\n"
     ]
    },
    {
     "name": "stderr",
     "output_type": "stream",
     "text": [
      "\r"
     ]
    },
    {
     "name": "stdout",
     "output_type": "stream",
     "text": [
      "MoviePy - Writing audio in ./audio_extracted_yes/111901.mp3\n"
     ]
    },
    {
     "name": "stderr",
     "output_type": "stream",
     "text": [
      "                                                                    \r"
     ]
    },
    {
     "name": "stdout",
     "output_type": "stream",
     "text": [
      "MoviePy - Done.\n",
      "                                               utterance speaker   \n",
      "13204  Right. That was so good! Sweety and meaty at t...     RAJ  \\\n",
      "\n",
      "                                                 context   \n",
      "13204  [Anything?, No. that was the last pudding cup....  \\\n",
      "\n",
      "                         context_speakers show  sarcasm  \n",
      "13204  [HOWARD, LEONARD, HOWARD, LEONARD]  BBT    False  \n",
      "13204    False\n",
      "Name: sarcasm, dtype: bool\n",
      "MoviePy - Writing audio in ./audio_extracted_no/13204.mp3\n"
     ]
    },
    {
     "name": "stderr",
     "output_type": "stream",
     "text": [
      "                                                                    \r"
     ]
    },
    {
     "name": "stdout",
     "output_type": "stream",
     "text": [
      "MoviePy - Done.\n",
      "                                       utterance  speaker   \n",
      "2121  What was I doing? My ben gazara in person?  DOROTHY  \\\n",
      "\n",
      "                                                context  context_speakers   \n",
      "2121  [Probably just misses her mother., It needs to...  [SOPHIA, SOPHIA]  \\\n",
      "\n",
      "             show  sarcasm  \n",
      "2121  GOLDENGIRLS     True  \n",
      "2121    True\n",
      "Name: sarcasm, dtype: bool\n",
      "MoviePy - Writing audio in ./audio_extracted_yes/2121.mp3\n"
     ]
    },
    {
     "name": "stderr",
     "output_type": "stream",
     "text": [
      "                                                       "
     ]
    },
    {
     "name": "stdout",
     "output_type": "stream",
     "text": [
      "MoviePy - Done.\n",
      "                                               utterance speaker   \n",
      "17089  How about you? Did you have a fun night? Yeah,...  HOWARD  \\\n",
      "\n",
      "                                                 context   \n",
      "17089  [after you had a snootful of this, laddie!, Fu...  \\\n",
      "\n",
      "                                        context_speakers show  sarcasm  \n",
      "17089  [HOWARD, BERNADETTE, BERNADETTE, HOWARD, HOWAR...  BBT     True  \n",
      "17089    True\n",
      "Name: sarcasm, dtype: bool\n"
     ]
    },
    {
     "name": "stderr",
     "output_type": "stream",
     "text": [
      "\r"
     ]
    },
    {
     "name": "stdout",
     "output_type": "stream",
     "text": [
      "MoviePy - Writing audio in ./audio_extracted_yes/17089.mp3\n"
     ]
    },
    {
     "name": "stderr",
     "output_type": "stream",
     "text": [
      "                                                                  "
     ]
    },
    {
     "name": "stdout",
     "output_type": "stream",
     "text": [
      "MoviePy - Done.\n"
     ]
    },
    {
     "name": "stderr",
     "output_type": "stream",
     "text": [
      "\r"
     ]
    },
    {
     "name": "stdout",
     "output_type": "stream",
     "text": [
      "                                               utterance speaker   \n",
      "17894  I did. The guy at the liquor store said this s...     RAJ  \\\n",
      "\n",
      "                                                 context   \n",
      "17894  [Do you really think you should be drinking ri...  \\\n",
      "\n",
      "            context_speakers show  sarcasm  \n",
      "17894  [HOWARD, RAJ, HOWARD]  BBT    False  \n",
      "17894    False\n",
      "Name: sarcasm, dtype: bool\n",
      "MoviePy - Writing audio in ./audio_extracted_no/17894.mp3\n"
     ]
    },
    {
     "name": "stderr",
     "output_type": "stream",
     "text": [
      "                                                                  "
     ]
    },
    {
     "name": "stdout",
     "output_type": "stream",
     "text": [
      "MoviePy - Done.\n",
      "                                              utterance  speaker   \n",
      "1182  No. The dark crescent-shaped patterns under yo...  SHELDON  \\\n",
      "\n",
      "                                                context   \n",
      "1182  [How do I look?, Could you be more specific?, ...  \\\n",
      "\n",
      "                 context_speakers show  sarcasm  \n",
      "1182  [LEONARD, SHELDON, LEONARD]  BBT     True  \n",
      "1182    True\n",
      "Name: sarcasm, dtype: bool\n"
     ]
    },
    {
     "name": "stderr",
     "output_type": "stream",
     "text": [
      "\r"
     ]
    },
    {
     "name": "stdout",
     "output_type": "stream",
     "text": [
      "MoviePy - Writing audio in ./audio_extracted_yes/1182.mp3\n"
     ]
    },
    {
     "name": "stderr",
     "output_type": "stream",
     "text": [
      "                                                                  "
     ]
    },
    {
     "name": "stdout",
     "output_type": "stream",
     "text": [
      "MoviePy - Done.\n",
      "                                            utterance   speaker   \n",
      "21  Yes you can. You're thinking about time, you c...  CHANDLER  \\\n",
      "\n",
      "                                              context    context_speakers   \n",
      "21  [You know what I knew something like this is g...  [CHANDLER, MONICA]  \\\n",
      "\n",
      "       show  sarcasm  \n",
      "21  FRIENDS    False  \n",
      "21    False\n",
      "Name: sarcasm, dtype: bool\n"
     ]
    },
    {
     "name": "stderr",
     "output_type": "stream",
     "text": [
      "\r"
     ]
    },
    {
     "name": "stdout",
     "output_type": "stream",
     "text": [
      "MoviePy - Writing audio in ./audio_extracted_no/21.mp3\n"
     ]
    },
    {
     "name": "stderr",
     "output_type": "stream",
     "text": [
      "                                                                    "
     ]
    },
    {
     "name": "stdout",
     "output_type": "stream",
     "text": [
      "MoviePy - Done.\n",
      "                                                utterance  speaker   \n",
      "111120  Next time I might be in a rush, it's good to h...  SHELDON  \\\n",
      "\n",
      "                                                  context   \n",
      "111120  [There's nothing weird going on with me and yo...  \\\n",
      "\n",
      "                                   context_speakers show  sarcasm  \n",
      "111120  [PERSON1, PERSON2, PERSON1, SHELDON, PENNY]  BBT    False  \n",
      "111120    False\n",
      "Name: sarcasm, dtype: bool\n"
     ]
    },
    {
     "name": "stderr",
     "output_type": "stream",
     "text": [
      "\r"
     ]
    },
    {
     "name": "stdout",
     "output_type": "stream",
     "text": [
      "MoviePy - Writing audio in ./audio_extracted_no/111120.mp3\n"
     ]
    },
    {
     "name": "stderr",
     "output_type": "stream",
     "text": [
      "                                                                 "
     ]
    },
    {
     "name": "stdout",
     "output_type": "stream",
     "text": [
      "MoviePy - Done.\n",
      "                              utterance speaker   \n",
      "2525  Y'know what I mean, like dubbies?  RACHEL  \\\n",
      "\n",
      "                                                context   \n",
      "2525  [Y'know what, actually ..   Okay, okay, okay, ...  \\\n",
      "\n",
      "              context_speakers     show  sarcasm  \n",
      "2525  [RACHEL, PERSON, RACHEL]  FRIENDS    False  \n",
      "2525    False\n",
      "Name: sarcasm, dtype: bool\n"
     ]
    },
    {
     "name": "stderr",
     "output_type": "stream",
     "text": [
      "\r"
     ]
    },
    {
     "name": "stdout",
     "output_type": "stream",
     "text": [
      "MoviePy - Writing audio in ./audio_extracted_no/2525.mp3\n"
     ]
    },
    {
     "name": "stderr",
     "output_type": "stream",
     "text": [
      "                                                       "
     ]
    },
    {
     "name": "stdout",
     "output_type": "stream",
     "text": [
      "MoviePy - Done.\n",
      "                                              utterance   speaker   \n",
      "2243  Look I never should have kissed your girlfrien...  CHANDLER  \\\n",
      "\n",
      "                                                context  context_speakers   \n",
      "2243  [Hey, it's me. I know you can't stand to be in...  [CHANDLER, JOEY]  \\\n",
      "\n",
      "         show  sarcasm  \n",
      "2243  FRIENDS    False  \n",
      "2243    False\n",
      "Name: sarcasm, dtype: bool\n"
     ]
    },
    {
     "name": "stderr",
     "output_type": "stream",
     "text": [
      "\r"
     ]
    },
    {
     "name": "stdout",
     "output_type": "stream",
     "text": [
      "MoviePy - Writing audio in ./audio_extracted_no/2243.mp3\n"
     ]
    },
    {
     "name": "stderr",
     "output_type": "stream",
     "text": [
      "                                                       "
     ]
    },
    {
     "name": "stdout",
     "output_type": "stream",
     "text": [
      "MoviePy - Done.\n",
      "                                               utterance speaker   \n",
      "11003  Good idea, sit with her. Hold her, comfort her...  HOWARD  \\\n",
      "\n",
      "                                                 context   \n",
      "11003  [It's smashed beyond repair. What are you gonn...  \\\n",
      "\n",
      "                              context_speakers show  sarcasm  \n",
      "11003  [HOWARD, RAJ, LEONARD, HOWARD, LEONARD]  BBT     True  \n",
      "11003    True\n",
      "Name: sarcasm, dtype: bool\n"
     ]
    },
    {
     "name": "stderr",
     "output_type": "stream",
     "text": [
      "\r"
     ]
    },
    {
     "name": "stdout",
     "output_type": "stream",
     "text": [
      "MoviePy - Writing audio in ./audio_extracted_yes/11003.mp3\n"
     ]
    },
    {
     "name": "stderr",
     "output_type": "stream",
     "text": [
      "                                                                    "
     ]
    },
    {
     "name": "stdout",
     "output_type": "stream",
     "text": [
      "MoviePy - Done.\n",
      "                                              utterance speaker   \n",
      "2257  Oh, hey, look, I found coffee! Okay, let's ske...  PHOEBE  \\\n",
      "\n",
      "                                                context   \n",
      "2257  [Okay, let me just get a cup of coffee., Oh Ra...  \\\n",
      "\n",
      "              context_speakers     show  sarcasm  \n",
      "2257  [RACHEL, MONICA, RACHEL]  FRIENDS    False  \n",
      "2257    False\n",
      "Name: sarcasm, dtype: bool\n"
     ]
    },
    {
     "name": "stderr",
     "output_type": "stream",
     "text": [
      "\r"
     ]
    },
    {
     "name": "stdout",
     "output_type": "stream",
     "text": [
      "MoviePy - Writing audio in ./audio_extracted_no/2257.mp3\n"
     ]
    },
    {
     "name": "stderr",
     "output_type": "stream",
     "text": [
      "                                                       "
     ]
    },
    {
     "name": "stdout",
     "output_type": "stream",
     "text": [
      "MoviePy - Done.\n",
      "                                              utterance speaker   \n",
      "2531  Yeah well that's because uh .. I stayed in my ...    JOEY  \\\n",
      "\n",
      "                                                context   \n",
      "2531  [Yeah, I mean I was up sick all night., Yeah m...  \\\n",
      "\n",
      "            context_speakers     show  sarcasm  \n",
      "2531  [RACHEL, JOEY, RACHEL]  FRIENDS    False  \n",
      "2531    False\n",
      "Name: sarcasm, dtype: bool\n"
     ]
    },
    {
     "name": "stderr",
     "output_type": "stream",
     "text": [
      "\r"
     ]
    },
    {
     "name": "stdout",
     "output_type": "stream",
     "text": [
      "MoviePy - Writing audio in ./audio_extracted_no/2531.mp3\n"
     ]
    },
    {
     "name": "stderr",
     "output_type": "stream",
     "text": [
      "                                                                  \r"
     ]
    },
    {
     "name": "stdout",
     "output_type": "stream",
     "text": [
      "MoviePy - Done.\n",
      "                                                utterance speaker   \n",
      "111322  You know what? That was almost on topic. I'm g...   PENNY  \\\n",
      "\n",
      "                                                  context   \n",
      "111322  [Hey, how are things going with your parents?,...  \\\n",
      "\n",
      "             context_speakers show  sarcasm  \n",
      "111322  [PENNY, RAJ, SHELDON]  BBT     True  \n",
      "111322    True\n",
      "Name: sarcasm, dtype: bool\n",
      "MoviePy - Writing audio in ./audio_extracted_yes/111322.mp3\n"
     ]
    },
    {
     "name": "stderr",
     "output_type": "stream",
     "text": [
      "                                                                  "
     ]
    },
    {
     "name": "stdout",
     "output_type": "stream",
     "text": [
      "MoviePy - Done.\n",
      "                                              utterance   speaker   \n",
      "2280  Joey ate my last stick of gum, so I killed him...  CHANDLER  \\\n",
      "\n",
      "                                                context  context_speakers   \n",
      "2280  [How old is that sock!. If I had a sock on my ...  [CHANDLER, ROSS]  \\\n",
      "\n",
      "         show  sarcasm  \n",
      "2280  FRIENDS     True  \n",
      "2280    True\n",
      "Name: sarcasm, dtype: bool\n"
     ]
    },
    {
     "name": "stderr",
     "output_type": "stream",
     "text": [
      "\r"
     ]
    },
    {
     "name": "stdout",
     "output_type": "stream",
     "text": [
      "MoviePy - Writing audio in ./audio_extracted_yes/2280.mp3\n"
     ]
    },
    {
     "name": "stderr",
     "output_type": "stream",
     "text": [
      "                                                                  \r"
     ]
    },
    {
     "name": "stdout",
     "output_type": "stream",
     "text": [
      "MoviePy - Done.\n",
      "                  utterance   speaker           context context_speakers   \n",
      "2294  Oh, um, I don't care!  CHANDLER  [How do I look?]           [JOEY]  \\\n",
      "\n",
      "         show  sarcasm  \n",
      "2294  FRIENDS     True  \n",
      "2294    True\n",
      "Name: sarcasm, dtype: bool\n",
      "MoviePy - Writing audio in ./audio_extracted_yes/2294.mp3\n"
     ]
    },
    {
     "name": "stderr",
     "output_type": "stream",
     "text": [
      "                                                       "
     ]
    },
    {
     "name": "stdout",
     "output_type": "stream",
     "text": [
      "MoviePy - Done.\n",
      "                  utterance speaker   \n",
      "2295  Nobody sees the king!  PERSON  \\\n",
      "\n",
      "                                                context   \n",
      "2295  [Yeah, I talked to you on the phone, I'm the l...  \\\n",
      "\n",
      "            context_speakers     show  sarcasm  \n",
      "2295  [MONICA, PERSON, JOEY]  FRIENDS    False  \n",
      "2295    False\n",
      "Name: sarcasm, dtype: bool\n"
     ]
    },
    {
     "name": "stderr",
     "output_type": "stream",
     "text": [
      "\r"
     ]
    },
    {
     "name": "stdout",
     "output_type": "stream",
     "text": [
      "MoviePy - Writing audio in ./audio_extracted_no/2295.mp3\n"
     ]
    },
    {
     "name": "stderr",
     "output_type": "stream",
     "text": [
      "                                                       "
     ]
    },
    {
     "name": "stdout",
     "output_type": "stream",
     "text": [
      "MoviePy - Done.\n",
      "                                              utterance speaker   \n",
      "1430  I've got some feelers out. In the meantime, li...     RAJ  \\\n",
      "\n",
      "                                                context   \n",
      "1430  [but it was between you and the Museum of Natu...  \\\n",
      "\n",
      "                               context_speakers show  sarcasm  \n",
      "1430  [SHELDON, SHELDON, SHELDON, RAJ, LEONARD]  BBT    False  \n",
      "1430    False\n",
      "Name: sarcasm, dtype: bool\n"
     ]
    },
    {
     "name": "stderr",
     "output_type": "stream",
     "text": [
      "\r"
     ]
    },
    {
     "name": "stdout",
     "output_type": "stream",
     "text": [
      "MoviePy - Writing audio in ./audio_extracted_no/1430.mp3\n"
     ]
    },
    {
     "name": "stderr",
     "output_type": "stream",
     "text": [
      "                                                                  "
     ]
    },
    {
     "name": "stdout",
     "output_type": "stream",
     "text": [
      "MoviePy - Done.\n",
      "                                              utterance  speaker   \n",
      "2281  Ofcourse no Ma, I am referring to Carrey Grant...  DOROTHY  \\\n",
      "\n",
      "                                                context   context_speakers   \n",
      "2281  [Supposed to study for my French final with a ...  [DOROTHY, SOPHIA]  \\\n",
      "\n",
      "             show  sarcasm  \n",
      "2281  GOLDENGIRLS     True  \n",
      "2281    True\n",
      "Name: sarcasm, dtype: bool\n"
     ]
    },
    {
     "name": "stderr",
     "output_type": "stream",
     "text": [
      "\r"
     ]
    },
    {
     "name": "stdout",
     "output_type": "stream",
     "text": [
      "MoviePy - Writing audio in ./audio_extracted_yes/2281.mp3\n"
     ]
    },
    {
     "name": "stderr",
     "output_type": "stream",
     "text": [
      "                                                       "
     ]
    },
    {
     "name": "stdout",
     "output_type": "stream",
     "text": [
      "MoviePy - Done.\n",
      "                       utterance speaker   \n",
      "2530  Uh, I'm gonna kill myself!  PERSON  \\\n",
      "\n",
      "                                                context context_speakers   \n",
      "2530  [I've been talking to you for five minutes now...         [PERSON]  \\\n",
      "\n",
      "         show  sarcasm  \n",
      "2530  FRIENDS    False  \n",
      "2530    False\n",
      "Name: sarcasm, dtype: bool\n"
     ]
    },
    {
     "name": "stderr",
     "output_type": "stream",
     "text": [
      "\r"
     ]
    },
    {
     "name": "stdout",
     "output_type": "stream",
     "text": [
      "MoviePy - Writing audio in ./audio_extracted_no/2530.mp3\n"
     ]
    },
    {
     "name": "stderr",
     "output_type": "stream",
     "text": [
      "                                                       "
     ]
    },
    {
     "name": "stdout",
     "output_type": "stream",
     "text": [
      "MoviePy - Done.\n",
      "                                    utterance   speaker   \n",
      "2524  Yes and we are \"very\" excited about it.  CHANDLER  \\\n",
      "\n",
      "                                                context context_speakers   \n",
      "2524  [Anyway, if you don't feel like being alone to...           [ROSS]  \\\n",
      "\n",
      "         show  sarcasm  \n",
      "2524  FRIENDS     True  \n",
      "2524    True\n",
      "Name: sarcasm, dtype: bool\n"
     ]
    },
    {
     "name": "stderr",
     "output_type": "stream",
     "text": [
      "\r"
     ]
    },
    {
     "name": "stdout",
     "output_type": "stream",
     "text": [
      "MoviePy - Writing audio in ./audio_extracted_yes/2524.mp3\n"
     ]
    },
    {
     "name": "stderr",
     "output_type": "stream",
     "text": [
      "                                                                    "
     ]
    },
    {
     "name": "stdout",
     "output_type": "stream",
     "text": [
      "MoviePy - Done.\n",
      "                             utterance   speaker   \n",
      "2242  Are you still enjoying your nap?  CHANDLER  \\\n",
      "\n",
      "                                    context  context_speakers     show   \n",
      "2242  [Okay?, Hi Emma, it's the year 2020.]  [ROSS, CHANDLER]  FRIENDS  \\\n",
      "\n",
      "      sarcasm  \n",
      "2242     True  \n",
      "2242    True\n",
      "Name: sarcasm, dtype: bool\n"
     ]
    },
    {
     "name": "stderr",
     "output_type": "stream",
     "text": [
      "\r"
     ]
    },
    {
     "name": "stdout",
     "output_type": "stream",
     "text": [
      "MoviePy - Writing audio in ./audio_extracted_yes/2242.mp3\n"
     ]
    },
    {
     "name": "stderr",
     "output_type": "stream",
     "text": [
      "                                                       "
     ]
    },
    {
     "name": "stdout",
     "output_type": "stream",
     "text": [
      "MoviePy - Done.\n",
      "                                             utterance  speaker   \n",
      "190  Lois Lane is falling, accelerating at an initi...  SHELDON  \\\n",
      "\n",
      "                                               context   \n",
      "190  [A marathon? How many Superman movies are ther...  \\\n",
      "\n",
      "                                      context_speakers show  sarcasm  \n",
      "190  [PENNY, SHELDON, PENNY, SHELDON, SHELDON, PENN...  BBT    False  \n",
      "190    False\n",
      "Name: sarcasm, dtype: bool\n"
     ]
    },
    {
     "name": "stderr",
     "output_type": "stream",
     "text": [
      "\r"
     ]
    },
    {
     "name": "stdout",
     "output_type": "stream",
     "text": [
      "MoviePy - Writing audio in ./audio_extracted_no/190.mp3\n"
     ]
    },
    {
     "name": "stderr",
     "output_type": "stream",
     "text": [
      "                                                                    \r"
     ]
    },
    {
     "name": "stdout",
     "output_type": "stream",
     "text": [
      "MoviePy - Done.\n",
      "                              utterance   speaker   \n",
      "2518  Oh tons. I am quite the woodsman.  CHANDLER  \\\n",
      "\n",
      "                                                context   \n",
      "2518  [Okay, lets find these birds., Wait wait, you ...  \\\n",
      "\n",
      "                                      context_speakers     show  sarcasm  \n",
      "2518  [CHANDLER, JOEY, CHANDLER, JOEY, CHANDLER, JOEY]  FRIENDS     True  \n",
      "2518    True\n",
      "Name: sarcasm, dtype: bool\n",
      "MoviePy - Writing audio in ./audio_extracted_yes/2518.mp3\n"
     ]
    },
    {
     "name": "stderr",
     "output_type": "stream",
     "text": [
      "                                                       "
     ]
    },
    {
     "name": "stdout",
     "output_type": "stream",
     "text": [
      "MoviePy - Done.\n",
      "                                               utterance speaker   \n",
      "13371  I was going to ask Leonard to do it, but he se...  PERSON  \\\n",
      "\n",
      "                                                 context context_speakers   \n",
      "13371  [Thank you for driving me back to my hotel., O...  [PERSON, PENNY]  \\\n",
      "\n",
      "      show  sarcasm  \n",
      "13371  BBT    False  \n",
      "13371    False\n",
      "Name: sarcasm, dtype: bool\n"
     ]
    },
    {
     "name": "stderr",
     "output_type": "stream",
     "text": [
      "\r"
     ]
    },
    {
     "name": "stdout",
     "output_type": "stream",
     "text": [
      "MoviePy - Writing audio in ./audio_extracted_no/13371.mp3\n"
     ]
    },
    {
     "name": "stderr",
     "output_type": "stream",
     "text": [
      "                                                                  "
     ]
    },
    {
     "name": "stdout",
     "output_type": "stream",
     "text": [
      "MoviePy - Done.\n",
      "                                               utterance     speaker   \n",
      "16221  Well, if you don't mind looking like an orange...  BERNADETTE  \\\n",
      "\n",
      "                                                 context context_speakers   \n",
      "16221  [So, Bernadette, how goes the hunt for bridesm...          [PENNY]  \\\n",
      "\n",
      "      show  sarcasm  \n",
      "16221  BBT     True  \n",
      "16221    True\n",
      "Name: sarcasm, dtype: bool\n"
     ]
    },
    {
     "name": "stderr",
     "output_type": "stream",
     "text": [
      "\r"
     ]
    },
    {
     "name": "stdout",
     "output_type": "stream",
     "text": [
      "MoviePy - Writing audio in ./audio_extracted_yes/16221.mp3\n"
     ]
    },
    {
     "name": "stderr",
     "output_type": "stream",
     "text": [
      "                                                       "
     ]
    },
    {
     "name": "stdout",
     "output_type": "stream",
     "text": [
      "MoviePy - Done.\n",
      "                                                utterance  speaker   \n",
      "111055  Ah, that's a good question. Apparently someone...  LEONARD  \\\n",
      "\n",
      "                                                  context   \n",
      "111055  [A gallant man would defend his fiance for bei...  \\\n",
      "\n",
      "                                    context_speakers show  sarcasm  \n",
      "111055  [HOWARD, LEONARD, RAJ, PENNY, PERSON, PENNY]  BBT     True  \n",
      "111055    True\n",
      "Name: sarcasm, dtype: bool\n"
     ]
    },
    {
     "name": "stderr",
     "output_type": "stream",
     "text": [
      "\r"
     ]
    },
    {
     "name": "stdout",
     "output_type": "stream",
     "text": [
      "MoviePy - Writing audio in ./audio_extracted_yes/111055.mp3\n"
     ]
    },
    {
     "name": "stderr",
     "output_type": "stream",
     "text": [
      "                                                                  \r"
     ]
    },
    {
     "name": "stdout",
     "output_type": "stream",
     "text": [
      "MoviePy - Done.\n",
      "                                              utterance   speaker   \n",
      "2120  You know some might find it amusing, I myself ...  CHANDLER  \\\n",
      "\n",
      "                                                context context_speakers   \n",
      "2120  [What an interesting approach to guitar instru...       [CHANDLER]  \\\n",
      "\n",
      "         show  sarcasm  \n",
      "2120  FRIENDS     True  \n",
      "2120    True\n",
      "Name: sarcasm, dtype: bool\n",
      "MoviePy - Writing audio in ./audio_extracted_yes/2120.mp3\n"
     ]
    },
    {
     "name": "stderr",
     "output_type": "stream",
     "text": [
      "                                                        "
     ]
    },
    {
     "name": "stdout",
     "output_type": "stream",
     "text": [
      "MoviePy - Done.\n",
      "                                               utterance  speaker   \n",
      "12669  What did you mean when you said you were going...  LEONARD  \\\n",
      "\n",
      "                                                 context  context_speakers   \n",
      "12669  [What time is it?, It's 7:00 a.m. I'm sorry it...  [PENNY, LEONARD]  \\\n",
      "\n",
      "      show  sarcasm  \n",
      "12669  BBT    False  \n",
      "12669    False\n",
      "Name: sarcasm, dtype: bool\n"
     ]
    },
    {
     "name": "stderr",
     "output_type": "stream",
     "text": [
      "\r"
     ]
    },
    {
     "name": "stdout",
     "output_type": "stream",
     "text": [
      "MoviePy - Writing audio in ./audio_extracted_no/12669.mp3\n"
     ]
    },
    {
     "name": "stderr",
     "output_type": "stream",
     "text": [
      "                                                                 "
     ]
    },
    {
     "name": "stdout",
     "output_type": "stream",
     "text": [
      "MoviePy - Done.\n",
      "       utterance   speaker                                            context   \n",
      "2134  Paper cut!  CHANDLER  [I can't figure this out! It's so hard! Should...  \\\n",
      "\n",
      "     context_speakers     show  sarcasm  \n",
      "2134       [CHANDLER]  FRIENDS    False  \n",
      "2134    False\n",
      "Name: sarcasm, dtype: bool\n"
     ]
    },
    {
     "name": "stderr",
     "output_type": "stream",
     "text": [
      "\r"
     ]
    },
    {
     "name": "stdout",
     "output_type": "stream",
     "text": [
      "MoviePy - Writing audio in ./audio_extracted_no/2134.mp3\n"
     ]
    },
    {
     "name": "stderr",
     "output_type": "stream",
     "text": [
      "                                                       "
     ]
    },
    {
     "name": "stdout",
     "output_type": "stream",
     "text": [
      "MoviePy - Done.\n",
      "                                               utterance speaker   \n",
      "16427  Hmm. That's too bad. We could have spent New Y...   PENNY  \\\n",
      "\n",
      "                                                 context   \n",
      "16427  [Oh, oh, oh., Was he the one who made you eat ...  \\\n",
      "\n",
      "                                        context_speakers show  sarcasm  \n",
      "16427  [SHELDON, SHELDON, LEONARD, PENNY, LEONARD, SH...  BBT     True  \n",
      "16427    True\n",
      "Name: sarcasm, dtype: bool\n"
     ]
    },
    {
     "name": "stderr",
     "output_type": "stream",
     "text": [
      "\r"
     ]
    },
    {
     "name": "stdout",
     "output_type": "stream",
     "text": [
      "MoviePy - Writing audio in ./audio_extracted_yes/16427.mp3\n"
     ]
    },
    {
     "name": "stderr",
     "output_type": "stream",
     "text": [
      "                                                                    "
     ]
    },
    {
     "name": "stdout",
     "output_type": "stream",
     "text": [
      "MoviePy - Done.\n",
      "                                               utterance  speaker   \n",
      "16355  said horrible things about each other in publi...  LEONARD  \\\n",
      "\n",
      "                                                 context context_speakers   \n",
      "16355  [Okay. So... we went out, saw a movie, met som...        [LEONARD]  \\\n",
      "\n",
      "      show  sarcasm  \n",
      "16355  BBT     True  \n",
      "16355    True\n",
      "Name: sarcasm, dtype: bool\n"
     ]
    },
    {
     "name": "stderr",
     "output_type": "stream",
     "text": [
      "\r"
     ]
    },
    {
     "name": "stdout",
     "output_type": "stream",
     "text": [
      "MoviePy - Writing audio in ./audio_extracted_yes/16355.mp3\n"
     ]
    },
    {
     "name": "stderr",
     "output_type": "stream",
     "text": [
      "                                                                    "
     ]
    },
    {
     "name": "stdout",
     "output_type": "stream",
     "text": [
      "MoviePy - Done.\n",
      "                                                utterance speaker   \n",
      "111928  And if I had a friend, they might have told me...     AMY  \\\n",
      "\n",
      "                                                  context   \n",
      "111928  [All right, Amy's in charge of pricing and bei...  \\\n",
      "\n",
      "                                         context_speakers show  sarcasm  \n",
      "111928  [HOWARD, RAJ, PENNY, RAJ, PENNY, AMY, BERNADETTE]  BBT    False  \n",
      "111928    False\n",
      "Name: sarcasm, dtype: bool\n"
     ]
    },
    {
     "name": "stderr",
     "output_type": "stream",
     "text": [
      "\r"
     ]
    },
    {
     "name": "stdout",
     "output_type": "stream",
     "text": [
      "MoviePy - Writing audio in ./audio_extracted_no/111928.mp3\n"
     ]
    },
    {
     "name": "stderr",
     "output_type": "stream",
     "text": [
      "                                                       "
     ]
    },
    {
     "name": "stdout",
     "output_type": "stream",
     "text": [
      "MoviePy - Done.\n",
      "                                              utterance   speaker   \n",
      "2487  And Hornswoggle? What? Are you dating a charac...  CHANDLER  \\\n",
      "\n",
      "                                                context context_speakers   \n",
      "2487  [I can't take it any more! So you win, okay? P...       [CHANDLER]  \\\n",
      "\n",
      "         show  sarcasm  \n",
      "2487  FRIENDS     True  \n",
      "2487    True\n",
      "Name: sarcasm, dtype: bool\n"
     ]
    },
    {
     "name": "stderr",
     "output_type": "stream",
     "text": [
      "\r"
     ]
    },
    {
     "name": "stdout",
     "output_type": "stream",
     "text": [
      "MoviePy - Writing audio in ./audio_extracted_yes/2487.mp3\n"
     ]
    },
    {
     "name": "stderr",
     "output_type": "stream",
     "text": [
      "                                                                    "
     ]
    },
    {
     "name": "stdout",
     "output_type": "stream",
     "text": [
      "MoviePy - Done.\n",
      "                                              utterance   speaker   \n",
      "2493  Did you tell her about the magical night that ...  CHANDLER  \\\n",
      "\n",
      "                                           context context_speakers     show   \n",
      "2493  [So Ross, how was the date the other night?]       [CHANDLER]  FRIENDS  \\\n",
      "\n",
      "      sarcasm  \n",
      "2493     True  \n",
      "2493    True\n",
      "Name: sarcasm, dtype: bool\n"
     ]
    },
    {
     "name": "stderr",
     "output_type": "stream",
     "text": [
      "\r"
     ]
    },
    {
     "name": "stdout",
     "output_type": "stream",
     "text": [
      "MoviePy - Writing audio in ./audio_extracted_yes/2493.mp3\n"
     ]
    },
    {
     "name": "stderr",
     "output_type": "stream",
     "text": [
      "                                                                    "
     ]
    },
    {
     "name": "stdout",
     "output_type": "stream",
     "text": [
      "MoviePy - Done.\n",
      "                                               utterance     speaker   \n",
      "18185  We could go to Red Lobster and talk about it. ...  BERNADETTE  \\\n",
      "\n",
      "                                                 context   \n",
      "18185  [The surf and turf sounds good.\\nSee if they c...  \\\n",
      "\n",
      "                                  context_speakers show  sarcasm  \n",
      "18185  [LEONARD, BERNADETTE, RAJ, HOWARD, LEONARD]  BBT    False  \n",
      "18185    False\n",
      "Name: sarcasm, dtype: bool\n"
     ]
    },
    {
     "name": "stderr",
     "output_type": "stream",
     "text": [
      "\r"
     ]
    },
    {
     "name": "stdout",
     "output_type": "stream",
     "text": [
      "MoviePy - Writing audio in ./audio_extracted_no/18185.mp3\n"
     ]
    },
    {
     "name": "stderr",
     "output_type": "stream",
     "text": [
      "                                                                   "
     ]
    },
    {
     "name": "stdout",
     "output_type": "stream",
     "text": [
      "MoviePy - Done.\n",
      "                                              utterance  speaker   \n",
      "14967  We might be starting to zero in on your problem.  LEONARD  \\\n",
      "\n",
      "                                                 context   \n",
      "14967  [Are you guys doing okay?, Leonard and I are f...  \\\n",
      "\n",
      "                            context_speakers show  sarcasm  \n",
      "14967  [BERNADETTE, HOWARD, BERNADETTE, RAJ]  BBT     True  \n",
      "14967    True\n",
      "Name: sarcasm, dtype: bool\n"
     ]
    },
    {
     "name": "stderr",
     "output_type": "stream",
     "text": [
      "\r"
     ]
    },
    {
     "name": "stdout",
     "output_type": "stream",
     "text": [
      "MoviePy - Writing audio in ./audio_extracted_yes/14967.mp3\n"
     ]
    },
    {
     "name": "stderr",
     "output_type": "stream",
     "text": [
      "                                                                    "
     ]
    },
    {
     "name": "stdout",
     "output_type": "stream",
     "text": [
      "MoviePy - Done.\n",
      "                                               utterance  speaker   \n",
      "11189  I'm sorry, I am not going back to the Renaissa...  SHELDON  \\\n",
      "\n",
      "                                                 context   \n",
      "11189  [That's enough., Call me., Right., Okay, good ...  \\\n",
      "\n",
      "                                        context_speakers show  sarcasm  \n",
      "11189  [PERSON1, PERSON1, LEONARD, PENNY, PERSON2, PE...  BBT    False  \n",
      "11189    False\n",
      "Name: sarcasm, dtype: bool\n"
     ]
    },
    {
     "name": "stderr",
     "output_type": "stream",
     "text": [
      "\r"
     ]
    },
    {
     "name": "stdout",
     "output_type": "stream",
     "text": [
      "MoviePy - Writing audio in ./audio_extracted_no/11189.mp3\n"
     ]
    },
    {
     "name": "stderr",
     "output_type": "stream",
     "text": [
      "                                                                 "
     ]
    },
    {
     "name": "stdout",
     "output_type": "stream",
     "text": [
      "MoviePy - Done.\n",
      "                                                utterance speaker   \n",
      "111243  I love that you're too good to pee in the kitc...  HOWARD  \\\n",
      "\n",
      "                                                  context   \n",
      "111243  [Yeah. Tell me those aren't the words of a man...  \\\n",
      "\n",
      "                      context_speakers show  sarcasm  \n",
      "111243  [SHELDON, SHELDON, BERNADETTE]  BBT     True  \n",
      "111243    True\n",
      "Name: sarcasm, dtype: bool\n"
     ]
    },
    {
     "name": "stderr",
     "output_type": "stream",
     "text": [
      "\r"
     ]
    },
    {
     "name": "stdout",
     "output_type": "stream",
     "text": [
      "MoviePy - Writing audio in ./audio_extracted_yes/111243.mp3\n"
     ]
    },
    {
     "name": "stderr",
     "output_type": "stream",
     "text": [
      "                                                        "
     ]
    },
    {
     "name": "stdout",
     "output_type": "stream",
     "text": [
      "MoviePy - Done.\n",
      "                                                utterance speaker   \n",
      "111257  Doesn't Professor Abbott's family want any of ...  HOWARD  \\\n",
      "\n",
      "                                                  context context_speakers   \n",
      "111257  [You know, I thought cleaning out a dead profe...            [RAJ]  \\\n",
      "\n",
      "       show  sarcasm  \n",
      "111257  BBT    False  \n",
      "111257    False\n",
      "Name: sarcasm, dtype: bool\n"
     ]
    },
    {
     "name": "stderr",
     "output_type": "stream",
     "text": [
      "\r"
     ]
    },
    {
     "name": "stdout",
     "output_type": "stream",
     "text": [
      "MoviePy - Writing audio in ./audio_extracted_no/111257.mp3\n"
     ]
    },
    {
     "name": "stderr",
     "output_type": "stream",
     "text": [
      "                                                       "
     ]
    },
    {
     "name": "stdout",
     "output_type": "stream",
     "text": [
      "MoviePy - Done.\n",
      "                              utterance   speaker           context   \n",
      "2322  Hey, my father's house does that.  CHANDLER  [And! And!, Ah!]  \\\n",
      "\n",
      "      context_speakers     show  sarcasm  \n",
      "2322  [PHOEBE, RACHEL]  FRIENDS    False  \n",
      "2322    False\n",
      "Name: sarcasm, dtype: bool\n"
     ]
    },
    {
     "name": "stderr",
     "output_type": "stream",
     "text": [
      "\r"
     ]
    },
    {
     "name": "stdout",
     "output_type": "stream",
     "text": [
      "MoviePy - Writing audio in ./audio_extracted_no/2322.mp3\n"
     ]
    },
    {
     "name": "stderr",
     "output_type": "stream",
     "text": [
      "                                                                  "
     ]
    },
    {
     "name": "stdout",
     "output_type": "stream",
     "text": [
      "MoviePy - Done.\n",
      "                                              utterance speaker   \n",
      "2444  Ross-Ross, you have no idea what this means to...  RACHEL  \\\n",
      "\n",
      "                                                context context_speakers   \n",
      "2444  [I would love to live with you Ross.. that's-t...   [RACHEL, ROSS]  \\\n",
      "\n",
      "         show  sarcasm  \n",
      "2444  FRIENDS    False  \n",
      "2444    False\n",
      "Name: sarcasm, dtype: bool\n"
     ]
    },
    {
     "name": "stderr",
     "output_type": "stream",
     "text": [
      "\r"
     ]
    },
    {
     "name": "stdout",
     "output_type": "stream",
     "text": [
      "MoviePy - Writing audio in ./audio_extracted_no/2444.mp3\n"
     ]
    },
    {
     "name": "stderr",
     "output_type": "stream",
     "text": [
      "                                                       "
     ]
    },
    {
     "name": "stdout",
     "output_type": "stream",
     "text": [
      "MoviePy - Done.\n",
      "                                              utterance   speaker   \n",
      "2450  If only there was something in your head to co...  CHANDLER  \\\n",
      "\n",
      "                                                context context_speakers   \n",
      "2450  [Remember what happened the last time I did an...           [JOEY]  \\\n",
      "\n",
      "         show  sarcasm  \n",
      "2450  FRIENDS     True  \n",
      "2450    True\n",
      "Name: sarcasm, dtype: bool\n"
     ]
    },
    {
     "name": "stderr",
     "output_type": "stream",
     "text": [
      "\r"
     ]
    },
    {
     "name": "stdout",
     "output_type": "stream",
     "text": [
      "MoviePy - Writing audio in ./audio_extracted_yes/2450.mp3\n"
     ]
    },
    {
     "name": "stderr",
     "output_type": "stream",
     "text": [
      "                                                                    "
     ]
    },
    {
     "name": "stdout",
     "output_type": "stream",
     "text": [
      "MoviePy - Done.\n",
      "                              utterance   speaker   \n",
      "2478  Oh, wait a minute, I have no one.  CHANDLER  \\\n",
      "\n",
      "                                                context   \n",
      "2478  [Hi., What's the matter with you?, Mean guys a...  \\\n",
      "\n",
      "                          context_speakers     show  sarcasm  \n",
      "2478  [ROSS, RACHEL, CHANDLER, JOEY, ROSS]  FRIENDS     True  \n",
      "2478    True\n",
      "Name: sarcasm, dtype: bool\n"
     ]
    },
    {
     "name": "stderr",
     "output_type": "stream",
     "text": [
      "\r"
     ]
    },
    {
     "name": "stdout",
     "output_type": "stream",
     "text": [
      "MoviePy - Writing audio in ./audio_extracted_yes/2478.mp3\n"
     ]
    },
    {
     "name": "stderr",
     "output_type": "stream",
     "text": [
      "                                                                    "
     ]
    },
    {
     "name": "stdout",
     "output_type": "stream",
     "text": [
      "MoviePy - Done.\n",
      "                                               utterance  speaker   \n",
      "11638  The blunt instrument that will be the focus of...  LEONARD  \\\n",
      "\n",
      "                                                 context    context_speakers   \n",
      "11638  [What, Sheldon? What, Sheldon?! What, Sheldon?...  [LEONARD, SHELDON]  \\\n",
      "\n",
      "      show  sarcasm  \n",
      "11638  BBT     True  \n",
      "11638    True\n",
      "Name: sarcasm, dtype: bool\n"
     ]
    },
    {
     "name": "stderr",
     "output_type": "stream",
     "text": [
      "\r"
     ]
    },
    {
     "name": "stdout",
     "output_type": "stream",
     "text": [
      "MoviePy - Writing audio in ./audio_extracted_yes/11638.mp3\n"
     ]
    },
    {
     "name": "stderr",
     "output_type": "stream",
     "text": [
      "                                                       "
     ]
    },
    {
     "name": "stdout",
     "output_type": "stream",
     "text": [
      "MoviePy - Done.\n",
      "                                               utterance  speaker   \n",
      "16627  Well, yeah, sex with you is pretty great. Have...  LEONARD  \\\n",
      "\n",
      "                                                 context   \n",
      "16627  [That was a really nice dinner., I'm glad you ...  \\\n",
      "\n",
      "                            context_speakers show  sarcasm  \n",
      "16627  [PENNY, PENNY, LEONARD, PENNY, PENNY]  BBT    False  \n",
      "16627    False\n",
      "Name: sarcasm, dtype: bool\n"
     ]
    },
    {
     "name": "stderr",
     "output_type": "stream",
     "text": [
      "\r"
     ]
    },
    {
     "name": "stdout",
     "output_type": "stream",
     "text": [
      "MoviePy - Writing audio in ./audio_extracted_no/16627.mp3\n"
     ]
    },
    {
     "name": "stderr",
     "output_type": "stream",
     "text": [
      "                                                                  "
     ]
    },
    {
     "name": "stdout",
     "output_type": "stream",
     "text": [
      "MoviePy - Done.\n",
      "                                           utterance speaker   \n",
      "2446  I'd love to show ya, but I just tucked her in.    JOEY  \\\n",
      "\n",
      "                                                context   \n",
      "2446  [Hi Joey., Hey! How you doin'?, He has the mos...  \\\n",
      "\n",
      "            context_speakers     show  sarcasm  \n",
      "2446  [PERSON, JOEY, PERSON]  FRIENDS    False  \n",
      "2446    False\n",
      "Name: sarcasm, dtype: bool\n"
     ]
    },
    {
     "name": "stderr",
     "output_type": "stream",
     "text": [
      "\r"
     ]
    },
    {
     "name": "stdout",
     "output_type": "stream",
     "text": [
      "MoviePy - Writing audio in ./audio_extracted_no/2446.mp3\n"
     ]
    },
    {
     "name": "stderr",
     "output_type": "stream",
     "text": [
      "                                                                 "
     ]
    },
    {
     "name": "stdout",
     "output_type": "stream",
     "text": [
      "MoviePy - Done.\n",
      "                                         utterance speaker   \n",
      "2334  When they're hungry enough, they'll come in.    JOEY  \\\n",
      "\n",
      "                                                context   \n",
      "2334  [Yes. Yes, there is, they play on Sundays and ...  \\\n",
      "\n",
      "                context_speakers     show  sarcasm  \n",
      "2334  [CHANDLER, RACHEL, PHOEBE]  FRIENDS    False  \n",
      "2334    False\n",
      "Name: sarcasm, dtype: bool\n"
     ]
    },
    {
     "name": "stderr",
     "output_type": "stream",
     "text": [
      "\r"
     ]
    },
    {
     "name": "stdout",
     "output_type": "stream",
     "text": [
      "MoviePy - Writing audio in ./audio_extracted_no/2334.mp3\n"
     ]
    },
    {
     "name": "stderr",
     "output_type": "stream",
     "text": [
      "                                                       "
     ]
    },
    {
     "name": "stdout",
     "output_type": "stream",
     "text": [
      "MoviePy - Done.\n",
      "                                              utterance     speaker   \n",
      "2485  You got off to a really good start with the gr...  MEMBER-BOY  \\\n",
      "\n",
      "                                                context   \n",
      "2485  [It was being sarcastic, alright I see I see, ...  \\\n",
      "\n",
      "                context_speakers            show  sarcasm  \n",
      "2485  [SCOTT, SCOTT, MEMBER-BOY]  SARCASMOHOLICS     True  \n",
      "2485    True\n",
      "Name: sarcasm, dtype: bool\n"
     ]
    },
    {
     "name": "stderr",
     "output_type": "stream",
     "text": [
      "\r"
     ]
    },
    {
     "name": "stdout",
     "output_type": "stream",
     "text": [
      "MoviePy - Writing audio in ./audio_extracted_yes/2485.mp3\n"
     ]
    },
    {
     "name": "stderr",
     "output_type": "stream",
     "text": [
      "                                                       "
     ]
    },
    {
     "name": "stdout",
     "output_type": "stream",
     "text": [
      "MoviePy - Done.\n",
      "                                          utterance   speaker   \n",
      "2491  Let me think! Let me think! Oh, I don't care.  CHANDLER  \\\n",
      "\n",
      "                                 context context_speakers     show  sarcasm  \n",
      "2491  [The wheel or pick a Google card.]           [JOEY]  FRIENDS     True  \n",
      "2491    True\n",
      "Name: sarcasm, dtype: bool\n"
     ]
    },
    {
     "name": "stderr",
     "output_type": "stream",
     "text": [
      "\r"
     ]
    },
    {
     "name": "stdout",
     "output_type": "stream",
     "text": [
      "MoviePy - Writing audio in ./audio_extracted_yes/2491.mp3\n"
     ]
    },
    {
     "name": "stderr",
     "output_type": "stream",
     "text": [
      "                                                       "
     ]
    },
    {
     "name": "stdout",
     "output_type": "stream",
     "text": [
      "MoviePy - Done.\n",
      "                                            utterance speaker   \n",
      "12119  Kind of makes you feel more alive, doesn't it?  PERSON  \\\n",
      "\n",
      "                                                 context   \n",
      "12119  [but wait to be captured or killed., That's th...  \\\n",
      "\n",
      "                       context_speakers show  sarcasm  \n",
      "12119  [HOWARD, PERSON, HOWARD, PERSON]  BBT     True  \n",
      "12119    True\n",
      "Name: sarcasm, dtype: bool\n"
     ]
    },
    {
     "name": "stderr",
     "output_type": "stream",
     "text": [
      "\r"
     ]
    },
    {
     "name": "stdout",
     "output_type": "stream",
     "text": [
      "MoviePy - Writing audio in ./audio_extracted_yes/12119.mp3\n"
     ]
    },
    {
     "name": "stderr",
     "output_type": "stream",
     "text": [
      "                                                       "
     ]
    },
    {
     "name": "stdout",
     "output_type": "stream",
     "text": [
      "MoviePy - Done.\n",
      "                                               utterance  speaker   \n",
      "15058  An entire dinner to talk about your research? ...  SHELDON  \\\n",
      "\n",
      "                                                 context   \n",
      "15058  [Yes, I live with him.\\nI don't... I-I really ...  \\\n",
      "\n",
      "                  context_speakers show  sarcasm  \n",
      "15058  [LEONARD, LEONARD, LEONARD]  BBT     True  \n",
      "15058    True\n",
      "Name: sarcasm, dtype: bool\n"
     ]
    },
    {
     "name": "stderr",
     "output_type": "stream",
     "text": [
      "\r"
     ]
    },
    {
     "name": "stdout",
     "output_type": "stream",
     "text": [
      "MoviePy - Writing audio in ./audio_extracted_yes/15058.mp3\n"
     ]
    },
    {
     "name": "stderr",
     "output_type": "stream",
     "text": [
      "                                                                   "
     ]
    },
    {
     "name": "stdout",
     "output_type": "stream",
     "text": [
      "MoviePy - Done.\n",
      "                                               utterance  speaker   \n",
      "14352  He does it all the time. He's a cornucopia of ...  SHELDON  \\\n",
      "\n",
      "                                                 context   \n",
      "14352  [Right., That's not true of all bars. Juice ba...  \\\n",
      "\n",
      "                            context_speakers show  sarcasm  \n",
      "14352  [LEONARD, AMY, SHELDON, LEONARD, AMY]  BBT    False  \n",
      "14352    False\n",
      "Name: sarcasm, dtype: bool\n"
     ]
    },
    {
     "name": "stderr",
     "output_type": "stream",
     "text": [
      "\r"
     ]
    },
    {
     "name": "stdout",
     "output_type": "stream",
     "text": [
      "MoviePy - Writing audio in ./audio_extracted_no/14352.mp3\n"
     ]
    },
    {
     "name": "stderr",
     "output_type": "stream",
     "text": [
      "                                                                   "
     ]
    },
    {
     "name": "stdout",
     "output_type": "stream",
     "text": [
      "MoviePy - Done.\n",
      "                                            utterance   speaker   \n",
      "22  ThatÕs a good one too Pheebs, now all that I h...  CHANDLER  \\\n",
      "\n",
      "                                              context context_speakers   \n",
      "22  [That's a good one. Mine is to pilot a commerc...         [PHOEBE]  \\\n",
      "\n",
      "       show  sarcasm  \n",
      "22  FRIENDS     True  \n",
      "22    True\n",
      "Name: sarcasm, dtype: bool\n"
     ]
    },
    {
     "name": "stderr",
     "output_type": "stream",
     "text": [
      "\r"
     ]
    },
    {
     "name": "stdout",
     "output_type": "stream",
     "text": [
      "MoviePy - Writing audio in ./audio_extracted_yes/22.mp3\n"
     ]
    },
    {
     "name": "stderr",
     "output_type": "stream",
     "text": [
      "                                                                    "
     ]
    },
    {
     "name": "stdout",
     "output_type": "stream",
     "text": [
      "MoviePy - Done.\n",
      "                                                utterance     speaker   \n",
      "111889  Yeah, we just want to have the kind of dinner ...  BERNADETTE  \\\n",
      "\n",
      "                                                  context   \n",
      "111889  [Hi. Hello., Oh, and a special hello to Leonar...  \\\n",
      "\n",
      "                                         context_speakers show  sarcasm  \n",
      "111889  [SHELDON, SHELDON, LEONARD, SHELDON, HOWARD, P...  BBT    False  \n",
      "111889    False\n",
      "Name: sarcasm, dtype: bool\n"
     ]
    },
    {
     "name": "stderr",
     "output_type": "stream",
     "text": [
      "\r"
     ]
    },
    {
     "name": "stdout",
     "output_type": "stream",
     "text": [
      "MoviePy - Writing audio in ./audio_extracted_no/111889.mp3\n"
     ]
    },
    {
     "name": "stderr",
     "output_type": "stream",
     "text": [
      "                                                       "
     ]
    },
    {
     "name": "stdout",
     "output_type": "stream",
     "text": [
      "MoviePy - Done.\n",
      "                                             utterance speaker   \n",
      "228  Carol called me to thank me for the lasagna, I...  MONICA  \\\n",
      "\n",
      "                                               context context_speakers   \n",
      "228  [I mean, I couldn't not know, I mean, if, if t...   [RACHEL, ROSS]  \\\n",
      "\n",
      "        show  sarcasm  \n",
      "228  FRIENDS    False  \n",
      "228    False\n",
      "Name: sarcasm, dtype: bool\n"
     ]
    },
    {
     "name": "stderr",
     "output_type": "stream",
     "text": [
      "\r"
     ]
    },
    {
     "name": "stdout",
     "output_type": "stream",
     "text": [
      "MoviePy - Writing audio in ./audio_extracted_no/228.mp3\n"
     ]
    },
    {
     "name": "stderr",
     "output_type": "stream",
     "text": [
      "                                                       "
     ]
    },
    {
     "name": "stdout",
     "output_type": "stream",
     "text": [
      "MoviePy - Done.\n",
      "                                               utterance  speaker   \n",
      "15919  Because you don't have a girlfriend? Well, goo...  SHELDON  \\\n",
      "\n",
      "                                                 context   \n",
      "15919  [Your movies and your TV shows promised street...  \\\n",
      "\n",
      "                                     context_speakers show  sarcasm  \n",
      "15919  [RAJ, HOWARD, RAJ, RAJ, SHELDON, SHELDON, RAJ]  BBT    False  \n",
      "15919    False\n",
      "Name: sarcasm, dtype: bool\n"
     ]
    },
    {
     "name": "stderr",
     "output_type": "stream",
     "text": [
      "\r"
     ]
    },
    {
     "name": "stdout",
     "output_type": "stream",
     "text": [
      "MoviePy - Writing audio in ./audio_extracted_no/15919.mp3\n"
     ]
    },
    {
     "name": "stderr",
     "output_type": "stream",
     "text": [
      "                                                                    "
     ]
    },
    {
     "name": "stdout",
     "output_type": "stream",
     "text": [
      "MoviePy - Done.\n",
      "                                              utterance   speaker   \n",
      "2268  A lonely grey couch. \" O look \" cried Ned. And...  CHANDLER  \\\n",
      "\n",
      "                                                context context_speakers   \n",
      "2268  [It was summer. And it was hot. Rachel was the...       [CHANDLER]  \\\n",
      "\n",
      "         show  sarcasm  \n",
      "2268  FRIENDS    False  \n",
      "2268    False\n",
      "Name: sarcasm, dtype: bool\n"
     ]
    },
    {
     "name": "stderr",
     "output_type": "stream",
     "text": [
      "\r"
     ]
    },
    {
     "name": "stdout",
     "output_type": "stream",
     "text": [
      "MoviePy - Writing audio in ./audio_extracted_no/2268.mp3\n"
     ]
    },
    {
     "name": "stderr",
     "output_type": "stream",
     "text": [
      "                                                                    \r"
     ]
    },
    {
     "name": "stdout",
     "output_type": "stream",
     "text": [
      "MoviePy - Done.\n",
      "                                              utterance   speaker   \n",
      "2532  The Jamestown colony of Virginia. You see King...  CHANDLER  \\\n",
      "\n",
      "                                         context    context_speakers     show   \n",
      "2532  [Rach rach, we gotta settle, Settle what?]  [CHANDLER, RACHEL]  FRIENDS  \\\n",
      "\n",
      "      sarcasm  \n",
      "2532     True  \n",
      "2532    True\n",
      "Name: sarcasm, dtype: bool\n",
      "MoviePy - Writing audio in ./audio_extracted_yes/2532.mp3\n"
     ]
    },
    {
     "name": "stderr",
     "output_type": "stream",
     "text": [
      "                                                                  "
     ]
    },
    {
     "name": "stdout",
     "output_type": "stream",
     "text": [
      "MoviePy - Done.\n",
      "                                             utterance speaker   \n",
      "2254  Yeah. Yeah, that's what you need a good .. pill.  PHOEBE  \\\n",
      "\n",
      "                                                context  context_speakers   \n",
      "2254  [Yeah., I go see my doctor tomorrow, I'll ask ...  [PHOEBE, RACHEL]  \\\n",
      "\n",
      "         show  sarcasm  \n",
      "2254  FRIENDS     True  \n",
      "2254    True\n",
      "Name: sarcasm, dtype: bool\n"
     ]
    },
    {
     "name": "stderr",
     "output_type": "stream",
     "text": [
      "\r"
     ]
    },
    {
     "name": "stdout",
     "output_type": "stream",
     "text": [
      "MoviePy - Writing audio in ./audio_extracted_yes/2254.mp3\n"
     ]
    },
    {
     "name": "stderr",
     "output_type": "stream",
     "text": [
      "                                                       "
     ]
    },
    {
     "name": "stdout",
     "output_type": "stream",
     "text": [
      "MoviePy - Done.\n",
      "     utterance speaker                                            context   \n",
      "2240       No!    JOEY  [Oh, unbelievable! We had the best time!, Yay!...  \\\n",
      "\n",
      "          context_speakers     show  sarcasm  \n",
      "2240  [JOEY, PHOEBE, JOEY]  FRIENDS    False  \n",
      "2240    False\n",
      "Name: sarcasm, dtype: bool\n"
     ]
    },
    {
     "name": "stderr",
     "output_type": "stream",
     "text": [
      "\r"
     ]
    },
    {
     "name": "stdout",
     "output_type": "stream",
     "text": [
      "MoviePy - Writing audio in ./audio_extracted_no/2240.mp3\n"
     ]
    },
    {
     "name": "stderr",
     "output_type": "stream",
     "text": [
      "                                                       "
     ]
    },
    {
     "name": "stdout",
     "output_type": "stream",
     "text": [
      "MoviePy - Done.\n",
      "                              utterance  speaker   \n",
      "2526  Ah well, this is the living room.  PERSON1  \\\n",
      "\n",
      "                                                context   \n",
      "2526  [Really?! Well, it's just like everyone else's...  \\\n",
      "\n",
      "                context_speakers     show  sarcasm  \n",
      "2526  [PERSON1, PERSON2, MONICA]  FRIENDS    False  \n",
      "2526    False\n",
      "Name: sarcasm, dtype: bool\n"
     ]
    },
    {
     "name": "stderr",
     "output_type": "stream",
     "text": [
      "\r"
     ]
    },
    {
     "name": "stdout",
     "output_type": "stream",
     "text": [
      "MoviePy - Writing audio in ./audio_extracted_no/2526.mp3\n"
     ]
    },
    {
     "name": "stderr",
     "output_type": "stream",
     "text": [
      "                                                       "
     ]
    },
    {
     "name": "stdout",
     "output_type": "stream",
     "text": [
      "MoviePy - Done.\n",
      "                                          utterance speaker   \n",
      "11772  \"Dave.\" Sounds like Leonard's got a new BFF.  HOWARD  \\\n",
      "\n",
      "                                                 context   \n",
      "11772  [There are always do-overs when my people play...  \\\n",
      "\n",
      "                                        context_speakers show  sarcasm  \n",
      "11772  [HOWARD, SHELDON, LEONARD, SHELDON, LEONARD, S...  BBT     True  \n",
      "11772    True\n",
      "Name: sarcasm, dtype: bool\n"
     ]
    },
    {
     "name": "stderr",
     "output_type": "stream",
     "text": [
      "\r"
     ]
    },
    {
     "name": "stdout",
     "output_type": "stream",
     "text": [
      "MoviePy - Writing audio in ./audio_extracted_yes/11772.mp3\n"
     ]
    },
    {
     "name": "stderr",
     "output_type": "stream",
     "text": [
      "                                                                  "
     ]
    },
    {
     "name": "stdout",
     "output_type": "stream",
     "text": [
      "MoviePy - Done.\n",
      "                                              utterance   speaker   \n",
      "2297  I am sorry, it was a one time thing. I was ver...  CHANDLER  \\\n",
      "\n",
      "                                                context   \n",
      "2297  [You and I were, uh, doing it on this table, Y...  \\\n",
      "\n",
      "                      context_speakers     show  sarcasm  \n",
      "2297  [RACHEL, PHOEBE, CHANDLER, ROSS]  FRIENDS     True  \n",
      "2297    True\n",
      "Name: sarcasm, dtype: bool\n"
     ]
    },
    {
     "name": "stderr",
     "output_type": "stream",
     "text": [
      "\r"
     ]
    },
    {
     "name": "stdout",
     "output_type": "stream",
     "text": [
      "MoviePy - Writing audio in ./audio_extracted_yes/2297.mp3\n"
     ]
    },
    {
     "name": "stderr",
     "output_type": "stream",
     "text": [
      "                                                                   "
     ]
    },
    {
     "name": "stdout",
     "output_type": "stream",
     "text": [
      "MoviePy - Done.\n",
      "                                              utterance speaker   \n",
      "1340  Sure, cut the foreigner in half. There's a bil...     RAJ  \\\n",
      "\n",
      "                                                context   \n",
      "1340  [And I cannot believe people pay for horoscope...  \\\n",
      "\n",
      "                                       context_speakers show  sarcasm  \n",
      "1340  [SHELDON, LEONARD, SHELDON, SHELDON, SHELDON, ...  BBT     True  \n",
      "1340    True\n",
      "Name: sarcasm, dtype: bool\n"
     ]
    },
    {
     "name": "stderr",
     "output_type": "stream",
     "text": [
      "\r"
     ]
    },
    {
     "name": "stdout",
     "output_type": "stream",
     "text": [
      "MoviePy - Writing audio in ./audio_extracted_yes/1340.mp3\n"
     ]
    },
    {
     "name": "stderr",
     "output_type": "stream",
     "text": [
      "                                                                  "
     ]
    },
    {
     "name": "stdout",
     "output_type": "stream",
     "text": [
      "MoviePy - Done.\n",
      "                                             utterance   speaker   \n",
      "2283  Dee. The sarcastic sister from What's Happening.  CHANDLER  \\\n",
      "\n",
      "                               context  context_speakers     show  sarcasm  \n",
      "2283  [Could you want her more?, Who?]  [CHANDLER, ROSS]  FRIENDS     True  \n",
      "2283    True\n",
      "Name: sarcasm, dtype: bool\n"
     ]
    },
    {
     "name": "stderr",
     "output_type": "stream",
     "text": [
      "\r"
     ]
    },
    {
     "name": "stdout",
     "output_type": "stream",
     "text": [
      "MoviePy - Writing audio in ./audio_extracted_yes/2283.mp3\n"
     ]
    },
    {
     "name": "stderr",
     "output_type": "stream",
     "text": [
      "                                                       "
     ]
    },
    {
     "name": "stdout",
     "output_type": "stream",
     "text": [
      "MoviePy - Done.\n",
      "                                             utterance speaker   \n",
      "2282  What-wh-what so we'll just stay married forever?  RACHEL  \\\n",
      "\n",
      "                                                context context_speakers   \n",
      "2282  [Wow! This is so amazing. I uh, I really thoug...           [ROSS]  \\\n",
      "\n",
      "         show  sarcasm  \n",
      "2282  FRIENDS     True  \n",
      "2282    True\n",
      "Name: sarcasm, dtype: bool\n"
     ]
    },
    {
     "name": "stderr",
     "output_type": "stream",
     "text": [
      "\r"
     ]
    },
    {
     "name": "stdout",
     "output_type": "stream",
     "text": [
      "MoviePy - Writing audio in ./audio_extracted_yes/2282.mp3\n"
     ]
    },
    {
     "name": "stderr",
     "output_type": "stream",
     "text": [
      "                                                       "
     ]
    },
    {
     "name": "stdout",
     "output_type": "stream",
     "text": [
      "MoviePy - Done.\n",
      "                                              utterance  speaker   \n",
      "1427  Well, I'm sorry, too, but there's just no room...  SHELDON  \\\n",
      "\n",
      "                                                context    context_speakers   \n",
      "1427  [This is Dr. Sheldon Cooper., Yeah, I need to ...  [SHELDON, SHELDON]  \\\n",
      "\n",
      "     show  sarcasm  \n",
      "1427  BBT     True  \n",
      "1427    True\n",
      "Name: sarcasm, dtype: bool\n"
     ]
    },
    {
     "name": "stderr",
     "output_type": "stream",
     "text": [
      "\r"
     ]
    },
    {
     "name": "stdout",
     "output_type": "stream",
     "text": [
      "MoviePy - Writing audio in ./audio_extracted_yes/1427.mp3\n"
     ]
    },
    {
     "name": "stderr",
     "output_type": "stream",
     "text": [
      "                                                                  "
     ]
    },
    {
     "name": "stdout",
     "output_type": "stream",
     "text": [
      "MoviePy - Done.\n",
      "                                               utterance speaker   \n",
      "11798  If you don't like this stuff, let's go next do...     RAJ  \\\n",
      "\n",
      "                                                 context   \n",
      "11798  [You're kidding. You've got lotions and bath o...  \\\n",
      "\n",
      "                 context_speakers show  sarcasm  \n",
      "11798  [HOWARD, SHELDON, SHELDON]  BBT     True  \n",
      "11798    True\n",
      "Name: sarcasm, dtype: bool\n"
     ]
    },
    {
     "name": "stderr",
     "output_type": "stream",
     "text": [
      "\r"
     ]
    },
    {
     "name": "stdout",
     "output_type": "stream",
     "text": [
      "MoviePy - Writing audio in ./audio_extracted_yes/11798.mp3\n"
     ]
    },
    {
     "name": "stderr",
     "output_type": "stream",
     "text": [
      "                                                       "
     ]
    },
    {
     "name": "stdout",
     "output_type": "stream",
     "text": [
      "MoviePy - Done.\n",
      "                                              utterance   speaker   \n",
      "2241  Oh I do. Oh no, wait a minute, I took it out o...  CHANDLER  \\\n",
      "\n",
      "                                                context  context_speakers   \n",
      "2241  [Damn, tail pipe's not hot enough to light thi...  [CHANDLER, JOEY]  \\\n",
      "\n",
      "         show  sarcasm  \n",
      "2241  FRIENDS     True  \n",
      "2241    True\n",
      "Name: sarcasm, dtype: bool\n"
     ]
    },
    {
     "name": "stderr",
     "output_type": "stream",
     "text": [
      "\r"
     ]
    },
    {
     "name": "stdout",
     "output_type": "stream",
     "text": [
      "MoviePy - Writing audio in ./audio_extracted_yes/2241.mp3\n"
     ]
    },
    {
     "name": "stderr",
     "output_type": "stream",
     "text": [
      "                                                                    "
     ]
    },
    {
     "name": "stdout",
     "output_type": "stream",
     "text": [
      "MoviePy - Done.\n",
      "                                              utterance      speaker   \n",
      "2527  We thought you were just here for the company....  MEMBER-GIRL  \\\n",
      "\n",
      "                                                context      context_speakers   \n",
      "2527  [My name's Scott and I am a sarcasmholic., Nooo.]  [SCOTT, MEMBER-GIRL]  \\\n",
      "\n",
      "                show  sarcasm  \n",
      "2527  SARCASMOHOLICS     True  \n",
      "2527    True\n",
      "Name: sarcasm, dtype: bool\n"
     ]
    },
    {
     "name": "stderr",
     "output_type": "stream",
     "text": [
      "\r"
     ]
    },
    {
     "name": "stdout",
     "output_type": "stream",
     "text": [
      "MoviePy - Writing audio in ./audio_extracted_yes/2527.mp3\n"
     ]
    },
    {
     "name": "stderr",
     "output_type": "stream",
     "text": [
      "                                                       "
     ]
    },
    {
     "name": "stdout",
     "output_type": "stream",
     "text": [
      "MoviePy - Done.\n",
      "                utterance  speaker                                  context   \n",
      "2255  It's a musical Rose  DOROTHY  [What kind of a movie is this Dorothy?]  \\\n",
      "\n",
      "     context_speakers         show  sarcasm  \n",
      "2255           [ROSE]  GOLDENGIRLS     True  \n",
      "2255    True\n",
      "Name: sarcasm, dtype: bool\n"
     ]
    },
    {
     "name": "stderr",
     "output_type": "stream",
     "text": [
      "\r"
     ]
    },
    {
     "name": "stdout",
     "output_type": "stream",
     "text": [
      "MoviePy - Writing audio in ./audio_extracted_yes/2255.mp3\n"
     ]
    },
    {
     "name": "stderr",
     "output_type": "stream",
     "text": [
      "                                                       "
     ]
    },
    {
     "name": "stdout",
     "output_type": "stream",
     "text": [
      "MoviePy - Done.\n",
      "                                            utterance speaker   \n",
      "11001  What else? Sell it on eBay as \"slightly used.\"     RAJ  \\\n",
      "\n",
      "                                                 context   \n",
      "11001  [Or maybe she just doesn't want to talk., Look...  \\\n",
      "\n",
      "             context_speakers show  sarcasm  \n",
      "11001  [SHELDON, RAJ, HOWARD]  BBT    False  \n",
      "11001    False\n",
      "Name: sarcasm, dtype: bool\n"
     ]
    },
    {
     "name": "stderr",
     "output_type": "stream",
     "text": [
      "\r"
     ]
    },
    {
     "name": "stdout",
     "output_type": "stream",
     "text": [
      "MoviePy - Writing audio in ./audio_extracted_no/11001.mp3\n"
     ]
    },
    {
     "name": "stderr",
     "output_type": "stream",
     "text": [
      "                                                       "
     ]
    },
    {
     "name": "stdout",
     "output_type": "stream",
     "text": [
      "MoviePy - Done.\n",
      "                                                utterance speaker   \n",
      "111485  Is that why you had to take him to Office Depo...   PENNY  \\\n",
      "\n",
      "                                                  context   \n",
      "111485  [See, I've got, uh, my tea is at the perfect s...  \\\n",
      "\n",
      "                   context_speakers show  sarcasm  \n",
      "111485  [SHELDON, SHELDON, SHELDON]  BBT    False  \n",
      "111485    False\n",
      "Name: sarcasm, dtype: bool\n"
     ]
    },
    {
     "name": "stderr",
     "output_type": "stream",
     "text": [
      "\r"
     ]
    },
    {
     "name": "stdout",
     "output_type": "stream",
     "text": [
      "MoviePy - Writing audio in ./audio_extracted_no/111485.mp3\n"
     ]
    },
    {
     "name": "stderr",
     "output_type": "stream",
     "text": [
      "                                                                 "
     ]
    },
    {
     "name": "stdout",
     "output_type": "stream",
     "text": [
      "MoviePy - Done.\n",
      "                                               utterance  speaker   \n",
      "16020  You just got off the list. Would you like back...  SHELDON  \\\n",
      "\n",
      "                                                 context   \n",
      "16020  [What differences does it make if Leonard goes...  \\\n",
      "\n",
      "                                      context_speakers show  sarcasm  \n",
      "16020  [AMY, PENNY, AMY, AMY, SHELDON, SHELDON, PENNY]  BBT     True  \n",
      "16020    True\n",
      "Name: sarcasm, dtype: bool\n"
     ]
    },
    {
     "name": "stderr",
     "output_type": "stream",
     "text": [
      "\r"
     ]
    },
    {
     "name": "stdout",
     "output_type": "stream",
     "text": [
      "MoviePy - Writing audio in ./audio_extracted_yes/16020.mp3\n"
     ]
    },
    {
     "name": "stderr",
     "output_type": "stream",
     "text": [
      "                                                                   \r"
     ]
    },
    {
     "name": "stdout",
     "output_type": "stream",
     "text": [
      "MoviePy - Done.\n",
      "                                               utterance  speaker   \n",
      "14145  A lot of people are working on that research. ...  LEONARD  \\\n",
      "\n",
      "                                                 context    context_speakers   \n",
      "14145  [And this is a schematic for a bird-trapping d...  [SHELDON, SHELDON]  \\\n",
      "\n",
      "      show  sarcasm  \n",
      "14145  BBT     True  \n",
      "14145    True\n",
      "Name: sarcasm, dtype: bool\n",
      "MoviePy - Writing audio in ./audio_extracted_yes/14145.mp3\n"
     ]
    },
    {
     "name": "stderr",
     "output_type": "stream",
     "text": [
      "                                                                  "
     ]
    },
    {
     "name": "stdout",
     "output_type": "stream",
     "text": [
      "MoviePy - Done.\n",
      "                                             utterance   speaker   \n",
      "215  I'm sorry man there is never a good time to ha...  CHANDLER  \\\n",
      "\n",
      "                                               context context_speakers   \n",
      "215  [When I had insurance I could get hit by a bus...           [JOEY]  \\\n",
      "\n",
      "        show  sarcasm  \n",
      "215  FRIENDS     True  \n",
      "215    True\n",
      "Name: sarcasm, dtype: bool\n"
     ]
    },
    {
     "name": "stderr",
     "output_type": "stream",
     "text": [
      "\r"
     ]
    },
    {
     "name": "stdout",
     "output_type": "stream",
     "text": [
      "MoviePy - Writing audio in ./audio_extracted_yes/215.mp3\n"
     ]
    },
    {
     "name": "stderr",
     "output_type": "stream",
     "text": [
      "                                                                    \r"
     ]
    },
    {
     "name": "stdout",
     "output_type": "stream",
     "text": [
      "MoviePy - Done.\n",
      "                   utterance speaker   \n",
      "229  It was like months ago.  RACHEL  \\\n",
      "\n",
      "                                               context   \n",
      "229  [Oh, that's Ross's., Oh...  Oh my God. He reme...  \\\n",
      "\n",
      "               context_speakers     show  sarcasm  \n",
      "229  [CHANDLER, RACHEL, PHOEBE]  FRIENDS    False  \n",
      "229    False\n",
      "Name: sarcasm, dtype: bool\n",
      "MoviePy - Writing audio in ./audio_extracted_no/229.mp3\n"
     ]
    },
    {
     "name": "stderr",
     "output_type": "stream",
     "text": [
      "                                                       "
     ]
    },
    {
     "name": "stdout",
     "output_type": "stream",
     "text": [
      "MoviePy - Done.\n",
      "                                      utterance   speaker   \n",
      "23  And I think my testicles may be in here too  CHANDLER  \\\n",
      "\n",
      "                                              context    context_speakers   \n",
      "23  [Do you guys have any exta ribbon?, Oh yeah su...  [RACHEL, CHANDLER]  \\\n",
      "\n",
      "       show  sarcasm  \n",
      "23  FRIENDS     True  \n",
      "23    True\n",
      "Name: sarcasm, dtype: bool\n"
     ]
    },
    {
     "name": "stderr",
     "output_type": "stream",
     "text": [
      "\r"
     ]
    },
    {
     "name": "stdout",
     "output_type": "stream",
     "text": [
      "MoviePy - Writing audio in ./audio_extracted_yes/23.mp3\n"
     ]
    },
    {
     "name": "stderr",
     "output_type": "stream",
     "text": [
      "                                                       "
     ]
    },
    {
     "name": "stdout",
     "output_type": "stream",
     "text": [
      "MoviePy - Done.\n",
      "                                                utterance     speaker   \n",
      "111042  Because no one wants to see Neil deGrasse Tyso...  BERNADETTE  \\\n",
      "\n",
      "                                                  context   \n",
      "111042  [but since you seem to be okay with the articl...  \\\n",
      "\n",
      "                               context_speakers show  sarcasm  \n",
      "111042  [AMY, BERNADETTE, AMY, BERNADETTE, AMY]  BBT    False  \n",
      "111042    False\n",
      "Name: sarcasm, dtype: bool\n"
     ]
    },
    {
     "name": "stderr",
     "output_type": "stream",
     "text": [
      "\r"
     ]
    },
    {
     "name": "stdout",
     "output_type": "stream",
     "text": [
      "MoviePy - Writing audio in ./audio_extracted_no/111042.mp3\n"
     ]
    },
    {
     "name": "stderr",
     "output_type": "stream",
     "text": [
      "                                                                  "
     ]
    },
    {
     "name": "stdout",
     "output_type": "stream",
     "text": [
      "MoviePy - Done.\n",
      "                                         utterance   speaker   \n",
      "2137  Okay, but If he asks, I am not going to lie.  CHANDLER  \\\n",
      "\n",
      "                                                context context_speakers   \n",
      "2137  [But if you do, make sure it seems like you're...           [ROSS]  \\\n",
      "\n",
      "         show  sarcasm  \n",
      "2137  FRIENDS    False  \n",
      "2137    False\n",
      "Name: sarcasm, dtype: bool\n"
     ]
    },
    {
     "name": "stderr",
     "output_type": "stream",
     "text": [
      "\r"
     ]
    },
    {
     "name": "stdout",
     "output_type": "stream",
     "text": [
      "MoviePy - Writing audio in ./audio_extracted_no/2137.mp3\n"
     ]
    },
    {
     "name": "stderr",
     "output_type": "stream",
     "text": [
      "                                                       "
     ]
    },
    {
     "name": "stdout",
     "output_type": "stream",
     "text": [
      "MoviePy - Done.\n",
      "     utterance    speaker                                           context   \n",
      "2123     Nooo!  MODERATOR  [It was quite hard .. Was just being sarcastic!]  \\\n",
      "\n",
      "     context_speakers            show  sarcasm  \n",
      "2123          [SCOTT]  SARCASMOHOLICS     True  \n",
      "2123    True\n",
      "Name: sarcasm, dtype: bool\n"
     ]
    },
    {
     "name": "stderr",
     "output_type": "stream",
     "text": [
      "\r"
     ]
    },
    {
     "name": "stdout",
     "output_type": "stream",
     "text": [
      "MoviePy - Writing audio in ./audio_extracted_yes/2123.mp3\n"
     ]
    },
    {
     "name": "stderr",
     "output_type": "stream",
     "text": [
      "                                                       "
     ]
    },
    {
     "name": "stdout",
     "output_type": "stream",
     "text": [
      "MoviePy - Done.\n",
      "                                              utterance   speaker   \n",
      "2490  Maybe it's a contest, you know? Like \"Collect ...  CHANDLER  \\\n",
      "\n",
      "                                                context context_speakers   \n",
      "2490  [I know, I opened it up and it  and there it w...         [PHOEBE]  \\\n",
      "\n",
      "         show  sarcasm  \n",
      "2490  FRIENDS     True  \n",
      "2490    True\n",
      "Name: sarcasm, dtype: bool\n"
     ]
    },
    {
     "name": "stderr",
     "output_type": "stream",
     "text": [
      "\r"
     ]
    },
    {
     "name": "stdout",
     "output_type": "stream",
     "text": [
      "MoviePy - Writing audio in ./audio_extracted_yes/2490.mp3\n"
     ]
    },
    {
     "name": "stderr",
     "output_type": "stream",
     "text": [
      "                                                       "
     ]
    },
    {
     "name": "stdout",
     "output_type": "stream",
     "text": [
      "MoviePy - Done.\n",
      "                       utterance speaker   \n",
      "2484  Yes yes it is! In Prison!!    ROSS  \\\n",
      "\n",
      "                                                context   \n",
      "2484  [Your tailor, is a very bad man., Frankie what...  \\\n",
      "\n",
      "                                       context_speakers     show  sarcasm  \n",
      "2484  [CHANDLER, JOEY, ROSS, CHANDLER, JOEY, CHANDLE...  FRIENDS     True  \n",
      "2484    True\n",
      "Name: sarcasm, dtype: bool\n"
     ]
    },
    {
     "name": "stderr",
     "output_type": "stream",
     "text": [
      "\r"
     ]
    },
    {
     "name": "stdout",
     "output_type": "stream",
     "text": [
      "MoviePy - Writing audio in ./audio_extracted_yes/2484.mp3\n"
     ]
    },
    {
     "name": "stderr",
     "output_type": "stream",
     "text": [
      "                                                                    "
     ]
    },
    {
     "name": "stdout",
     "output_type": "stream",
     "text": [
      "MoviePy - Done.\n",
      "                                          utterance speaker   \n",
      "16183  You have a thing of paper clips right there.     RAJ  \\\n",
      "\n",
      "                                                 context   \n",
      "16183  [It is, isn't it?, (gasps) Oh, bother., Isn't ...  \\\n",
      "\n",
      "                           context_speakers show  sarcasm  \n",
      "16183  [SHELDON, SHELDON, SHELDON, SHELDON]  BBT    False  \n",
      "16183    False\n",
      "Name: sarcasm, dtype: bool\n"
     ]
    },
    {
     "name": "stderr",
     "output_type": "stream",
     "text": [
      "\r"
     ]
    },
    {
     "name": "stdout",
     "output_type": "stream",
     "text": [
      "MoviePy - Writing audio in ./audio_extracted_no/16183.mp3\n"
     ]
    },
    {
     "name": "stderr",
     "output_type": "stream",
     "text": [
      "                                                       "
     ]
    },
    {
     "name": "stdout",
     "output_type": "stream",
     "text": [
      "MoviePy - Done.\n",
      "                                                utterance  speaker   \n",
      "111526  As you may know, I've been experimenting with ...  SHELDON  \\\n",
      "\n",
      "                                                  context   \n",
      "111526  [If I were going to Hawaii, I'd spend all my t...  \\\n",
      "\n",
      "                                    context_speakers show  sarcasm  \n",
      "111526  [AMY, PENNY, SHELDON, PENNY, SHELDON, PENNY]  BBT    False  \n",
      "111526    False\n",
      "Name: sarcasm, dtype: bool\n"
     ]
    },
    {
     "name": "stderr",
     "output_type": "stream",
     "text": [
      "\r"
     ]
    },
    {
     "name": "stdout",
     "output_type": "stream",
     "text": [
      "MoviePy - Writing audio in ./audio_extracted_no/111526.mp3\n"
     ]
    },
    {
     "name": "stderr",
     "output_type": "stream",
     "text": [
      "                                                                    \r"
     ]
    },
    {
     "name": "stdout",
     "output_type": "stream",
     "text": [
      "MoviePy - Done.\n",
      "                                              utterance   speaker   \n",
      "2447  It was an accident. Not like I was across the ...  CHANDLER  \\\n",
      "\n",
      "                                                context  context_speakers   \n",
      "2447  [Still upset because I saw her boobies., Well ...  [CHANDLER, ROSS]  \\\n",
      "\n",
      "         show  sarcasm  \n",
      "2447  FRIENDS     True  \n",
      "2447    True\n",
      "Name: sarcasm, dtype: bool\n",
      "MoviePy - Writing audio in ./audio_extracted_yes/2447.mp3\n"
     ]
    },
    {
     "name": "stderr",
     "output_type": "stream",
     "text": [
      "                                                                   "
     ]
    },
    {
     "name": "stdout",
     "output_type": "stream",
     "text": [
      "MoviePy - Done.\n",
      "                                               utterance speaker   \n",
      "17504  \"To Stuart, your comic book store is out of th...  PERSON  \\\n",
      "\n",
      "                                                 context   \n",
      "17504  [Oh, hey, Stuart, I got you a little souvenir ...  \\\n",
      "\n",
      "                        context_speakers show  sarcasm  \n",
      "17504  [HOWARD, PERSON, LEONARD, HOWARD]  BBT    False  \n",
      "17504    False\n",
      "Name: sarcasm, dtype: bool\n"
     ]
    },
    {
     "name": "stderr",
     "output_type": "stream",
     "text": [
      "\r"
     ]
    },
    {
     "name": "stdout",
     "output_type": "stream",
     "text": [
      "MoviePy - Writing audio in ./audio_extracted_no/17504.mp3\n"
     ]
    },
    {
     "name": "stderr",
     "output_type": "stream",
     "text": [
      "                                                                  "
     ]
    },
    {
     "name": "stdout",
     "output_type": "stream",
     "text": [
      "MoviePy - Done.\n",
      "                                               utterance speaker   \n",
      "14743  Oh, and the science dudes want to talk science...  HOWARD  \\\n",
      "\n",
      "                                                 context   \n",
      "14743  [That's what I love about science-- there's no...  \\\n",
      "\n",
      "                                      context_speakers show  sarcasm  \n",
      "14743  [PERSON, LEONARD, PENNY, PERSON, PENNY, PERSON]  BBT     True  \n",
      "14743    True\n",
      "Name: sarcasm, dtype: bool\n"
     ]
    },
    {
     "name": "stderr",
     "output_type": "stream",
     "text": [
      "\r"
     ]
    },
    {
     "name": "stdout",
     "output_type": "stream",
     "text": [
      "MoviePy - Writing audio in ./audio_extracted_yes/14743.mp3\n"
     ]
    },
    {
     "name": "stderr",
     "output_type": "stream",
     "text": [
      "                                                                    "
     ]
    },
    {
     "name": "stdout",
     "output_type": "stream",
     "text": [
      "MoviePy - Done."
     ]
    },
    {
     "name": "stderr",
     "output_type": "stream",
     "text": [
      "\r"
     ]
    },
    {
     "name": "stdout",
     "output_type": "stream",
     "text": [
      "\n",
      "                                               utterance  speaker   \n",
      "14031  In 1917, when Albert Einstein established the ...  SHELDON  \\\n",
      "\n",
      "                                                 context   \n",
      "14031  [Happy now? I'm moving the dirty sock., Thank ...  \\\n",
      "\n",
      "                                        context_speakers show  sarcasm  \n",
      "14031  [HOWARD, SHELDON, PENNY, PERSON, SHELDON, PERS...  BBT     True  \n",
      "14031    True\n",
      "Name: sarcasm, dtype: bool\n",
      "MoviePy - Writing audio in ./audio_extracted_yes/14031.mp3\n"
     ]
    },
    {
     "name": "stderr",
     "output_type": "stream",
     "text": [
      "                                                                    \r"
     ]
    },
    {
     "name": "stdout",
     "output_type": "stream",
     "text": [
      "MoviePy - Done.\n",
      "                                               utterance  speaker   \n",
      "13766  Can we please talk about something else? Maybe...  LEONARD  \\\n",
      "\n",
      "                                                 context   \n",
      "13766  [I honestly don't care., Really? Because every...  \\\n",
      "\n",
      "                               context_speakers show  sarcasm  \n",
      "13766  [LEONARD, RAJ, LEONARD, HOWARD, SHELDON]  BBT     True  \n",
      "13766    True\n",
      "Name: sarcasm, dtype: bool\n",
      "MoviePy - Writing audio in ./audio_extracted_yes/13766.mp3\n"
     ]
    },
    {
     "name": "stderr",
     "output_type": "stream",
     "text": [
      "                                                                  "
     ]
    },
    {
     "name": "stdout",
     "output_type": "stream",
     "text": [
      "MoviePy - Done.\n",
      "                                   utterance   speaker   \n",
      "2443  Dear god, this parachute is a knapsack  CHANDLER  \\\n",
      "\n",
      "                                                context   \n",
      "2443  [Why wouldn't I be married when I am forty?, O...  \\\n",
      "\n",
      "                                  context_speakers     show  sarcasm  \n",
      "2443  [MONICA, CHANDLER, MONICA, CHANDLER, MONICA]  FRIENDS     True  \n",
      "2443    True\n",
      "Name: sarcasm, dtype: bool\n"
     ]
    },
    {
     "name": "stderr",
     "output_type": "stream",
     "text": [
      "\r"
     ]
    },
    {
     "name": "stdout",
     "output_type": "stream",
     "text": [
      "MoviePy - Writing audio in ./audio_extracted_yes/2443.mp3\n"
     ]
    },
    {
     "name": "stderr",
     "output_type": "stream",
     "text": [
      "                                                                  "
     ]
    },
    {
     "name": "stdout",
     "output_type": "stream",
     "text": [
      "MoviePy - Done.\n",
      "                                              utterance   speaker   \n",
      "2457  Yes, we all know how cruel a parent can be, ab...  CHANDLER  \\\n",
      "\n",
      "                                                context context_speakers   \n",
      "2457  [I just don't wanna give them any more ammunit...         [MONICA]  \\\n",
      "\n",
      "         show  sarcasm  \n",
      "2457  FRIENDS     True  \n",
      "2457    True\n",
      "Name: sarcasm, dtype: bool\n"
     ]
    },
    {
     "name": "stderr",
     "output_type": "stream",
     "text": [
      "\r"
     ]
    },
    {
     "name": "stdout",
     "output_type": "stream",
     "text": [
      "MoviePy - Writing audio in ./audio_extracted_yes/2457.mp3\n"
     ]
    },
    {
     "name": "stderr",
     "output_type": "stream",
     "text": [
      "                                                                  "
     ]
    },
    {
     "name": "stdout",
     "output_type": "stream",
     "text": [
      "MoviePy - Done.\n",
      "     utterance speaker                                            context   \n",
      "2319       No.  RACHEL  [Okay, I can't imagine, I can't imagine my lif...  \\\n",
      "\n",
      "     context_speakers     show  sarcasm  \n",
      "2319           [ROSS]  FRIENDS    False  \n",
      "2319    False\n",
      "Name: sarcasm, dtype: bool\n"
     ]
    },
    {
     "name": "stderr",
     "output_type": "stream",
     "text": [
      "\r"
     ]
    },
    {
     "name": "stdout",
     "output_type": "stream",
     "text": [
      "MoviePy - Writing audio in ./audio_extracted_no/2319.mp3\n"
     ]
    },
    {
     "name": "stderr",
     "output_type": "stream",
     "text": [
      "                                                       "
     ]
    },
    {
     "name": "stdout",
     "output_type": "stream",
     "text": [
      "MoviePy - Done.\n",
      "                             utterance   speaker   \n",
      "2494  But younger than some buildings!  CHANDLER  \\\n",
      "\n",
      "                                                context context_speakers   \n",
      "2494  [I know Richard's really nice and everything, ...       [CHANDLER]  \\\n",
      "\n",
      "         show  sarcasm  \n",
      "2494  FRIENDS     True  \n",
      "2494    True\n",
      "Name: sarcasm, dtype: bool\n"
     ]
    },
    {
     "name": "stderr",
     "output_type": "stream",
     "text": [
      "\r"
     ]
    },
    {
     "name": "stdout",
     "output_type": "stream",
     "text": [
      "MoviePy - Writing audio in ./audio_extracted_yes/2494.mp3\n"
     ]
    },
    {
     "name": "stderr",
     "output_type": "stream",
     "text": [
      "                                                       "
     ]
    },
    {
     "name": "stdout",
     "output_type": "stream",
     "text": [
      "MoviePy - Done.\n",
      "                          utterance speaker   \n",
      "2127  When? Today? Some, not a lot.    JOEY  \\\n",
      "\n",
      "                                                context   \n",
      "2127  [Joe?, Yeah!, Uh, you've had a lot of sex right?]  \\\n",
      "\n",
      "                context_speakers     show  sarcasm  \n",
      "2127  [CHANDLER, JOEY, CHANDLER]  FRIENDS    False  \n",
      "2127    False\n",
      "Name: sarcasm, dtype: bool\n"
     ]
    },
    {
     "name": "stderr",
     "output_type": "stream",
     "text": [
      "\r"
     ]
    },
    {
     "name": "stdout",
     "output_type": "stream",
     "text": [
      "MoviePy - Writing audio in ./audio_extracted_no/2127.mp3\n"
     ]
    },
    {
     "name": "stderr",
     "output_type": "stream",
     "text": [
      "                                                                    \r"
     ]
    },
    {
     "name": "stdout",
     "output_type": "stream",
     "text": [
      "MoviePy - Done.\n",
      "                                                utterance speaker   \n",
      "111913  It's why my people wandered the desert for 40 ...  HOWARD  \\\n",
      "\n",
      "                                                  context context_speakers   \n",
      "111913  [I don't think I've eaten that much in my enti...          [PENNY]  \\\n",
      "\n",
      "       show  sarcasm  \n",
      "111913  BBT     True  \n",
      "111913    True\n",
      "Name: sarcasm, dtype: bool\n",
      "MoviePy - Writing audio in ./audio_extracted_yes/111913.mp3\n"
     ]
    },
    {
     "name": "stderr",
     "output_type": "stream",
     "text": [
      "                                                                    "
     ]
    },
    {
     "name": "stdout",
     "output_type": "stream",
     "text": [
      "MoviePy - Done.\n",
      "                                                utterance speaker   \n",
      "111046  Wow, he really went where no man has gone before.  HOWARD  \\\n",
      "\n",
      "                                                  context   \n",
      "111046  [Red Zinger with one teaspoon of honey., Thank...  \\\n",
      "\n",
      "                                         context_speakers show  sarcasm  \n",
      "111046  [SHELDON, PERSON, PERSON, HOWARD, PERSON, SHEL...  BBT    False  \n",
      "111046    False\n",
      "Name: sarcasm, dtype: bool\n"
     ]
    },
    {
     "name": "stderr",
     "output_type": "stream",
     "text": [
      "\r"
     ]
    },
    {
     "name": "stdout",
     "output_type": "stream",
     "text": [
      "MoviePy - Writing audio in ./audio_extracted_no/111046.mp3\n"
     ]
    },
    {
     "name": "stderr",
     "output_type": "stream",
     "text": [
      "                                                                  "
     ]
    },
    {
     "name": "stdout",
     "output_type": "stream",
     "text": [
      "MoviePy - Done.\n",
      "                                          utterance speaker   \n",
      "27  I've never loved anybody as much as I love you.  MONICA  \\\n",
      "\n",
      "                                              context   \n",
      "27  [You roll another hard eight and we get marrie...  \\\n",
      "\n",
      "                context_speakers     show  sarcasm  \n",
      "27  [CHANDLER, MONICA, CHANDLER]  FRIENDS    False  \n",
      "27    False\n",
      "Name: sarcasm, dtype: bool\n"
     ]
    },
    {
     "name": "stderr",
     "output_type": "stream",
     "text": [
      "\r"
     ]
    },
    {
     "name": "stdout",
     "output_type": "stream",
     "text": [
      "MoviePy - Writing audio in ./audio_extracted_no/27.mp3\n"
     ]
    },
    {
     "name": "stderr",
     "output_type": "stream",
     "text": [
      "                                                       "
     ]
    },
    {
     "name": "stdout",
     "output_type": "stream",
     "text": [
      "MoviePy - Done.\n",
      "                                                utterance speaker   \n",
      "111697  The answer's in this puzzle box. Let's see if ...   PENNY  \\\n",
      "\n",
      "                                                  context   \n",
      "111697  [Can you please just let it go?, Oh, I can hel...  \\\n",
      "\n",
      "                                         context_speakers show  sarcasm  \n",
      "111697  [BERNADETTE, SHELDON, SHELDON, SHELDON, HOWARD...  BBT     True  \n",
      "111697    True\n",
      "Name: sarcasm, dtype: bool\n"
     ]
    },
    {
     "name": "stderr",
     "output_type": "stream",
     "text": [
      "\r"
     ]
    },
    {
     "name": "stdout",
     "output_type": "stream",
     "text": [
      "MoviePy - Writing audio in ./audio_extracted_yes/111697.mp3\n"
     ]
    },
    {
     "name": "stderr",
     "output_type": "stream",
     "text": [
      "                                                                    "
     ]
    },
    {
     "name": "stdout",
     "output_type": "stream",
     "text": [
      "MoviePy - Done.\n",
      "                                               utterance speaker   \n",
      "11549  On a dusty highway just outside Bakersfield. W...  HOWARD  \\\n",
      "\n",
      "                                                 context   \n",
      "11549  [Will you at least stipulate that Star Trek IV...  \\\n",
      "\n",
      "                                       context_speakers show  sarcasm  \n",
      "11549  [SHELDON, RAJ, HOWARD, LEONARD, HOWARD, SHELDON]  BBT     True  \n",
      "11549    True\n",
      "Name: sarcasm, dtype: bool\n"
     ]
    },
    {
     "name": "stderr",
     "output_type": "stream",
     "text": [
      "\r"
     ]
    },
    {
     "name": "stdout",
     "output_type": "stream",
     "text": [
      "MoviePy - Writing audio in ./audio_extracted_yes/11549.mp3\n"
     ]
    },
    {
     "name": "stderr",
     "output_type": "stream",
     "text": [
      "                                                                  "
     ]
    },
    {
     "name": "stdout",
     "output_type": "stream",
     "text": [
      "MoviePy - Done.\n",
      "                utterance  speaker   \n",
      "211  His cappucino maker.  DOROTHY  \\\n",
      "\n",
      "                                               context context_speakers   \n",
      "211  [The only thing we have in common is under the...  [DOROTHY, ROSE]  \\\n",
      "\n",
      "            show  sarcasm  \n",
      "211  GOLDENGIRLS     True  \n",
      "211    True\n",
      "Name: sarcasm, dtype: bool\n"
     ]
    },
    {
     "name": "stderr",
     "output_type": "stream",
     "text": [
      "\r"
     ]
    },
    {
     "name": "stdout",
     "output_type": "stream",
     "text": [
      "MoviePy - Writing audio in ./audio_extracted_yes/211.mp3\n"
     ]
    },
    {
     "name": "stderr",
     "output_type": "stream",
     "text": [
      "                                                                  \r"
     ]
    },
    {
     "name": "stdout",
     "output_type": "stream",
     "text": [
      "MoviePy - Done.\n",
      "                             utterance   speaker   \n",
      "239  Oh hurry up, I want to sign that.  CHANDLER  \\\n",
      "\n",
      "                                               context   \n",
      "239  [But that reminds me, sign this., What is it?,...  \\\n",
      "\n",
      "           context_speakers     show  sarcasm  \n",
      "239  [PERSON, ROSS, PERSON]  FRIENDS     True  \n",
      "239    True\n",
      "Name: sarcasm, dtype: bool\n",
      "MoviePy - Writing audio in ./audio_extracted_yes/239.mp3\n"
     ]
    },
    {
     "name": "stderr",
     "output_type": "stream",
     "text": [
      "                                                                    "
     ]
    },
    {
     "name": "stdout",
     "output_type": "stream",
     "text": [
      "MoviePy - Done.\n",
      "                                    utterance speaker   \n",
      "2251  No!! You have been screwing us all day!  MONICA  \\\n",
      "\n",
      "                                                context   \n",
      "2251  [Oh you've got to be kidding me., What?, As a ...  \\\n",
      "\n",
      "                context_speakers     show  sarcasm  \n",
      "2251  [CHANDLER, MONICA, PERSON]  FRIENDS    False  \n",
      "2251    False\n",
      "Name: sarcasm, dtype: bool\n"
     ]
    },
    {
     "name": "stderr",
     "output_type": "stream",
     "text": [
      "\r"
     ]
    },
    {
     "name": "stdout",
     "output_type": "stream",
     "text": [
      "MoviePy - Writing audio in ./audio_extracted_no/2251.mp3\n"
     ]
    },
    {
     "name": "stderr",
     "output_type": "stream",
     "text": [
      "                                                       "
     ]
    },
    {
     "name": "stdout",
     "output_type": "stream",
     "text": [
      "MoviePy - Done.\n",
      "                                              utterance speaker   \n",
      "2537  What did you want to show us? Because all I ca...    ROSS  \\\n",
      "\n",
      "                                                context   \n",
      "2537  [Come on, no peeking!, Our eyes are closed and...  \\\n",
      "\n",
      "                context_speakers     show  sarcasm  \n",
      "2537  [PHOEBE, CHANDLER, PHOEBE]  FRIENDS    False  \n",
      "2537    False\n",
      "Name: sarcasm, dtype: bool\n"
     ]
    },
    {
     "name": "stderr",
     "output_type": "stream",
     "text": [
      "\r"
     ]
    },
    {
     "name": "stdout",
     "output_type": "stream",
     "text": [
      "MoviePy - Writing audio in ./audio_extracted_no/2537.mp3\n"
     ]
    },
    {
     "name": "stderr",
     "output_type": "stream",
     "text": [
      "                                                                  "
     ]
    },
    {
     "name": "stdout",
     "output_type": "stream",
     "text": [
      "MoviePy - Done.\n",
      "                                              utterance   speaker   \n",
      "2523  Well, I'm a headhunter. I hook up out of work ...  CHANDLER  \\\n",
      "\n",
      "                                               context context_speakers   \n",
      "2523  [Hi Ben, and uh .., I said \"a little bit\" Ross.]     [ROSS, JOEY]  \\\n",
      "\n",
      "         show  sarcasm  \n",
      "2523  FRIENDS     True  \n",
      "2523    True\n",
      "Name: sarcasm, dtype: bool\n"
     ]
    },
    {
     "name": "stderr",
     "output_type": "stream",
     "text": [
      "\r"
     ]
    },
    {
     "name": "stdout",
     "output_type": "stream",
     "text": [
      "MoviePy - Writing audio in ./audio_extracted_yes/2523.mp3\n"
     ]
    },
    {
     "name": "stderr",
     "output_type": "stream",
     "text": [
      "                                                                    "
     ]
    },
    {
     "name": "stdout",
     "output_type": "stream",
     "text": [
      "MoviePy - Done.\n",
      "                                              utterance speaker   \n",
      "2245  Well ah, I've been doing a lot of thinking, an...  PERSON  \\\n",
      "\n",
      "                                                context   \n",
      "2245  [Ooh, nice., So ah, there was this thing I wan...  \\\n",
      "\n",
      "              context_speakers     show  sarcasm  \n",
      "2245  [MONICA, PERSON, MONICA]  FRIENDS    False  \n",
      "2245    False\n",
      "Name: sarcasm, dtype: bool\n"
     ]
    },
    {
     "name": "stderr",
     "output_type": "stream",
     "text": [
      "\r"
     ]
    },
    {
     "name": "stdout",
     "output_type": "stream",
     "text": [
      "MoviePy - Writing audio in ./audio_extracted_no/2245.mp3\n"
     ]
    },
    {
     "name": "stderr",
     "output_type": "stream",
     "text": [
      "                                                                   "
     ]
    },
    {
     "name": "stdout",
     "output_type": "stream",
     "text": [
      "MoviePy - Done.\n",
      "                                               utterance speaker   \n",
      "11987  When I didn't pay my bill, the Department of W...   PENNY  \\\n",
      "\n",
      "                                          context           context_speakers   \n",
      "11987  [Hey., Hey., A little mood lighting, huh?]  [LEONARD, PENNY, LEONARD]  \\\n",
      "\n",
      "      show  sarcasm  \n",
      "11987  BBT     True  \n",
      "11987    True\n",
      "Name: sarcasm, dtype: bool\n"
     ]
    },
    {
     "name": "stderr",
     "output_type": "stream",
     "text": [
      "\r"
     ]
    },
    {
     "name": "stdout",
     "output_type": "stream",
     "text": [
      "MoviePy - Writing audio in ./audio_extracted_yes/11987.mp3\n"
     ]
    },
    {
     "name": "stderr",
     "output_type": "stream",
     "text": [
      "                                                                    "
     ]
    },
    {
     "name": "stdout",
     "output_type": "stream",
     "text": [
      "MoviePy - Done.\n",
      "                                       utterance speaker   \n",
      "2279  Sounds like she has got the whole package!  MONICA  \\\n",
      "\n",
      "                                                context    context_speakers   \n",
      "2279  [How was your date with Ginger., Great. It was...  [MONICA, CHANDLER]  \\\n",
      "\n",
      "         show  sarcasm  \n",
      "2279  FRIENDS     True  \n",
      "2279    True\n",
      "Name: sarcasm, dtype: bool\n"
     ]
    },
    {
     "name": "stderr",
     "output_type": "stream",
     "text": [
      "\r"
     ]
    },
    {
     "name": "stdout",
     "output_type": "stream",
     "text": [
      "MoviePy - Writing audio in ./audio_extracted_yes/2279.mp3\n"
     ]
    },
    {
     "name": "stderr",
     "output_type": "stream",
     "text": [
      "                                                                    "
     ]
    },
    {
     "name": "stdout",
     "output_type": "stream",
     "text": [
      "MoviePy - Done.\n",
      "                                              utterance  speaker   \n",
      "2292  No, she is going to sit here where itÕs a 112 ...  DOROTHY  \\\n",
      "\n",
      "                                                context context_speakers   \n",
      "2292  [Its Miami in June, only cats are wearing fur!...  [DOROTHY, ROSE]  \\\n",
      "\n",
      "             show  sarcasm  \n",
      "2292  GOLDENGIRLS     True  \n",
      "2292    True\n",
      "Name: sarcasm, dtype: bool\n"
     ]
    },
    {
     "name": "stderr",
     "output_type": "stream",
     "text": [
      "\r"
     ]
    },
    {
     "name": "stdout",
     "output_type": "stream",
     "text": [
      "MoviePy - Writing audio in ./audio_extracted_yes/2292.mp3\n"
     ]
    },
    {
     "name": "stderr",
     "output_type": "stream",
     "text": [
      "                                                        "
     ]
    },
    {
     "name": "stdout",
     "output_type": "stream",
     "text": [
      "MoviePy - Done.\n",
      "                                              utterance   speaker   \n",
      "2286  And sometimes I would want you to steal third,...  CHANDLER  \\\n",
      "\n",
      "                                                context context_speakers   \n",
      "2286  [And sometimes I may be away longer, like this...           [ROSS]  \\\n",
      "\n",
      "         show  sarcasm  \n",
      "2286  FRIENDS     True  \n",
      "2286    True\n",
      "Name: sarcasm, dtype: bool\n"
     ]
    },
    {
     "name": "stderr",
     "output_type": "stream",
     "text": [
      "\r"
     ]
    },
    {
     "name": "stdout",
     "output_type": "stream",
     "text": [
      "MoviePy - Writing audio in ./audio_extracted_yes/2286.mp3\n"
     ]
    },
    {
     "name": "stderr",
     "output_type": "stream",
     "text": [
      "                                                                    \r"
     ]
    },
    {
     "name": "stdout",
     "output_type": "stream",
     "text": [
      "MoviePy - Done.\n",
      "                                                utterance speaker   \n",
      "110748  There they go, fighting again. You'd never hea...     AMY  \\\n",
      "\n",
      "                                                  context   \n",
      "110748  [Howard and Bernadette, Raj and his girlfriend...  \\\n",
      "\n",
      "                                         context_speakers show  sarcasm  \n",
      "110748  [SHELDON, LEONARD, LEONARD, PENNY, LEONARD, PE...  BBT     True  \n",
      "110748    True\n",
      "Name: sarcasm, dtype: bool\n",
      "MoviePy - Writing audio in ./audio_extracted_yes/110748.mp3\n"
     ]
    },
    {
     "name": "stderr",
     "output_type": "stream",
     "text": [
      "                                                                  "
     ]
    },
    {
     "name": "stdout",
     "output_type": "stream",
     "text": [
      "MoviePy - Done.\n",
      "                                utterance   speaker   \n",
      "2287  Oh I am sorry, do you need a break?  CHANDLER  \\\n",
      "\n",
      "                          context context_speakers     show  sarcasm  \n",
      "2287  [Oh wait stop! Stop! Stop!]         [MONICA]  FRIENDS     True  \n",
      "2287    True\n",
      "Name: sarcasm, dtype: bool\n"
     ]
    },
    {
     "name": "stderr",
     "output_type": "stream",
     "text": [
      "\r"
     ]
    },
    {
     "name": "stdout",
     "output_type": "stream",
     "text": [
      "MoviePy - Writing audio in ./audio_extracted_yes/2287.mp3\n"
     ]
    },
    {
     "name": "stderr",
     "output_type": "stream",
     "text": [
      "                                                       "
     ]
    },
    {
     "name": "stdout",
     "output_type": "stream",
     "text": [
      "MoviePy - Done.\n",
      "     utterance speaker                                            context   \n",
      "2293        No  PHOEBE  [No, no!, Give it to me!, You can't have it., ...  \\\n",
      "\n",
      "                      context_speakers     show  sarcasm  \n",
      "2293  [PHOEBE, MONICA, PHOEBE, MONICA]  FRIENDS    False  \n",
      "2293    False\n",
      "Name: sarcasm, dtype: bool\n"
     ]
    },
    {
     "name": "stderr",
     "output_type": "stream",
     "text": [
      "\r"
     ]
    },
    {
     "name": "stdout",
     "output_type": "stream",
     "text": [
      "MoviePy - Writing audio in ./audio_extracted_no/2293.mp3\n"
     ]
    },
    {
     "name": "stderr",
     "output_type": "stream",
     "text": [
      "                                                       "
     ]
    },
    {
     "name": "stdout",
     "output_type": "stream",
     "text": [
      "MoviePy - Done.\n",
      "     utterance speaker                                            context   \n",
      "2278   : Yeah.  PERSON  [I know, it was amazing! I mean, we totally na...  \\\n",
      "\n",
      "          context_speakers     show  sarcasm  \n",
      "2278  [JOEY, PERSON, JOEY]  FRIENDS    False  \n",
      "2278    False\n",
      "Name: sarcasm, dtype: bool\n"
     ]
    },
    {
     "name": "stderr",
     "output_type": "stream",
     "text": [
      "\r"
     ]
    },
    {
     "name": "stdout",
     "output_type": "stream",
     "text": [
      "MoviePy - Writing audio in ./audio_extracted_no/2278.mp3\n"
     ]
    },
    {
     "name": "stderr",
     "output_type": "stream",
     "text": [
      "                                                       "
     ]
    },
    {
     "name": "stdout",
     "output_type": "stream",
     "text": [
      "MoviePy - Done.\n",
      "                                               utterance speaker   \n",
      "17449  Okay, the NASA Web site says Howard's final de...     RAJ  \\\n",
      "\n",
      "                                                 context   \n",
      "17449  [or Leonard's gym membership., We're not kicki...  \\\n",
      "\n",
      "                                        context_speakers show  sarcasm  \n",
      "17449  [SHELDON, RAJ, SHELDON, LEONARD, SHELDON, PERS...  BBT    False  \n",
      "17449    False\n",
      "Name: sarcasm, dtype: bool\n"
     ]
    },
    {
     "name": "stderr",
     "output_type": "stream",
     "text": [
      "\r"
     ]
    },
    {
     "name": "stdout",
     "output_type": "stream",
     "text": [
      "MoviePy - Writing audio in ./audio_extracted_no/17449.mp3\n"
     ]
    },
    {
     "name": "stderr",
     "output_type": "stream",
     "text": [
      "                                                                  "
     ]
    },
    {
     "name": "stdout",
     "output_type": "stream",
     "text": [
      "MoviePy - Done.\n",
      "       utterance speaker                                            context   \n",
      "2522  Yes it is.  PERSON  [Fire alarm? Oh! Hi, officer,fireman, can-can ...  \\\n",
      "\n",
      "      context_speakers     show  sarcasm  \n",
      "2522  [PHOEBE, PERSON]  FRIENDS    False  \n",
      "2522    False\n",
      "Name: sarcasm, dtype: bool\n"
     ]
    },
    {
     "name": "stderr",
     "output_type": "stream",
     "text": [
      "\r"
     ]
    },
    {
     "name": "stdout",
     "output_type": "stream",
     "text": [
      "MoviePy - Writing audio in ./audio_extracted_no/2522.mp3\n"
     ]
    },
    {
     "name": "stderr",
     "output_type": "stream",
     "text": [
      "                                                       "
     ]
    },
    {
     "name": "stdout",
     "output_type": "stream",
     "text": [
      "MoviePy - Done.\n",
      "                                               utterance speaker   \n",
      "18746  I enjoyed it. When you told me I was going to ...     AMY  \\\n",
      "\n",
      "                                                 context   \n",
      "18746  [So what'd you think?, It was good., That's it...  \\\n",
      "\n",
      "                       context_speakers show  sarcasm  \n",
      "18746  [SHELDON, AMY, SHELDON, SHELDON]  BBT     True  \n",
      "18746    True\n",
      "Name: sarcasm, dtype: bool\n"
     ]
    },
    {
     "name": "stderr",
     "output_type": "stream",
     "text": [
      "\r"
     ]
    },
    {
     "name": "stdout",
     "output_type": "stream",
     "text": [
      "MoviePy - Writing audio in ./audio_extracted_yes/18746.mp3\n"
     ]
    },
    {
     "name": "stderr",
     "output_type": "stream",
     "text": [
      "                                                                  "
     ]
    },
    {
     "name": "stdout",
     "output_type": "stream",
     "text": [
      "MoviePy - Done.\n",
      "                                              utterance speaker   \n",
      "2250  Oh, you say someone's name enough, they turn a...  PHOEBE  \\\n",
      "\n",
      "                                                context   \n",
      "2250  [David who?, David the scientist guy, David th...  \\\n",
      "\n",
      "                context_speakers     show  sarcasm  \n",
      "2250  [MONICA, PHOEBE, CHANDLER]  FRIENDS     True  \n",
      "2250    True\n",
      "Name: sarcasm, dtype: bool\n"
     ]
    },
    {
     "name": "stderr",
     "output_type": "stream",
     "text": [
      "\r"
     ]
    },
    {
     "name": "stdout",
     "output_type": "stream",
     "text": [
      "MoviePy - Writing audio in ./audio_extracted_yes/2250.mp3\n"
     ]
    },
    {
     "name": "stderr",
     "output_type": "stream",
     "text": [
      "                                                       "
     ]
    },
    {
     "name": "stdout",
     "output_type": "stream",
     "text": [
      "MoviePy - Done.\n",
      "         utterance   speaker   \n",
      "2536  What a baby.  CHANDLER  \\\n",
      "\n",
      "                                                context   \n",
      "2536  [I mean, you two are-are my… I mean, I'm lucky...  \\\n",
      "\n",
      "            context_speakers     show  sarcasm  \n",
      "2536  [ROSS, CHANDLER, JOEY]  FRIENDS    False  \n",
      "2536    False\n",
      "Name: sarcasm, dtype: bool\n"
     ]
    },
    {
     "name": "stderr",
     "output_type": "stream",
     "text": [
      "\r"
     ]
    },
    {
     "name": "stdout",
     "output_type": "stream",
     "text": [
      "MoviePy - Writing audio in ./audio_extracted_no/2536.mp3\n"
     ]
    },
    {
     "name": "stderr",
     "output_type": "stream",
     "text": [
      "                                                       "
     ]
    },
    {
     "name": "stdout",
     "output_type": "stream",
     "text": [
      "MoviePy - Done.\n",
      "                               utterance   speaker   \n",
      "238  It's not a real game! I made it up!  CHANDLER  \\\n",
      "\n",
      "                                               context   \n",
      "238  [And now you want that money back., Exactly., ...  \\\n",
      "\n",
      "           context_speakers     show  sarcasm  \n",
      "238  [ROSS, CHANDLER, ROSS]  FRIENDS    False  \n",
      "238    False\n",
      "Name: sarcasm, dtype: bool\n"
     ]
    },
    {
     "name": "stderr",
     "output_type": "stream",
     "text": [
      "\r"
     ]
    },
    {
     "name": "stdout",
     "output_type": "stream",
     "text": [
      "MoviePy - Writing audio in ./audio_extracted_no/238.mp3\n"
     ]
    },
    {
     "name": "stderr",
     "output_type": "stream",
     "text": [
      "                                                       "
     ]
    },
    {
     "name": "stdout",
     "output_type": "stream",
     "text": [
      "MoviePy - Done.\n",
      "                                               utterance  speaker   \n",
      "11560  How nice. Maybe they can carpool when they vis...  SHELDON  \\\n",
      "\n",
      "                                                 context   \n",
      "11560  [So my friend Leonard is gonna take you home.,...  \\\n",
      "\n",
      "                                        context_speakers show  sarcasm  \n",
      "11560  [HOWARD, PERSON, HOWARD, PERSON, LEONARD, HOWARD]  BBT     True  \n",
      "11560    True\n",
      "Name: sarcasm, dtype: bool\n"
     ]
    },
    {
     "name": "stderr",
     "output_type": "stream",
     "text": [
      "\r"
     ]
    },
    {
     "name": "stdout",
     "output_type": "stream",
     "text": [
      "MoviePy - Writing audio in ./audio_extracted_yes/11560.mp3\n"
     ]
    },
    {
     "name": "stderr",
     "output_type": "stream",
     "text": [
      "                                                                 "
     ]
    },
    {
     "name": "stdout",
     "output_type": "stream",
     "text": [
      "MoviePy - Done.\n",
      "                                               utterance  speaker   \n",
      "15699  Congratulations and welcome temporarily aboard...  SHELDON  \\\n",
      "\n",
      "                                                 context   \n",
      "15699  [And a living will and durable power of attorn...  \\\n",
      "\n",
      "                                 context_speakers show  sarcasm  \n",
      "15699  [SHELDON, RAJ, SHELDON, RAJ, LEONARD, RAJ]  BBT     True  \n",
      "15699    True\n",
      "Name: sarcasm, dtype: bool\n"
     ]
    },
    {
     "name": "stderr",
     "output_type": "stream",
     "text": [
      "\r"
     ]
    },
    {
     "name": "stdout",
     "output_type": "stream",
     "text": [
      "MoviePy - Writing audio in ./audio_extracted_yes/15699.mp3\n"
     ]
    },
    {
     "name": "stderr",
     "output_type": "stream",
     "text": [
      "                                                                    \r"
     ]
    },
    {
     "name": "stdout",
     "output_type": "stream",
     "text": [
      "MoviePy - Done.\n",
      "                                               utterance speaker   \n",
      "14544  Yes. In fact, our menses are synchronized. Pen...     AMY  \\\n",
      "\n",
      "                                                 context   \n",
      "14544  [Besides, Penny and I are having a girls' nigh...  \\\n",
      "\n",
      "                                        context_speakers show  sarcasm  \n",
      "14544  [BERNADETTE, AMY, BERNADETTE, AMY, BERNADETTE,...  BBT    False  \n",
      "14544    False\n",
      "Name: sarcasm, dtype: bool\n",
      "MoviePy - Writing audio in ./audio_extracted_no/14544.mp3\n"
     ]
    },
    {
     "name": "stderr",
     "output_type": "stream",
     "text": [
      "                                                                    \r"
     ]
    },
    {
     "name": "stdout",
     "output_type": "stream",
     "text": [
      "MoviePy - Done.\n",
      "                                              utterance  speaker   \n",
      "2126  No I am upset because Joe Piscapo didn't get t...  DOROTHY  \\\n",
      "\n",
      "                                                context context_speakers   \n",
      "2126  [No rose., Are you upset because Blanche is go...  [DOROTHY, ROSE]  \\\n",
      "\n",
      "             show  sarcasm  \n",
      "2126  GOLDENGIRLS     True  \n",
      "2126    True\n",
      "Name: sarcasm, dtype: bool\n",
      "MoviePy - Writing audio in ./audio_extracted_yes/2126.mp3\n"
     ]
    },
    {
     "name": "stderr",
     "output_type": "stream",
     "text": [
      "                                                                  "
     ]
    },
    {
     "name": "stdout",
     "output_type": "stream",
     "text": [
      "MoviePy - Done.\n",
      "                                               utterance speaker   \n",
      "14949  Certainly. I'd like to raise two points. Numbe...     RAJ  \\\n",
      "\n",
      "                                                 context   \n",
      "14949  [Who could get <i>all</i> the giant missiles s...  \\\n",
      "\n",
      "                 context_speakers show  sarcasm  \n",
      "14949  [BERNADETTE, AMY, SHELDON]  BBT    False  \n",
      "14949    False\n",
      "Name: sarcasm, dtype: bool\n"
     ]
    },
    {
     "name": "stderr",
     "output_type": "stream",
     "text": [
      "\r"
     ]
    },
    {
     "name": "stdout",
     "output_type": "stream",
     "text": [
      "MoviePy - Writing audio in ./audio_extracted_no/14949.mp3\n"
     ]
    },
    {
     "name": "stderr",
     "output_type": "stream",
     "text": [
      "                                                                    \r"
     ]
    },
    {
     "name": "stdout",
     "output_type": "stream",
     "text": [
      "MoviePy - Done.\n",
      "                                  utterance speaker   \n",
      "2495  Okay, you guys, just relax.  I doooo.  RACHEL  \\\n",
      "\n",
      "                                                context   \n",
      "2495  [No, yeah! The groom cannot see the bride!, I'...  \\\n",
      "\n",
      "              context_speakers     show  sarcasm  \n",
      "2495  [PHOEBE, RACHEL, PHOEBE]  FRIENDS    False  \n",
      "2495    False\n",
      "Name: sarcasm, dtype: bool\n",
      "MoviePy - Writing audio in ./audio_extracted_no/2495.mp3\n"
     ]
    },
    {
     "name": "stderr",
     "output_type": "stream",
     "text": [
      "                                                                    \r"
     ]
    },
    {
     "name": "stdout",
     "output_type": "stream",
     "text": [
      "MoviePy - Done.\n",
      "                                            utterance  speaker   \n",
      "112002  Then buckle up; you're in for a cranky night.  SHELDON  \\\n",
      "\n",
      "                                                  context   \n",
      "112002  [It's not like I was invited to Richard Feynma...  \\\n",
      "\n",
      "                             context_speakers show  sarcasm  \n",
      "112002  [SHELDON, AMY, SHELDON, SHELDON, AMY]  BBT    False  \n",
      "112002    False\n",
      "Name: sarcasm, dtype: bool\n",
      "MoviePy - Writing audio in ./audio_extracted_no/112002.mp3\n"
     ]
    },
    {
     "name": "stderr",
     "output_type": "stream",
     "text": [
      "                                                       "
     ]
    },
    {
     "name": "stdout",
     "output_type": "stream",
     "text": [
      "MoviePy - Done.\n",
      "       utterance speaker                                            context   \n",
      "2481  All right.    ROSS  [Okay. Let's use this brush., Okay. This stuff...  \\\n",
      "\n",
      "            context_speakers     show  sarcasm  \n",
      "2481  [RACHEL, ROSS, RACHEL]  FRIENDS    False  \n",
      "2481    False\n",
      "Name: sarcasm, dtype: bool\n"
     ]
    },
    {
     "name": "stderr",
     "output_type": "stream",
     "text": [
      "\r"
     ]
    },
    {
     "name": "stdout",
     "output_type": "stream",
     "text": [
      "MoviePy - Writing audio in ./audio_extracted_no/2481.mp3\n"
     ]
    },
    {
     "name": "stderr",
     "output_type": "stream",
     "text": [
      "                                                       "
     ]
    },
    {
     "name": "stdout",
     "output_type": "stream",
     "text": [
      "MoviePy - Done.\n",
      "                  utterance speaker   \n",
      "2318  Was it not pain-free?  PHOEBE  \\\n",
      "\n",
      "                                                context   \n",
      "2318  [Did that!, Grasp one of the linen strips by i...  \\\n",
      "\n",
      "              context_speakers     show  sarcasm  \n",
      "2318  [MONICA, PHOEBE, MONICA]  FRIENDS     True  \n",
      "2318    True\n",
      "Name: sarcasm, dtype: bool\n"
     ]
    },
    {
     "name": "stderr",
     "output_type": "stream",
     "text": [
      "\r"
     ]
    },
    {
     "name": "stdout",
     "output_type": "stream",
     "text": [
      "MoviePy - Writing audio in ./audio_extracted_yes/2318.mp3\n"
     ]
    },
    {
     "name": "stderr",
     "output_type": "stream",
     "text": [
      "                                                       "
     ]
    },
    {
     "name": "stdout",
     "output_type": "stream",
     "text": [
      "MoviePy - Done.\n",
      "                                       utterance   speaker   \n",
      "2456  And you are gonna make them all disappear.  CHANDLER  \\\n",
      "\n",
      "                                                context   \n",
      "2456  [This would be the place where you explain the...  \\\n",
      "\n",
      "              context_speakers     show  sarcasm  \n",
      "2456  [ROSS, JOEY, ROSS, JOEY]  FRIENDS     True  \n",
      "2456    True\n",
      "Name: sarcasm, dtype: bool\n"
     ]
    },
    {
     "name": "stderr",
     "output_type": "stream",
     "text": [
      "\r"
     ]
    },
    {
     "name": "stdout",
     "output_type": "stream",
     "text": [
      "MoviePy - Writing audio in ./audio_extracted_yes/2456.mp3\n"
     ]
    },
    {
     "name": "stderr",
     "output_type": "stream",
     "text": [
      "                                                       "
     ]
    },
    {
     "name": "stdout",
     "output_type": "stream",
     "text": [
      "MoviePy - Done.\n",
      "                                   utterance  speaker   \n",
      "2442  No itÕs the rose in the kitchen thing.  DOROTHY  \\\n",
      "\n",
      "                                                context context_speakers   \n",
      "2442  [She is miserable., Just to keep me upto speed...  [DOROTHY, ROSE]  \\\n",
      "\n",
      "             show  sarcasm  \n",
      "2442  GOLDENGIRLS     True  \n",
      "2442    True\n",
      "Name: sarcasm, dtype: bool\n"
     ]
    },
    {
     "name": "stderr",
     "output_type": "stream",
     "text": [
      "\r"
     ]
    },
    {
     "name": "stdout",
     "output_type": "stream",
     "text": [
      "MoviePy - Writing audio in ./audio_extracted_yes/2442.mp3\n"
     ]
    },
    {
     "name": "stderr",
     "output_type": "stream",
     "text": [
      "                                                       "
     ]
    },
    {
     "name": "stdout",
     "output_type": "stream",
     "text": [
      "MoviePy - Done.\n",
      "                                              utterance speaker   \n",
      "2454  Ross umm, there's something that I've got to t...  PERSON  \\\n",
      "\n",
      "                                                context context_speakers   \n",
      "2454  [It was dreadful. I felt terrible about how I ...   [PERSON, ROSS]  \\\n",
      "\n",
      "         show  sarcasm  \n",
      "2454  FRIENDS    False  \n",
      "2454    False\n",
      "Name: sarcasm, dtype: bool\n"
     ]
    },
    {
     "name": "stderr",
     "output_type": "stream",
     "text": [
      "\r"
     ]
    },
    {
     "name": "stdout",
     "output_type": "stream",
     "text": [
      "MoviePy - Writing audio in ./audio_extracted_no/2454.mp3\n"
     ]
    },
    {
     "name": "stderr",
     "output_type": "stream",
     "text": [
      "                                                                   "
     ]
    },
    {
     "name": "stdout",
     "output_type": "stream",
     "text": [
      "MoviePy - Done.\n",
      "                                              utterance speaker   \n",
      "2440  No its not big, not at all. Kind of the same l...  MONICA  \\\n",
      "\n",
      "                                                context    context_speakers   \n",
      "2440  [You are dead meat, I didn't know it was a big...  [MONICA, CHANDLER]  \\\n",
      "\n",
      "         show  sarcasm  \n",
      "2440  FRIENDS     True  \n",
      "2440    True\n",
      "Name: sarcasm, dtype: bool\n"
     ]
    },
    {
     "name": "stderr",
     "output_type": "stream",
     "text": [
      "\r"
     ]
    },
    {
     "name": "stdout",
     "output_type": "stream",
     "text": [
      "MoviePy - Writing audio in ./audio_extracted_yes/2440.mp3\n"
     ]
    },
    {
     "name": "stderr",
     "output_type": "stream",
     "text": [
      "                                                        \r"
     ]
    },
    {
     "name": "stdout",
     "output_type": "stream",
     "text": [
      "MoviePy - Done.\n",
      "               utterance speaker   \n",
      "2326  Stick to the list.    ROSS  \\\n",
      "\n",
      "                                                context   \n",
      "2326  [Ahh!, It wasn't on your list, but hopefully y...  \\\n",
      "\n",
      "              context_speakers     show  sarcasm  \n",
      "2326  [RACHEL, PERSON, RACHEL]  FRIENDS    False  \n",
      "2326    False\n",
      "Name: sarcasm, dtype: bool\n",
      "MoviePy - Writing audio in ./audio_extracted_no/2326.mp3\n"
     ]
    },
    {
     "name": "stderr",
     "output_type": "stream",
     "text": [
      "                                                       "
     ]
    },
    {
     "name": "stdout",
     "output_type": "stream",
     "text": [
      "MoviePy - Done.\n",
      "                                                utterance  speaker   \n",
      "111253  So as they say, all good things must come to a...  SHELDON  \\\n",
      "\n",
      "                                                  context   \n",
      "111253  [Who will stand between us and flag ignorance\"...  \\\n",
      "\n",
      "                    context_speakers show  sarcasm  \n",
      "111253  [SHELDON, AMY, SHELDON, AMY]  BBT    False  \n",
      "111253    False\n",
      "Name: sarcasm, dtype: bool\n"
     ]
    },
    {
     "name": "stderr",
     "output_type": "stream",
     "text": [
      "\r"
     ]
    },
    {
     "name": "stdout",
     "output_type": "stream",
     "text": [
      "MoviePy - Writing audio in ./audio_extracted_no/111253.mp3\n"
     ]
    },
    {
     "name": "stderr",
     "output_type": "stream",
     "text": [
      "                                                                   "
     ]
    },
    {
     "name": "stdout",
     "output_type": "stream",
     "text": [
      "MoviePy - Done.\n",
      "                                               utterance speaker   \n",
      "13573  Well, I always figured it was to study us, dis...   PENNY  \\\n",
      "\n",
      "                                                 context   \n",
      "13573  [Hello., Hello, Alright dispense with the frie...  \\\n",
      "\n",
      "                         context_speakers show  sarcasm  \n",
      "13573  [SHELDON, PENNY, SHELDON, SHELDON]  BBT     True  \n",
      "13573    True\n",
      "Name: sarcasm, dtype: bool\n"
     ]
    },
    {
     "name": "stderr",
     "output_type": "stream",
     "text": [
      "\r"
     ]
    },
    {
     "name": "stdout",
     "output_type": "stream",
     "text": [
      "MoviePy - Writing audio in ./audio_extracted_yes/13573.mp3\n"
     ]
    },
    {
     "name": "stderr",
     "output_type": "stream",
     "text": [
      "                                                                   "
     ]
    },
    {
     "name": "stdout",
     "output_type": "stream",
     "text": [
      "MoviePy - Done.\n",
      "                                              utterance   speaker   \n",
      "2124  I am so confused as to what we have been doing...  CHANDLER  \\\n",
      "\n",
      "                                                context   \n",
      "2124  [Thirty seconds all the questions we can answe...  \\\n",
      "\n",
      "                      context_speakers     show  sarcasm  \n",
      "2124  [ROSS, MONICA, CHANDLER, MONICA]  FRIENDS     True  \n",
      "2124    True\n",
      "Name: sarcasm, dtype: bool\n"
     ]
    },
    {
     "name": "stderr",
     "output_type": "stream",
     "text": [
      "\r"
     ]
    },
    {
     "name": "stdout",
     "output_type": "stream",
     "text": [
      "MoviePy - Writing audio in ./audio_extracted_yes/2124.mp3\n"
     ]
    },
    {
     "name": "stderr",
     "output_type": "stream",
     "text": [
      "                                                                    "
     ]
    },
    {
     "name": "stdout",
     "output_type": "stream",
     "text": [
      "MoviePy - Done.\n",
      "                                              utterance speaker   \n",
      "1971  - Now?! - No, after my tongue has swollen to t...  HOWARD  \\\n",
      "\n",
      "                                                context   \n",
      "1971  [Take that!, What's the matter?, This granola ...  \\\n",
      "\n",
      "                                       context_speakers show  sarcasm  \n",
      "1971  [LEONARD, LEONARD, HOWARD, LEONARD, HOWARD, LE...  BBT     True  \n",
      "1971    True\n",
      "Name: sarcasm, dtype: bool\n"
     ]
    },
    {
     "name": "stderr",
     "output_type": "stream",
     "text": [
      "\r"
     ]
    },
    {
     "name": "stdout",
     "output_type": "stream",
     "text": [
      "MoviePy - Writing audio in ./audio_extracted_yes/1971.mp3\n"
     ]
    },
    {
     "name": "stderr",
     "output_type": "stream",
     "text": [
      "                                                                  "
     ]
    },
    {
     "name": "stdout",
     "output_type": "stream",
     "text": [
      "MoviePy - Done.\n",
      "                                               utterance speaker   \n",
      "15880  When you're done copping a feel, that goes on ...     AMY  \\\n",
      "\n",
      "                                                 context   \n",
      "15880  [Oh, sweetie, guests don't normally wear corsa...  \\\n",
      "\n",
      "                   context_speakers show  sarcasm  \n",
      "15880  [PENNY, AMY, PENNY, LEONARD]  BBT     True  \n",
      "15880    True\n",
      "Name: sarcasm, dtype: bool\n"
     ]
    },
    {
     "name": "stderr",
     "output_type": "stream",
     "text": [
      "\r"
     ]
    },
    {
     "name": "stdout",
     "output_type": "stream",
     "text": [
      "MoviePy - Writing audio in ./audio_extracted_yes/15880.mp3\n"
     ]
    },
    {
     "name": "stderr",
     "output_type": "stream",
     "text": [
      "                                                       "
     ]
    },
    {
     "name": "stdout",
     "output_type": "stream",
     "text": [
      "MoviePy - Done.\n",
      "                    utterance speaker   \n",
      "2118  Seriously, it's moving!  RACHEL  \\\n",
      "\n",
      "                                                context   \n",
      "2118  [Hey you guys I'm gonna go out and take a walk...  \\\n",
      "\n",
      "            context_speakers     show  sarcasm  \n",
      "2118  [PHOEBE, ROSS, PHOEBE]  FRIENDS    False  \n",
      "2118    False\n",
      "Name: sarcasm, dtype: bool\n"
     ]
    },
    {
     "name": "stderr",
     "output_type": "stream",
     "text": [
      "\r"
     ]
    },
    {
     "name": "stdout",
     "output_type": "stream",
     "text": [
      "MoviePy - Writing audio in ./audio_extracted_no/2118.mp3\n"
     ]
    },
    {
     "name": "stderr",
     "output_type": "stream",
     "text": [
      "                                                       "
     ]
    },
    {
     "name": "stdout",
     "output_type": "stream",
     "text": [
      "MoviePy - Done.\n",
      "                                               utterance speaker   \n",
      "14552  ...so anyway, to make a long story short, turn...     AMY  \\\n",
      "\n",
      "                                                 context   \n",
      "14552  [And here's where we are. The runts in a large...  \\\n",
      "\n",
      "                      context_speakers show  sarcasm  \n",
      "14552  [SHELDON, LEONARD, RAJ, HOWARD]  BBT    False  \n",
      "14552    False\n",
      "Name: sarcasm, dtype: bool\n"
     ]
    },
    {
     "name": "stderr",
     "output_type": "stream",
     "text": [
      "\r"
     ]
    },
    {
     "name": "stdout",
     "output_type": "stream",
     "text": [
      "MoviePy - Writing audio in ./audio_extracted_no/14552.mp3\n"
     ]
    },
    {
     "name": "stderr",
     "output_type": "stream",
     "text": [
      "                                                                  "
     ]
    },
    {
     "name": "stdout",
     "output_type": "stream",
     "text": [
      "MoviePy - Done.\n",
      "                                                utterance  speaker   \n",
      "112202  No need to. As soon as she flies into Californ...  LEONARD  \\\n",
      "\n",
      "                                                  context   \n",
      "112202  [Leonard, what time does your mom's plane get ...  \\\n",
      "\n",
      "               context_speakers show  sarcasm  \n",
      "112202  [PENNY, LEONARD, PENNY]  BBT     True  \n",
      "112202    True\n",
      "Name: sarcasm, dtype: bool\n"
     ]
    },
    {
     "name": "stderr",
     "output_type": "stream",
     "text": [
      "\r"
     ]
    },
    {
     "name": "stdout",
     "output_type": "stream",
     "text": [
      "MoviePy - Writing audio in ./audio_extracted_yes/112202.mp3\n"
     ]
    },
    {
     "name": "stderr",
     "output_type": "stream",
     "text": [
      "                                                                    "
     ]
    },
    {
     "name": "stdout",
     "output_type": "stream",
     "text": [
      "MoviePy - Done.\n",
      "                                                utterance speaker   \n",
      "111051  Well, he said it was a tribble. It could be a ...  PERSON  \\\n",
      "\n",
      "                                                  context   \n",
      "111051  [Ooh.\\nHe was so happy after he passed it, he ...  \\\n",
      "\n",
      "                          context_speakers show  sarcasm  \n",
      "111051  [PERSON, LEONARD, PERSON, SHELDON]  BBT    False  \n",
      "111051    False\n",
      "Name: sarcasm, dtype: bool\n"
     ]
    },
    {
     "name": "stderr",
     "output_type": "stream",
     "text": [
      "\r"
     ]
    },
    {
     "name": "stdout",
     "output_type": "stream",
     "text": [
      "MoviePy - Writing audio in ./audio_extracted_no/111051.mp3\n"
     ]
    },
    {
     "name": "stderr",
     "output_type": "stream",
     "text": [
      "                                                                  "
     ]
    },
    {
     "name": "stdout",
     "output_type": "stream",
     "text": [
      "MoviePy - Done.\n",
      "                                                utterance speaker   \n",
      "111723  Not much, but he seemed to be in a pretty good...     RAJ  \\\n",
      "\n",
      "                                                  context   \n",
      "111723  [Oh... then I choose a janitor.\\n'Cause I'm ab...  \\\n",
      "\n",
      "                                   context_speakers show  sarcasm  \n",
      "111723  [AMY, LEONARD, RAJ, AMY, LEONARD, RAJ, AMY]  BBT    False  \n",
      "111723    False\n",
      "Name: sarcasm, dtype: bool\n"
     ]
    },
    {
     "name": "stderr",
     "output_type": "stream",
     "text": [
      "\r"
     ]
    },
    {
     "name": "stdout",
     "output_type": "stream",
     "text": [
      "MoviePy - Writing audio in ./audio_extracted_no/111723.mp3\n"
     ]
    },
    {
     "name": "stderr",
     "output_type": "stream",
     "text": [
      "                                                       "
     ]
    },
    {
     "name": "stdout",
     "output_type": "stream",
     "text": [
      "MoviePy - Done.\n",
      "                                               utterance  speaker   \n",
      "17661  Yeah, that was five weeks ago. How much longer...  SHELDON  \\\n",
      "\n",
      "                                                 context   \n",
      "17661  [There it is again.\\nDo you kiss your mother w...  \\\n",
      "\n",
      "                           context_speakers show  sarcasm  \n",
      "17661  [SHELDON, SHELDON, SHELDON, LEONARD]  BBT    False  \n",
      "17661    False\n",
      "Name: sarcasm, dtype: bool\n"
     ]
    },
    {
     "name": "stderr",
     "output_type": "stream",
     "text": [
      "\r"
     ]
    },
    {
     "name": "stdout",
     "output_type": "stream",
     "text": [
      "MoviePy - Writing audio in ./audio_extracted_no/17661.mp3\n"
     ]
    },
    {
     "name": "stderr",
     "output_type": "stream",
     "text": [
      "                                                       "
     ]
    },
    {
     "name": "stdout",
     "output_type": "stream",
     "text": [
      "MoviePy - Done.\n",
      "                                               utterance speaker   \n",
      "17675  Anyway, to this day, I still can't see a box o...   PENNY  \\\n",
      "\n",
      "                                                 context   context_speakers   \n",
      "17675  [Damn., Well, at least when we do make love, S...  [PENNY, AMY, AMY]  \\\n",
      "\n",
      "      show  sarcasm  \n",
      "17675  BBT    False  \n",
      "17675    False\n",
      "Name: sarcasm, dtype: bool\n"
     ]
    },
    {
     "name": "stderr",
     "output_type": "stream",
     "text": [
      "\r"
     ]
    },
    {
     "name": "stdout",
     "output_type": "stream",
     "text": [
      "MoviePy - Writing audio in ./audio_extracted_no/17675.mp3\n"
     ]
    },
    {
     "name": "stderr",
     "output_type": "stream",
     "text": [
      "                                                                  "
     ]
    },
    {
     "name": "stdout",
     "output_type": "stream",
     "text": [
      "MoviePy - Done.\n",
      "                              utterance speaker   \n",
      "212  I studied for a year in Barcelona.  PERSON  \\\n",
      "\n",
      "                                               context      context_speakers   \n",
      "212  [It's from France .. In Europe .. Western Euro...  [ROSS, PERSON, ROSS]  \\\n",
      "\n",
      "        show  sarcasm  \n",
      "212  FRIENDS    False  \n",
      "212    False\n",
      "Name: sarcasm, dtype: bool\n"
     ]
    },
    {
     "name": "stderr",
     "output_type": "stream",
     "text": [
      "\r"
     ]
    },
    {
     "name": "stdout",
     "output_type": "stream",
     "text": [
      "MoviePy - Writing audio in ./audio_extracted_no/212.mp3\n"
     ]
    },
    {
     "name": "stderr",
     "output_type": "stream",
     "text": [
      "                                                                 "
     ]
    },
    {
     "name": "stdout",
     "output_type": "stream",
     "text": [
      "MoviePy - Done.\n",
      "                                              utterance   speaker   \n",
      "2246  Well, it will probably slow me down at first. ...  CHANDLER  \\\n",
      "\n",
      "                                                context   \n",
      "2246  [Oh no no, that's the beauty of it, it goes wi...  \\\n",
      "\n",
      "                            context_speakers     show  sarcasm  \n",
      "2246  [JOEY, CHANDLER, JOEY, CHANDLER, JOEY]  FRIENDS     True  \n",
      "2246    True\n",
      "Name: sarcasm, dtype: bool\n"
     ]
    },
    {
     "name": "stderr",
     "output_type": "stream",
     "text": [
      "\r"
     ]
    },
    {
     "name": "stdout",
     "output_type": "stream",
     "text": [
      "MoviePy - Writing audio in ./audio_extracted_yes/2246.mp3\n"
     ]
    },
    {
     "name": "stderr",
     "output_type": "stream",
     "text": [
      "                                                                    "
     ]
    },
    {
     "name": "stdout",
     "output_type": "stream",
     "text": [
      "MoviePy - Done.\n",
      "                                               utterance speaker   \n",
      "13177  Not a great movie, but look at that beautiful ...     RAJ  \\\n",
      "\n",
      "                                                 context   \n",
      "13177  [We did it. We have the west coast feed of hbo...  \\\n",
      "\n",
      "                       context_speakers show  sarcasm  \n",
      "13177  [RAJ, HOWARD, RAJ, LEONARD, RAJ]  BBT    False  \n",
      "13177    False\n",
      "Name: sarcasm, dtype: bool\n"
     ]
    },
    {
     "name": "stderr",
     "output_type": "stream",
     "text": [
      "\r"
     ]
    },
    {
     "name": "stdout",
     "output_type": "stream",
     "text": [
      "MoviePy - Writing audio in ./audio_extracted_no/13177.mp3\n"
     ]
    },
    {
     "name": "stderr",
     "output_type": "stream",
     "text": [
      "                                                                  "
     ]
    },
    {
     "name": "stdout",
     "output_type": "stream",
     "text": [
      "MoviePy - Done.\n",
      "         utterance speaker                                            context   \n",
      "2534  Oh, come on!  PHOEBE  [When did I say you were boring?!, Oh my God, ...  \\\n",
      "\n",
      "          context_speakers     show  sarcasm  \n",
      "2534  [ROSS, PHOEBE, ROSS]  FRIENDS    False  \n",
      "2534    False\n",
      "Name: sarcasm, dtype: bool\n"
     ]
    },
    {
     "name": "stderr",
     "output_type": "stream",
     "text": [
      "\r"
     ]
    },
    {
     "name": "stdout",
     "output_type": "stream",
     "text": [
      "MoviePy - Writing audio in ./audio_extracted_no/2534.mp3\n"
     ]
    },
    {
     "name": "stderr",
     "output_type": "stream",
     "text": [
      "                                                       "
     ]
    },
    {
     "name": "stdout",
     "output_type": "stream",
     "text": [
      "MoviePy - Done.\n",
      "                                               utterance speaker   \n",
      "16769  Hope your hands are steady. It's the width of ...     AMY  \\\n",
      "\n",
      "                                                 context   \n",
      "16769  [All right., I'm no stranger to a little gray ...  \\\n",
      "\n",
      "                                context_speakers show  sarcasm  \n",
      "16769  [SHELDON, SHELDON, SHELDON, SHELDON, AMY]  BBT     True  \n",
      "16769    True\n",
      "Name: sarcasm, dtype: bool\n"
     ]
    },
    {
     "name": "stderr",
     "output_type": "stream",
     "text": [
      "\r"
     ]
    },
    {
     "name": "stdout",
     "output_type": "stream",
     "text": [
      "MoviePy - Writing audio in ./audio_extracted_yes/16769.mp3\n"
     ]
    },
    {
     "name": "stderr",
     "output_type": "stream",
     "text": [
      "                                                                   "
     ]
    },
    {
     "name": "stdout",
     "output_type": "stream",
     "text": [
      "MoviePy - Done.\n",
      "                                             utterance  speaker   \n",
      "180  Since it's not bee season, you can have my epi...  SHELDON  \\\n",
      "\n",
      "                                               context   \n",
      "180  [Here we go. Pad thai, no peanuts., But does i...  \\\n",
      "\n",
      "               context_speakers show  sarcasm  \n",
      "180  [LEONARD, HOWARD, LEONARD]  BBT    False  \n",
      "180    False\n",
      "Name: sarcasm, dtype: bool\n"
     ]
    },
    {
     "name": "stderr",
     "output_type": "stream",
     "text": [
      "\r"
     ]
    },
    {
     "name": "stdout",
     "output_type": "stream",
     "text": [
      "MoviePy - Writing audio in ./audio_extracted_no/180.mp3\n"
     ]
    },
    {
     "name": "stderr",
     "output_type": "stream",
     "text": [
      "                                                       "
     ]
    },
    {
     "name": "stdout",
     "output_type": "stream",
     "text": [
      "MoviePy - Done.\n",
      "                                              utterance   speaker   \n",
      "2508  Yes, the doctor's say if they remove it, he wi...  CHANDLER  \\\n",
      "\n",
      "                                                context   \n",
      "2508  [This one's from Joey, feels like a book, thin...  \\\n",
      "\n",
      "                    context_speakers     show  sarcasm  \n",
      "2508  [RACHEL, PHOEBE, JOEY, PERSON]  FRIENDS     True  \n",
      "2508    True\n",
      "Name: sarcasm, dtype: bool\n"
     ]
    },
    {
     "name": "stderr",
     "output_type": "stream",
     "text": [
      "\r"
     ]
    },
    {
     "name": "stdout",
     "output_type": "stream",
     "text": [
      "MoviePy - Writing audio in ./audio_extracted_yes/2508.mp3\n"
     ]
    },
    {
     "name": "stderr",
     "output_type": "stream",
     "text": [
      "                                                                    "
     ]
    },
    {
     "name": "stdout",
     "output_type": "stream",
     "text": [
      "MoviePy - Done.\n",
      "                                          utterance speaker   \n",
      "2291  Umm, would you please excuse me for a moment?    ROSS  \\\n",
      "\n",
      "                                                context context_speakers   \n",
      "2291  [I need to talk to you, it's pretty urgent. It...   [PHOEBE, ROSS]  \\\n",
      "\n",
      "         show  sarcasm  \n",
      "2291  FRIENDS    False  \n",
      "2291    False\n",
      "Name: sarcasm, dtype: bool\n"
     ]
    },
    {
     "name": "stderr",
     "output_type": "stream",
     "text": [
      "\r"
     ]
    },
    {
     "name": "stdout",
     "output_type": "stream",
     "text": [
      "MoviePy - Writing audio in ./audio_extracted_no/2291.mp3\n"
     ]
    },
    {
     "name": "stderr",
     "output_type": "stream",
     "text": [
      "                                                       "
     ]
    },
    {
     "name": "stdout",
     "output_type": "stream",
     "text": [
      "MoviePy - Done.\n",
      "                                               utterance  speaker   \n",
      "13837  Excuse me, I'm thirsty, so I'm going to go to ...  SHELDON  \\\n",
      "\n",
      "                                                 context   \n",
      "13837  [Oh, there it is: now that you don't have a gi...  \\\n",
      "\n",
      "             context_speakers show  sarcasm  \n",
      "13837  [RAJ, LEONARD, HOWARD]  BBT    False  \n",
      "13837    False\n",
      "Name: sarcasm, dtype: bool\n"
     ]
    },
    {
     "name": "stderr",
     "output_type": "stream",
     "text": [
      "\r"
     ]
    },
    {
     "name": "stdout",
     "output_type": "stream",
     "text": [
      "MoviePy - Writing audio in ./audio_extracted_no/13837.mp3\n"
     ]
    },
    {
     "name": "stderr",
     "output_type": "stream",
     "text": [
      "                                                                    "
     ]
    },
    {
     "name": "stdout",
     "output_type": "stream",
     "text": [
      "MoviePy - Done.\n",
      "        utterance speaker                                            context   \n",
      "2284  What?  Why?  MONICA  [I do! Want a hint? huh? \"I do\"  \"I do\"., Ok, ...  \\\n",
      "\n",
      "                  context_speakers     show  sarcasm  \n",
      "2284  [CHANDLER, MONICA, CHANDLER]  FRIENDS    False  \n",
      "2284    False\n",
      "Name: sarcasm, dtype: bool\n"
     ]
    },
    {
     "name": "stderr",
     "output_type": "stream",
     "text": [
      "\r"
     ]
    },
    {
     "name": "stdout",
     "output_type": "stream",
     "text": [
      "MoviePy - Writing audio in ./audio_extracted_no/2284.mp3\n"
     ]
    },
    {
     "name": "stderr",
     "output_type": "stream",
     "text": [
      "                                                       "
     ]
    },
    {
     "name": "stdout",
     "output_type": "stream",
     "text": [
      "MoviePy - Done.\n",
      "                                                utterance  speaker   \n",
      "110004  And of those few months, how long have you bee...  SHELDON  \\\n",
      "\n",
      "                                                  context   \n",
      "110004  [Well, I'm sure that, uh, you...\\nhave a lot o...  \\\n",
      "\n",
      "                                  context_speakers show  sarcasm  \n",
      "110004  [PERSON, SHELDON, PERSON, SHELDON, PERSON]  BBT    False  \n",
      "110004    False\n",
      "Name: sarcasm, dtype: bool\n"
     ]
    },
    {
     "name": "stderr",
     "output_type": "stream",
     "text": [
      "\r"
     ]
    },
    {
     "name": "stdout",
     "output_type": "stream",
     "text": [
      "MoviePy - Writing audio in ./audio_extracted_no/110004.mp3\n"
     ]
    },
    {
     "name": "stderr",
     "output_type": "stream",
     "text": [
      "                                                                    "
     ]
    },
    {
     "name": "stdout",
     "output_type": "stream",
     "text": [
      "MoviePy - Done.\n",
      "                                           utterance  speaker   \n",
      "16032  You see betrayal in others, but not yourself.  SHELDON  \\\n",
      "\n",
      "                                                 context   \n",
      "16032  [What choice did I have? She went behind my ba...  \\\n",
      "\n",
      "                          context_speakers show  sarcasm  \n",
      "16032  [HOWARD, RAJ, RAJ, HOWARD, LEONARD]  BBT     True  \n",
      "16032    True\n",
      "Name: sarcasm, dtype: bool\n"
     ]
    },
    {
     "name": "stderr",
     "output_type": "stream",
     "text": [
      "\r"
     ]
    },
    {
     "name": "stdout",
     "output_type": "stream",
     "text": [
      "MoviePy - Writing audio in ./audio_extracted_yes/16032.mp3\n"
     ]
    },
    {
     "name": "stderr",
     "output_type": "stream",
     "text": [
      "                                                                    "
     ]
    },
    {
     "name": "stdout",
     "output_type": "stream",
     "text": [
      "MoviePy - Done.\n",
      "         utterance   speaker   \n",
      "2509  Crazy bitch!  CHANDLER  \\\n",
      "\n",
      "                                                context context_speakers   \n",
      "2509  [Well the tough thing is she really wants to h...           [JOEY]  \\\n",
      "\n",
      "         show  sarcasm  \n",
      "2509  FRIENDS     True  \n",
      "2509    True\n",
      "Name: sarcasm, dtype: bool\n"
     ]
    },
    {
     "name": "stderr",
     "output_type": "stream",
     "text": [
      "\r"
     ]
    },
    {
     "name": "stdout",
     "output_type": "stream",
     "text": [
      "MoviePy - Writing audio in ./audio_extracted_yes/2509.mp3\n"
     ]
    },
    {
     "name": "stderr",
     "output_type": "stream",
     "text": [
      "                                                       "
     ]
    },
    {
     "name": "stdout",
     "output_type": "stream",
     "text": [
      "MoviePy - Done.\n",
      "                                              utterance speaker   \n",
      "2535  So, I'm sorry I just don't think we should go ...    ROSS  \\\n",
      "\n",
      "                                                context   \n",
      "2535  [spring vacation., spring vacation., Oh good.,...  \\\n",
      "\n",
      "                  context_speakers     show  sarcasm  \n",
      "2535  [PERSON, ROSS, PERSON, ROSS]  FRIENDS    False  \n",
      "2535    False\n",
      "Name: sarcasm, dtype: bool\n"
     ]
    },
    {
     "name": "stderr",
     "output_type": "stream",
     "text": [
      "\r"
     ]
    },
    {
     "name": "stdout",
     "output_type": "stream",
     "text": [
      "MoviePy - Writing audio in ./audio_extracted_no/2535.mp3\n"
     ]
    },
    {
     "name": "stderr",
     "output_type": "stream",
     "text": [
      "                                                       "
     ]
    },
    {
     "name": "stdout",
     "output_type": "stream",
     "text": [
      "MoviePy - Done.\n",
      "     utterance speaker                                            context   \n",
      "2253     Yeah!  PHOEBE  [Oh. Thank you. Ohhh, thank you very much. Oh,...  \\\n",
      "\n",
      "              context_speakers     show  sarcasm  \n",
      "2253  [MONICA, PHOEBE, MONICA]  FRIENDS    False  \n",
      "2253    False\n",
      "Name: sarcasm, dtype: bool\n"
     ]
    },
    {
     "name": "stderr",
     "output_type": "stream",
     "text": [
      "\r"
     ]
    },
    {
     "name": "stdout",
     "output_type": "stream",
     "text": [
      "MoviePy - Writing audio in ./audio_extracted_no/2253.mp3\n"
     ]
    },
    {
     "name": "stderr",
     "output_type": "stream",
     "text": [
      "                                                       "
     ]
    },
    {
     "name": "stdout",
     "output_type": "stream",
     "text": [
      "MoviePy - Done.\n",
      "               utterance speaker   \n",
      "2247  Uh yes! Thank you.    ROSS  \\\n",
      "\n",
      "                                                context   \n",
      "2247  [We're not gonna do that., Well, if you like y...  \\\n",
      "\n",
      "                context_speakers     show  sarcasm  \n",
      "2247  [RACHEL, PERSON1, PERSON2]  FRIENDS     True  \n",
      "2247    True\n",
      "Name: sarcasm, dtype: bool\n"
     ]
    },
    {
     "name": "stderr",
     "output_type": "stream",
     "text": [
      "\r"
     ]
    },
    {
     "name": "stdout",
     "output_type": "stream",
     "text": [
      "MoviePy - Writing audio in ./audio_extracted_yes/2247.mp3\n"
     ]
    },
    {
     "name": "stderr",
     "output_type": "stream",
     "text": [
      "                                                       "
     ]
    },
    {
     "name": "stdout",
     "output_type": "stream",
     "text": [
      "MoviePy - Done.\n",
      "     utterance speaker                                            context   \n",
      "2521   Uh-huh!    JOEY  [I've had better., Okay! When?!, All right! Al...  \\\n",
      "\n",
      "        context_speakers     show  sarcasm  \n",
      "2521  [ROSS, JOEY, ROSS]  FRIENDS    False  \n",
      "2521    False\n",
      "Name: sarcasm, dtype: bool\n"
     ]
    },
    {
     "name": "stderr",
     "output_type": "stream",
     "text": [
      "\r"
     ]
    },
    {
     "name": "stdout",
     "output_type": "stream",
     "text": [
      "MoviePy - Writing audio in ./audio_extracted_no/2521.mp3\n"
     ]
    },
    {
     "name": "stderr",
     "output_type": "stream",
     "text": [
      "                                                       "
     ]
    },
    {
     "name": "stdout",
     "output_type": "stream",
     "text": [
      "MoviePy - Done.\n",
      "                   utterance speaker   \n",
      "213  All right, let's do it.  RACHEL  \\\n",
      "\n",
      "                                               context   \n",
      "213  [Rachel, I have not missed one question the wh...  \\\n",
      "\n",
      "             context_speakers     show  sarcasm  \n",
      "213  [MONICA, RACHEL, MONICA]  FRIENDS    False  \n",
      "213    False\n",
      "Name: sarcasm, dtype: bool\n"
     ]
    },
    {
     "name": "stderr",
     "output_type": "stream",
     "text": [
      "\r"
     ]
    },
    {
     "name": "stdout",
     "output_type": "stream",
     "text": [
      "MoviePy - Writing audio in ./audio_extracted_no/213.mp3\n"
     ]
    },
    {
     "name": "stderr",
     "output_type": "stream",
     "text": [
      "                                                       "
     ]
    },
    {
     "name": "stdout",
     "output_type": "stream",
     "text": [
      "MoviePy - Done.\n",
      "                                               utterance     speaker   \n",
      "13348  Raj, you should've seen Leonard's experiment. ...  BERNADETTE  \\\n",
      "\n",
      "                                                 context   \n",
      "13348  [Should I give him another chance?, It's up to...  \\\n",
      "\n",
      "                                 context_speakers show  sarcasm  \n",
      "13348  [BERNADETTE, LEONARD, BERNADETTE, LEONARD]  BBT    False  \n",
      "13348    False\n",
      "Name: sarcasm, dtype: bool\n"
     ]
    },
    {
     "name": "stderr",
     "output_type": "stream",
     "text": [
      "\r"
     ]
    },
    {
     "name": "stdout",
     "output_type": "stream",
     "text": [
      "MoviePy - Writing audio in ./audio_extracted_no/13348.mp3\n"
     ]
    },
    {
     "name": "stderr",
     "output_type": "stream",
     "text": [
      "                                                                  "
     ]
    },
    {
     "name": "stdout",
     "output_type": "stream",
     "text": [
      "MoviePy - Done.\n",
      "                                            utterance speaker   \n",
      "13599  Why don't you keep that stuff in the bathroom?  HOWARD  \\\n",
      "\n",
      "                                                 context   \n",
      "13599  [That's a great idea. I'm going to get him to ...  \\\n",
      "\n",
      "                           context_speakers show  sarcasm  \n",
      "13599  [RAJ, SHELDON, HOWARD, RAJ, SHELDON]  BBT    False  \n",
      "13599    False\n",
      "Name: sarcasm, dtype: bool\n"
     ]
    },
    {
     "name": "stderr",
     "output_type": "stream",
     "text": [
      "\r"
     ]
    },
    {
     "name": "stdout",
     "output_type": "stream",
     "text": [
      "MoviePy - Writing audio in ./audio_extracted_no/13599.mp3\n"
     ]
    },
    {
     "name": "stderr",
     "output_type": "stream",
     "text": [
      "                                                                    "
     ]
    },
    {
     "name": "stdout",
     "output_type": "stream",
     "text": [
      "MoviePy - Done.\n",
      "                                                utterance speaker   \n",
      "111736  I don't know, perhaps somebody took it off the...  PERSON  \\\n",
      "\n",
      "                                                  context   \n",
      "111736  [Mr. and Mrs. Wolowitz?, As far as I can tell,...  \\\n",
      "\n",
      "                    context_speakers show  sarcasm  \n",
      "111736  [PERSON, PERSON, BERNADETTE]  BBT    False  \n",
      "111736    False\n",
      "Name: sarcasm, dtype: bool\n"
     ]
    },
    {
     "name": "stderr",
     "output_type": "stream",
     "text": [
      "\r"
     ]
    },
    {
     "name": "stdout",
     "output_type": "stream",
     "text": [
      "MoviePy - Writing audio in ./audio_extracted_no/111736.mp3\n"
     ]
    },
    {
     "name": "stderr",
     "output_type": "stream",
     "text": [
      "                                                       "
     ]
    },
    {
     "name": "stdout",
     "output_type": "stream",
     "text": [
      "MoviePy - Done.\n",
      "                         utterance speaker   \n",
      "2119  Yeah. What-what should I do?    ROSS  \\\n",
      "\n",
      "                                                context context_speakers   \n",
      "2119  [I mean technically it's-it's not against the ...   [ROSS, MONICA]  \\\n",
      "\n",
      "         show  sarcasm  \n",
      "2119  FRIENDS    False  \n",
      "2119    False\n",
      "Name: sarcasm, dtype: bool\n"
     ]
    },
    {
     "name": "stderr",
     "output_type": "stream",
     "text": [
      "\r"
     ]
    },
    {
     "name": "stdout",
     "output_type": "stream",
     "text": [
      "MoviePy - Writing audio in ./audio_extracted_no/2119.mp3\n"
     ]
    },
    {
     "name": "stderr",
     "output_type": "stream",
     "text": [
      "                                                       "
     ]
    },
    {
     "name": "stdout",
     "output_type": "stream",
     "text": [
      "MoviePy - Done.\n",
      "                                              utterance speaker   \n",
      "2125  I mean if you hadn't initiated it I-I-I know I...    ROSS  \\\n",
      "\n",
      "                                                context context_speakers   \n",
      "2125  [Yeah. Listen about that, the whole uh, who ca...           [ROSS]  \\\n",
      "\n",
      "         show  sarcasm  \n",
      "2125  FRIENDS    False  \n",
      "2125    False\n",
      "Name: sarcasm, dtype: bool\n"
     ]
    },
    {
     "name": "stderr",
     "output_type": "stream",
     "text": [
      "\r"
     ]
    },
    {
     "name": "stdout",
     "output_type": "stream",
     "text": [
      "MoviePy - Writing audio in ./audio_extracted_no/2125.mp3\n"
     ]
    },
    {
     "name": "stderr",
     "output_type": "stream",
     "text": [
      "                                                       "
     ]
    },
    {
     "name": "stdout",
     "output_type": "stream",
     "text": [
      "MoviePy - Done.\n",
      "                                              utterance   speaker   \n",
      "2131  I really don't wanna sit with Allen Iverson ov...  CHANDLER  \\\n",
      "\n",
      "                                  context context_speakers     show  sarcasm  \n",
      "2131  [Wish I could switch with someone.]       [CHANDLER]  FRIENDS    False  \n",
      "2131    False\n",
      "Name: sarcasm, dtype: bool\n"
     ]
    },
    {
     "name": "stderr",
     "output_type": "stream",
     "text": [
      "\r"
     ]
    },
    {
     "name": "stdout",
     "output_type": "stream",
     "text": [
      "MoviePy - Writing audio in ./audio_extracted_no/2131.mp3\n"
     ]
    },
    {
     "name": "stderr",
     "output_type": "stream",
     "text": [
      "                                                        "
     ]
    },
    {
     "name": "stdout",
     "output_type": "stream",
     "text": [
      "MoviePy - Done.\n",
      "                                               utterance  speaker   \n",
      "14792  Obviously, we're no longer a Justice League. W...  SHELDON  \\\n",
      "\n",
      "                                                 context   \n",
      "14792  [I may have failed., Okay, I guess we just go ...  \\\n",
      "\n",
      "                     context_speakers show  sarcasm  \n",
      "14792  [SHELDON, HOWARD, PERSON, RAJ]  BBT    False  \n",
      "14792    False\n",
      "Name: sarcasm, dtype: bool\n"
     ]
    },
    {
     "name": "stderr",
     "output_type": "stream",
     "text": [
      "\r"
     ]
    },
    {
     "name": "stdout",
     "output_type": "stream",
     "text": [
      "MoviePy - Writing audio in ./audio_extracted_no/14792.mp3\n"
     ]
    },
    {
     "name": "stderr",
     "output_type": "stream",
     "text": [
      "                                                                    \r"
     ]
    },
    {
     "name": "stdout",
     "output_type": "stream",
     "text": [
      "MoviePy - Done.\n",
      "                                              utterance speaker   \n",
      "2482  Y'know you, you just stop being such a wuss an...  PHOEBE  \\\n",
      "\n",
      "                                                context context_speakers   \n",
      "2482  [No you can't. You don't want to be guys, you'...       [CHANDLER]  \\\n",
      "\n",
      "         show  sarcasm  \n",
      "2482  FRIENDS    False  \n",
      "2482    False\n",
      "Name: sarcasm, dtype: bool\n",
      "MoviePy - Writing audio in ./audio_extracted_no/2482.mp3\n"
     ]
    },
    {
     "name": "stderr",
     "output_type": "stream",
     "text": [
      "                                                                  "
     ]
    },
    {
     "name": "stdout",
     "output_type": "stream",
     "text": [
      "MoviePy - Done.\n",
      "                                              utterance speaker   \n",
      "2441  He's right, even if it's to say something comp...    ROSS  \\\n",
      "\n",
      "                                                context   \n",
      "2441  [Oh., Please, right now, no, every time I see ...  \\\n",
      "\n",
      "              context_speakers     show  sarcasm  \n",
      "2441  [ROSS, PHOEBE, CHANDLER]  FRIENDS    False  \n",
      "2441    False\n",
      "Name: sarcasm, dtype: bool\n"
     ]
    },
    {
     "name": "stderr",
     "output_type": "stream",
     "text": [
      "\r"
     ]
    },
    {
     "name": "stdout",
     "output_type": "stream",
     "text": [
      "MoviePy - Writing audio in ./audio_extracted_no/2441.mp3\n"
     ]
    },
    {
     "name": "stderr",
     "output_type": "stream",
     "text": [
      "                                                       "
     ]
    },
    {
     "name": "stdout",
     "output_type": "stream",
     "text": [
      "MoviePy - Done.\n",
      "                                              utterance  speaker   \n",
      "11666  Would it work if I just punched you in the face?  LEONARD  \\\n",
      "\n",
      "                                                 context   \n",
      "11666  [it will establish you as the \"alpha\" male., Y...  \\\n",
      "\n",
      "                           context_speakers show  sarcasm  \n",
      "11666  [SHELDON, SHELDON, SHELDON, LEONARD]  BBT    False  \n",
      "11666    False\n",
      "Name: sarcasm, dtype: bool\n"
     ]
    },
    {
     "name": "stderr",
     "output_type": "stream",
     "text": [
      "\r"
     ]
    },
    {
     "name": "stdout",
     "output_type": "stream",
     "text": [
      "MoviePy - Writing audio in ./audio_extracted_no/11666.mp3\n"
     ]
    },
    {
     "name": "stderr",
     "output_type": "stream",
     "text": [
      "                                                       "
     ]
    },
    {
     "name": "stdout",
     "output_type": "stream",
     "text": [
      "MoviePy - Done.\n",
      "                                              utterance speaker   \n",
      "2426  Are you kidding? I love that guy!  Morning's h...    JOEY  \\\n",
      "\n",
      "                                                context context_speakers   \n",
      "2426  [HEY!! Do you Oh come on! Morning's here!  Mor...         [PERSON]  \\\n",
      "\n",
      "         show  sarcasm  \n",
      "2426  FRIENDS    False  \n",
      "2426    False\n",
      "Name: sarcasm, dtype: bool\n"
     ]
    },
    {
     "name": "stderr",
     "output_type": "stream",
     "text": [
      "\r"
     ]
    },
    {
     "name": "stdout",
     "output_type": "stream",
     "text": [
      "MoviePy - Writing audio in ./audio_extracted_no/2426.mp3\n"
     ]
    },
    {
     "name": "stderr",
     "output_type": "stream",
     "text": [
      "                                                                   "
     ]
    },
    {
     "name": "stdout",
     "output_type": "stream",
     "text": [
      "MoviePy - Done.\n",
      "     utterance speaker                                            context   \n",
      "2340  Oh! Oop!  PHOEBE  [It's the big night! We wanted to wish you goo...  \\\n",
      "\n",
      "            context_speakers     show  sarcasm  \n",
      "2340  [JOEY, ROSS, CHANDLER]  FRIENDS    False  \n",
      "2340    False\n",
      "Name: sarcasm, dtype: bool\n"
     ]
    },
    {
     "name": "stderr",
     "output_type": "stream",
     "text": [
      "\r"
     ]
    },
    {
     "name": "stdout",
     "output_type": "stream",
     "text": [
      "MoviePy - Writing audio in ./audio_extracted_no/2340.mp3\n"
     ]
    },
    {
     "name": "stderr",
     "output_type": "stream",
     "text": [
      "                                                       "
     ]
    },
    {
     "name": "stdout",
     "output_type": "stream",
     "text": [
      "MoviePy - Done.\n",
      "               utterance speaker   \n",
      "2397  You still love me?    ROSS  \\\n",
      "\n",
      "                                                context   \n",
      "2397  [All right! Ross, do you think it's easy for m...  \\\n",
      "\n",
      "            context_speakers     show  sarcasm  \n",
      "2397  [RACHEL, ROSS, RACHEL]  FRIENDS    False  \n",
      "2397    False\n",
      "Name: sarcasm, dtype: bool\n"
     ]
    },
    {
     "name": "stderr",
     "output_type": "stream",
     "text": [
      "\r"
     ]
    },
    {
     "name": "stdout",
     "output_type": "stream",
     "text": [
      "MoviePy - Writing audio in ./audio_extracted_no/2397.mp3\n"
     ]
    },
    {
     "name": "stderr",
     "output_type": "stream",
     "text": [
      "                                                       "
     ]
    },
    {
     "name": "stdout",
     "output_type": "stream",
     "text": [
      "MoviePy - Done.\n",
      "                                               utterance  speaker   \n",
      "16860  I'm sorry, it's the bad boy attitude that come...  SHELDON  \\\n",
      "\n",
      "                                                 context   \n",
      "16860  [You know, Sheldon, I used to cut my brother's...  \\\n",
      "\n",
      "                         context_speakers show  sarcasm  \n",
      "16860  [PENNY, SHELDON, SHELDON, LEONARD]  BBT    False  \n",
      "16860    False\n",
      "Name: sarcasm, dtype: bool\n"
     ]
    },
    {
     "name": "stderr",
     "output_type": "stream",
     "text": [
      "\r"
     ]
    },
    {
     "name": "stdout",
     "output_type": "stream",
     "text": [
      "MoviePy - Writing audio in ./audio_extracted_no/16860.mp3\n"
     ]
    },
    {
     "name": "stderr",
     "output_type": "stream",
     "text": [
      "                                                       "
     ]
    },
    {
     "name": "stdout",
     "output_type": "stream",
     "text": [
      "MoviePy - Done.\n",
      "                                               utterance speaker   \n",
      "11470  I don't know. It just died. I'm getting a bunc...   PENNY  \\\n",
      "\n",
      "                                                 context  context_speakers   \n",
      "11470  [Hey, guys, I need to use your TV., What's wro...  [PENNY, SHELDON]  \\\n",
      "\n",
      "      show  sarcasm  \n",
      "11470  BBT    False  \n",
      "11470    False\n",
      "Name: sarcasm, dtype: bool\n"
     ]
    },
    {
     "name": "stderr",
     "output_type": "stream",
     "text": [
      "\r"
     ]
    },
    {
     "name": "stdout",
     "output_type": "stream",
     "text": [
      "MoviePy - Writing audio in ./audio_extracted_no/11470.mp3\n"
     ]
    },
    {
     "name": "stderr",
     "output_type": "stream",
     "text": [
      "                                                       "
     ]
    },
    {
     "name": "stdout",
     "output_type": "stream",
     "text": [
      "MoviePy - Done.\n",
      "        utterance speaker                                            context   \n",
      "2181  Yeah! Look!    JOEY  [Oh but look! That's gonna leave a stain!, Rac...  \\\n",
      "\n",
      "            context_speakers     show  sarcasm  \n",
      "2181  [RACHEL, JOEY, RACHEL]  FRIENDS    False  \n",
      "2181    False\n",
      "Name: sarcasm, dtype: bool\n"
     ]
    },
    {
     "name": "stderr",
     "output_type": "stream",
     "text": [
      "\r"
     ]
    },
    {
     "name": "stdout",
     "output_type": "stream",
     "text": [
      "MoviePy - Writing audio in ./audio_extracted_no/2181.mp3\n"
     ]
    },
    {
     "name": "stderr",
     "output_type": "stream",
     "text": [
      "                                                       "
     ]
    },
    {
     "name": "stdout",
     "output_type": "stream",
     "text": [
      "MoviePy - Done.\n",
      "                                               utterance  speaker   \n",
      "11262  You were very clear. As was everyone else at t...  SHELDON  \\\n",
      "\n",
      "                                                 context   \n",
      "11262  [Leonard, this is Tom., Hi, Tom. Sheldon?, Did...  \\\n",
      "\n",
      "                  context_speakers show  sarcasm  \n",
      "11262  [SHELDON, LEONARD, LEONARD]  BBT    False  \n",
      "11262    False\n",
      "Name: sarcasm, dtype: bool\n"
     ]
    },
    {
     "name": "stderr",
     "output_type": "stream",
     "text": [
      "\r"
     ]
    },
    {
     "name": "stdout",
     "output_type": "stream",
     "text": [
      "MoviePy - Writing audio in ./audio_extracted_no/11262.mp3\n"
     ]
    },
    {
     "name": "stderr",
     "output_type": "stream",
     "text": [
      "                                                       "
     ]
    },
    {
     "name": "stdout",
     "output_type": "stream",
     "text": [
      "MoviePy - Done.\n",
      "                                             utterance speaker   \n",
      "248  Thanks, but I kinda have a problem to deal wit...    JOEY  \\\n",
      "\n",
      "                                               context context_speakers   \n",
      "248  [I didn't know he could get me fired! What am ...   [JOEY, MONICA]  \\\n",
      "\n",
      "        show  sarcasm  \n",
      "248  FRIENDS    False  \n",
      "248    False\n",
      "Name: sarcasm, dtype: bool\n"
     ]
    },
    {
     "name": "stderr",
     "output_type": "stream",
     "text": [
      "\r"
     ]
    },
    {
     "name": "stdout",
     "output_type": "stream",
     "text": [
      "MoviePy - Writing audio in ./audio_extracted_no/248.mp3\n"
     ]
    },
    {
     "name": "stderr",
     "output_type": "stream",
     "text": [
      "                                                                  \r"
     ]
    },
    {
     "name": "stdout",
     "output_type": "stream",
     "text": [
      "MoviePy - Done.\n",
      "                           utterance  speaker   \n",
      "274  Show them your slides of Hawaii  DOROTHY  \\\n",
      "\n",
      "                                               context context_speakers   \n",
      "274  [Wait donÕt leave me, what will I do if they c...           [ROSE]  \\\n",
      "\n",
      "            show  sarcasm  \n",
      "274  GOLDENGIRLS     True  \n",
      "274    True\n",
      "Name: sarcasm, dtype: bool\n",
      "MoviePy - Writing audio in ./audio_extracted_yes/274.mp3\n"
     ]
    },
    {
     "name": "stderr",
     "output_type": "stream",
     "text": [
      "                                                       "
     ]
    },
    {
     "name": "stdout",
     "output_type": "stream",
     "text": [
      "MoviePy - Done.\n",
      "                                               utterance speaker   \n",
      "18078  Trust me, you're not Jewish. That's how they g...  HOWARD  \\\n",
      "\n",
      "                                                 context   \n",
      "18078  [Rajesh!\\nYou up?\\nYou ready for breakfast?, O...  \\\n",
      "\n",
      "                              context_speakers show  sarcasm  \n",
      "18078  [PERSON, RAJ, HOWARD, RAJ, HOWARD, RAJ]  BBT    False  \n",
      "18078    False\n",
      "Name: sarcasm, dtype: bool\n"
     ]
    },
    {
     "name": "stderr",
     "output_type": "stream",
     "text": [
      "\r"
     ]
    },
    {
     "name": "stdout",
     "output_type": "stream",
     "text": [
      "MoviePy - Writing audio in ./audio_extracted_no/18078.mp3\n"
     ]
    },
    {
     "name": "stderr",
     "output_type": "stream",
     "text": [
      "                                                       "
     ]
    },
    {
     "name": "stdout",
     "output_type": "stream",
     "text": [
      "MoviePy - Done.\n",
      "                             utterance speaker   \n",
      "2208  It's that whole sensitive thing.    JOEY  \\\n",
      "\n",
      "                                                context context_speakers   \n",
      "2208  [It's gonna be worth it. It's a known fact tha...           [JOEY]  \\\n",
      "\n",
      "         show  sarcasm  \n",
      "2208  FRIENDS    False  \n",
      "2208    False\n",
      "Name: sarcasm, dtype: bool\n"
     ]
    },
    {
     "name": "stderr",
     "output_type": "stream",
     "text": [
      "\r"
     ]
    },
    {
     "name": "stdout",
     "output_type": "stream",
     "text": [
      "MoviePy - Writing audio in ./audio_extracted_no/2208.mp3\n"
     ]
    },
    {
     "name": "stderr",
     "output_type": "stream",
     "text": [
      "                                                       "
     ]
    },
    {
     "name": "stdout",
     "output_type": "stream",
     "text": [
      "MoviePy - Done.\n",
      "                                               utterance  speaker   \n",
      "15212  I'm sorry, Sheldon bought a loom and learned h...  PERSON3  \\\n",
      "\n",
      "                                                 context   \n",
      "15212  [Baby, you're not that kind, Don't go breaking...  \\\n",
      "\n",
      "                                    context_speakers show  sarcasm  \n",
      "15212  [PERSON1, PERSON1, PERSON2, SHELDON, PERSON2]  BBT    False  \n",
      "15212    False\n",
      "Name: sarcasm, dtype: bool\n"
     ]
    },
    {
     "name": "stderr",
     "output_type": "stream",
     "text": [
      "\r"
     ]
    },
    {
     "name": "stdout",
     "output_type": "stream",
     "text": [
      "MoviePy - Writing audio in ./audio_extracted_no/15212.mp3\n"
     ]
    },
    {
     "name": "stderr",
     "output_type": "stream",
     "text": [
      "                                                                    "
     ]
    },
    {
     "name": "stdout",
     "output_type": "stream",
     "text": [
      "MoviePy - Done.\n",
      "                                              utterance   speaker   \n",
      "2546  Oh sure, she was probably up all night excited...  CHANDLER  \\\n",
      "\n",
      "                                                context   \n",
      "2546  [Hey, Hey, where's the birthday girl?, Oh she ...  \\\n",
      "\n",
      "                context_speakers     show  sarcasm  \n",
      "2546  [MONICA, CHANDLER, RACHEL]  FRIENDS     True  \n",
      "2546    True\n",
      "Name: sarcasm, dtype: bool\n"
     ]
    },
    {
     "name": "stderr",
     "output_type": "stream",
     "text": [
      "\r"
     ]
    },
    {
     "name": "stdout",
     "output_type": "stream",
     "text": [
      "MoviePy - Writing audio in ./audio_extracted_yes/2546.mp3\n"
     ]
    },
    {
     "name": "stderr",
     "output_type": "stream",
     "text": [
      "                                                                  "
     ]
    },
    {
     "name": "stdout",
     "output_type": "stream",
     "text": [
      "MoviePy - Done.\n",
      "     utterance speaker                                            context   \n",
      "2552    DANGER    ROSS  [I don't like sitting up here! I'm just gonna ...  \\\n",
      "\n",
      "      context_speakers     show  sarcasm  \n",
      "2552  [RACHEL, PHOEBE]  FRIENDS    False  \n",
      "2552    False\n",
      "Name: sarcasm, dtype: bool\n"
     ]
    },
    {
     "name": "stderr",
     "output_type": "stream",
     "text": [
      "\r"
     ]
    },
    {
     "name": "stdout",
     "output_type": "stream",
     "text": [
      "MoviePy - Writing audio in ./audio_extracted_no/2552.mp3\n"
     ]
    },
    {
     "name": "stderr",
     "output_type": "stream",
     "text": [
      "                                                       "
     ]
    },
    {
     "name": "stdout",
     "output_type": "stream",
     "text": [
      "MoviePy - Done.\n",
      "                                    utterance speaker   \n",
      "2234  See, there you go, the cleansing works!  PHOEBE  \\\n",
      "\n",
      "                                                context   \n",
      "2234  [So, um, will you bring the truck?, I'll even ...  \\\n",
      "\n",
      "              context_speakers     show  sarcasm  \n",
      "2234  [MONICA, PERSON, RACHEL]  FRIENDS    False  \n",
      "2234    False\n",
      "Name: sarcasm, dtype: bool\n"
     ]
    },
    {
     "name": "stderr",
     "output_type": "stream",
     "text": [
      "\r"
     ]
    },
    {
     "name": "stdout",
     "output_type": "stream",
     "text": [
      "MoviePy - Writing audio in ./audio_extracted_no/2234.mp3\n"
     ]
    },
    {
     "name": "stderr",
     "output_type": "stream",
     "text": [
      "                                                       "
     ]
    },
    {
     "name": "stdout",
     "output_type": "stream",
     "text": [
      "MoviePy - Done.\n",
      "                          utterance speaker   \n",
      "2585  You and I, we're interfacing.    ROSS  \\\n",
      "\n",
      "                                                context      context_speakers   \n",
      "2585  [So theoretically we could download our though...  [ROSS, PERSON, ROSS]  \\\n",
      "\n",
      "         show  sarcasm  \n",
      "2585  FRIENDS    False  \n",
      "2585    False\n",
      "Name: sarcasm, dtype: bool\n"
     ]
    },
    {
     "name": "stderr",
     "output_type": "stream",
     "text": [
      "\r"
     ]
    },
    {
     "name": "stdout",
     "output_type": "stream",
     "text": [
      "MoviePy - Writing audio in ./audio_extracted_no/2585.mp3\n"
     ]
    },
    {
     "name": "stderr",
     "output_type": "stream",
     "text": [
      "                                                       "
     ]
    },
    {
     "name": "stdout",
     "output_type": "stream",
     "text": [
      "MoviePy - Done.\n",
      "                                              utterance  speaker   \n",
      "2591  How about stopping by new years eve with three...  DOROTHY  \\\n",
      "\n",
      "                                                context   context_speakers   \n",
      "2591  [We thought you might like to join us for dinn...  [DOROTHY, SOPHIA]  \\\n",
      "\n",
      "             show  sarcasm  \n",
      "2591  GOLDENGIRLS    False  \n",
      "2591    False\n",
      "Name: sarcasm, dtype: bool\n"
     ]
    },
    {
     "name": "stderr",
     "output_type": "stream",
     "text": [
      "\r"
     ]
    },
    {
     "name": "stdout",
     "output_type": "stream",
     "text": [
      "MoviePy - Writing audio in ./audio_extracted_no/2591.mp3\n"
     ]
    },
    {
     "name": "stderr",
     "output_type": "stream",
     "text": [
      "                                                                    "
     ]
    },
    {
     "name": "stdout",
     "output_type": "stream",
     "text": [
      "MoviePy - Done.\n",
      "                        utterance speaker   \n",
      "2590  Yeah, I don't think so Joe.  RACHEL  \\\n",
      "\n",
      "                                                context      context_speakers   \n",
      "2590  [Uhh, well I've got an audition down the stree...  [JOEY, RACHEL, JOEY]  \\\n",
      "\n",
      "         show  sarcasm  \n",
      "2590  FRIENDS    False  \n",
      "2590    False\n",
      "Name: sarcasm, dtype: bool\n"
     ]
    },
    {
     "name": "stderr",
     "output_type": "stream",
     "text": [
      "\r"
     ]
    },
    {
     "name": "stdout",
     "output_type": "stream",
     "text": [
      "MoviePy - Writing audio in ./audio_extracted_no/2590.mp3\n"
     ]
    },
    {
     "name": "stderr",
     "output_type": "stream",
     "text": [
      "                                                       "
     ]
    },
    {
     "name": "stdout",
     "output_type": "stream",
     "text": [
      "MoviePy - Done.\n",
      "                                      utterance speaker   \n",
      "18045  Dumped her? What, did he use a forklift?     RAJ  \\\n",
      "\n",
      "                                                 context   \n",
      "18045  [to rebrand the stuff as a cure for constipati...  \\\n",
      "\n",
      "                         context_speakers show  sarcasm  \n",
      "18045  [HOWARD, RAJ, HOWARD, RAJ, HOWARD]  BBT     True  \n",
      "18045    True\n",
      "Name: sarcasm, dtype: bool\n"
     ]
    },
    {
     "name": "stderr",
     "output_type": "stream",
     "text": [
      "\r"
     ]
    },
    {
     "name": "stdout",
     "output_type": "stream",
     "text": [
      "MoviePy - Writing audio in ./audio_extracted_yes/18045.mp3\n"
     ]
    },
    {
     "name": "stderr",
     "output_type": "stream",
     "text": [
      "                                                       "
     ]
    },
    {
     "name": "stdout",
     "output_type": "stream",
     "text": [
      "MoviePy - Done.\n",
      "                                 utterance speaker   \n",
      "2553  No just, nobody press on my stomach.    JOEY  \\\n",
      "\n",
      "                                                context   \n",
      "2553  [Well Joey, we're all .. we're all very proud ...  \\\n",
      "\n",
      "                context_speakers     show  sarcasm  \n",
      "2553  [MONICA, CHANDLER, PHOEBE]  FRIENDS    False  \n",
      "2553    False\n",
      "Name: sarcasm, dtype: bool\n"
     ]
    },
    {
     "name": "stderr",
     "output_type": "stream",
     "text": [
      "\r"
     ]
    },
    {
     "name": "stdout",
     "output_type": "stream",
     "text": [
      "MoviePy - Writing audio in ./audio_extracted_no/2553.mp3\n"
     ]
    },
    {
     "name": "stderr",
     "output_type": "stream",
     "text": [
      "                                                       "
     ]
    },
    {
     "name": "stdout",
     "output_type": "stream",
     "text": [
      "MoviePy - Done.\n",
      "                                              utterance   speaker   \n",
      "2235  Oh yeah he has a caretaker his older brother, ...  CHANDLER  \\\n",
      "\n",
      "                                                context   \n",
      "2235  [Helo! Anybody in there order a celebrity?, Wh...  \\\n",
      "\n",
      "                      context_speakers     show  sarcasm  \n",
      "2235  [JOEY, PERSON, CHANDLER, PERSON]  FRIENDS    False  \n",
      "2235    False\n",
      "Name: sarcasm, dtype: bool\n"
     ]
    },
    {
     "name": "stderr",
     "output_type": "stream",
     "text": [
      "\r"
     ]
    },
    {
     "name": "stdout",
     "output_type": "stream",
     "text": [
      "MoviePy - Writing audio in ./audio_extracted_no/2235.mp3\n"
     ]
    },
    {
     "name": "stderr",
     "output_type": "stream",
     "text": [
      "                                                       "
     ]
    },
    {
     "name": "stdout",
     "output_type": "stream",
     "text": [
      "MoviePy - Done.\n",
      "                                              utterance   speaker  context   \n",
      "2221  See Joe that's why your parents told you not t...  CHANDLER  [Whoa!]  \\\n",
      "\n",
      "     context_speakers     show  sarcasm  \n",
      "2221           [JOEY]  FRIENDS    False  \n",
      "2221    False\n",
      "Name: sarcasm, dtype: bool\n"
     ]
    },
    {
     "name": "stderr",
     "output_type": "stream",
     "text": [
      "\r"
     ]
    },
    {
     "name": "stdout",
     "output_type": "stream",
     "text": [
      "MoviePy - Writing audio in ./audio_extracted_no/2221.mp3\n"
     ]
    },
    {
     "name": "stderr",
     "output_type": "stream",
     "text": [
      "                                                                    "
     ]
    },
    {
     "name": "stdout",
     "output_type": "stream",
     "text": [
      "MoviePy - Done.\n",
      "                                utterance   speaker   \n",
      "2547  Okay, now much have you won so far?  CHANDLER  \\\n",
      "\n",
      "                                                context  context_speakers   \n",
      "2547  [Well, what did you have?, It doesn't matter b...  [JOEY, CHANDLER]  \\\n",
      "\n",
      "         show  sarcasm  \n",
      "2547  FRIENDS    False  \n",
      "2547    False\n",
      "Name: sarcasm, dtype: bool\n"
     ]
    },
    {
     "name": "stderr",
     "output_type": "stream",
     "text": [
      "\r"
     ]
    },
    {
     "name": "stdout",
     "output_type": "stream",
     "text": [
      "MoviePy - Writing audio in ./audio_extracted_no/2547.mp3\n"
     ]
    },
    {
     "name": "stderr",
     "output_type": "stream",
     "text": [
      "                                                       "
     ]
    },
    {
     "name": "stdout",
     "output_type": "stream",
     "text": [
      "MoviePy - Done.\n",
      "     utterance      speaker   \n",
      "2209   Really?  MEMBER-GIRL  \\\n",
      "\n",
      "                                                context context_speakers   \n",
      "2209  [He doesn't need to be sarcastic. I mean, that...          [SCOTT]  \\\n",
      "\n",
      "                show  sarcasm  \n",
      "2209  SARCASMOHOLICS     True  \n",
      "2209    True\n",
      "Name: sarcasm, dtype: bool\n"
     ]
    },
    {
     "name": "stderr",
     "output_type": "stream",
     "text": [
      "\r"
     ]
    },
    {
     "name": "stdout",
     "output_type": "stream",
     "text": [
      "MoviePy - Writing audio in ./audio_extracted_yes/2209.mp3\n"
     ]
    },
    {
     "name": "stderr",
     "output_type": "stream",
     "text": [
      "                                                       "
     ]
    },
    {
     "name": "stdout",
     "output_type": "stream",
     "text": [
      "MoviePy - Done.\n",
      "         utterance speaker                                            context   \n",
      "249  We got a box.    JOEY  [When that guy was robbing us and I was locked...  \\\n",
      "\n",
      "     context_speakers     show  sarcasm  \n",
      "249  [JOEY, CHANDLER]  FRIENDS    False  \n",
      "249    False\n",
      "Name: sarcasm, dtype: bool\n"
     ]
    },
    {
     "name": "stderr",
     "output_type": "stream",
     "text": [
      "\r"
     ]
    },
    {
     "name": "stdout",
     "output_type": "stream",
     "text": [
      "MoviePy - Writing audio in ./audio_extracted_no/249.mp3\n"
     ]
    },
    {
     "name": "stderr",
     "output_type": "stream",
     "text": [
      "                                                       "
     ]
    },
    {
     "name": "stdout",
     "output_type": "stream",
     "text": [
      "MoviePy - Done.\n",
      "               utterance speaker   \n",
      "2180  That oughta do it.  PHOEBE  \\\n",
      "\n",
      "                                                context   \n",
      "2180  [Where's Chandler?, Oh, he needed some time to...  \\\n",
      "\n",
      "                context_speakers     show  sarcasm  \n",
      "2180  [RACHEL, PHOEBE, CHANDLER]  FRIENDS    False  \n",
      "2180    False\n",
      "Name: sarcasm, dtype: bool\n"
     ]
    },
    {
     "name": "stderr",
     "output_type": "stream",
     "text": [
      "\r"
     ]
    },
    {
     "name": "stdout",
     "output_type": "stream",
     "text": [
      "MoviePy - Writing audio in ./audio_extracted_no/2180.mp3\n"
     ]
    },
    {
     "name": "stderr",
     "output_type": "stream",
     "text": [
      "                                                       "
     ]
    },
    {
     "name": "stdout",
     "output_type": "stream",
     "text": [
      "MoviePy - Done.\n",
      "                                  utterance speaker   \n",
      "2194  And it came out, \"Squatternut buash?\"    JOEY  \\\n",
      "\n",
      "                                                context context_speakers   \n",
      "2194  [Hey, I wasn't the only one who looked like an...           [JOEY]  \\\n",
      "\n",
      "         show  sarcasm  \n",
      "2194  FRIENDS    False  \n",
      "2194    False\n",
      "Name: sarcasm, dtype: bool\n"
     ]
    },
    {
     "name": "stderr",
     "output_type": "stream",
     "text": [
      "\r"
     ]
    },
    {
     "name": "stdout",
     "output_type": "stream",
     "text": [
      "MoviePy - Writing audio in ./audio_extracted_no/2194.mp3\n"
     ]
    },
    {
     "name": "stderr",
     "output_type": "stream",
     "text": [
      "                                                       "
     ]
    },
    {
     "name": "stdout",
     "output_type": "stream",
     "text": [
      "MoviePy - Done.\n",
      "                                               utterance speaker   \n",
      "14290  I just have a question. Does Bernadette ever t...  HOWARD  \\\n",
      "\n",
      "                                                 context context_speakers   \n",
      "14290  [Would you have opened the door if you knew it...  [HOWARD, PENNY]  \\\n",
      "\n",
      "      show  sarcasm  \n",
      "14290  BBT    False  \n",
      "14290    False\n",
      "Name: sarcasm, dtype: bool\n"
     ]
    },
    {
     "name": "stderr",
     "output_type": "stream",
     "text": [
      "\r"
     ]
    },
    {
     "name": "stdout",
     "output_type": "stream",
     "text": [
      "MoviePy - Writing audio in ./audio_extracted_no/14290.mp3\n"
     ]
    },
    {
     "name": "stderr",
     "output_type": "stream",
     "text": [
      "                                                        "
     ]
    },
    {
     "name": "stdout",
     "output_type": "stream",
     "text": [
      "MoviePy - Done.\n",
      "                                               utterance speaker   \n",
      "19993  Well, my beer isn't flat and my rack's not sag...   PENNY  \\\n",
      "\n",
      "                                                 context context_speakers   \n",
      "19993  [You're all inside it, and we hurtle through t...  [RAJ, RAJ, RAJ]  \\\n",
      "\n",
      "      show  sarcasm  \n",
      "19993  BBT     True  \n",
      "19993    True\n",
      "Name: sarcasm, dtype: bool\n"
     ]
    },
    {
     "name": "stderr",
     "output_type": "stream",
     "text": [
      "\r"
     ]
    },
    {
     "name": "stdout",
     "output_type": "stream",
     "text": [
      "MoviePy - Writing audio in ./audio_extracted_yes/19993.mp3\n"
     ]
    },
    {
     "name": "stderr",
     "output_type": "stream",
     "text": [
      "                                                                   "
     ]
    },
    {
     "name": "stdout",
     "output_type": "stream",
     "text": [
      "MoviePy - Done.\n",
      "                                     utterance  speaker   \n",
      "15617  is an event that's like a heart attack.  SHELDON  \\\n",
      "\n",
      "                                                 context   \n",
      "15617  [Yeah, I'm saying, it'd be easier to lift a ca...  \\\n",
      "\n",
      "                                        context_speakers show  sarcasm  \n",
      "15617  [PENNY, HOWARD, LEONARD, HOWARD, HOWARD, PENNY...  BBT     True  \n",
      "15617    True\n",
      "Name: sarcasm, dtype: bool\n"
     ]
    },
    {
     "name": "stderr",
     "output_type": "stream",
     "text": [
      "\r"
     ]
    },
    {
     "name": "stdout",
     "output_type": "stream",
     "text": [
      "MoviePy - Writing audio in ./audio_extracted_yes/15617.mp3\n"
     ]
    },
    {
     "name": "stderr",
     "output_type": "stream",
     "text": [
      "                                                       "
     ]
    },
    {
     "name": "stdout",
     "output_type": "stream",
     "text": [
      "MoviePy - Done.\n",
      "                                              utterance  speaker   \n",
      "1533  Technically, yes. But, if you'll notice... It'...  LEONARD  \\\n",
      "\n",
      "                                                context   \n",
      "1533  [Because it's not a costume, it's a flight sui...  \\\n",
      "\n",
      "                                    context_speakers show  sarcasm  \n",
      "1533  [LEONARD, PENNY, PENNY, LEONARD, PENNY, PENNY]  BBT    False  \n",
      "1533    False\n",
      "Name: sarcasm, dtype: bool\n"
     ]
    },
    {
     "name": "stderr",
     "output_type": "stream",
     "text": [
      "\r"
     ]
    },
    {
     "name": "stdout",
     "output_type": "stream",
     "text": [
      "MoviePy - Writing audio in ./audio_extracted_no/1533.mp3\n"
     ]
    },
    {
     "name": "stderr",
     "output_type": "stream",
     "text": [
      "                                                                    "
     ]
    },
    {
     "name": "stdout",
     "output_type": "stream",
     "text": [
      "MoviePy - Done.\n",
      "                                               utterance  speaker   \n",
      "13064  When I have enough to destroy all the human to...  SHELDON  \\\n",
      "\n",
      "                                                context context_speakers show   \n",
      "13064  [When are you going to stop making Cylon toast?]        [LEONARD]  BBT  \\\n",
      "\n",
      "       sarcasm  \n",
      "13064     True  \n",
      "13064    True\n",
      "Name: sarcasm, dtype: bool\n"
     ]
    },
    {
     "name": "stderr",
     "output_type": "stream",
     "text": [
      "\r"
     ]
    },
    {
     "name": "stdout",
     "output_type": "stream",
     "text": [
      "MoviePy - Writing audio in ./audio_extracted_yes/13064.mp3\n"
     ]
    },
    {
     "name": "stderr",
     "output_type": "stream",
     "text": [
      "                                                                  "
     ]
    },
    {
     "name": "stdout",
     "output_type": "stream",
     "text": [
      "MoviePy - Done.\n",
      "                               utterance speaker   \n",
      "2427  Oh-oh, that's a risky little game!  RACHEL  \\\n",
      "\n",
      "                                                context   \n",
      "2427  [Oh!, Oh God, Now you know how you really feel...  \\\n",
      "\n",
      "              context_speakers     show  sarcasm  \n",
      "2427  [RACHEL, MONICA, PHOEBE]  FRIENDS    False  \n",
      "2427    False\n",
      "Name: sarcasm, dtype: bool\n"
     ]
    },
    {
     "name": "stderr",
     "output_type": "stream",
     "text": [
      "\r"
     ]
    },
    {
     "name": "stdout",
     "output_type": "stream",
     "text": [
      "MoviePy - Writing audio in ./audio_extracted_no/2427.mp3\n"
     ]
    },
    {
     "name": "stderr",
     "output_type": "stream",
     "text": [
      "                                                       "
     ]
    },
    {
     "name": "stdout",
     "output_type": "stream",
     "text": [
      "MoviePy - Done.\n",
      "                                              utterance speaker   \n",
      "2341  Well, I'd gotten Judy pregnant. I still don't ...  PERSON  \\\n",
      "\n",
      "                                                context    context_speakers   \n",
      "2341  [I remember when we first got engaged., Oh, I ...  [PERSON, CHANDLER]  \\\n",
      "\n",
      "         show  sarcasm  \n",
      "2341  FRIENDS     True  \n",
      "2341    True\n",
      "Name: sarcasm, dtype: bool\n"
     ]
    },
    {
     "name": "stderr",
     "output_type": "stream",
     "text": [
      "\r"
     ]
    },
    {
     "name": "stdout",
     "output_type": "stream",
     "text": [
      "MoviePy - Writing audio in ./audio_extracted_yes/2341.mp3\n"
     ]
    },
    {
     "name": "stderr",
     "output_type": "stream",
     "text": [
      "                                                                  "
     ]
    },
    {
     "name": "stdout",
     "output_type": "stream",
     "text": [
      "MoviePy - Done.\n",
      "                          utterance   speaker   \n",
      "2433  I was saying the actual words  CHANDLER  \\\n",
      "\n",
      "                                                context  context_speakers   \n",
      "2433  [Well cathy's last boyfriend was Joey., And yo...  [CHANDLER, ROSS]  \\\n",
      "\n",
      "         show  sarcasm  \n",
      "2433  FRIENDS     True  \n",
      "2433    True\n",
      "Name: sarcasm, dtype: bool\n"
     ]
    },
    {
     "name": "stderr",
     "output_type": "stream",
     "text": [
      "\r"
     ]
    },
    {
     "name": "stdout",
     "output_type": "stream",
     "text": [
      "MoviePy - Writing audio in ./audio_extracted_yes/2433.mp3\n"
     ]
    },
    {
     "name": "stderr",
     "output_type": "stream",
     "text": [
      "                                                       "
     ]
    },
    {
     "name": "stdout",
     "output_type": "stream",
     "text": [
      "MoviePy - Done.\n",
      "                                               utterance  speaker   \n",
      "12420  You know this can go on all night. Why don't y...  LEONARD  \\\n",
      "\n",
      "                                                 context   \n",
      "12420  [Or pick out his career for him without knowin...  \\\n",
      "\n",
      "                                context_speakers show  sarcasm  \n",
      "12420  [SHELDON, SHELDON, PENNY, SHELDON, PENNY]  BBT    False  \n",
      "12420    False\n",
      "Name: sarcasm, dtype: bool\n"
     ]
    },
    {
     "name": "stderr",
     "output_type": "stream",
     "text": [
      "\r"
     ]
    },
    {
     "name": "stdout",
     "output_type": "stream",
     "text": [
      "MoviePy - Writing audio in ./audio_extracted_no/12420.mp3\n"
     ]
    },
    {
     "name": "stderr",
     "output_type": "stream",
     "text": [
      "                                                       "
     ]
    },
    {
     "name": "stdout",
     "output_type": "stream",
     "text": [
      "MoviePy - Done.\n",
      "                                              utterance   speaker   \n",
      "2369  I just have to do one thing, really quickly, i...  CHANDLER  \\\n",
      "\n",
      "                                                context   \n",
      "2369  [Get up, What?, You're in my seat, How is it y...  \\\n",
      "\n",
      "                                       context_speakers     show  sarcasm  \n",
      "2369  [CHANDLER, JOEY, CHANDLER, JOEY, CHANDLER, JOE...  FRIENDS     True  \n",
      "2369    True\n",
      "Name: sarcasm, dtype: bool\n"
     ]
    },
    {
     "name": "stderr",
     "output_type": "stream",
     "text": [
      "\r"
     ]
    },
    {
     "name": "stdout",
     "output_type": "stream",
     "text": [
      "MoviePy - Writing audio in ./audio_extracted_yes/2369.mp3\n"
     ]
    },
    {
     "name": "stderr",
     "output_type": "stream",
     "text": [
      "                                                       "
     ]
    },
    {
     "name": "stdout",
     "output_type": "stream",
     "text": [
      "MoviePy - Done.\n",
      "                                               utterance  speaker   \n",
      "16134  No, I'm just allergic to people who get Nobel ...  SHELDON  \\\n",
      "\n",
      "                                                 context   \n",
      "16134  [That lecture was a waste of time., I made mor...  \\\n",
      "\n",
      "              context_speakers show  sarcasm  \n",
      "16134  [SHELDON, SHELDON, AMY]  BBT     True  \n",
      "16134    True\n",
      "Name: sarcasm, dtype: bool\n"
     ]
    },
    {
     "name": "stderr",
     "output_type": "stream",
     "text": [
      "\r"
     ]
    },
    {
     "name": "stdout",
     "output_type": "stream",
     "text": [
      "MoviePy - Writing audio in ./audio_extracted_yes/16134.mp3\n"
     ]
    },
    {
     "name": "stderr",
     "output_type": "stream",
     "text": [
      "                                                                    "
     ]
    },
    {
     "name": "stdout",
     "output_type": "stream",
     "text": [
      "MoviePy - Done.\n",
      "                                                utterance speaker   \n",
      "110857  It's true-- you're both gorgeous. Kind of says...     RAJ  \\\n",
      "\n",
      "                                                  context   \n",
      "110857  [Okay, sit down. Listen, Emily, what happened ...  \\\n",
      "\n",
      "                                  context_speakers show  sarcasm  \n",
      "110857  [PENNY, RAJ, PENNY, PERSON, PERSON, PENNY]  BBT    False  \n",
      "110857    False\n",
      "Name: sarcasm, dtype: bool\n"
     ]
    },
    {
     "name": "stderr",
     "output_type": "stream",
     "text": [
      "\r"
     ]
    },
    {
     "name": "stdout",
     "output_type": "stream",
     "text": [
      "MoviePy - Writing audio in ./audio_extracted_no/110857.mp3\n"
     ]
    },
    {
     "name": "stderr",
     "output_type": "stream",
     "text": [
      "                                                                  "
     ]
    },
    {
     "name": "stdout",
     "output_type": "stream",
     "text": [
      "MoviePy - Done.\n",
      "     utterance speaker                                            context   \n",
      "2419   Uh-huh!  PHOEBE  [Look, Pheebs, I just, I wanna apologize for, ...  \\\n",
      "\n",
      "     context_speakers     show  sarcasm  \n",
      "2419           [JOEY]  FRIENDS    False  \n",
      "2419    False\n",
      "Name: sarcasm, dtype: bool\n"
     ]
    },
    {
     "name": "stderr",
     "output_type": "stream",
     "text": [
      "\r"
     ]
    },
    {
     "name": "stdout",
     "output_type": "stream",
     "text": [
      "MoviePy - Writing audio in ./audio_extracted_no/2419.mp3\n"
     ]
    },
    {
     "name": "stderr",
     "output_type": "stream",
     "text": [
      "                                                       "
     ]
    },
    {
     "name": "stdout",
     "output_type": "stream",
     "text": [
      "MoviePy - Done.\n",
      "                                utterance speaker   \n",
      "2343  So to sum up, I'm Professor Geller.    ROSS  \\\n",
      "\n",
      "                                                context context_speakers   \n",
      "2343  [Whoa Let me start by uh, by introducing mysel...           [ROSS]  \\\n",
      "\n",
      "         show  sarcasm  \n",
      "2343  FRIENDS    False  \n",
      "2343    False\n",
      "Name: sarcasm, dtype: bool\n"
     ]
    },
    {
     "name": "stderr",
     "output_type": "stream",
     "text": [
      "\r"
     ]
    },
    {
     "name": "stdout",
     "output_type": "stream",
     "text": [
      "MoviePy - Writing audio in ./audio_extracted_no/2343.mp3\n"
     ]
    },
    {
     "name": "stderr",
     "output_type": "stream",
     "text": [
      "                                                                 "
     ]
    },
    {
     "name": "stdout",
     "output_type": "stream",
     "text": [
      "MoviePy - Done.\n",
      "        utterance speaker                                            context   \n",
      "2425  And did he?  MONICA  [We couldn't keep our eyes off each other all ...  \\\n",
      "\n",
      "              context_speakers     show  sarcasm  \n",
      "2425  [PHOEBE, MONICA, PHOEBE]  FRIENDS    False  \n",
      "2425    False\n",
      "Name: sarcasm, dtype: bool\n"
     ]
    },
    {
     "name": "stderr",
     "output_type": "stream",
     "text": [
      "\r"
     ]
    },
    {
     "name": "stdout",
     "output_type": "stream",
     "text": [
      "MoviePy - Writing audio in ./audio_extracted_no/2425.mp3\n"
     ]
    },
    {
     "name": "stderr",
     "output_type": "stream",
     "text": [
      "                                                       "
     ]
    },
    {
     "name": "stdout",
     "output_type": "stream",
     "text": [
      "MoviePy - Done.\n",
      "                                    utterance speaker   \n",
      "2431  I'm never gonna get to meet her anyway.    JOEY  \\\n",
      "\n",
      "                                                context context_speakers   \n",
      "2431  [But I can see through your sheet. Yeah, yeah,...           [JOEY]  \\\n",
      "\n",
      "         show  sarcasm  \n",
      "2431  FRIENDS    False  \n",
      "2431    False\n",
      "Name: sarcasm, dtype: bool\n"
     ]
    },
    {
     "name": "stderr",
     "output_type": "stream",
     "text": [
      "\r"
     ]
    },
    {
     "name": "stdout",
     "output_type": "stream",
     "text": [
      "MoviePy - Writing audio in ./audio_extracted_no/2431.mp3\n"
     ]
    },
    {
     "name": "stderr",
     "output_type": "stream",
     "text": [
      "                                                       "
     ]
    },
    {
     "name": "stdout",
     "output_type": "stream",
     "text": [
      "MoviePy - Done.\n",
      "                                              utterance speaker   \n",
      "2357  Stating the obvious, but thank you. And it's n...  PHOEBE  \\\n",
      "\n",
      "                                                context  context_speakers   \n",
      "2357  [Yes. Great, let's begin.  How's the pressure?...  [PHOEBE, MONICA]  \\\n",
      "\n",
      "         show  sarcasm  \n",
      "2357  FRIENDS     True  \n",
      "2357    True\n",
      "Name: sarcasm, dtype: bool\n"
     ]
    },
    {
     "name": "stderr",
     "output_type": "stream",
     "text": [
      "\r"
     ]
    },
    {
     "name": "stdout",
     "output_type": "stream",
     "text": [
      "MoviePy - Writing audio in ./audio_extracted_yes/2357.mp3\n"
     ]
    },
    {
     "name": "stderr",
     "output_type": "stream",
     "text": [
      "                                                                  "
     ]
    },
    {
     "name": "stdout",
     "output_type": "stream",
     "text": [
      "MoviePy - Done.\n",
      "                                                utterance  speaker   \n",
      "111236  Oh, you're hardly out of the woods, no. You st...  SHELDON  \\\n",
      "\n",
      "                                                  context   \n",
      "111236  [Wow. I don't know which hurts worse-- my nose...  \\\n",
      "\n",
      "                               context_speakers show  sarcasm  \n",
      "111236  [SHELDON, SHELDON, AMY, PENNY, LEONARD]  BBT    False  \n",
      "111236    False\n",
      "Name: sarcasm, dtype: bool\n"
     ]
    },
    {
     "name": "stderr",
     "output_type": "stream",
     "text": [
      "\r"
     ]
    },
    {
     "name": "stdout",
     "output_type": "stream",
     "text": [
      "MoviePy - Writing audio in ./audio_extracted_no/111236.mp3\n"
     ]
    },
    {
     "name": "stderr",
     "output_type": "stream",
     "text": [
      "                                                                    \r"
     ]
    },
    {
     "name": "stdout",
     "output_type": "stream",
     "text": [
      "MoviePy - Done.\n",
      "                                              utterance   speaker   \n",
      "2380  Oh just like give a minute to wake up for this...  CHANDLER  \\\n",
      "\n",
      "                                                context context_speakers   \n",
      "2380  [The stripper stole the ring! The stripper sto...           [JOEY]  \\\n",
      "\n",
      "         show  sarcasm  \n",
      "2380  FRIENDS    False  \n",
      "2380    False\n",
      "Name: sarcasm, dtype: bool\n",
      "MoviePy - Writing audio in ./audio_extracted_no/2380.mp3\n"
     ]
    },
    {
     "name": "stderr",
     "output_type": "stream",
     "text": [
      "                                                                    \r"
     ]
    },
    {
     "name": "stdout",
     "output_type": "stream",
     "text": [
      "MoviePy - Done.\n",
      "                                              utterance   speaker   \n",
      "2169  Hes not right for the part, and if I suggest h...  CHANDLER  \\\n",
      "\n",
      "                                                context    context_speakers   \n",
      "2169  [What am I gonna do now?, Just pass the tape a...  [CHANDLER, RACHEL]  \\\n",
      "\n",
      "         show  sarcasm  \n",
      "2169  FRIENDS     True  \n",
      "2169    True\n",
      "Name: sarcasm, dtype: bool\n",
      "MoviePy - Writing audio in ./audio_extracted_yes/2169.mp3\n"
     ]
    },
    {
     "name": "stderr",
     "output_type": "stream",
     "text": [
      "                                                                   "
     ]
    },
    {
     "name": "stdout",
     "output_type": "stream",
     "text": [
      "MoviePy - Done.\n",
      "              utterance speaker   \n",
      "2627  Whoa, whoa, whoa.  PERSON  \\\n",
      "\n",
      "                                                context  context_speakers   \n",
      "2627  [What?, Y'know, so I don't read as many import...  [PERSON, MONICA]  \\\n",
      "\n",
      "         show  sarcasm  \n",
      "2627  FRIENDS    False  \n",
      "2627    False\n",
      "Name: sarcasm, dtype: bool\n"
     ]
    },
    {
     "name": "stderr",
     "output_type": "stream",
     "text": [
      "\r"
     ]
    },
    {
     "name": "stdout",
     "output_type": "stream",
     "text": [
      "MoviePy - Writing audio in ./audio_extracted_no/2627.mp3\n"
     ]
    },
    {
     "name": "stderr",
     "output_type": "stream",
     "text": [
      "                                                       "
     ]
    },
    {
     "name": "stdout",
     "output_type": "stream",
     "text": [
      "MoviePy - Done.\n",
      "                                        utterance   speaker   \n",
      "2141  We think it was trying to spell out monkey.  CHANDLER  \\\n",
      "\n",
      "                             context context_speakers     show  sarcasm  \n",
      "2141  [He also found an M and an O.]           [ROSS]  FRIENDS     True  \n",
      "2141    True\n",
      "Name: sarcasm, dtype: bool\n"
     ]
    },
    {
     "name": "stderr",
     "output_type": "stream",
     "text": [
      "\r"
     ]
    },
    {
     "name": "stdout",
     "output_type": "stream",
     "text": [
      "MoviePy - Writing audio in ./audio_extracted_yes/2141.mp3\n"
     ]
    },
    {
     "name": "stderr",
     "output_type": "stream",
     "text": [
      "                                                                  "
     ]
    },
    {
     "name": "stdout",
     "output_type": "stream",
     "text": [
      "MoviePy - Done.\n",
      "                                              utterance   speaker   \n",
      "2155  Great! Now we can do laundry all night. All ni...  CHANDLER  \\\n",
      "\n",
      "                                                context   \n",
      "2155  [Actually, I was gonna do some laundry. Chandl...  \\\n",
      "\n",
      "                                context_speakers     show  sarcasm  \n",
      "2155  [MONICA, CHANDLER, RACHEL, MONICA, PHOEBE]  FRIENDS     True  \n",
      "2155    True\n",
      "Name: sarcasm, dtype: bool\n"
     ]
    },
    {
     "name": "stderr",
     "output_type": "stream",
     "text": [
      "\r"
     ]
    },
    {
     "name": "stdout",
     "output_type": "stream",
     "text": [
      "MoviePy - Writing audio in ./audio_extracted_yes/2155.mp3\n"
     ]
    },
    {
     "name": "stderr",
     "output_type": "stream",
     "text": [
      "                                                                  "
     ]
    },
    {
     "name": "stdout",
     "output_type": "stream",
     "text": [
      "MoviePy - Done.\n",
      "                                            utterance  speaker   \n",
      "14286  All right, all right. He can buy his own desk.  SHELDON  \\\n",
      "\n",
      "                                                 context   \n",
      "14286  [and a super executive ant farm with glow-in-t...  \\\n",
      "\n",
      "                                        context_speakers show  sarcasm  \n",
      "14286  [SHELDON, HOWARD, RAJ, SHELDON, RAJ, SHELDON, ...  BBT    False  \n",
      "14286    False\n",
      "Name: sarcasm, dtype: bool\n"
     ]
    },
    {
     "name": "stderr",
     "output_type": "stream",
     "text": [
      "\r"
     ]
    },
    {
     "name": "stdout",
     "output_type": "stream",
     "text": [
      "MoviePy - Writing audio in ./audio_extracted_no/14286.mp3\n"
     ]
    },
    {
     "name": "stderr",
     "output_type": "stream",
     "text": [
      "                                                       "
     ]
    },
    {
     "name": "stdout",
     "output_type": "stream",
     "text": [
      "MoviePy - Done.\n",
      "                                      utterance  speaker   \n",
      "2182  The liberarche marquee at Caesar's palace  DOROTHY  \\\n",
      "\n",
      "                                                context context_speakers   \n",
      "2182  [Whop, it is really coming down., Whats coming...  [DOROTHY, ROSE]  \\\n",
      "\n",
      "             show  sarcasm  \n",
      "2182  GOLDENGIRLS     True  \n",
      "2182    True\n",
      "Name: sarcasm, dtype: bool\n"
     ]
    },
    {
     "name": "stderr",
     "output_type": "stream",
     "text": [
      "\r"
     ]
    },
    {
     "name": "stdout",
     "output_type": "stream",
     "text": [
      "MoviePy - Writing audio in ./audio_extracted_yes/2182.mp3\n"
     ]
    },
    {
     "name": "stderr",
     "output_type": "stream",
     "text": [
      "                                                                  "
     ]
    },
    {
     "name": "stdout",
     "output_type": "stream",
     "text": [
      "MoviePy - Done.\n",
      "     utterance speaker                                            context   \n",
      "2196     What?  PHOEBE  [Oh, I mean she's gonna be at the wedding wait...  \\\n",
      "\n",
      "      context_speakers     show  sarcasm  \n",
      "2196  [RACHEL, PHOEBE]  FRIENDS    False  \n",
      "2196    False\n",
      "Name: sarcasm, dtype: bool\n"
     ]
    },
    {
     "name": "stderr",
     "output_type": "stream",
     "text": [
      "\r"
     ]
    },
    {
     "name": "stdout",
     "output_type": "stream",
     "text": [
      "MoviePy - Writing audio in ./audio_extracted_no/2196.mp3\n"
     ]
    },
    {
     "name": "stderr",
     "output_type": "stream",
     "text": [
      "                                                       "
     ]
    },
    {
     "name": "stdout",
     "output_type": "stream",
     "text": [
      "MoviePy - Done.\n",
      "    utterance speaker                                            context   \n",
      "288       Oh.  RACHEL  [Hi! What are you doing here?, Ah y'know, this...  \\\n",
      "\n",
      "    context_speakers     show  sarcasm  \n",
      "288   [RACHEL, ROSS]  FRIENDS    False  \n",
      "288    False\n",
      "Name: sarcasm, dtype: bool\n"
     ]
    },
    {
     "name": "stderr",
     "output_type": "stream",
     "text": [
      "\r"
     ]
    },
    {
     "name": "stdout",
     "output_type": "stream",
     "text": [
      "MoviePy - Writing audio in ./audio_extracted_no/288.mp3\n"
     ]
    },
    {
     "name": "stderr",
     "output_type": "stream",
     "text": [
      "                                                       \r"
     ]
    },
    {
     "name": "stdout",
     "output_type": "stream",
     "text": [
      "MoviePy - Done.\n",
      "                                               utterance  speaker   \n",
      "13476  Don't you think looking for a new city to live...  LEONARD  \\\n",
      "\n",
      "                                                 context   \n",
      "13476  [My new computer came with Windows 7., Windows...  \\\n",
      "\n",
      "                  context_speakers show  sarcasm  \n",
      "13476  [SHELDON, SHELDON, SHELDON]  BBT    False  \n",
      "13476    False\n",
      "Name: sarcasm, dtype: bool\n",
      "MoviePy - Writing audio in ./audio_extracted_no/13476.mp3\n"
     ]
    },
    {
     "name": "stderr",
     "output_type": "stream",
     "text": [
      "                                                                  "
     ]
    },
    {
     "name": "stdout",
     "output_type": "stream",
     "text": [
      "MoviePy - Done.\n",
      "                                               utterance  speaker   \n",
      "12797  It's an iCal download. She can put it right in...  SHELDON  \\\n",
      "\n",
      "                                                 context   \n",
      "12797  [Alright, want some French toast?, It's oatmea...  \\\n",
      "\n",
      "                                        context_speakers show  sarcasm  \n",
      "12797  [PENNY, SHELDON, PENNY, SHELDON, LEONARD, SHEL...  BBT     True  \n",
      "12797    True\n",
      "Name: sarcasm, dtype: bool\n"
     ]
    },
    {
     "name": "stderr",
     "output_type": "stream",
     "text": [
      "\r"
     ]
    },
    {
     "name": "stdout",
     "output_type": "stream",
     "text": [
      "MoviePy - Writing audio in ./audio_extracted_yes/12797.mp3\n"
     ]
    },
    {
     "name": "stderr",
     "output_type": "stream",
     "text": [
      "                                                       "
     ]
    },
    {
     "name": "stdout",
     "output_type": "stream",
     "text": [
      "MoviePy - Done.\n",
      "                                             utterance speaker   \n",
      "277  Umm, excuse me, we switched apartments. You ca...  MONICA  \\\n",
      "\n",
      "                                 context        context_speakers     show   \n",
      "277  [Uh-huh., That sounds great!, Hey!]  [RACHEL, PHOEBE, JOEY]  FRIENDS  \\\n",
      "\n",
      "     sarcasm  \n",
      "277    False  \n",
      "277    False\n",
      "Name: sarcasm, dtype: bool\n"
     ]
    },
    {
     "name": "stderr",
     "output_type": "stream",
     "text": [
      "\r"
     ]
    },
    {
     "name": "stdout",
     "output_type": "stream",
     "text": [
      "MoviePy - Writing audio in ./audio_extracted_no/277.mp3\n"
     ]
    },
    {
     "name": "stderr",
     "output_type": "stream",
     "text": [
      "                                                                   "
     ]
    },
    {
     "name": "stdout",
     "output_type": "stream",
     "text": [
      "MoviePy - Done.\n",
      "     utterance speaker                                            context   \n",
      "2579       No!  MONICA  [One, two, three, four! You know the song! Sin...  \\\n",
      "\n",
      "     context_speakers     show  sarcasm  \n",
      "2579           [ROSS]  FRIENDS    False  \n",
      "2579    False\n",
      "Name: sarcasm, dtype: bool\n"
     ]
    },
    {
     "name": "stderr",
     "output_type": "stream",
     "text": [
      "\r"
     ]
    },
    {
     "name": "stdout",
     "output_type": "stream",
     "text": [
      "MoviePy - Writing audio in ./audio_extracted_no/2579.mp3\n"
     ]
    },
    {
     "name": "stderr",
     "output_type": "stream",
     "text": [
      "                                                       "
     ]
    },
    {
     "name": "stdout",
     "output_type": "stream",
     "text": [
      "MoviePy - Done.\n",
      "                                              utterance   speaker   \n",
      "2223  I guess he wants to do a little dance, you kno...  CHANDLER  \\\n",
      "\n",
      "                                                context      context_speakers   \n",
      "2223  [Hey who is this Casey?, Oh some guy she met i...  [ROSS, PHOEBE, ROSS]  \\\n",
      "\n",
      "         show  sarcasm  \n",
      "2223  FRIENDS     True  \n",
      "2223    True\n",
      "Name: sarcasm, dtype: bool\n"
     ]
    },
    {
     "name": "stderr",
     "output_type": "stream",
     "text": [
      "\r"
     ]
    },
    {
     "name": "stdout",
     "output_type": "stream",
     "text": [
      "MoviePy - Writing audio in ./audio_extracted_yes/2223.mp3\n"
     ]
    },
    {
     "name": "stderr",
     "output_type": "stream",
     "text": [
      "                                                                    "
     ]
    },
    {
     "name": "stdout",
     "output_type": "stream",
     "text": [
      "MoviePy - Done.\n",
      "                                               utterance speaker   \n",
      "13660  There a new girlfriend in there? 'Cause you mi...   PENNY  \\\n",
      "\n",
      "                                                 context   \n",
      "13660  [Leonard, what do the two of you talk about af...  \\\n",
      "\n",
      "                                        context_speakers show  sarcasm  \n",
      "13660  [SHELDON, HOWARD, HOWARD, LEONARD, HOWARD, LEO...  BBT     True  \n",
      "13660    True\n",
      "Name: sarcasm, dtype: bool\n"
     ]
    },
    {
     "name": "stderr",
     "output_type": "stream",
     "text": [
      "\r"
     ]
    },
    {
     "name": "stdout",
     "output_type": "stream",
     "text": [
      "MoviePy - Writing audio in ./audio_extracted_yes/13660.mp3\n"
     ]
    },
    {
     "name": "stderr",
     "output_type": "stream",
     "text": [
      "                                                       "
     ]
    },
    {
     "name": "stdout",
     "output_type": "stream",
     "text": [
      "MoviePy - Done.\n",
      "                                               utterance speaker   \n",
      "15211  Saying that while holding a snowflake is a bit...     AMY  \\\n",
      "\n",
      "                                                 context   \n",
      "15211  [Um, no., You should get one., What's that?, I...  \\\n",
      "\n",
      "                                        context_speakers show  sarcasm  \n",
      "15211  [BERNADETTE, AMY, BERNADETTE, AMY, PENNY, BERN...  BBT     True  \n",
      "15211    True\n",
      "Name: sarcasm, dtype: bool\n"
     ]
    },
    {
     "name": "stderr",
     "output_type": "stream",
     "text": [
      "\r"
     ]
    },
    {
     "name": "stdout",
     "output_type": "stream",
     "text": [
      "MoviePy - Writing audio in ./audio_extracted_yes/15211.mp3\n"
     ]
    },
    {
     "name": "stderr",
     "output_type": "stream",
     "text": [
      "                                                                    "
     ]
    },
    {
     "name": "stdout",
     "output_type": "stream",
     "text": [
      "MoviePy - Done.\n",
      "                                              utterance   speaker   \n",
      "2586  See now that I see crying over, but Bambi, is ...  CHANDLER  \\\n",
      "\n",
      "                                                context context_speakers   \n",
      "2586  [You know whats sadder than this? Bambi. I cri...         [PHOEBE]  \\\n",
      "\n",
      "         show  sarcasm  \n",
      "2586  FRIENDS     True  \n",
      "2586    True\n",
      "Name: sarcasm, dtype: bool\n"
     ]
    },
    {
     "name": "stderr",
     "output_type": "stream",
     "text": [
      "\r"
     ]
    },
    {
     "name": "stdout",
     "output_type": "stream",
     "text": [
      "MoviePy - Writing audio in ./audio_extracted_yes/2586.mp3\n"
     ]
    },
    {
     "name": "stderr",
     "output_type": "stream",
     "text": [
      "                                                                  "
     ]
    },
    {
     "name": "stdout",
     "output_type": "stream",
     "text": [
      "MoviePy - Done.\n",
      "                                              utterance  speaker   \n",
      "2587  Oh yes Blanche, about a half hour ago. But now...  DOROTHY  \\\n",
      "\n",
      "                    context context_speakers         show  sarcasm  \n",
      "2587  [Have you found her?]        [BLANCHE]  GOLDENGIRLS     True  \n",
      "2587    True\n",
      "Name: sarcasm, dtype: bool\n"
     ]
    },
    {
     "name": "stderr",
     "output_type": "stream",
     "text": [
      "\r"
     ]
    },
    {
     "name": "stdout",
     "output_type": "stream",
     "text": [
      "MoviePy - Writing audio in ./audio_extracted_yes/2587.mp3\n"
     ]
    },
    {
     "name": "stderr",
     "output_type": "stream",
     "text": [
      "                                                                   "
     ]
    },
    {
     "name": "stdout",
     "output_type": "stream",
     "text": [
      "MoviePy - Done.\n",
      "                                               utterance speaker   \n",
      "12580  Okay, here's an idea. What if I change my name...  HOWARD  \\\n",
      "\n",
      "                                                 context   \n",
      "12580  [It's actually a very elegant system. You know...  \\\n",
      "\n",
      "                                context_speakers show  sarcasm  \n",
      "12580  [RAJ, HOWARD, RAJ, SHELDON, RAJ, SHELDON]  BBT     True  \n",
      "12580    True\n",
      "Name: sarcasm, dtype: bool\n"
     ]
    },
    {
     "name": "stderr",
     "output_type": "stream",
     "text": [
      "\r"
     ]
    },
    {
     "name": "stdout",
     "output_type": "stream",
     "text": [
      "MoviePy - Writing audio in ./audio_extracted_yes/12580.mp3\n"
     ]
    },
    {
     "name": "stderr",
     "output_type": "stream",
     "text": [
      "                                                                  "
     ]
    },
    {
     "name": "stdout",
     "output_type": "stream",
     "text": [
      "MoviePy - Done.\n",
      "                                               utterance speaker   \n",
      "18052  Like Burt and Ernie. You guys even teach me st...   PENNY  \\\n",
      "\n",
      "                                                 context  context_speakers   \n",
      "18052  [I swear, that man is the most egotistical, in...  [LEONARD, PENNY]  \\\n",
      "\n",
      "      show  sarcasm  \n",
      "18052  BBT     True  \n",
      "18052    True\n",
      "Name: sarcasm, dtype: bool\n"
     ]
    },
    {
     "name": "stderr",
     "output_type": "stream",
     "text": [
      "\r"
     ]
    },
    {
     "name": "stdout",
     "output_type": "stream",
     "text": [
      "MoviePy - Writing audio in ./audio_extracted_yes/18052.mp3\n"
     ]
    },
    {
     "name": "stderr",
     "output_type": "stream",
     "text": [
      "                                                                  "
     ]
    },
    {
     "name": "stdout",
     "output_type": "stream",
     "text": [
      "MoviePy - Done.\n",
      "                                              utterance  speaker   \n",
      "2222  The little man who lives in there, who turns t...  DOROTHY  \\\n",
      "\n",
      "                                 context context_speakers         show   \n",
      "2222  [How would I know if they fog up?]           [ROSE]  GOLDENGIRLS  \\\n",
      "\n",
      "      sarcasm  \n",
      "2222     True  \n",
      "2222    True\n",
      "Name: sarcasm, dtype: bool\n"
     ]
    },
    {
     "name": "stderr",
     "output_type": "stream",
     "text": [
      "\r"
     ]
    },
    {
     "name": "stdout",
     "output_type": "stream",
     "text": [
      "MoviePy - Writing audio in ./audio_extracted_yes/2222.mp3\n"
     ]
    },
    {
     "name": "stderr",
     "output_type": "stream",
     "text": [
      "                                                        "
     ]
    },
    {
     "name": "stdout",
     "output_type": "stream",
     "text": [
      "MoviePy - Done.\n",
      "                                              utterance   speaker   \n",
      "2236  Gee, if only she were one and had no idea what...  CHANDLER  \\\n",
      "\n",
      "                                                context   \n",
      "2236  [You can't go away this weekend, its Emma's bi...  \\\n",
      "\n",
      "              context_speakers     show  sarcasm  \n",
      "2236  [RACHEL, MONICA, RACHEL]  FRIENDS     True  \n",
      "2236    True\n",
      "Name: sarcasm, dtype: bool\n"
     ]
    },
    {
     "name": "stderr",
     "output_type": "stream",
     "text": [
      "\r"
     ]
    },
    {
     "name": "stdout",
     "output_type": "stream",
     "text": [
      "MoviePy - Writing audio in ./audio_extracted_yes/2236.mp3\n"
     ]
    },
    {
     "name": "stderr",
     "output_type": "stream",
     "text": [
      "                                                                  "
     ]
    },
    {
     "name": "stdout",
     "output_type": "stream",
     "text": [
      "MoviePy - Done.\n",
      "                     utterance   speaker   \n",
      "2550  All right I'll have one.  CHANDLER  \\\n",
      "\n",
      "                                                context    context_speakers   \n",
      "2550  [I will have one. Okay, I'm not gonna have one...  [CHANDLER, PHOEBE]  \\\n",
      "\n",
      "         show  sarcasm  \n",
      "2550  FRIENDS     True  \n",
      "2550    True\n",
      "Name: sarcasm, dtype: bool\n"
     ]
    },
    {
     "name": "stderr",
     "output_type": "stream",
     "text": [
      "\r"
     ]
    },
    {
     "name": "stdout",
     "output_type": "stream",
     "text": [
      "MoviePy - Writing audio in ./audio_extracted_yes/2550.mp3\n"
     ]
    },
    {
     "name": "stderr",
     "output_type": "stream",
     "text": [
      "                                                       "
     ]
    },
    {
     "name": "stdout",
     "output_type": "stream",
     "text": [
      "MoviePy - Done.\n",
      "                                               utterance speaker   \n",
      "13649  Oh, no, no, I said I'm inviting you to come wi...   PENNY  \\\n",
      "\n",
      "                                                 context   \n",
      "13649  [Hi. I'm Penny. This is my friend, Sheldon., W...  \\\n",
      "\n",
      "                               context_speakers show  sarcasm  \n",
      "13649  [PENNY, SHELDON, PENNY, PERSON, SHELDON]  BBT    False  \n",
      "13649    False\n",
      "Name: sarcasm, dtype: bool\n"
     ]
    },
    {
     "name": "stderr",
     "output_type": "stream",
     "text": [
      "\r"
     ]
    },
    {
     "name": "stdout",
     "output_type": "stream",
     "text": [
      "MoviePy - Writing audio in ./audio_extracted_no/13649.mp3\n"
     ]
    },
    {
     "name": "stderr",
     "output_type": "stream",
     "text": [
      "                                                       "
     ]
    },
    {
     "name": "stdout",
     "output_type": "stream",
     "text": [
      "MoviePy - Done.\n",
      "                                               utterance speaker   \n",
      "15953  Here's some other fun news on the Raj/Emily fr...  HOWARD  \\\n",
      "\n",
      "                                                 context   \n",
      "15953  [because you no longer wear underpants., The d...  \\\n",
      "\n",
      "                                        context_speakers show  sarcasm  \n",
      "15953  [LEONARD, SHELDON, PENNY, LEONARD, PENNY, SHEL...  BBT    False  \n",
      "15953    False\n",
      "Name: sarcasm, dtype: bool\n"
     ]
    },
    {
     "name": "stderr",
     "output_type": "stream",
     "text": [
      "\r"
     ]
    },
    {
     "name": "stdout",
     "output_type": "stream",
     "text": [
      "MoviePy - Writing audio in ./audio_extracted_no/15953.mp3\n"
     ]
    },
    {
     "name": "stderr",
     "output_type": "stream",
     "text": [
      "                                                                   "
     ]
    },
    {
     "name": "stdout",
     "output_type": "stream",
     "text": [
      "MoviePy - Done.\n",
      "                        utterance  speaker   \n",
      "289  On the home shopping network  DOROTHY  \\\n",
      "\n",
      "                                               context   \n",
      "289  [We clinked at the glasses, Stan gave me a toy...  \\\n",
      "\n",
      "                                      context_speakers         show  sarcasm  \n",
      "289  [DOROTHY, DOROTHY, DOROTHY, DOROTHY, DOROTHY, ...  GOLDENGIRLS     True  \n",
      "289    True\n",
      "Name: sarcasm, dtype: bool\n"
     ]
    },
    {
     "name": "stderr",
     "output_type": "stream",
     "text": [
      "\r"
     ]
    },
    {
     "name": "stdout",
     "output_type": "stream",
     "text": [
      "MoviePy - Writing audio in ./audio_extracted_yes/289.mp3\n"
     ]
    },
    {
     "name": "stderr",
     "output_type": "stream",
     "text": [
      "                                                       "
     ]
    },
    {
     "name": "stdout",
     "output_type": "stream",
     "text": [
      "MoviePy - Done.\n",
      "                                    utterance   speaker   \n",
      "2197  Ah your own brand of vigilante justice.  CHANDLER  \\\n",
      "\n",
      "                                                context context_speakers   \n",
      "2197  [Did you call the cops?, No, we took her to lu...   [JOEY, RACHEL]  \\\n",
      "\n",
      "         show  sarcasm  \n",
      "2197  FRIENDS     True  \n",
      "2197    True\n",
      "Name: sarcasm, dtype: bool\n"
     ]
    },
    {
     "name": "stderr",
     "output_type": "stream",
     "text": [
      "\r"
     ]
    },
    {
     "name": "stdout",
     "output_type": "stream",
     "text": [
      "MoviePy - Writing audio in ./audio_extracted_yes/2197.mp3\n"
     ]
    },
    {
     "name": "stderr",
     "output_type": "stream",
     "text": [
      "                                                                  "
     ]
    },
    {
     "name": "stdout",
     "output_type": "stream",
     "text": [
      "MoviePy - Done.\n",
      "        utterance   speaker                      context  context_speakers   \n",
      "2183  No, rabies.  CHANDLER  [What what?, Hey, shaving?]  [CHANDLER, JOEY]  \\\n",
      "\n",
      "         show  sarcasm  \n",
      "2183  FRIENDS     True  \n",
      "2183    True\n",
      "Name: sarcasm, dtype: bool\n"
     ]
    },
    {
     "name": "stderr",
     "output_type": "stream",
     "text": [
      "\r"
     ]
    },
    {
     "name": "stdout",
     "output_type": "stream",
     "text": [
      "MoviePy - Writing audio in ./audio_extracted_yes/2183.mp3\n"
     ]
    },
    {
     "name": "stderr",
     "output_type": "stream",
     "text": [
      "                                                       "
     ]
    },
    {
     "name": "stdout",
     "output_type": "stream",
     "text": [
      "MoviePy - Done.\n",
      "                                                utterance speaker   \n",
      "111021  Same as all of us, getting out of a car withou...   PENNY  \\\n",
      "\n",
      "                                                  context   \n",
      "111021  [So, what are you working on these days?, I'm ...  \\\n",
      "\n",
      "                     context_speakers show  sarcasm  \n",
      "111021  [BERNADETTE, AMY, BERNADETTE]  BBT     True  \n",
      "111021    True\n",
      "Name: sarcasm, dtype: bool\n"
     ]
    },
    {
     "name": "stderr",
     "output_type": "stream",
     "text": [
      "\r"
     ]
    },
    {
     "name": "stdout",
     "output_type": "stream",
     "text": [
      "MoviePy - Writing audio in ./audio_extracted_yes/111021.mp3\n"
     ]
    },
    {
     "name": "stderr",
     "output_type": "stream",
     "text": [
      "                                                                  "
     ]
    },
    {
     "name": "stdout",
     "output_type": "stream",
     "text": [
      "MoviePy - Done.\n",
      "                                            utterance speaker   \n",
      "2154  Okay, does this look like a garbage can to you?  PHOEBE  \\\n",
      "\n",
      "                                                context context_speakers   \n",
      "2154  [Nobody respects the bucket! You wouldn't beli...         [PHOEBE]  \\\n",
      "\n",
      "         show  sarcasm  \n",
      "2154  FRIENDS    False  \n",
      "2154    False\n",
      "Name: sarcasm, dtype: bool\n"
     ]
    },
    {
     "name": "stderr",
     "output_type": "stream",
     "text": [
      "\r"
     ]
    },
    {
     "name": "stdout",
     "output_type": "stream",
     "text": [
      "MoviePy - Writing audio in ./audio_extracted_no/2154.mp3\n"
     ]
    },
    {
     "name": "stderr",
     "output_type": "stream",
     "text": [
      "                                                       "
     ]
    },
    {
     "name": "stdout",
     "output_type": "stream",
     "text": [
      "MoviePy - Done.\n",
      "                                            utterance speaker   \n",
      "15166  Yeah, it's a great time to be alive, isn't it?   PENNY  \\\n",
      "\n",
      "                                                 context   \n",
      "15166  [but the driver didn't look at all like the ph...  \\\n",
      "\n",
      "                             context_speakers show  sarcasm  \n",
      "15166  [SHELDON, AMY, PENNY, AMY, PENNY, AMY]  BBT     True  \n",
      "15166    True\n",
      "Name: sarcasm, dtype: bool\n"
     ]
    },
    {
     "name": "stderr",
     "output_type": "stream",
     "text": [
      "\r"
     ]
    },
    {
     "name": "stdout",
     "output_type": "stream",
     "text": [
      "MoviePy - Writing audio in ./audio_extracted_yes/15166.mp3\n"
     ]
    },
    {
     "name": "stderr",
     "output_type": "stream",
     "text": [
      "                                                       "
     ]
    },
    {
     "name": "stdout",
     "output_type": "stream",
     "text": [
      "MoviePy - Done.\n",
      "                                               utterance  speaker   \n",
      "11466  Maybe when I publish it, I'll include an inhaler.  SHELDON  \\\n",
      "\n",
      "                                                 context  context_speakers   \n",
      "11466  [Excuse me, Dr. Cooper. I'm Kathy O'Brien., I ...  [PERSON, PERSON]  \\\n",
      "\n",
      "      show  sarcasm  \n",
      "11466  BBT     True  \n",
      "11466    True\n",
      "Name: sarcasm, dtype: bool\n"
     ]
    },
    {
     "name": "stderr",
     "output_type": "stream",
     "text": [
      "\r"
     ]
    },
    {
     "name": "stdout",
     "output_type": "stream",
     "text": [
      "MoviePy - Writing audio in ./audio_extracted_yes/11466.mp3\n"
     ]
    },
    {
     "name": "stderr",
     "output_type": "stream",
     "text": [
      "                                                       "
     ]
    },
    {
     "name": "stdout",
     "output_type": "stream",
     "text": [
      "MoviePy - Done.\n",
      "                                              utterance speaker   \n",
      "2626  Cause all I ever get to do now is pregnant stu...  PHOEBE  \\\n",
      "\n",
      "                                                context    context_speakers   \n",
      "2626  [All right, y'know what, we've been talking ab...  [CHANDLER, PHOEBE]  \\\n",
      "\n",
      "         show  sarcasm  \n",
      "2626  FRIENDS    False  \n",
      "2626    False\n",
      "Name: sarcasm, dtype: bool\n"
     ]
    },
    {
     "name": "stderr",
     "output_type": "stream",
     "text": [
      "\r"
     ]
    },
    {
     "name": "stdout",
     "output_type": "stream",
     "text": [
      "MoviePy - Writing audio in ./audio_extracted_no/2626.mp3\n"
     ]
    },
    {
     "name": "stderr",
     "output_type": "stream",
     "text": [
      "                                                       "
     ]
    },
    {
     "name": "stdout",
     "output_type": "stream",
     "text": [
      "MoviePy - Done.\n",
      "                 utterance    speaker           context context_speakers   \n",
      "2140  Sarcastic? Us? Nooo.  MODERATOR  [No seriouslty.]          [SCOTT]  \\\n",
      "\n",
      "                show  sarcasm  \n",
      "2140  SARCASMOHOLICS     True  \n",
      "2140    True\n",
      "Name: sarcasm, dtype: bool\n"
     ]
    },
    {
     "name": "stderr",
     "output_type": "stream",
     "text": [
      "\r"
     ]
    },
    {
     "name": "stdout",
     "output_type": "stream",
     "text": [
      "MoviePy - Writing audio in ./audio_extracted_yes/2140.mp3\n"
     ]
    },
    {
     "name": "stderr",
     "output_type": "stream",
     "text": [
      "                                                       "
     ]
    },
    {
     "name": "stdout",
     "output_type": "stream",
     "text": [
      "MoviePy - Done.\n",
      "            utterance   speaker                                     context   \n",
      "2168  Did I wake you?  CHANDLER  [Are you kidding me? Joey Joey Joey Joey!]  \\\n",
      "\n",
      "     context_speakers     show  sarcasm  \n",
      "2168       [CHANDLER]  FRIENDS     True  \n",
      "2168    True\n",
      "Name: sarcasm, dtype: bool\n"
     ]
    },
    {
     "name": "stderr",
     "output_type": "stream",
     "text": [
      "\r"
     ]
    },
    {
     "name": "stdout",
     "output_type": "stream",
     "text": [
      "MoviePy - Writing audio in ./audio_extracted_yes/2168.mp3\n"
     ]
    },
    {
     "name": "stderr",
     "output_type": "stream",
     "text": [
      "                                                                    "
     ]
    },
    {
     "name": "stdout",
     "output_type": "stream",
     "text": [
      "MoviePy - Done.\n",
      "                                               utterance speaker   \n",
      "13259  No, I mean Princess Leia. Of course I mean Ber...  PERSON  \\\n",
      "\n",
      "                                                 context   \n",
      "13259  [Thank you., So, shall we get started?, Sure.\\...  \\\n",
      "\n",
      "                                       context_speakers show  sarcasm  \n",
      "13259  [HOWARD, HOWARD, PERSON, HOWARD, PERSON, HOWARD]  BBT     True  \n",
      "13259    True\n",
      "Name: sarcasm, dtype: bool\n"
     ]
    },
    {
     "name": "stderr",
     "output_type": "stream",
     "text": [
      "\r"
     ]
    },
    {
     "name": "stdout",
     "output_type": "stream",
     "text": [
      "MoviePy - Writing audio in ./audio_extracted_yes/13259.mp3\n"
     ]
    },
    {
     "name": "stderr",
     "output_type": "stream",
     "text": [
      "                                                                   "
     ]
    },
    {
     "name": "stdout",
     "output_type": "stream",
     "text": [
      "MoviePy - Done.\n",
      "     utterance    speaker                          context context_speakers   \n",
      "2381     Noo..  MODERATOR  [[nodding] - Was that sarcasm?]          [SCOTT]  \\\n",
      "\n",
      "                show  sarcasm  \n",
      "2381  SARCASMOHOLICS     True  \n",
      "2381    True\n",
      "Name: sarcasm, dtype: bool\n"
     ]
    },
    {
     "name": "stderr",
     "output_type": "stream",
     "text": [
      "\r"
     ]
    },
    {
     "name": "stdout",
     "output_type": "stream",
     "text": [
      "MoviePy - Writing audio in ./audio_extracted_yes/2381.mp3\n"
     ]
    },
    {
     "name": "stderr",
     "output_type": "stream",
     "text": [
      "                                                       "
     ]
    },
    {
     "name": "stdout",
     "output_type": "stream",
     "text": [
      "MoviePy - Done.\n",
      "                                              utterance   speaker   \n",
      "2430  I guess you would know that or else we would b...  CHANDLER  \\\n",
      "\n",
      "                                 context context_speakers     show  sarcasm  \n",
      "2430  [Listen it's kind of an emergency]       [CHANDLER]  FRIENDS     True  \n",
      "2430    True\n",
      "Name: sarcasm, dtype: bool\n"
     ]
    },
    {
     "name": "stderr",
     "output_type": "stream",
     "text": [
      "\r"
     ]
    },
    {
     "name": "stdout",
     "output_type": "stream",
     "text": [
      "MoviePy - Writing audio in ./audio_extracted_yes/2430.mp3\n"
     ]
    },
    {
     "name": "stderr",
     "output_type": "stream",
     "text": [
      "                                                        "
     ]
    },
    {
     "name": "stdout",
     "output_type": "stream",
     "text": [
      "MoviePy - Done.\n",
      "     utterance speaker                                            context   \n",
      "2356     Yeah.  PERSON  [I mean, your Dad tells me that you get a coup...  \\\n",
      "\n",
      "          context_speakers     show  sarcasm  \n",
      "2356  [ROSS, PERSON, ROSS]  FRIENDS    False  \n",
      "2356    False\n",
      "Name: sarcasm, dtype: bool\n"
     ]
    },
    {
     "name": "stderr",
     "output_type": "stream",
     "text": [
      "\r"
     ]
    },
    {
     "name": "stdout",
     "output_type": "stream",
     "text": [
      "MoviePy - Writing audio in ./audio_extracted_no/2356.mp3\n"
     ]
    },
    {
     "name": "stderr",
     "output_type": "stream",
     "text": [
      "                                                       "
     ]
    },
    {
     "name": "stdout",
     "output_type": "stream",
     "text": [
      "MoviePy - Done.\n",
      "                        utterance  speaker   \n",
      "2342  In what Blanche, dog years?  DOROTHY  \\\n",
      "\n",
      "                                                context    context_speakers   \n",
      "2342  [Was there ever any doubt?, Momentarily. This ...  [DOROTHY, BLANCHE]  \\\n",
      "\n",
      "             show  sarcasm  \n",
      "2342  GOLDENGIRLS     True  \n",
      "2342    True\n",
      "Name: sarcasm, dtype: bool\n"
     ]
    },
    {
     "name": "stderr",
     "output_type": "stream",
     "text": [
      "\r"
     ]
    },
    {
     "name": "stdout",
     "output_type": "stream",
     "text": [
      "MoviePy - Writing audio in ./audio_extracted_yes/2342.mp3\n"
     ]
    },
    {
     "name": "stderr",
     "output_type": "stream",
     "text": [
      "                                                                    "
     ]
    },
    {
     "name": "stdout",
     "output_type": "stream",
     "text": [
      "MoviePy - Done.\n",
      "                                               utterance  speaker   \n",
      "12423  Provided he has already read and is familiar w...  SHELDON  \\\n",
      "\n",
      "                                                 context   \n",
      "12423  [Everybody's staring at me., Don't worry, they...  \\\n",
      "\n",
      "                                     context_speakers show  sarcasm  \n",
      "12423  [PENNY, LEONARD, PENNY, PENNY, SHELDON, PENNY]  BBT    False  \n",
      "12423    False\n",
      "Name: sarcasm, dtype: bool\n"
     ]
    },
    {
     "name": "stderr",
     "output_type": "stream",
     "text": [
      "\r"
     ]
    },
    {
     "name": "stdout",
     "output_type": "stream",
     "text": [
      "MoviePy - Writing audio in ./audio_extracted_no/12423.mp3\n"
     ]
    },
    {
     "name": "stderr",
     "output_type": "stream",
     "text": [
      "                                                                   "
     ]
    },
    {
     "name": "stdout",
     "output_type": "stream",
     "text": [
      "MoviePy - Done.\n",
      "                                               utterance  speaker   \n",
      "16645  Well, that wady took high-wes pictures of my j...  PERSON1  \\\n",
      "\n",
      "                                                 context   \n",
      "16645  [(chimes) Wisten to me.\\nNot westauwant; westa...  \\\n",
      "\n",
      "                       context_speakers show  sarcasm  \n",
      "16645  [PERSON1, PERSON2, PERSON1, RAJ]  BBT    False  \n",
      "16645    False\n",
      "Name: sarcasm, dtype: bool\n"
     ]
    },
    {
     "name": "stderr",
     "output_type": "stream",
     "text": [
      "\r"
     ]
    },
    {
     "name": "stdout",
     "output_type": "stream",
     "text": [
      "MoviePy - Writing audio in ./audio_extracted_no/16645.mp3\n"
     ]
    },
    {
     "name": "stderr",
     "output_type": "stream",
     "text": [
      "                                                                  "
     ]
    },
    {
     "name": "stdout",
     "output_type": "stream",
     "text": [
      "MoviePy - Done.\n",
      "                                              utterance   speaker   \n",
      "2420  No you are not Chandler, we still love you Cha...  CHANDLER  \\\n",
      "\n",
      "                                                context   \n",
      "2420  [Okay you are right, I am in love with Joey's ...  \\\n",
      "\n",
      "                  context_speakers     show  sarcasm  \n",
      "2420  [CHANDLER, PHOEBE, CHANDLER]  FRIENDS     True  \n",
      "2420    True\n",
      "Name: sarcasm, dtype: bool\n"
     ]
    },
    {
     "name": "stderr",
     "output_type": "stream",
     "text": [
      "\r"
     ]
    },
    {
     "name": "stdout",
     "output_type": "stream",
     "text": [
      "MoviePy - Writing audio in ./audio_extracted_yes/2420.mp3\n"
     ]
    },
    {
     "name": "stderr",
     "output_type": "stream",
     "text": [
      "                                                                    "
     ]
    },
    {
     "name": "stdout",
     "output_type": "stream",
     "text": [
      "MoviePy - Done.\n",
      "                                               utterance speaker   \n",
      "18136  Yeah, I'm really looking forward to it. In fac...  PERSON  \\\n",
      "\n",
      "                                                 context context_speakers   \n",
      "18136  [It's nice that all the people who are lonely ...            [RAJ]  \\\n",
      "\n",
      "      show  sarcasm  \n",
      "18136  BBT     True  \n",
      "18136    True\n",
      "Name: sarcasm, dtype: bool\n"
     ]
    },
    {
     "name": "stderr",
     "output_type": "stream",
     "text": [
      "\r"
     ]
    },
    {
     "name": "stdout",
     "output_type": "stream",
     "text": [
      "MoviePy - Writing audio in ./audio_extracted_yes/18136.mp3\n"
     ]
    },
    {
     "name": "stderr",
     "output_type": "stream",
     "text": [
      "                                                                   "
     ]
    },
    {
     "name": "stdout",
     "output_type": "stream",
     "text": [
      "MoviePy - Done.\n",
      "                      utterance  speaker   \n",
      "2352  No Rose, it stands alone.  DOROTHY  \\\n",
      "\n",
      "                                                context   \n",
      "2352  [What are you seeing?, Nightmare on Elm Street...  \\\n",
      "\n",
      "             context_speakers         show  sarcasm  \n",
      "2352  [PERSON, BLANCHE, ROSE]  GOLDENGIRLS     True  \n",
      "2352    True\n",
      "Name: sarcasm, dtype: bool\n"
     ]
    },
    {
     "name": "stderr",
     "output_type": "stream",
     "text": [
      "\r"
     ]
    },
    {
     "name": "stdout",
     "output_type": "stream",
     "text": [
      "MoviePy - Writing audio in ./audio_extracted_yes/2352.mp3\n"
     ]
    },
    {
     "name": "stderr",
     "output_type": "stream",
     "text": [
      "                                                       "
     ]
    },
    {
     "name": "stdout",
     "output_type": "stream",
     "text": [
      "MoviePy - Done.\n",
      "                         utterance   speaker                          context   \n",
      "2434  We can? Ok I am trying that.  CHANDLER  [You guys can pee standing up.]  \\\n",
      "\n",
      "     context_speakers     show  sarcasm  \n",
      "2434         [RACHEL]  FRIENDS     True  \n",
      "2434    True\n",
      "Name: sarcasm, dtype: bool\n"
     ]
    },
    {
     "name": "stderr",
     "output_type": "stream",
     "text": [
      "\r"
     ]
    },
    {
     "name": "stdout",
     "output_type": "stream",
     "text": [
      "MoviePy - Writing audio in ./audio_extracted_yes/2434.mp3\n"
     ]
    },
    {
     "name": "stderr",
     "output_type": "stream",
     "text": [
      "                                                       "
     ]
    },
    {
     "name": "stdout",
     "output_type": "stream",
     "text": [
      "MoviePy - Done.\n",
      "                                              utterance   speaker   \n",
      "2408  Okay, but if you are not coming back soon, the...  CHANDLER  \\\n",
      "\n",
      "                                                context   \n",
      "2408  [Saucy., I'll be back in two minutes., You are...  \\\n",
      "\n",
      "                          context_speakers     show  sarcasm  \n",
      "2408  [CHANDLER, PERSON, CHANDLER, PERSON]  FRIENDS     True  \n",
      "2408    True\n",
      "Name: sarcasm, dtype: bool\n"
     ]
    },
    {
     "name": "stderr",
     "output_type": "stream",
     "text": [
      "\r"
     ]
    },
    {
     "name": "stdout",
     "output_type": "stream",
     "text": [
      "MoviePy - Writing audio in ./audio_extracted_yes/2408.mp3\n"
     ]
    },
    {
     "name": "stderr",
     "output_type": "stream",
     "text": [
      "                                                                    "
     ]
    },
    {
     "name": "stdout",
     "output_type": "stream",
     "text": [
      "MoviePy - Done.\n",
      "                               utterance speaker   \n",
      "2385  No, I know, but I,he just went on.  RACHEL  \\\n",
      "\n",
      "                                                context   \n",
      "2385  [May I see your boarding pass?, Oh, no, no, I ...  \\\n",
      "\n",
      "              context_speakers     show  sarcasm  \n",
      "2385  [RACHEL, PERSON, RACHEL]  FRIENDS    False  \n",
      "2385    False\n",
      "Name: sarcasm, dtype: bool\n"
     ]
    },
    {
     "name": "stderr",
     "output_type": "stream",
     "text": [
      "\r"
     ]
    },
    {
     "name": "stdout",
     "output_type": "stream",
     "text": [
      "MoviePy - Writing audio in ./audio_extracted_no/2385.mp3\n"
     ]
    },
    {
     "name": "stderr",
     "output_type": "stream",
     "text": [
      "                                                       "
     ]
    },
    {
     "name": "stdout",
     "output_type": "stream",
     "text": [
      "MoviePy - Done.\n",
      "            utterance  speaker   \n",
      "2144  Lords of Arabia  DOROTHY  \\\n",
      "\n",
      "                                                context context_speakers   \n",
      "2144  [Well ofcourse Blanche , they did it in that m...  [DOROTHY, ROSE]  \\\n",
      "\n",
      "             show  sarcasm  \n",
      "2144  GOLDENGIRLS     True  \n",
      "2144    True\n",
      "Name: sarcasm, dtype: bool\n"
     ]
    },
    {
     "name": "stderr",
     "output_type": "stream",
     "text": [
      "\r"
     ]
    },
    {
     "name": "stdout",
     "output_type": "stream",
     "text": [
      "MoviePy - Writing audio in ./audio_extracted_yes/2144.mp3\n"
     ]
    },
    {
     "name": "stderr",
     "output_type": "stream",
     "text": [
      "                                                       "
     ]
    },
    {
     "name": "stdout",
     "output_type": "stream",
     "text": [
      "MoviePy - Done.\n",
      "                                               utterance speaker   \n",
      "18452  I think I'm gonna go. Thank you for the burrit...  PERSON  \\\n",
      "\n",
      "                                                 context   \n",
      "18452  [Probably because I didn't read the instructio...  \\\n",
      "\n",
      "                           context_speakers show  sarcasm  \n",
      "18452  [RAJ, RAJ, PERSON, RAJ, PERSON, RAJ]  BBT     True  \n",
      "18452    True\n",
      "Name: sarcasm, dtype: bool\n"
     ]
    },
    {
     "name": "stderr",
     "output_type": "stream",
     "text": [
      "\r"
     ]
    },
    {
     "name": "stdout",
     "output_type": "stream",
     "text": [
      "MoviePy - Writing audio in ./audio_extracted_yes/18452.mp3\n"
     ]
    },
    {
     "name": "stderr",
     "output_type": "stream",
     "text": [
      "                                                                    \r"
     ]
    },
    {
     "name": "stdout",
     "output_type": "stream",
     "text": [
      "MoviePy - Done.\n",
      "                                              utterance   speaker   \n",
      "2622  Pheebs, you may know this, you know strange th...  CHANDLER  \\\n",
      "\n",
      "                                                context context_speakers   \n",
      "2622  [Maybe I should get another pair. Oh, you know...           [ROSS]  \\\n",
      "\n",
      "         show  sarcasm  \n",
      "2622  FRIENDS     True  \n",
      "2622    True\n",
      "Name: sarcasm, dtype: bool\n",
      "MoviePy - Writing audio in ./audio_extracted_yes/2622.mp3\n"
     ]
    },
    {
     "name": "stderr",
     "output_type": "stream",
     "text": [
      "                                                                   "
     ]
    },
    {
     "name": "stdout",
     "output_type": "stream",
     "text": [
      "MoviePy - Done.\n",
      "                                              utterance speaker   \n",
      "2150  Take your shirt off, and let's see what we're ...  PERSON  \\\n",
      "\n",
      "                                                context context_speakers   \n",
      "2150  [Just your run-of-the-mill third nipple. You c...           [ROSS]  \\\n",
      "\n",
      "         show  sarcasm  \n",
      "2150  FRIENDS    False  \n",
      "2150    False\n",
      "Name: sarcasm, dtype: bool\n"
     ]
    },
    {
     "name": "stderr",
     "output_type": "stream",
     "text": [
      "\r"
     ]
    },
    {
     "name": "stdout",
     "output_type": "stream",
     "text": [
      "MoviePy - Writing audio in ./audio_extracted_no/2150.mp3\n"
     ]
    },
    {
     "name": "stderr",
     "output_type": "stream",
     "text": [
      "                                                                    "
     ]
    },
    {
     "name": "stdout",
     "output_type": "stream",
     "text": [
      "MoviePy - Done.\n",
      "                                              utterance   speaker     context   \n",
      "2178  This is so good, that I am gonna enjoy it in t...  CHANDLER  [Mmm, Mmm]  \\\n",
      "\n",
      "      context_speakers     show  sarcasm  \n",
      "2178  [CHANDLER, ROSS]  FRIENDS     True  \n",
      "2178    True\n",
      "Name: sarcasm, dtype: bool\n"
     ]
    },
    {
     "name": "stderr",
     "output_type": "stream",
     "text": [
      "\r"
     ]
    },
    {
     "name": "stdout",
     "output_type": "stream",
     "text": [
      "MoviePy - Writing audio in ./audio_extracted_yes/2178.mp3\n"
     ]
    },
    {
     "name": "stderr",
     "output_type": "stream",
     "text": [
      "                                                                    "
     ]
    },
    {
     "name": "stdout",
     "output_type": "stream",
     "text": [
      "MoviePy - Done.\n",
      "                                              utterance   speaker   \n",
      "2187  That's so funny because you look more like Joe...  CHANDLER  \\\n",
      "\n",
      "                                                context  context_speakers   \n",
      "2187  [And this from cry for help department, are yo...  [CHANDLER, JOEY]  \\\n",
      "\n",
      "         show  sarcasm  \n",
      "2187  FRIENDS     True  \n",
      "2187    True\n",
      "Name: sarcasm, dtype: bool\n"
     ]
    },
    {
     "name": "stderr",
     "output_type": "stream",
     "text": [
      "\r"
     ]
    },
    {
     "name": "stdout",
     "output_type": "stream",
     "text": [
      "MoviePy - Writing audio in ./audio_extracted_yes/2187.mp3\n"
     ]
    },
    {
     "name": "stderr",
     "output_type": "stream",
     "text": [
      "                                                        "
     ]
    },
    {
     "name": "stdout",
     "output_type": "stream",
     "text": [
      "MoviePy - Done.\n",
      "                                              utterance speaker   \n",
      "2193  Yeah, a slice of cheesecake and-and a date if ...  PERSON  \\\n",
      "\n",
      "                                                context   \n",
      "2193  [You gotta help me out here, you gotta set me ...  \\\n",
      "\n",
      "              context_speakers     show  sarcasm  \n",
      "2193  [MONICA, RACHEL, MONICA]  FRIENDS    False  \n",
      "2193    False\n",
      "Name: sarcasm, dtype: bool\n"
     ]
    },
    {
     "name": "stderr",
     "output_type": "stream",
     "text": [
      "\r"
     ]
    },
    {
     "name": "stdout",
     "output_type": "stream",
     "text": [
      "MoviePy - Writing audio in ./audio_extracted_no/2193.mp3\n"
     ]
    },
    {
     "name": "stderr",
     "output_type": "stream",
     "text": [
      "                                                       "
     ]
    },
    {
     "name": "stdout",
     "output_type": "stream",
     "text": [
      "MoviePy - Done.\n",
      "                                         utterance speaker   \n",
      "299  All right, cut, let's pick again, pick again.  RACHEL  \\\n",
      "\n",
      "                                               context   \n",
      "299  [What? Ace is high! Jack, queen, king, ace!, N...  \\\n",
      "\n",
      "           context_speakers     show  sarcasm  \n",
      "299  [JOEY, MONICA, PHOEBE]  FRIENDS    False  \n",
      "299    False\n",
      "Name: sarcasm, dtype: bool\n"
     ]
    },
    {
     "name": "stderr",
     "output_type": "stream",
     "text": [
      "\r"
     ]
    },
    {
     "name": "stdout",
     "output_type": "stream",
     "text": [
      "MoviePy - Writing audio in ./audio_extracted_no/299.mp3\n"
     ]
    },
    {
     "name": "stderr",
     "output_type": "stream",
     "text": [
      "                                                       "
     ]
    },
    {
     "name": "stdout",
     "output_type": "stream",
     "text": [
      "MoviePy - Done.\n",
      "                                               utterance speaker   \n",
      "15758  Oh, I could so see you being the face of hemor...     AMY  \\\n",
      "\n",
      "                                                 context   \n",
      "15758  [It's like a waterfall of liquid gold., My tur...  \\\n",
      "\n",
      "                      context_speakers show  sarcasm  \n",
      "15758  [AMY, AMY, PENNY, PENNY, PENNY]  BBT     True  \n",
      "15758    True\n",
      "Name: sarcasm, dtype: bool\n"
     ]
    },
    {
     "name": "stderr",
     "output_type": "stream",
     "text": [
      "\r"
     ]
    },
    {
     "name": "stdout",
     "output_type": "stream",
     "text": [
      "MoviePy - Writing audio in ./audio_extracted_yes/15758.mp3\n"
     ]
    },
    {
     "name": "stderr",
     "output_type": "stream",
     "text": [
      "                                                                  "
     ]
    },
    {
     "name": "stdout",
     "output_type": "stream",
     "text": [
      "MoviePy - Done.\n",
      "                                      utterance   speaker   \n",
      "266  Nice jon Joe, you are quite the craftsman!  CHANDLER  \\\n",
      "\n",
      "                                               context   \n",
      "266  [What are you doing?, Key is stuck in the lock...  \\\n",
      "\n",
      "                           context_speakers     show  sarcasm  \n",
      "266  [JOEY, CHANDLER, JOEY, CHANDLER, JOEY]  FRIENDS     True  \n",
      "266    True\n",
      "Name: sarcasm, dtype: bool\n"
     ]
    },
    {
     "name": "stderr",
     "output_type": "stream",
     "text": [
      "\r"
     ]
    },
    {
     "name": "stdout",
     "output_type": "stream",
     "text": [
      "MoviePy - Writing audio in ./audio_extracted_yes/266.mp3\n"
     ]
    },
    {
     "name": "stderr",
     "output_type": "stream",
     "text": [
      "                                                                  "
     ]
    },
    {
     "name": "stdout",
     "output_type": "stream",
     "text": [
      "MoviePy - Done.\n",
      "                                             utterance speaker   \n",
      "272  Oh well. It probably would've been the most co...    ROSS  \\\n",
      "\n",
      "                                               context      context_speakers   \n",
      "272  [No, come on don't start. Ouch!, What?, Stupid...  [ROSS, PERSON, ROSS]  \\\n",
      "\n",
      "        show  sarcasm  \n",
      "272  FRIENDS    False  \n",
      "272    False\n",
      "Name: sarcasm, dtype: bool\n"
     ]
    },
    {
     "name": "stderr",
     "output_type": "stream",
     "text": [
      "\r"
     ]
    },
    {
     "name": "stdout",
     "output_type": "stream",
     "text": [
      "MoviePy - Writing audio in ./audio_extracted_no/272.mp3\n"
     ]
    },
    {
     "name": "stderr",
     "output_type": "stream",
     "text": [
      "                                                                   "
     ]
    },
    {
     "name": "stdout",
     "output_type": "stream",
     "text": [
      "MoviePy - Done.\n",
      "                                               utterance speaker   \n",
      "12792  No, I mean, we can always go back to being fri...   PENNY  \\\n",
      "\n",
      "                                                 context   \n",
      "12792  [like Mrs. Riley' s chicken., What's Mrs. Rile...  \\\n",
      "\n",
      "                                        context_speakers show  sarcasm  \n",
      "12792  [SHELDON, PENNY, SHELDON, PENNY, SHELDON, PENN...  BBT    False  \n",
      "12792    False\n",
      "Name: sarcasm, dtype: bool\n"
     ]
    },
    {
     "name": "stderr",
     "output_type": "stream",
     "text": [
      "\r"
     ]
    },
    {
     "name": "stdout",
     "output_type": "stream",
     "text": [
      "MoviePy - Writing audio in ./audio_extracted_no/12792.mp3\n"
     ]
    },
    {
     "name": "stderr",
     "output_type": "stream",
     "text": [
      "                                                       "
     ]
    },
    {
     "name": "stdout",
     "output_type": "stream",
     "text": [
      "MoviePy - Done.\n",
      "                                               utterance speaker   \n",
      "18042  No, just me, her and a couple of the big wigs....  HOWARD  \\\n",
      "\n",
      "                                                 context   \n",
      "18042  [Here you go., Great. Come on in., What, you d...  \\\n",
      "\n",
      "                           context_speakers show  sarcasm  \n",
      "18042  [RAJ, HOWARD, RAJ, HOWARD, RAJ, RAJ]  BBT    False  \n",
      "18042    False\n",
      "Name: sarcasm, dtype: bool\n"
     ]
    },
    {
     "name": "stderr",
     "output_type": "stream",
     "text": [
      "\r"
     ]
    },
    {
     "name": "stdout",
     "output_type": "stream",
     "text": [
      "MoviePy - Writing audio in ./audio_extracted_no/18042.mp3\n"
     ]
    },
    {
     "name": "stderr",
     "output_type": "stream",
     "text": [
      "                                                        "
     ]
    },
    {
     "name": "stdout",
     "output_type": "stream",
     "text": [
      "MoviePy - Done.\n",
      "                                              utterance speaker   \n",
      "2232  Well, umm, my Mom's friend, Phoebe, is actuall...  PHOEBE  \\\n",
      "\n",
      "                                                context   \n",
      "2232  [Oh, I'll go out and get you some., Really?!, ...  \\\n",
      "\n",
      "                  context_speakers     show  sarcasm  \n",
      "2232  [CHANDLER, MONICA, CHANDLER]  FRIENDS    False  \n",
      "2232    False\n",
      "Name: sarcasm, dtype: bool\n"
     ]
    },
    {
     "name": "stderr",
     "output_type": "stream",
     "text": [
      "\r"
     ]
    },
    {
     "name": "stdout",
     "output_type": "stream",
     "text": [
      "MoviePy - Writing audio in ./audio_extracted_no/2232.mp3\n"
     ]
    },
    {
     "name": "stderr",
     "output_type": "stream",
     "text": [
      "                                                       "
     ]
    },
    {
     "name": "stdout",
     "output_type": "stream",
     "text": [
      "MoviePy - Done.\n",
      "                                              utterance   speaker   \n",
      "2226  These people find out that a spelling game is ...  CHANDLER  \\\n",
      "\n",
      "                                                context context_speakers   \n",
      "2226  [Could guys please try to keep It down? We are...         [MONICA]  \\\n",
      "\n",
      "         show  sarcasm  \n",
      "2226  FRIENDS     True  \n",
      "2226    True\n",
      "Name: sarcasm, dtype: bool\n"
     ]
    },
    {
     "name": "stderr",
     "output_type": "stream",
     "text": [
      "\r"
     ]
    },
    {
     "name": "stdout",
     "output_type": "stream",
     "text": [
      "MoviePy - Writing audio in ./audio_extracted_yes/2226.mp3\n"
     ]
    },
    {
     "name": "stderr",
     "output_type": "stream",
     "text": [
      "                                                                    "
     ]
    },
    {
     "name": "stdout",
     "output_type": "stream",
     "text": [
      "MoviePy - Done.\n",
      "                                               utterance  speaker   \n",
      "15572  He drank from Leonard's glass. \"He drank from ...  SHELDON  \\\n",
      "\n",
      "                                                 context   \n",
      "15572  [of your subtropical girlfriend., Hey! That's ...  \\\n",
      "\n",
      "                                        context_speakers show  sarcasm  \n",
      "15572  [SHELDON, RAJ, RAJ, BERNADETTE, SHELDON, BERNA...  BBT     True  \n",
      "15572    True\n",
      "Name: sarcasm, dtype: bool\n"
     ]
    },
    {
     "name": "stderr",
     "output_type": "stream",
     "text": [
      "\r"
     ]
    },
    {
     "name": "stdout",
     "output_type": "stream",
     "text": [
      "MoviePy - Writing audio in ./audio_extracted_yes/15572.mp3\n"
     ]
    },
    {
     "name": "stderr",
     "output_type": "stream",
     "text": [
      "                                                                  "
     ]
    },
    {
     "name": "stdout",
     "output_type": "stream",
     "text": [
      "MoviePy - Done.\n",
      "     utterance speaker                                            context   \n",
      "2540     Okay?    JOEY  [I don't know. But hey, I know we can decide. ...  \\\n",
      "\n",
      "     context_speakers     show  sarcasm  \n",
      "2540           [JOEY]  FRIENDS    False  \n",
      "2540    False\n",
      "Name: sarcasm, dtype: bool\n"
     ]
    },
    {
     "name": "stderr",
     "output_type": "stream",
     "text": [
      "\r"
     ]
    },
    {
     "name": "stdout",
     "output_type": "stream",
     "text": [
      "MoviePy - Writing audio in ./audio_extracted_no/2540.mp3\n"
     ]
    },
    {
     "name": "stderr",
     "output_type": "stream",
     "text": [
      "                                                      "
     ]
    },
    {
     "name": "stdout",
     "output_type": "stream",
     "text": [
      "MoviePy - Done.\n",
      "                    utterance   speaker   \n",
      "2583  And the bunny got away!  CHANDLER  \\\n",
      "\n",
      "                                           context context_speakers     show   \n",
      "2583  [Look out! You almost crushed my hat, Sorry]     [JOEY, ROSS]  FRIENDS  \\\n",
      "\n",
      "      sarcasm  \n",
      "2583     True  \n",
      "2583    True\n",
      "Name: sarcasm, dtype: bool\n"
     ]
    },
    {
     "name": "stderr",
     "output_type": "stream",
     "text": [
      "\r"
     ]
    },
    {
     "name": "stdout",
     "output_type": "stream",
     "text": [
      "MoviePy - Writing audio in ./audio_extracted_yes/2583.mp3\n"
     ]
    },
    {
     "name": "stderr",
     "output_type": "stream",
     "text": [
      "                                                        "
     ]
    },
    {
     "name": "stdout",
     "output_type": "stream",
     "text": [
      "MoviePy - Done.\n",
      "                                               utterance speaker   \n",
      "13842  So what, you're just gonna walk up and down th...  HOWARD  \\\n",
      "\n",
      "                                                 context   \n",
      "13842  [I've missed you., All right, say hello to you...  \\\n",
      "\n",
      "                                       context_speakers show  sarcasm  \n",
      "13842  [RAJ, SHELDON, HOWARD, SHELDON, HOWARD, SHELDON]  BBT    False  \n",
      "13842    False\n",
      "Name: sarcasm, dtype: bool\n"
     ]
    },
    {
     "name": "stderr",
     "output_type": "stream",
     "text": [
      "\r"
     ]
    },
    {
     "name": "stdout",
     "output_type": "stream",
     "text": [
      "MoviePy - Writing audio in ./audio_extracted_no/13842.mp3\n"
     ]
    },
    {
     "name": "stderr",
     "output_type": "stream",
     "text": [
      "                                                                  "
     ]
    },
    {
     "name": "stdout",
     "output_type": "stream",
     "text": [
      "MoviePy - Done.\n",
      "           utterance     speaker   \n",
      "2596  Noooo. Really?  MEMBER-BOY  \\\n",
      "\n",
      "                                                context context_speakers   \n",
      "2596  [I am having a bit of trouble telling when peo...          [SCOTT]  \\\n",
      "\n",
      "                show  sarcasm  \n",
      "2596  SARCASMOHOLICS     True  \n",
      "2596    True\n",
      "Name: sarcasm, dtype: bool\n"
     ]
    },
    {
     "name": "stderr",
     "output_type": "stream",
     "text": [
      "\r"
     ]
    },
    {
     "name": "stdout",
     "output_type": "stream",
     "text": [
      "MoviePy - Writing audio in ./audio_extracted_yes/2596.mp3\n"
     ]
    },
    {
     "name": "stderr",
     "output_type": "stream",
     "text": [
      "                                                       "
     ]
    },
    {
     "name": "stdout",
     "output_type": "stream",
     "text": [
      "MoviePy - Done.\n",
      "      utterance speaker                                            context   \n",
      "2569  Chandler?  PHOEBE  [Yeah! Now, why do you want to kill yourself?,...  \\\n",
      "\n",
      "      context_speakers     show  sarcasm  \n",
      "2569  [PHOEBE, PERSON]  FRIENDS    False  \n",
      "2569    False\n",
      "Name: sarcasm, dtype: bool\n"
     ]
    },
    {
     "name": "stderr",
     "output_type": "stream",
     "text": [
      "\r"
     ]
    },
    {
     "name": "stdout",
     "output_type": "stream",
     "text": [
      "MoviePy - Writing audio in ./audio_extracted_no/2569.mp3\n"
     ]
    },
    {
     "name": "stderr",
     "output_type": "stream",
     "text": [
      "                                                       "
     ]
    },
    {
     "name": "stdout",
     "output_type": "stream",
     "text": [
      "MoviePy - Done.\n",
      "                                               utterance  speaker   \n",
      "17402  I didn't know they gave Nobel prizes for makin...  LEONARD  \\\n",
      "\n",
      "                                                 context   \n",
      "17402  [the paper was rejected, but recently, he was ...  \\\n",
      "\n",
      "                                  context_speakers show  sarcasm  \n",
      "17402  [SHELDON, SHELDON, PENNY, SHELDON, SHELDON]  BBT     True  \n",
      "17402    True\n",
      "Name: sarcasm, dtype: bool\n"
     ]
    },
    {
     "name": "stderr",
     "output_type": "stream",
     "text": [
      "\r"
     ]
    },
    {
     "name": "stdout",
     "output_type": "stream",
     "text": [
      "MoviePy - Writing audio in ./audio_extracted_yes/17402.mp3\n"
     ]
    },
    {
     "name": "stderr",
     "output_type": "stream",
     "text": [
      "                                                                  "
     ]
    },
    {
     "name": "stdout",
     "output_type": "stream",
     "text": [
      "MoviePy - Done.\n",
      "                                              utterance   speaker   \n",
      "2227  You sure he is going to be able to crack that ...  CHANDLER  \\\n",
      "\n",
      "                                                context context_speakers   \n",
      "2227  [Well, despite the yummy bagels and palpable t...       [CHANDLER]  \\\n",
      "\n",
      "         show  sarcasm  \n",
      "2227  FRIENDS     True  \n",
      "2227    True\n",
      "Name: sarcasm, dtype: bool\n"
     ]
    },
    {
     "name": "stderr",
     "output_type": "stream",
     "text": [
      "\r"
     ]
    },
    {
     "name": "stdout",
     "output_type": "stream",
     "text": [
      "MoviePy - Writing audio in ./audio_extracted_yes/2227.mp3\n"
     ]
    },
    {
     "name": "stderr",
     "output_type": "stream",
     "text": [
      "                                                                    "
     ]
    },
    {
     "name": "stdout",
     "output_type": "stream",
     "text": [
      "MoviePy - Done.\n",
      "                                              utterance   speaker   \n",
      "2541  Oh yeah right. And what would my opening line ...  CHANDLER  \\\n",
      "\n",
      "                                       context context_speakers     show   \n",
      "2541  [Go over to her. She's not with anyone.]         [MONICA]  FRIENDS  \\\n",
      "\n",
      "      sarcasm  \n",
      "2541     True  \n",
      "2541    True\n",
      "Name: sarcasm, dtype: bool\n"
     ]
    },
    {
     "name": "stderr",
     "output_type": "stream",
     "text": [
      "\r"
     ]
    },
    {
     "name": "stdout",
     "output_type": "stream",
     "text": [
      "MoviePy - Writing audio in ./audio_extracted_yes/2541.mp3\n"
     ]
    },
    {
     "name": "stderr",
     "output_type": "stream",
     "text": [
      "                                                                  "
     ]
    },
    {
     "name": "stdout",
     "output_type": "stream",
     "text": [
      "MoviePy - Done.\n",
      "                        utterance speaker   \n",
      "2555  Hey! It's starting to snow.    ROSS  \\\n",
      "\n",
      "                                                context context_speakers   \n",
      "2555  [No! You let go! How come it's always us left ...   [ROSS, MONICA]  \\\n",
      "\n",
      "         show  sarcasm  \n",
      "2555  FRIENDS    False  \n",
      "2555    False\n",
      "Name: sarcasm, dtype: bool\n"
     ]
    },
    {
     "name": "stderr",
     "output_type": "stream",
     "text": [
      "\r"
     ]
    },
    {
     "name": "stdout",
     "output_type": "stream",
     "text": [
      "MoviePy - Writing audio in ./audio_extracted_no/2555.mp3\n"
     ]
    },
    {
     "name": "stderr",
     "output_type": "stream",
     "text": [
      "                                                       "
     ]
    },
    {
     "name": "stdout",
     "output_type": "stream",
     "text": [
      "MoviePy - Done.\n",
      "                                         utterance   speaker   \n",
      "273  Oh my god, you almost gave me a heart attack!  CHANDLER  \\\n",
      "\n",
      "                                               context context_speakers   \n",
      "273  [Okay, I am officially unpacked. Thanks for he...       [CHANDLER]  \\\n",
      "\n",
      "        show  sarcasm  \n",
      "273  FRIENDS     True  \n",
      "273    True\n",
      "Name: sarcasm, dtype: bool\n"
     ]
    },
    {
     "name": "stderr",
     "output_type": "stream",
     "text": [
      "\r"
     ]
    },
    {
     "name": "stdout",
     "output_type": "stream",
     "text": [
      "MoviePy - Writing audio in ./audio_extracted_yes/273.mp3\n"
     ]
    },
    {
     "name": "stderr",
     "output_type": "stream",
     "text": [
      "                                                       "
     ]
    },
    {
     "name": "stdout",
     "output_type": "stream",
     "text": [
      "MoviePy - Done.\n",
      "                                               utterance speaker   \n",
      "12778  Ooh, big talk from a man who was once treed by...     RAJ  \\\n",
      "\n",
      "                                                 context   \n",
      "12778  [Don't push me, Sheldon.\\nI may be small, but ...  \\\n",
      "\n",
      "                          context_speakers show  sarcasm  \n",
      "12778  [HOWARD, SHELDON, SHELDON, SHELDON]  BBT     True  \n",
      "12778    True\n",
      "Name: sarcasm, dtype: bool\n"
     ]
    },
    {
     "name": "stderr",
     "output_type": "stream",
     "text": [
      "\r"
     ]
    },
    {
     "name": "stdout",
     "output_type": "stream",
     "text": [
      "MoviePy - Writing audio in ./audio_extracted_yes/12778.mp3\n"
     ]
    },
    {
     "name": "stderr",
     "output_type": "stream",
     "text": [
      "                                                                  "
     ]
    },
    {
     "name": "stdout",
     "output_type": "stream",
     "text": [
      "MoviePy - Done.\n",
      "                                      utterance speaker   \n",
      "17953  Why don't you ask Scotty to beam you up?  PERSON  \\\n",
      "\n",
      "                                                 context   \n",
      "17953  [Hello., Uh, four glasses of water, please., A...  \\\n",
      "\n",
      "                           context_speakers show  sarcasm  \n",
      "17953  [SHELDON, SHELDON, SHELDON, LEONARD]  BBT     True  \n",
      "17953    True\n",
      "Name: sarcasm, dtype: bool\n"
     ]
    },
    {
     "name": "stderr",
     "output_type": "stream",
     "text": [
      "\r"
     ]
    },
    {
     "name": "stdout",
     "output_type": "stream",
     "text": [
      "MoviePy - Writing audio in ./audio_extracted_yes/17953.mp3\n"
     ]
    },
    {
     "name": "stderr",
     "output_type": "stream",
     "text": [
      "                                                       "
     ]
    },
    {
     "name": "stdout",
     "output_type": "stream",
     "text": [
      "MoviePy - Done.\n",
      "                 utterance   speaker   \n",
      "2186  Excellent hole, Joe.  CHANDLER  \\\n",
      "\n",
      "                                                context   \n",
      "2186  [Enhh, I've got canned goods., Hey, you guys! ...  \\\n",
      "\n",
      "              context_speakers     show  sarcasm  \n",
      "2186  [MONICA, CHANDLER, JOEY]  FRIENDS     True  \n",
      "2186    True\n",
      "Name: sarcasm, dtype: bool\n"
     ]
    },
    {
     "name": "stderr",
     "output_type": "stream",
     "text": [
      "\r"
     ]
    },
    {
     "name": "stdout",
     "output_type": "stream",
     "text": [
      "MoviePy - Writing audio in ./audio_extracted_yes/2186.mp3\n"
     ]
    },
    {
     "name": "stderr",
     "output_type": "stream",
     "text": [
      "                                                       "
     ]
    },
    {
     "name": "stdout",
     "output_type": "stream",
     "text": [
      "MoviePy - Done.\n",
      "                                               utterance  speaker   \n",
      "19003  I'm not going to bother him, I'm going to talk...  SHELDON  \\\n",
      "\n",
      "                                                 context   \n",
      "19003  [I guess they really do read their mail., Hey,...  \\\n",
      "\n",
      "                                        context_speakers show  sarcasm  \n",
      "19003  [LEONARD, SHELDON, LEONARD, SHELDON, SHELDON, ...  BBT    False  \n",
      "19003    False\n",
      "Name: sarcasm, dtype: bool\n"
     ]
    },
    {
     "name": "stderr",
     "output_type": "stream",
     "text": [
      "\r"
     ]
    },
    {
     "name": "stdout",
     "output_type": "stream",
     "text": [
      "MoviePy - Writing audio in ./audio_extracted_no/19003.mp3\n"
     ]
    },
    {
     "name": "stderr",
     "output_type": "stream",
     "text": [
      "                                                       "
     ]
    },
    {
     "name": "stdout",
     "output_type": "stream",
     "text": [
      "MoviePy - Done.\n",
      "                                              utterance   speaker   \n",
      "2151  Yeah, I mean, it would be rude to them for us ...  CHANDLER  \\\n",
      "\n",
      "                                                context   \n",
      "2151  [Yeah, I know, it's my birthday. We all should...  \\\n",
      "\n",
      "            context_speakers     show  sarcasm  \n",
      "2151  [ROSS, CHANDLER, ROSS]  FRIENDS     True  \n",
      "2151    True\n",
      "Name: sarcasm, dtype: bool\n"
     ]
    },
    {
     "name": "stderr",
     "output_type": "stream",
     "text": [
      "\r"
     ]
    },
    {
     "name": "stdout",
     "output_type": "stream",
     "text": [
      "MoviePy - Writing audio in ./audio_extracted_yes/2151.mp3\n"
     ]
    },
    {
     "name": "stderr",
     "output_type": "stream",
     "text": [
      "                                                       "
     ]
    },
    {
     "name": "stdout",
     "output_type": "stream",
     "text": [
      "MoviePy - Done.\n",
      "                                              utterance   speaker   \n",
      "2623  What do you know? Its a treat for the eyes and...  CHANDLER  \\\n",
      "\n",
      "                                                context   \n",
      "2623  [Chandler?, Hey! Ah!, What do you think?, I th...  \\\n",
      "\n",
      "                          context_speakers     show  sarcasm  \n",
      "2623  [PHOEBE, CHANDLER, MONICA, CHANDLER]  FRIENDS     True  \n",
      "2623    True\n",
      "Name: sarcasm, dtype: bool\n"
     ]
    },
    {
     "name": "stderr",
     "output_type": "stream",
     "text": [
      "\r"
     ]
    },
    {
     "name": "stdout",
     "output_type": "stream",
     "text": [
      "MoviePy - Writing audio in ./audio_extracted_yes/2623.mp3\n"
     ]
    },
    {
     "name": "stderr",
     "output_type": "stream",
     "text": [
      "                                                        "
     ]
    },
    {
     "name": "stdout",
     "output_type": "stream",
     "text": [
      "MoviePy - Done.\n",
      "                                                utterance     speaker   \n",
      "111232  And I love that I work and do all the cleaning...  BERNADETTE  \\\n",
      "\n",
      "                                                  context   \n",
      "111232  [And I love that you're strong and independent...  \\\n",
      "\n",
      "                                context_speakers show  sarcasm  \n",
      "111232  [HOWARD, BERNADETTE, HOWARD, BERNADETTE]  BBT     True  \n",
      "111232    True\n",
      "Name: sarcasm, dtype: bool\n"
     ]
    },
    {
     "name": "stderr",
     "output_type": "stream",
     "text": [
      "\r"
     ]
    },
    {
     "name": "stdout",
     "output_type": "stream",
     "text": [
      "MoviePy - Writing audio in ./audio_extracted_yes/111232.mp3\n"
     ]
    },
    {
     "name": "stderr",
     "output_type": "stream",
     "text": [
      "                                                                  "
     ]
    },
    {
     "name": "stdout",
     "output_type": "stream",
     "text": [
      "MoviePy - Done.\n",
      "                                               utterance speaker   \n",
      "16683  Yeah, terrific. The other astronauts would lov...  HOWARD  \\\n",
      "\n",
      "                                                 context   \n",
      "16683  [Buzz Lightyear is not real., No, that's not w...  \\\n",
      "\n",
      "                      context_speakers show  sarcasm  \n",
      "16683  [RAJ, HOWARD, RAJ, HOWARD, RAJ]  BBT     True  \n",
      "16683    True\n",
      "Name: sarcasm, dtype: bool\n"
     ]
    },
    {
     "name": "stderr",
     "output_type": "stream",
     "text": [
      "\r"
     ]
    },
    {
     "name": "stdout",
     "output_type": "stream",
     "text": [
      "MoviePy - Writing audio in ./audio_extracted_yes/16683.mp3\n"
     ]
    },
    {
     "name": "stderr",
     "output_type": "stream",
     "text": [
      "                                                                  "
     ]
    },
    {
     "name": "stdout",
     "output_type": "stream",
     "text": [
      "MoviePy - Done.\n",
      "                                              utterance  speaker   \n",
      "2390  No, I am depressed becaues Phillis George left...  DOROTHY  \\\n",
      "\n",
      "                              context context_speakers         show  sarcasm  \n",
      "2390  [Are you depressed about Glen?]           [ROSE]  GOLDENGIRLS     True  \n",
      "2390    True\n",
      "Name: sarcasm, dtype: bool\n"
     ]
    },
    {
     "name": "stderr",
     "output_type": "stream",
     "text": [
      "\r"
     ]
    },
    {
     "name": "stdout",
     "output_type": "stream",
     "text": [
      "MoviePy - Writing audio in ./audio_extracted_yes/2390.mp3\n"
     ]
    },
    {
     "name": "stderr",
     "output_type": "stream",
     "text": [
      "                                                                    "
     ]
    },
    {
     "name": "stdout",
     "output_type": "stream",
     "text": [
      "MoviePy - Done.\n",
      "                                               utterance  speaker   \n",
      "12354  So? Do cocaine smugglers write \"cocaine\" on th...  SHELDON  \\\n",
      "\n",
      "                                                 context   \n",
      "12354  [They're here., Stay calm. We don't know anyth...  \\\n",
      "\n",
      "                                        context_speakers show  sarcasm  \n",
      "12354  [SHELDON, LEONARD, LEONARD, SHELDON, SHELDON, ...  BBT     True  \n",
      "12354    True\n",
      "Name: sarcasm, dtype: bool\n"
     ]
    },
    {
     "name": "stderr",
     "output_type": "stream",
     "text": [
      "\r"
     ]
    },
    {
     "name": "stdout",
     "output_type": "stream",
     "text": [
      "MoviePy - Writing audio in ./audio_extracted_yes/12354.mp3\n"
     ]
    },
    {
     "name": "stderr",
     "output_type": "stream",
     "text": [
      "                                                       "
     ]
    },
    {
     "name": "stdout",
     "output_type": "stream",
     "text": [
      "MoviePy - Done.\n",
      "                       utterance   speaker   \n",
      "2409  I'll catch you guys later.  CHANDLER  \\\n",
      "\n",
      "                                                context   \n",
      "2409  [Hi, excuse me, is Rachel Green here? I'm supp...  \\\n",
      "\n",
      "                  context_speakers     show  sarcasm  \n",
      "2409  [CHANDLER, PERSON, CHANDLER]  FRIENDS    False  \n",
      "2409    False\n",
      "Name: sarcasm, dtype: bool\n"
     ]
    },
    {
     "name": "stderr",
     "output_type": "stream",
     "text": [
      "\r"
     ]
    },
    {
     "name": "stdout",
     "output_type": "stream",
     "text": [
      "MoviePy - Writing audio in ./audio_extracted_no/2409.mp3\n"
     ]
    },
    {
     "name": "stderr",
     "output_type": "stream",
     "text": [
      "                                                        "
     ]
    },
    {
     "name": "stdout",
     "output_type": "stream",
     "text": [
      "MoviePy - Done.\n",
      "                                          utterance speaker   \n",
      "2353  Nothing. It's just old and dingy, that's all.    JOEY  \\\n",
      "\n",
      "                                                context context_speakers   \n",
      "2353  [Oh Monica, listen, I ah, I saw down at the ha...   [JOEY, MONICA]  \\\n",
      "\n",
      "         show  sarcasm  \n",
      "2353  FRIENDS    False  \n",
      "2353    False\n",
      "Name: sarcasm, dtype: bool\n"
     ]
    },
    {
     "name": "stderr",
     "output_type": "stream",
     "text": [
      "\r"
     ]
    },
    {
     "name": "stdout",
     "output_type": "stream",
     "text": [
      "MoviePy - Writing audio in ./audio_extracted_no/2353.mp3\n"
     ]
    },
    {
     "name": "stderr",
     "output_type": "stream",
     "text": [
      "                                                       "
     ]
    },
    {
     "name": "stdout",
     "output_type": "stream",
     "text": [
      "MoviePy - Done.\n",
      "                                              utterance speaker   \n",
      "2435  Me too! There's a game on Tuesday, do you wann...    JOEY  \\\n",
      "\n",
      "                                                context   \n",
      "2435  [It's Jake., Joey. Hey Jake, do you like the K...  \\\n",
      "\n",
      "            context_speakers     show  sarcasm  \n",
      "2435  [PERSON, JOEY, PERSON]  FRIENDS    False  \n",
      "2435    False\n",
      "Name: sarcasm, dtype: bool\n"
     ]
    },
    {
     "name": "stderr",
     "output_type": "stream",
     "text": [
      "\r"
     ]
    },
    {
     "name": "stdout",
     "output_type": "stream",
     "text": [
      "MoviePy - Writing audio in ./audio_extracted_no/2435.mp3\n"
     ]
    },
    {
     "name": "stderr",
     "output_type": "stream",
     "text": [
      "                                                       "
     ]
    },
    {
     "name": "stdout",
     "output_type": "stream",
     "text": [
      "MoviePy - Done.\n",
      "                                              utterance   speaker   \n",
      "2421  Joey's got a really bad hernia but its nothing...  CHANDLER  \\\n",
      "\n",
      "                                                context context_speakers   \n",
      "2421  [Thank you, but it would take me forever to pa...           [JOEY]  \\\n",
      "\n",
      "         show  sarcasm  \n",
      "2421  FRIENDS     True  \n",
      "2421    True\n",
      "Name: sarcasm, dtype: bool\n"
     ]
    },
    {
     "name": "stderr",
     "output_type": "stream",
     "text": [
      "\r"
     ]
    },
    {
     "name": "stdout",
     "output_type": "stream",
     "text": [
      "MoviePy - Writing audio in ./audio_extracted_yes/2421.mp3\n"
     ]
    },
    {
     "name": "stderr",
     "output_type": "stream",
     "text": [
      "                                                                    "
     ]
    },
    {
     "name": "stdout",
     "output_type": "stream",
     "text": [
      "MoviePy - Done.\n",
      "                                              utterance speaker   \n",
      "2347  Well what are you gonna do when he finds out h...  MONICA  \\\n",
      "\n",
      "                                                context   \n",
      "2347  [Oh! Right. Umm, maybe that's because I didn't...  \\\n",
      "\n",
      "                  context_speakers     show  sarcasm  \n",
      "2347  [CHANDLER, MONICA, CHANDLER]  FRIENDS    False  \n",
      "2347    False\n",
      "Name: sarcasm, dtype: bool\n"
     ]
    },
    {
     "name": "stderr",
     "output_type": "stream",
     "text": [
      "\r"
     ]
    },
    {
     "name": "stdout",
     "output_type": "stream",
     "text": [
      "MoviePy - Writing audio in ./audio_extracted_no/2347.mp3\n"
     ]
    },
    {
     "name": "stderr",
     "output_type": "stream",
     "text": [
      "                                                       "
     ]
    },
    {
     "name": "stdout",
     "output_type": "stream",
     "text": [
      "MoviePy - Done.\n",
      "                                              utterance   speaker   \n",
      "2437  Oh yeah. First off all, chasing the Churo guy ...  CHANDLER  \\\n",
      "\n",
      "                                                context   \n",
      "2437  [Oh, y'know the same thing happened to me one ...  \\\n",
      "\n",
      "            context_speakers     show  sarcasm  \n",
      "2437  [JOEY, CHANDLER, JOEY]  FRIENDS    False  \n",
      "2437    False\n",
      "Name: sarcasm, dtype: bool\n"
     ]
    },
    {
     "name": "stderr",
     "output_type": "stream",
     "text": [
      "\r"
     ]
    },
    {
     "name": "stdout",
     "output_type": "stream",
     "text": [
      "MoviePy - Writing audio in ./audio_extracted_no/2437.mp3\n"
     ]
    },
    {
     "name": "stderr",
     "output_type": "stream",
     "text": [
      "                                                       "
     ]
    },
    {
     "name": "stdout",
     "output_type": "stream",
     "text": [
      "MoviePy - Done.\n",
      "                                              utterance  speaker   \n",
      "2351  No Rose, she is depressed because Marvel had m...  DOROTHY  \\\n",
      "\n",
      "                                                context context_speakers   \n",
      "2351  [Now PERSON is depressed Rose., Do you think s...  [DOROTHY, ROSE]  \\\n",
      "\n",
      "             show  sarcasm  \n",
      "2351  GOLDENGIRLS     True  \n",
      "2351    True\n",
      "Name: sarcasm, dtype: bool\n"
     ]
    },
    {
     "name": "stderr",
     "output_type": "stream",
     "text": [
      "\r"
     ]
    },
    {
     "name": "stdout",
     "output_type": "stream",
     "text": [
      "MoviePy - Writing audio in ./audio_extracted_yes/2351.mp3\n"
     ]
    },
    {
     "name": "stderr",
     "output_type": "stream",
     "text": [
      "                                                                  "
     ]
    },
    {
     "name": "stdout",
     "output_type": "stream",
     "text": [
      "MoviePy - Done.\n",
      "                                              utterance   speaker   \n",
      "2345  Oh I left them in my bulldozer .. I don't have...  CHANDLER  \\\n",
      "\n",
      "                                                context   \n",
      "2345  [It isnt working, We have to unscrew the chain...  \\\n",
      "\n",
      "                          context_speakers     show  sarcasm  \n",
      "2345  [JOEY, MONICA, JOEY, CHANDLER, JOEY]  FRIENDS     True  \n",
      "2345    True\n",
      "Name: sarcasm, dtype: bool\n"
     ]
    },
    {
     "name": "stderr",
     "output_type": "stream",
     "text": [
      "\r"
     ]
    },
    {
     "name": "stdout",
     "output_type": "stream",
     "text": [
      "MoviePy - Writing audio in ./audio_extracted_yes/2345.mp3\n"
     ]
    },
    {
     "name": "stderr",
     "output_type": "stream",
     "text": [
      "                                                                   "
     ]
    },
    {
     "name": "stdout",
     "output_type": "stream",
     "text": [
      "MoviePy - Done.\n",
      "                              utterance speaker   \n",
      "2423  Like I have nothing better to do!  MONICA  \\\n",
      "\n",
      "                                                context   \n",
      "2423  [Richard!, Actually, I'm not here to complemen...  \\\n",
      "\n",
      "              context_speakers     show  sarcasm  \n",
      "2423  [MONICA, PERSON, MONICA]  FRIENDS     True  \n",
      "2423    True\n",
      "Name: sarcasm, dtype: bool\n"
     ]
    },
    {
     "name": "stderr",
     "output_type": "stream",
     "text": [
      "\r"
     ]
    },
    {
     "name": "stdout",
     "output_type": "stream",
     "text": [
      "MoviePy - Writing audio in ./audio_extracted_yes/2423.mp3\n"
     ]
    },
    {
     "name": "stderr",
     "output_type": "stream",
     "text": [
      "                                                       "
     ]
    },
    {
     "name": "stdout",
     "output_type": "stream",
     "text": [
      "MoviePy - Done.\n",
      "                                                utterance speaker   \n",
      "110853  Okay, sit down. Listen, Emily, what happened b...   PENNY  \\\n",
      "\n",
      "                                                  context   \n",
      "110853  [Uh, listen, Penny, before you start, I just w...  \\\n",
      "\n",
      "                      context_speakers show  sarcasm  \n",
      "110853  [PERSON, PENNY, RAJ, RAJ, RAJ]  BBT    False  \n",
      "110853    False\n",
      "Name: sarcasm, dtype: bool\n"
     ]
    },
    {
     "name": "stderr",
     "output_type": "stream",
     "text": [
      "\r"
     ]
    },
    {
     "name": "stdout",
     "output_type": "stream",
     "text": [
      "MoviePy - Writing audio in ./audio_extracted_no/110853.mp3\n"
     ]
    },
    {
     "name": "stderr",
     "output_type": "stream",
     "text": [
      "                                                        "
     ]
    },
    {
     "name": "stdout",
     "output_type": "stream",
     "text": [
      "MoviePy - Done.\n",
      "                                              utterance speaker   \n",
      "1537  Oh, you know, that is so weird that yours came...   PENNY  \\\n",
      "\n",
      "                                                context   \n",
      "1537  [Hey Sheldon., Hello Penny., Get anything good...  \\\n",
      "\n",
      "                      context_speakers show  sarcasm  \n",
      "1537  [PENNY, SHELDON, PENNY, SHELDON]  BBT     True  \n",
      "1537    True\n",
      "Name: sarcasm, dtype: bool\n"
     ]
    },
    {
     "name": "stderr",
     "output_type": "stream",
     "text": [
      "\r"
     ]
    },
    {
     "name": "stdout",
     "output_type": "stream",
     "text": [
      "MoviePy - Writing audio in ./audio_extracted_yes/1537.mp3\n"
     ]
    },
    {
     "name": "stderr",
     "output_type": "stream",
     "text": [
      "                                                       "
     ]
    },
    {
     "name": "stdout",
     "output_type": "stream",
     "text": [
      "MoviePy - Done.\n",
      "                                              utterance   speaker   \n",
      "2392  Ah you see perfect might be a problem. Had you...  CHANDLER  \\\n",
      "\n",
      "                                                context context_speakers   \n",
      "2392  [Because I met somebody who would be perfect f...         [PERSON]  \\\n",
      "\n",
      "         show  sarcasm  \n",
      "2392  FRIENDS     True  \n",
      "2392    True\n",
      "Name: sarcasm, dtype: bool\n"
     ]
    },
    {
     "name": "stderr",
     "output_type": "stream",
     "text": [
      "\r"
     ]
    },
    {
     "name": "stdout",
     "output_type": "stream",
     "text": [
      "MoviePy - Writing audio in ./audio_extracted_yes/2392.mp3\n"
     ]
    },
    {
     "name": "stderr",
     "output_type": "stream",
     "text": [
      "                                                                  "
     ]
    },
    {
     "name": "stdout",
     "output_type": "stream",
     "text": [
      "MoviePy - Done.\n",
      "                                                utterance speaker   \n",
      "110890  Boy, when you met Bernadette, the field of rob...     RAJ  \\\n",
      "\n",
      "                                                  context   \n",
      "110890  [Robot girlfriend., Mm, that was mine., Robot ...  \\\n",
      "\n",
      "                                         context_speakers show  sarcasm  \n",
      "110890  [LEONARD, HOWARD, LEONARD, HOWARD, SHELDON, HO...  BBT     True  \n",
      "110890    True\n",
      "Name: sarcasm, dtype: bool\n"
     ]
    },
    {
     "name": "stderr",
     "output_type": "stream",
     "text": [
      "\r"
     ]
    },
    {
     "name": "stdout",
     "output_type": "stream",
     "text": [
      "MoviePy - Writing audio in ./audio_extracted_yes/110890.mp3\n"
     ]
    },
    {
     "name": "stderr",
     "output_type": "stream",
     "text": [
      "                                                                  "
     ]
    },
    {
     "name": "stdout",
     "output_type": "stream",
     "text": [
      "MoviePy - Done.\n",
      "                                                utterance speaker   \n",
      "111224  And here I am in the trap. You just keep talki...  HOWARD  \\\n",
      "\n",
      "                                                  context   \n",
      "111224  [You heard what he said about his parents. \\nI...  \\\n",
      "\n",
      "                                         context_speakers show  sarcasm  \n",
      "111224  [BERNADETTE, HOWARD, BERNADETTE, HOWARD, BERNA...  BBT     True  \n",
      "111224    True\n",
      "Name: sarcasm, dtype: bool\n"
     ]
    },
    {
     "name": "stderr",
     "output_type": "stream",
     "text": [
      "\r"
     ]
    },
    {
     "name": "stdout",
     "output_type": "stream",
     "text": [
      "MoviePy - Writing audio in ./audio_extracted_yes/111224.mp3\n"
     ]
    },
    {
     "name": "stderr",
     "output_type": "stream",
     "text": [
      "                                                                  \r"
     ]
    },
    {
     "name": "stdout",
     "output_type": "stream",
     "text": [
      "MoviePy - Done.\n",
      "                                              utterance speaker   \n",
      "2147  Well, we're trying to find someone to perform ...  MONICA  \\\n",
      "\n",
      "                                                context   \n",
      "2147  [Well then we still have a problem., Yeah!, Wi...  \\\n",
      "\n",
      "                context_speakers     show  sarcasm  \n",
      "2147  [MONICA, CHANDLER, PHOEBE]  FRIENDS    False  \n",
      "2147    False\n",
      "Name: sarcasm, dtype: bool\n",
      "MoviePy - Writing audio in ./audio_extracted_no/2147.mp3\n"
     ]
    },
    {
     "name": "stderr",
     "output_type": "stream",
     "text": [
      "                                                                   "
     ]
    },
    {
     "name": "stdout",
     "output_type": "stream",
     "text": [
      "MoviePy - Done.\n",
      "                            utterance speaker   \n",
      "2609  I just called a friend of mine.  PERSON  \\\n",
      "\n",
      "                                                context   \n",
      "2609  [I know. I know. I panicked, I panicked. I did...  \\\n",
      "\n",
      "              context_speakers     show  sarcasm  \n",
      "2609  [RACHEL, PHOEBE, RACHEL]  FRIENDS    False  \n",
      "2609    False\n",
      "Name: sarcasm, dtype: bool\n"
     ]
    },
    {
     "name": "stderr",
     "output_type": "stream",
     "text": [
      "\r"
     ]
    },
    {
     "name": "stdout",
     "output_type": "stream",
     "text": [
      "MoviePy - Writing audio in ./audio_extracted_no/2609.mp3\n"
     ]
    },
    {
     "name": "stderr",
     "output_type": "stream",
     "text": [
      "                                                       "
     ]
    },
    {
     "name": "stdout",
     "output_type": "stream",
     "text": [
      "MoviePy - Done.\n",
      "                                              utterance    speaker   \n",
      "2190  Well scott I am sure we are all really really ...  MODERATOR  \\\n",
      "\n",
      "                                                context context_speakers   \n",
      "2190  [I finally got to admit it to myself. I have g...          [SCOTT]  \\\n",
      "\n",
      "                show  sarcasm  \n",
      "2190  SARCASMOHOLICS     True  \n",
      "2190    True\n",
      "Name: sarcasm, dtype: bool\n"
     ]
    },
    {
     "name": "stderr",
     "output_type": "stream",
     "text": [
      "\r"
     ]
    },
    {
     "name": "stdout",
     "output_type": "stream",
     "text": [
      "MoviePy - Writing audio in ./audio_extracted_yes/2190.mp3\n"
     ]
    },
    {
     "name": "stderr",
     "output_type": "stream",
     "text": [
      "                                                                    "
     ]
    },
    {
     "name": "stdout",
     "output_type": "stream",
     "text": [
      "MoviePy - Done.\n",
      "                                                utterance speaker   \n",
      "110462  You know, if you're really serious about that,...  HOWARD  \\\n",
      "\n",
      "                                                  context   \n",
      "110462  [it's-it's what my grant was designated for, a...  \\\n",
      "\n",
      "                            context_speakers show  sarcasm  \n",
      "110462  [SHELDON, SHELDON, LEONARD, SHELDON]  BBT     True  \n",
      "110462    True\n",
      "Name: sarcasm, dtype: bool\n"
     ]
    },
    {
     "name": "stderr",
     "output_type": "stream",
     "text": [
      "\r"
     ]
    },
    {
     "name": "stdout",
     "output_type": "stream",
     "text": [
      "MoviePy - Writing audio in ./audio_extracted_yes/110462.mp3\n"
     ]
    },
    {
     "name": "stderr",
     "output_type": "stream",
     "text": [
      "                                                                   "
     ]
    },
    {
     "name": "stdout",
     "output_type": "stream",
     "text": [
      "MoviePy - Done.\n",
      "                                                utterance speaker   \n",
      "112275  Uh, no. I overheard Bernadette tell Howard she...  PERSON  \\\n",
      "\n",
      "                                                  context context_speakers   \n",
      "112275  [I don't want to rush you, but I'm closing a l...    [PERSON, RAJ]  \\\n",
      "\n",
      "       show  sarcasm  \n",
      "112275  BBT    False  \n",
      "112275    False\n",
      "Name: sarcasm, dtype: bool\n"
     ]
    },
    {
     "name": "stderr",
     "output_type": "stream",
     "text": [
      "\r"
     ]
    },
    {
     "name": "stdout",
     "output_type": "stream",
     "text": [
      "MoviePy - Writing audio in ./audio_extracted_no/112275.mp3\n"
     ]
    },
    {
     "name": "stderr",
     "output_type": "stream",
     "text": [
      "                                                                   "
     ]
    },
    {
     "name": "stdout",
     "output_type": "stream",
     "text": [
      "MoviePy - Done.\n",
      "                                               utterance  speaker   \n",
      "16534  No, but maybe she wants a man with a pocket wa...  SHELDON  \\\n",
      "\n",
      "                                                 context   \n",
      "16534  [I don't think there's anything in this jewelr...  \\\n",
      "\n",
      "                       context_speakers show  sarcasm  \n",
      "16534  [SHELDON, PENNY, SHELDON, PENNY]  BBT    False  \n",
      "16534    False\n",
      "Name: sarcasm, dtype: bool\n"
     ]
    },
    {
     "name": "stderr",
     "output_type": "stream",
     "text": [
      "\r"
     ]
    },
    {
     "name": "stdout",
     "output_type": "stream",
     "text": [
      "MoviePy - Writing audio in ./audio_extracted_no/16534.mp3\n"
     ]
    },
    {
     "name": "stderr",
     "output_type": "stream",
     "text": [
      "                                                                  "
     ]
    },
    {
     "name": "stdout",
     "output_type": "stream",
     "text": [
      "MoviePy - Done.\n",
      "                                             utterance speaker   \n",
      "271  ThatÕs good, just keep rubbing your head. That...    JOEY  \\\n",
      "\n",
      "                                               context   \n",
      "271  [Oh so pretty, this must have cost him a fortu...  \\\n",
      "\n",
      "                                 context_speakers     show  sarcasm  \n",
      "271  [PHOEBE, CHANDLER, RACHEL, CHANDLER, RACHEL]  FRIENDS     True  \n",
      "271    True\n",
      "Name: sarcasm, dtype: bool\n"
     ]
    },
    {
     "name": "stderr",
     "output_type": "stream",
     "text": [
      "\r"
     ]
    },
    {
     "name": "stdout",
     "output_type": "stream",
     "text": [
      "MoviePy - Writing audio in ./audio_extracted_yes/271.mp3\n"
     ]
    },
    {
     "name": "stderr",
     "output_type": "stream",
     "text": [
      "                                                                    "
     ]
    },
    {
     "name": "stdout",
     "output_type": "stream",
     "text": [
      "MoviePy - Done.\n",
      "            utterance speaker   \n",
      "265  It's my friends.  PHOEBE  \\\n",
      "\n",
      "                                               context   \n",
      "265  [Nothing, nothing., Aaaah, what's wrong, c'mon...  \\\n",
      "\n",
      "             context_speakers     show  sarcasm  \n",
      "265  [PERSON, PHOEBE, PERSON]  FRIENDS    False  \n",
      "265    False\n",
      "Name: sarcasm, dtype: bool\n"
     ]
    },
    {
     "name": "stderr",
     "output_type": "stream",
     "text": [
      "\r"
     ]
    },
    {
     "name": "stdout",
     "output_type": "stream",
     "text": [
      "MoviePy - Writing audio in ./audio_extracted_no/265.mp3\n"
     ]
    },
    {
     "name": "stderr",
     "output_type": "stream",
     "text": [
      "                                                       "
     ]
    },
    {
     "name": "stdout",
     "output_type": "stream",
     "text": [
      "MoviePy - Done.\n",
      "                                               utterance  speaker   \n",
      "15571  Yes, I'd like a seven-day course of penicillin...  SHELDON  \\\n",
      "\n",
      "                                                 context   \n",
      "15571  [The backwash into this glass is every pathoge...  \\\n",
      "\n",
      "                               context_speakers show  sarcasm  \n",
      "15571  [SHELDON, SHELDON, RAJ, RAJ, BERNADETTE]  BBT     True  \n",
      "15571    True\n",
      "Name: sarcasm, dtype: bool\n"
     ]
    },
    {
     "name": "stderr",
     "output_type": "stream",
     "text": [
      "\r"
     ]
    },
    {
     "name": "stdout",
     "output_type": "stream",
     "text": [
      "MoviePy - Writing audio in ./audio_extracted_yes/15571.mp3\n"
     ]
    },
    {
     "name": "stderr",
     "output_type": "stream",
     "text": [
      "                                                                  "
     ]
    },
    {
     "name": "stdout",
     "output_type": "stream",
     "text": [
      "MoviePy - Done.\n",
      "                            utterance speaker   \n",
      "2225  I don't know, something girlie.    ROSS  \\\n",
      "\n",
      "                                                context context_speakers   \n",
      "2225  [Really, I, no, I think girls night out is a g...   [ROSS, PHOEBE]  \\\n",
      "\n",
      "         show  sarcasm  \n",
      "2225  FRIENDS    False  \n",
      "2225    False\n",
      "Name: sarcasm, dtype: bool\n"
     ]
    },
    {
     "name": "stderr",
     "output_type": "stream",
     "text": [
      "\r"
     ]
    },
    {
     "name": "stdout",
     "output_type": "stream",
     "text": [
      "MoviePy - Writing audio in ./audio_extracted_no/2225.mp3\n"
     ]
    },
    {
     "name": "stderr",
     "output_type": "stream",
     "text": [
      "                                                       "
     ]
    },
    {
     "name": "stdout",
     "output_type": "stream",
     "text": [
      "MoviePy - Done.\n",
      "                                               utterance speaker   \n",
      "17400  Of course, it is... it's been in the news. And...   PENNY  \\\n",
      "\n",
      "                                                 context   \n",
      "17400  [There are some charts in the back where I kep...  \\\n",
      "\n",
      "                                        context_speakers show  sarcasm  \n",
      "17400  [SHELDON, PENNY, LEONARD, PENNY, LEONARD, SHEL...  BBT    False  \n",
      "17400    False\n",
      "Name: sarcasm, dtype: bool\n"
     ]
    },
    {
     "name": "stderr",
     "output_type": "stream",
     "text": [
      "\r"
     ]
    },
    {
     "name": "stdout",
     "output_type": "stream",
     "text": [
      "MoviePy - Writing audio in ./audio_extracted_no/17400.mp3\n"
     ]
    },
    {
     "name": "stderr",
     "output_type": "stream",
     "text": [
      "                                                                  "
     ]
    },
    {
     "name": "stdout",
     "output_type": "stream",
     "text": [
      "MoviePy - Done.\n",
      "                       utterance speaker   \n",
      "2231  No, no, no, it's flattery.    ROSS  \\\n",
      "\n",
      "                                                context context_speakers   \n",
      "2231  [Aren't you with that girl over there?, Well, ...   [PERSON, ROSS]  \\\n",
      "\n",
      "         show  sarcasm  \n",
      "2231  FRIENDS    False  \n",
      "2231    False\n",
      "Name: sarcasm, dtype: bool\n"
     ]
    },
    {
     "name": "stderr",
     "output_type": "stream",
     "text": [
      "\r"
     ]
    },
    {
     "name": "stdout",
     "output_type": "stream",
     "text": [
      "MoviePy - Writing audio in ./audio_extracted_no/2231.mp3\n"
     ]
    },
    {
     "name": "stderr",
     "output_type": "stream",
     "text": [
      "                                                       "
     ]
    },
    {
     "name": "stdout",
     "output_type": "stream",
     "text": [
      "MoviePy - Done.\n",
      "                         utterance speaker   \n",
      "2557  Oh my God, wh-what happened?    ROSS  \\\n",
      "\n",
      "                                                context   \n",
      "2557  [Ross, can I talk to you for a minute?, Yes, p...  \\\n",
      "\n",
      "              context_speakers     show  sarcasm  \n",
      "2557  [PERSON1, ROSS, PERSON1]  FRIENDS    False  \n",
      "2557    False\n",
      "Name: sarcasm, dtype: bool\n"
     ]
    },
    {
     "name": "stderr",
     "output_type": "stream",
     "text": [
      "\r"
     ]
    },
    {
     "name": "stdout",
     "output_type": "stream",
     "text": [
      "MoviePy - Writing audio in ./audio_extracted_no/2557.mp3\n"
     ]
    },
    {
     "name": "stderr",
     "output_type": "stream",
     "text": [
      "                                                       "
     ]
    },
    {
     "name": "stdout",
     "output_type": "stream",
     "text": [
      "MoviePy - Done.\n",
      "                                                utterance speaker   \n",
      "111378  Are you sure a dummy like me can handle someth...  HOWARD  \\\n",
      "\n",
      "                                                  context   \n",
      "111378  [Okay. On the count of three, I'll shoot the f...  \\\n",
      "\n",
      "                   context_speakers show  sarcasm  \n",
      "111378  [LEONARD, LEONARD, LEONARD]  BBT     True  \n",
      "111378    True\n",
      "Name: sarcasm, dtype: bool\n"
     ]
    },
    {
     "name": "stderr",
     "output_type": "stream",
     "text": [
      "\r"
     ]
    },
    {
     "name": "stdout",
     "output_type": "stream",
     "text": [
      "MoviePy - Writing audio in ./audio_extracted_yes/111378.mp3\n"
     ]
    },
    {
     "name": "stderr",
     "output_type": "stream",
     "text": [
      "                                                                   "
     ]
    },
    {
     "name": "stdout",
     "output_type": "stream",
     "text": [
      "MoviePy - Done.\n",
      "                                              utterance speaker   \n",
      "2594  I can't believe it.  Can I tell you something?...    ROSS  \\\n",
      "\n",
      "                                     context    context_speakers     show   \n",
      "2594  [No! He blew us off!, What?!, I know!]  [JOEY, ROSS, JOEY]  FRIENDS  \\\n",
      "\n",
      "      sarcasm  \n",
      "2594    False  \n",
      "2594    False\n",
      "Name: sarcasm, dtype: bool\n"
     ]
    },
    {
     "name": "stderr",
     "output_type": "stream",
     "text": [
      "\r"
     ]
    },
    {
     "name": "stdout",
     "output_type": "stream",
     "text": [
      "MoviePy - Writing audio in ./audio_extracted_no/2594.mp3\n"
     ]
    },
    {
     "name": "stderr",
     "output_type": "stream",
     "text": [
      "                                                                  "
     ]
    },
    {
     "name": "stdout",
     "output_type": "stream",
     "text": [
      "MoviePy - Done.\n",
      "                                               utterance  speaker   \n",
      "16092  We don't say that, either. I'll make you a lis...  LEONARD  \\\n",
      "\n",
      "                                                 context   \n",
      "16092  [Three, sadly, are dead., Mom, you remember Ra...  \\\n",
      "\n",
      "                                   context_speakers show  sarcasm  \n",
      "16092  [RAJ, SHELDON, SHELDON, RAJ, PERSON, PERSON]  BBT    False  \n",
      "16092    False\n",
      "Name: sarcasm, dtype: bool\n"
     ]
    },
    {
     "name": "stderr",
     "output_type": "stream",
     "text": [
      "\r"
     ]
    },
    {
     "name": "stdout",
     "output_type": "stream",
     "text": [
      "MoviePy - Writing audio in ./audio_extracted_no/16092.mp3\n"
     ]
    },
    {
     "name": "stderr",
     "output_type": "stream",
     "text": [
      "                                                                   "
     ]
    },
    {
     "name": "stdout",
     "output_type": "stream",
     "text": [
      "MoviePy - Done.\n",
      "                                               utterance  speaker   \n",
      "11931  Why don't you just lie down on the floor and s...  LEONARD  \\\n",
      "\n",
      "                                                 context   \n",
      "11931  [Where are we going?, You're driving me to the...  \\\n",
      "\n",
      "                  context_speakers show  sarcasm  \n",
      "11931  [LEONARD, SHELDON, SHELDON]  BBT     True  \n",
      "11931    True\n",
      "Name: sarcasm, dtype: bool\n"
     ]
    },
    {
     "name": "stderr",
     "output_type": "stream",
     "text": [
      "\r"
     ]
    },
    {
     "name": "stdout",
     "output_type": "stream",
     "text": [
      "MoviePy - Writing audio in ./audio_extracted_yes/11931.mp3\n"
     ]
    },
    {
     "name": "stderr",
     "output_type": "stream",
     "text": [
      "                                                                  "
     ]
    },
    {
     "name": "stdout",
     "output_type": "stream",
     "text": [
      "MoviePy - Done.\n",
      "                                               utterance  speaker   \n",
      "13840  I read a study online that walking after a mea...  SHELDON  \\\n",
      "\n",
      "                                                 context   \n",
      "13840  [Ah…I do so love beverages., Now I think I'll ...  \\\n",
      "\n",
      "                          context_speakers show  sarcasm  \n",
      "13840  [SHELDON, SHELDON, LEONARD, HOWARD]  BBT    False  \n",
      "13840    False\n",
      "Name: sarcasm, dtype: bool\n"
     ]
    },
    {
     "name": "stderr",
     "output_type": "stream",
     "text": [
      "\r"
     ]
    },
    {
     "name": "stdout",
     "output_type": "stream",
     "text": [
      "MoviePy - Writing audio in ./audio_extracted_no/13840.mp3\n"
     ]
    },
    {
     "name": "stderr",
     "output_type": "stream",
     "text": [
      "                                                                  \r"
     ]
    },
    {
     "name": "stdout",
     "output_type": "stream",
     "text": [
      "MoviePy - Done.\n",
      "                                              utterance   speaker   \n",
      "2595  I'd miss you if I broke up with you. Just tryi...  CHANDLER  \\\n",
      "\n",
      "                                                context   \n",
      "2595  [So Rachel called, wants to see me. Going over...  \\\n",
      "\n",
      "                  context_speakers     show  sarcasm  \n",
      "2595  [ROSS, JOEY, ROSS, CHANDLER]  FRIENDS    False  \n",
      "2595    False\n",
      "Name: sarcasm, dtype: bool\n",
      "MoviePy - Writing audio in ./audio_extracted_no/2595.mp3\n"
     ]
    },
    {
     "name": "stderr",
     "output_type": "stream",
     "text": [
      "                                                                    "
     ]
    },
    {
     "name": "stdout",
     "output_type": "stream",
     "text": [
      "MoviePy - Done.\n",
      "                                              utterance   speaker   \n",
      "2581  We were wondering what was taking so long with...  CHANDLER  \\\n",
      "\n",
      "                                       context context_speakers     show   \n",
      "2581  [Quack quack, quack quack, quack quack.]           [JOEY]  FRIENDS  \\\n",
      "\n",
      "      sarcasm  \n",
      "2581     True  \n",
      "2581    True\n",
      "Name: sarcasm, dtype: bool\n"
     ]
    },
    {
     "name": "stderr",
     "output_type": "stream",
     "text": [
      "\r"
     ]
    },
    {
     "name": "stdout",
     "output_type": "stream",
     "text": [
      "MoviePy - Writing audio in ./audio_extracted_yes/2581.mp3\n"
     ]
    },
    {
     "name": "stderr",
     "output_type": "stream",
     "text": [
      "                                                                    "
     ]
    },
    {
     "name": "stdout",
     "output_type": "stream",
     "text": [
      "MoviePy - Done.\n",
      "                                              utterance speaker   \n",
      "2218  Hey, does somebody wanna hand me one of those ...    JOEY  \\\n",
      "\n",
      "                                                context   \n",
      "2218  [Have you seen Joey?, What's the matter?, Oh, ...  \\\n",
      "\n",
      "                  context_speakers     show  sarcasm  \n",
      "2218  [CHANDLER, MONICA, CHANDLER]  FRIENDS    False  \n",
      "2218    False\n",
      "Name: sarcasm, dtype: bool\n"
     ]
    },
    {
     "name": "stderr",
     "output_type": "stream",
     "text": [
      "\r"
     ]
    },
    {
     "name": "stdout",
     "output_type": "stream",
     "text": [
      "MoviePy - Writing audio in ./audio_extracted_no/2218.mp3\n"
     ]
    },
    {
     "name": "stderr",
     "output_type": "stream",
     "text": [
      "                                                       "
     ]
    },
    {
     "name": "stdout",
     "output_type": "stream",
     "text": [
      "MoviePy - Done.\n",
      "                                              utterance   speaker   \n",
      "2230  Okay, Janice. Janice. You gotta give me Janice...  CHANDLER  \\\n",
      "\n",
      "                                                context   \n",
      "2230  [Okay, Mr. Heckles, we'll try to keep it down....  \\\n",
      "\n",
      "              context_speakers     show  sarcasm  \n",
      "2230  [MONICA, PERSON, RACHEL]  FRIENDS    False  \n",
      "2230    False\n",
      "Name: sarcasm, dtype: bool\n"
     ]
    },
    {
     "name": "stderr",
     "output_type": "stream",
     "text": [
      "\r"
     ]
    },
    {
     "name": "stdout",
     "output_type": "stream",
     "text": [
      "MoviePy - Writing audio in ./audio_extracted_no/2230.mp3\n"
     ]
    },
    {
     "name": "stderr",
     "output_type": "stream",
     "text": [
      "                                                       "
     ]
    },
    {
     "name": "stdout",
     "output_type": "stream",
     "text": [
      "MoviePy - Done.\n",
      "                                              utterance   speaker   \n",
      "2556  Joey if I go first, I want to be looking for m...  CHANDLER  \\\n",
      "\n",
      "                                                context context_speakers   \n",
      "2556  [When their pets pass on, they want them sort ...         [PERSON]  \\\n",
      "\n",
      "         show  sarcasm  \n",
      "2556  FRIENDS     True  \n",
      "2556    True\n",
      "Name: sarcasm, dtype: bool\n"
     ]
    },
    {
     "name": "stderr",
     "output_type": "stream",
     "text": [
      "\r"
     ]
    },
    {
     "name": "stdout",
     "output_type": "stream",
     "text": [
      "MoviePy - Writing audio in ./audio_extracted_yes/2556.mp3\n"
     ]
    },
    {
     "name": "stderr",
     "output_type": "stream",
     "text": [
      "                                                                    "
     ]
    },
    {
     "name": "stdout",
     "output_type": "stream",
     "text": [
      "MoviePy - Done.\n",
      "                                              utterance speaker   \n",
      "2542  Uh, Rachel's here, so good luck man, let me kn...    JOEY  \\\n",
      "\n",
      "                                                context      context_speakers   \n",
      "2542  [Well, I'm just,if the paste matches the pants...  [JOEY, RACHEL, ROSS]  \\\n",
      "\n",
      "         show  sarcasm  \n",
      "2542  FRIENDS     True  \n",
      "2542    True\n",
      "Name: sarcasm, dtype: bool\n"
     ]
    },
    {
     "name": "stderr",
     "output_type": "stream",
     "text": [
      "\r"
     ]
    },
    {
     "name": "stdout",
     "output_type": "stream",
     "text": [
      "MoviePy - Writing audio in ./audio_extracted_yes/2542.mp3\n"
     ]
    },
    {
     "name": "stderr",
     "output_type": "stream",
     "text": [
      "                                                       "
     ]
    },
    {
     "name": "stdout",
     "output_type": "stream",
     "text": [
      "MoviePy - Done.\n",
      "    utterance speaker                                            context   \n",
      "258      Why?  PHOEBE  [Welcome back!, Hey!  Can we pick up where we ...  \\\n",
      "\n",
      "             context_speakers     show  sarcasm  \n",
      "258  [PERSON, PHOEBE, PERSON]  FRIENDS    False  \n",
      "258    False\n",
      "Name: sarcasm, dtype: bool\n"
     ]
    },
    {
     "name": "stderr",
     "output_type": "stream",
     "text": [
      "\r"
     ]
    },
    {
     "name": "stdout",
     "output_type": "stream",
     "text": [
      "MoviePy - Writing audio in ./audio_extracted_no/258.mp3\n"
     ]
    },
    {
     "name": "stderr",
     "output_type": "stream",
     "text": [
      "                                                       "
     ]
    },
    {
     "name": "stdout",
     "output_type": "stream",
     "text": [
      "MoviePy - Done.\n",
      "                                                utterance speaker   \n",
      "111609  I've, uh, created some other user accounts so ...     RAJ  \\\n",
      "\n",
      "                                                  context   \n",
      "111609  [Do you really want him to write back?, Yeah, ...  \\\n",
      "\n",
      "                   context_speakers show  sarcasm  \n",
      "111609  [LEONARD, SHELDON, LEONARD]  BBT    False  \n",
      "111609    False\n",
      "Name: sarcasm, dtype: bool\n"
     ]
    },
    {
     "name": "stderr",
     "output_type": "stream",
     "text": [
      "\r"
     ]
    },
    {
     "name": "stdout",
     "output_type": "stream",
     "text": [
      "MoviePy - Writing audio in ./audio_extracted_no/111609.mp3\n"
     ]
    },
    {
     "name": "stderr",
     "output_type": "stream",
     "text": [
      "                                                                    "
     ]
    },
    {
     "name": "stdout",
     "output_type": "stream",
     "text": [
      "MoviePy - Done.\n",
      "                                               utterance speaker   \n",
      "14281  It was the kind of thing that makes it kind of...  HOWARD  \\\n",
      "\n",
      "                                                 context   \n",
      "14281  [You never told me what happened between you a...  \\\n",
      "\n",
      "                 context_speakers show  sarcasm  \n",
      "14281  [LEONARD, HOWARD, LEONARD]  BBT    False  \n",
      "14281    False\n",
      "Name: sarcasm, dtype: bool\n"
     ]
    },
    {
     "name": "stderr",
     "output_type": "stream",
     "text": [
      "\r"
     ]
    },
    {
     "name": "stdout",
     "output_type": "stream",
     "text": [
      "MoviePy - Writing audio in ./audio_extracted_no/14281.mp3\n"
     ]
    },
    {
     "name": "stderr",
     "output_type": "stream",
     "text": [
      "                                                                    "
     ]
    },
    {
     "name": "stdout",
     "output_type": "stream",
     "text": [
      "MoviePy - Done.\n",
      "                  utterance speaker   \n",
      "2191  So, you're just Bing?    JOEY  \\\n",
      "\n",
      "                                                context   \n",
      "2191  [No, no, you're right, it is a ridiculous name...  \\\n",
      "\n",
      "                context_speakers     show  sarcasm  \n",
      "2191  [CHANDLER, JOEY, CHANDLER]  FRIENDS    False  \n",
      "2191    False\n",
      "Name: sarcasm, dtype: bool\n"
     ]
    },
    {
     "name": "stderr",
     "output_type": "stream",
     "text": [
      "\r"
     ]
    },
    {
     "name": "stdout",
     "output_type": "stream",
     "text": [
      "MoviePy - Writing audio in ./audio_extracted_no/2191.mp3\n"
     ]
    },
    {
     "name": "stderr",
     "output_type": "stream",
     "text": [
      "                                                       "
     ]
    },
    {
     "name": "stdout",
     "output_type": "stream",
     "text": [
      "MoviePy - Done.\n",
      "                                              utterance   speaker   \n",
      "2608  You are right, by saying nice, I am virtually ...  CHANDLER  \\\n",
      "\n",
      "                                                context   \n",
      "2608  [Did I go to this school?, Hey, there's Missy ...  \\\n",
      "\n",
      "                      context_speakers     show  sarcasm  \n",
      "2608  [CHANDLER, ROSS, CHANDLER, ROSS]  FRIENDS     True  \n",
      "2608    True\n",
      "Name: sarcasm, dtype: bool\n"
     ]
    },
    {
     "name": "stderr",
     "output_type": "stream",
     "text": [
      "\r"
     ]
    },
    {
     "name": "stdout",
     "output_type": "stream",
     "text": [
      "MoviePy - Writing audio in ./audio_extracted_yes/2608.mp3\n"
     ]
    },
    {
     "name": "stderr",
     "output_type": "stream",
     "text": [
      "                                                       "
     ]
    },
    {
     "name": "stdout",
     "output_type": "stream",
     "text": [
      "MoviePy - Done.\n",
      "                                         utterance speaker   \n",
      "2146  So Ross, how umm, how did it go with Bonnie?  PHOEBE  \\\n",
      "\n",
      "                                                context   \n",
      "2146  [Oh, about five minutes. Right now they're int...  \\\n",
      "\n",
      "            context_speakers     show  sarcasm  \n",
      "2146  [MONICA, ROSS, MONICA]  FRIENDS    False  \n",
      "2146    False\n",
      "Name: sarcasm, dtype: bool\n"
     ]
    },
    {
     "name": "stderr",
     "output_type": "stream",
     "text": [
      "\r"
     ]
    },
    {
     "name": "stdout",
     "output_type": "stream",
     "text": [
      "MoviePy - Writing audio in ./audio_extracted_no/2146.mp3\n"
     ]
    },
    {
     "name": "stderr",
     "output_type": "stream",
     "text": [
      "                                                       "
     ]
    },
    {
     "name": "stdout",
     "output_type": "stream",
     "text": [
      "MoviePy - Done.\n",
      "         utterance speaker                                            context   \n",
      "2152  Your makeup?    ROSS  [Are you referring to my man's bag? At first i...  \\\n",
      "\n",
      "     context_speakers     show  sarcasm  \n",
      "2152           [JOEY]  FRIENDS     True  \n",
      "2152    True\n",
      "Name: sarcasm, dtype: bool\n"
     ]
    },
    {
     "name": "stderr",
     "output_type": "stream",
     "text": [
      "\r"
     ]
    },
    {
     "name": "stdout",
     "output_type": "stream",
     "text": [
      "MoviePy - Writing audio in ./audio_extracted_yes/2152.mp3\n"
     ]
    },
    {
     "name": "stderr",
     "output_type": "stream",
     "text": [
      "                                                       "
     ]
    },
    {
     "name": "stdout",
     "output_type": "stream",
     "text": [
      "MoviePy - Done.\n",
      "                                              utterance   speaker   \n",
      "2387  Yes, I know, but her friend sounds like such a...  CHANDLER  \\\n",
      "\n",
      "                                                context  context_speakers   \n",
      "2387  [Oh, uh, listen, about tonight..., No, no, no,...  [JOEY, CHANDLER]  \\\n",
      "\n",
      "         show  sarcasm  \n",
      "2387  FRIENDS    False  \n",
      "2387    False\n",
      "Name: sarcasm, dtype: bool\n"
     ]
    },
    {
     "name": "stderr",
     "output_type": "stream",
     "text": [
      "\r"
     ]
    },
    {
     "name": "stdout",
     "output_type": "stream",
     "text": [
      "MoviePy - Writing audio in ./audio_extracted_no/2387.mp3\n"
     ]
    },
    {
     "name": "stderr",
     "output_type": "stream",
     "text": [
      "                                                                 "
     ]
    },
    {
     "name": "stdout",
     "output_type": "stream",
     "text": [
      "MoviePy - Done.\n",
      "                                              utterance  speaker   \n",
      "1536  Just the latest copy of Applied Particle Physi...  SHELDON  \\\n",
      "\n",
      "                                               context   \n",
      "1536  [Hey Sheldon., Hello Penny., Get anything good?]  \\\n",
      "\n",
      "             context_speakers show  sarcasm  \n",
      "1536  [PENNY, SHELDON, PENNY]  BBT     True  \n",
      "1536    True\n",
      "Name: sarcasm, dtype: bool\n"
     ]
    },
    {
     "name": "stderr",
     "output_type": "stream",
     "text": [
      "\r"
     ]
    },
    {
     "name": "stdout",
     "output_type": "stream",
     "text": [
      "MoviePy - Writing audio in ./audio_extracted_yes/1536.mp3\n"
     ]
    },
    {
     "name": "stderr",
     "output_type": "stream",
     "text": [
      "                                                                    "
     ]
    },
    {
     "name": "stdout",
     "output_type": "stream",
     "text": [
      "MoviePy - Done.\n",
      "     utterance   speaker                                            context   \n",
      "2393   Pheebs?  CHANDLER  [I can't take it anymore. So you win, okay? He...  \\\n",
      "\n",
      "     context_speakers     show  sarcasm  \n",
      "2393       [CHANDLER]  FRIENDS    False  \n",
      "2393    False\n",
      "Name: sarcasm, dtype: bool\n"
     ]
    },
    {
     "name": "stderr",
     "output_type": "stream",
     "text": [
      "\r"
     ]
    },
    {
     "name": "stdout",
     "output_type": "stream",
     "text": [
      "MoviePy - Writing audio in ./audio_extracted_no/2393.mp3\n"
     ]
    },
    {
     "name": "stderr",
     "output_type": "stream",
     "text": [
      "                                                       "
     ]
    },
    {
     "name": "stdout",
     "output_type": "stream",
     "text": [
      "MoviePy - Done.\n",
      "                              utterance  speaker   \n",
      "2378  No Blanche, with a venus fly trap  DOROTHY  \\\n",
      "\n",
      "                                                context    context_speakers   \n",
      "2378  [Morning everybody, Rose honey I hope you don'...  [DOROTHY, BLANCHE]  \\\n",
      "\n",
      "             show  sarcasm  \n",
      "2378  GOLDENGIRLS     True  \n",
      "2378    True\n",
      "Name: sarcasm, dtype: bool\n"
     ]
    },
    {
     "name": "stderr",
     "output_type": "stream",
     "text": [
      "\r"
     ]
    },
    {
     "name": "stdout",
     "output_type": "stream",
     "text": [
      "MoviePy - Writing audio in ./audio_extracted_yes/2378.mp3\n"
     ]
    },
    {
     "name": "stderr",
     "output_type": "stream",
     "text": [
      "                                                       "
     ]
    },
    {
     "name": "stdout",
     "output_type": "stream",
     "text": [
      "MoviePy - Done.\n",
      "                utterance  speaker                                 context   \n",
      "2344  A hand puppet Rose.  DOROTHY  [So you have replaced me., With what?]  \\\n",
      "\n",
      "     context_speakers         show  sarcasm  \n",
      "2344   [PERSON, ROSE]  GOLDENGIRLS     True  \n",
      "2344    True\n",
      "Name: sarcasm, dtype: bool\n"
     ]
    },
    {
     "name": "stderr",
     "output_type": "stream",
     "text": [
      "\r"
     ]
    },
    {
     "name": "stdout",
     "output_type": "stream",
     "text": [
      "MoviePy - Writing audio in ./audio_extracted_yes/2344.mp3\n"
     ]
    },
    {
     "name": "stderr",
     "output_type": "stream",
     "text": [
      "                                                        "
     ]
    },
    {
     "name": "stdout",
     "output_type": "stream",
     "text": [
      "MoviePy - Done.\n",
      "                                          utterance  speaker   \n",
      "13707  Oh, I'm so glad you asked it like that. You.  LEONARD  \\\n",
      "\n",
      "                                                 context   \n",
      "13707  [Hey, Sheldon. I was up in the administration ...  \\\n",
      "\n",
      "                           context_speakers show  sarcasm  \n",
      "13707  [LEONARD, SHELDON, SHELDON, SHELDON]  BBT     True  \n",
      "13707    True\n",
      "Name: sarcasm, dtype: bool\n"
     ]
    },
    {
     "name": "stderr",
     "output_type": "stream",
     "text": [
      "\r"
     ]
    },
    {
     "name": "stdout",
     "output_type": "stream",
     "text": [
      "MoviePy - Writing audio in ./audio_extracted_yes/13707.mp3\n"
     ]
    },
    {
     "name": "stderr",
     "output_type": "stream",
     "text": [
      "                                                                  "
     ]
    },
    {
     "name": "stdout",
     "output_type": "stream",
     "text": [
      "MoviePy - Done.\n",
      "                          utterance speaker   \n",
      "2422  Well, I like it. Here you go.    JOEY  \\\n",
      "\n",
      "                                                context   \n",
      "2422  [We've got uh, scarves, tulip post cards..., C...  \\\n",
      "\n",
      "              context_speakers     show  sarcasm  \n",
      "2422  [PERSON, JOEY, CHANDLER]  FRIENDS    False  \n",
      "2422    False\n",
      "Name: sarcasm, dtype: bool\n"
     ]
    },
    {
     "name": "stderr",
     "output_type": "stream",
     "text": [
      "\r"
     ]
    },
    {
     "name": "stdout",
     "output_type": "stream",
     "text": [
      "MoviePy - Writing audio in ./audio_extracted_no/2422.mp3\n"
     ]
    },
    {
     "name": "stderr",
     "output_type": "stream",
     "text": [
      "                                                       "
     ]
    },
    {
     "name": "stdout",
     "output_type": "stream",
     "text": [
      "MoviePy - Done.\n",
      "                                              utterance  speaker   \n",
      "2350  No Rose, I am nervous because Sonny Bono gets ...  DOROTHY  \\\n",
      "\n",
      "                                                context   \n",
      "2350  [They are ain't here yet, No, but they should ...  \\\n",
      "\n",
      "                             context_speakers         show  sarcasm  \n",
      "2350  [BLANCHE, DOROTHY, ROSE, DOROTHY, ROSE]  GOLDENGIRLS     True  \n",
      "2350    True\n",
      "Name: sarcasm, dtype: bool\n"
     ]
    },
    {
     "name": "stderr",
     "output_type": "stream",
     "text": [
      "\r"
     ]
    },
    {
     "name": "stdout",
     "output_type": "stream",
     "text": [
      "MoviePy - Writing audio in ./audio_extracted_yes/2350.mp3\n"
     ]
    },
    {
     "name": "stderr",
     "output_type": "stream",
     "text": [
      "                                                                    "
     ]
    },
    {
     "name": "stdout",
     "output_type": "stream",
     "text": [
      "MoviePy - Done.\n",
      "                                               utterance speaker   \n",
      "17575  You're right, the party's fantastic. Please, t...  HOWARD  \\\n",
      "\n",
      "                                                 context   \n",
      "17575  [It was a compromise. I lost., Can you believe...  \\\n",
      "\n",
      "                       context_speakers show  sarcasm  \n",
      "17575  [SHELDON, RAJ, HOWARD, RAJ, RAJ]  BBT     True  \n",
      "17575    True\n",
      "Name: sarcasm, dtype: bool\n"
     ]
    },
    {
     "name": "stderr",
     "output_type": "stream",
     "text": [
      "\r"
     ]
    },
    {
     "name": "stdout",
     "output_type": "stream",
     "text": [
      "MoviePy - Writing audio in ./audio_extracted_yes/17575.mp3\n"
     ]
    },
    {
     "name": "stderr",
     "output_type": "stream",
     "text": [
      "                                                                  "
     ]
    },
    {
     "name": "stdout",
     "output_type": "stream",
     "text": [
      "MoviePy - Done.\n",
      "                                              utterance speaker   \n",
      "2375  I was thkinking about maybe going into the Robot.    ROSS  \\\n",
      "\n",
      "                                                context context_speakers   \n",
      "2375  [Hey, you haven't been practising the routine ...   [MONICA, ROSS]  \\\n",
      "\n",
      "         show  sarcasm  \n",
      "2375  FRIENDS    False  \n",
      "2375    False\n",
      "Name: sarcasm, dtype: bool\n"
     ]
    },
    {
     "name": "stderr",
     "output_type": "stream",
     "text": [
      "\r"
     ]
    },
    {
     "name": "stdout",
     "output_type": "stream",
     "text": [
      "MoviePy - Writing audio in ./audio_extracted_no/2375.mp3\n"
     ]
    },
    {
     "name": "stderr",
     "output_type": "stream",
     "text": [
      "                                                       "
     ]
    },
    {
     "name": "stdout",
     "output_type": "stream",
     "text": [
      "MoviePy - Done.\n",
      "                                              utterance speaker   \n",
      "2413  Some guy bought it. I'm sorry. I tired to stop...  PHOEBE  \\\n",
      "\n",
      "                                                context   \n",
      "2413  [Oh, that's uh, that's pretty nice but I'm gon...  \\\n",
      "\n",
      "                  context_speakers     show  sarcasm  \n",
      "2413  [CHANDLER, PHOEBE, CHANDLER]  FRIENDS    False  \n",
      "2413    False\n",
      "Name: sarcasm, dtype: bool\n"
     ]
    },
    {
     "name": "stderr",
     "output_type": "stream",
     "text": [
      "\r"
     ]
    },
    {
     "name": "stdout",
     "output_type": "stream",
     "text": [
      "MoviePy - Writing audio in ./audio_extracted_no/2413.mp3\n"
     ]
    },
    {
     "name": "stderr",
     "output_type": "stream",
     "text": [
      "                                                       "
     ]
    },
    {
     "name": "stdout",
     "output_type": "stream",
     "text": [
      "MoviePy - Done.\n",
      "     utterance speaker                                            context   \n",
      "2407      Hey!    JOEY  [Well, Joshua's coming in tomorrow and since I...  \\\n",
      "\n",
      "        context_speakers     show  sarcasm  \n",
      "2407  [RACHEL, CHANDLER]  FRIENDS    False  \n",
      "2407    False\n",
      "Name: sarcasm, dtype: bool\n"
     ]
    },
    {
     "name": "stderr",
     "output_type": "stream",
     "text": [
      "\r"
     ]
    },
    {
     "name": "stdout",
     "output_type": "stream",
     "text": [
      "MoviePy - Writing audio in ./audio_extracted_no/2407.mp3\n"
     ]
    },
    {
     "name": "stderr",
     "output_type": "stream",
     "text": [
      "                                                       "
     ]
    },
    {
     "name": "stdout",
     "output_type": "stream",
     "text": [
      "MoviePy - Done.\n",
      "     utterance      speaker   \n",
      "2361      Nooo  MEMBER-GIRL  \\\n",
      "\n",
      "                                                context   \n",
      "2361  [Well we have a new member of Sarcasmoholics A...  \\\n",
      "\n",
      "                   context_speakers            show  sarcasm  \n",
      "2361  [MODERATOR, MODERATOR, SCOTT]  SARCASMOHOLICS     True  \n",
      "2361    True\n",
      "Name: sarcasm, dtype: bool\n"
     ]
    },
    {
     "name": "stderr",
     "output_type": "stream",
     "text": [
      "\r"
     ]
    },
    {
     "name": "stdout",
     "output_type": "stream",
     "text": [
      "MoviePy - Writing audio in ./audio_extracted_yes/2361.mp3\n"
     ]
    },
    {
     "name": "stderr",
     "output_type": "stream",
     "text": [
      "                                                       "
     ]
    },
    {
     "name": "stdout",
     "output_type": "stream",
     "text": [
      "MoviePy - Done.\n",
      "                                               utterance speaker   \n",
      "13911  That's very thoughtful, but I think I'll finis...  PERSON  \\\n",
      "\n",
      "                                                 context   \n",
      "13911  [And shake twice for Texas., Something his mot...  \\\n",
      "\n",
      "                  context_speakers show  sarcasm  \n",
      "13911  [LEONARD, LEONARD, SHELDON]  BBT    False  \n",
      "13911    False\n",
      "Name: sarcasm, dtype: bool\n"
     ]
    },
    {
     "name": "stderr",
     "output_type": "stream",
     "text": [
      "\r"
     ]
    },
    {
     "name": "stdout",
     "output_type": "stream",
     "text": [
      "MoviePy - Writing audio in ./audio_extracted_no/13911.mp3\n"
     ]
    },
    {
     "name": "stderr",
     "output_type": "stream",
     "text": [
      "                                                       "
     ]
    },
    {
     "name": "stdout",
     "output_type": "stream",
     "text": [
      "MoviePy - Done.\n",
      "                                               utterance  speaker   \n",
      "17593  Amy, I can't just ask Wil Wheaton to leave. He...  SHELDON  \\\n",
      "\n",
      "                                                 context   \n",
      "17593  [What do you think?, Can I speak to you for a ...  \\\n",
      "\n",
      "                                 context_speakers show  sarcasm  \n",
      "17593  [SHELDON, AMY, SHELDON, SHELDON, AMY, AMY]  BBT    False  \n",
      "17593    False\n",
      "Name: sarcasm, dtype: bool\n"
     ]
    },
    {
     "name": "stderr",
     "output_type": "stream",
     "text": [
      "\r"
     ]
    },
    {
     "name": "stdout",
     "output_type": "stream",
     "text": [
      "MoviePy - Writing audio in ./audio_extracted_no/17593.mp3\n"
     ]
    },
    {
     "name": "stderr",
     "output_type": "stream",
     "text": [
      "                                                                    \r"
     ]
    },
    {
     "name": "stdout",
     "output_type": "stream",
     "text": [
      "MoviePy - Done.\n",
      "                                              utterance  speaker   \n",
      "1507  Well, there's always the possibility that a tr...  SHELDON  \\\n",
      "\n",
      "                                                context   \n",
      "1507  [I promised my mother., I suppose you could ha...  \\\n",
      "\n",
      "                          context_speakers show  sarcasm  \n",
      "1507  [HOWARD, RAJ, RAJ, SHELDON, LEONARD]  BBT     True  \n",
      "1507    True\n",
      "Name: sarcasm, dtype: bool\n",
      "MoviePy - Writing audio in ./audio_extracted_yes/1507.mp3\n"
     ]
    },
    {
     "name": "stderr",
     "output_type": "stream",
     "text": [
      "                                                                   "
     ]
    },
    {
     "name": "stdout",
     "output_type": "stream",
     "text": [
      "MoviePy - Done.\n",
      "                                               utterance  speaker   \n",
      "12616  Sure, maybe a tableau of me trying to pummel y...  LEONARD  \\\n",
      "\n",
      "                                                 context   \n",
      "12616  [Of course not. I'm a theoretical physicist.\\n...  \\\n",
      "\n",
      "                  context_speakers show  sarcasm  \n",
      "12616  [SHELDON, SHELDON, SHELDON]  BBT     True  \n",
      "12616    True\n",
      "Name: sarcasm, dtype: bool\n"
     ]
    },
    {
     "name": "stderr",
     "output_type": "stream",
     "text": [
      "\r"
     ]
    },
    {
     "name": "stdout",
     "output_type": "stream",
     "text": [
      "MoviePy - Writing audio in ./audio_extracted_yes/12616.mp3\n"
     ]
    },
    {
     "name": "stderr",
     "output_type": "stream",
     "text": [
      "                                                                  "
     ]
    },
    {
     "name": "stdout",
     "output_type": "stream",
     "text": [
      "MoviePy - Done.\n",
      "              utterance speaker   \n",
      "2611  Just tell me how.  RACHEL  \\\n",
      "\n",
      "                                                context   \n",
      "2611  [Why?!!, Uh well umm .. we're just not in that...  \\\n",
      "\n",
      "            context_speakers     show  sarcasm  \n",
      "2611  [PERSON, ROSS, PERSON]  FRIENDS     True  \n",
      "2611    True\n",
      "Name: sarcasm, dtype: bool\n"
     ]
    },
    {
     "name": "stderr",
     "output_type": "stream",
     "text": [
      "\r"
     ]
    },
    {
     "name": "stdout",
     "output_type": "stream",
     "text": [
      "MoviePy - Writing audio in ./audio_extracted_yes/2611.mp3\n"
     ]
    },
    {
     "name": "stderr",
     "output_type": "stream",
     "text": [
      "                                                       "
     ]
    },
    {
     "name": "stdout",
     "output_type": "stream",
     "text": [
      "MoviePy - Done.\n",
      "                              utterance speaker   \n",
      "2177  I can show you an ID if you want?  PERSON  \\\n",
      "\n",
      "                                                context   \n",
      "2177  [Um-hmm. Oh wait! This is Bonnie., Hi!, This i...  \\\n",
      "\n",
      "              context_speakers     show  sarcasm  \n",
      "2177  [PHOEBE, PERSON, RACHEL]  FRIENDS     True  \n",
      "2177    True\n",
      "Name: sarcasm, dtype: bool\n"
     ]
    },
    {
     "name": "stderr",
     "output_type": "stream",
     "text": [
      "\r"
     ]
    },
    {
     "name": "stdout",
     "output_type": "stream",
     "text": [
      "MoviePy - Writing audio in ./audio_extracted_yes/2177.mp3\n"
     ]
    },
    {
     "name": "stderr",
     "output_type": "stream",
     "text": [
      "                                                       "
     ]
    },
    {
     "name": "stdout",
     "output_type": "stream",
     "text": [
      "MoviePy - Done.\n",
      "                                        utterance speaker   \n",
      "2163  Oh boy, I just can't watch. It's too scary!  RACHEL  \\\n",
      "\n",
      "                                                context   \n",
      "2163  [Oh umm, my big scene is coming up. Big scene ...  \\\n",
      "\n",
      "              context_speakers     show  sarcasm  \n",
      "2163  [JOEY, CHANDLER, MONICA]  FRIENDS     True  \n",
      "2163    True\n",
      "Name: sarcasm, dtype: bool\n"
     ]
    },
    {
     "name": "stderr",
     "output_type": "stream",
     "text": [
      "\r"
     ]
    },
    {
     "name": "stdout",
     "output_type": "stream",
     "text": [
      "MoviePy - Writing audio in ./audio_extracted_yes/2163.mp3\n"
     ]
    },
    {
     "name": "stderr",
     "output_type": "stream",
     "text": [
      "                                                       "
     ]
    },
    {
     "name": "stdout",
     "output_type": "stream",
     "text": [
      "MoviePy - Done.\n",
      "                      utterance speaker   \n",
      "2188  You had no relationship!!  MONICA  \\\n",
      "\n",
      "                                                context   \n",
      "2188  [I just saw Danny getting on the subway with a...  \\\n",
      "\n",
      "              context_speakers     show  sarcasm  \n",
      "2188  [RACHEL, MONICA, RACHEL]  FRIENDS    False  \n",
      "2188    False\n",
      "Name: sarcasm, dtype: bool\n"
     ]
    },
    {
     "name": "stderr",
     "output_type": "stream",
     "text": [
      "\r"
     ]
    },
    {
     "name": "stdout",
     "output_type": "stream",
     "text": [
      "MoviePy - Writing audio in ./audio_extracted_no/2188.mp3\n"
     ]
    },
    {
     "name": "stderr",
     "output_type": "stream",
     "text": [
      "                                                       "
     ]
    },
    {
     "name": "stdout",
     "output_type": "stream",
     "text": [
      "MoviePy - Done.\n",
      "                                               utterance  speaker   \n",
      "12819  You know, I've always wanted to go to a Goth n...  SHELDON  \\\n",
      "\n",
      "                                                 context   \n",
      "12819  [Howard, what did you do?, They're called tatt...  \\\n",
      "\n",
      "                                context_speakers show  sarcasm  \n",
      "12819  [LEONARD, HOWARD, HOWARD, HOWARD, HOWARD]  BBT     True  \n",
      "12819    True\n",
      "Name: sarcasm, dtype: bool\n"
     ]
    },
    {
     "name": "stderr",
     "output_type": "stream",
     "text": [
      "\r"
     ]
    },
    {
     "name": "stdout",
     "output_type": "stream",
     "text": [
      "MoviePy - Writing audio in ./audio_extracted_yes/12819.mp3\n"
     ]
    },
    {
     "name": "stderr",
     "output_type": "stream",
     "text": [
      "                                                       "
     ]
    },
    {
     "name": "stdout",
     "output_type": "stream",
     "text": [
      "MoviePy - Done.\n",
      "                                               utterance  speaker   \n",
      "16504  Oh, I see why you're confused. No, her news so...  SHELDON  \\\n",
      "\n",
      "                                                 context   \n",
      "16504  [It's probably a euphemism for urination., She...  \\\n",
      "\n",
      "                                context_speakers show  sarcasm  \n",
      "16504  [SHELDON, PENNY, SHELDON, SHELDON, PENNY]  BBT     True  \n",
      "16504    True\n",
      "Name: sarcasm, dtype: bool\n"
     ]
    },
    {
     "name": "stderr",
     "output_type": "stream",
     "text": [
      "\r"
     ]
    },
    {
     "name": "stdout",
     "output_type": "stream",
     "text": [
      "MoviePy - Writing audio in ./audio_extracted_yes/16504.mp3\n"
     ]
    },
    {
     "name": "stderr",
     "output_type": "stream",
     "text": [
      "                                                                    \r"
     ]
    },
    {
     "name": "stdout",
     "output_type": "stream",
     "text": [
      "MoviePy - Done.\n",
      "                                           utterance speaker   \n",
      "296  I don't think so. Hello?  When you get in there    ROSS  \\\n",
      "\n",
      "                                               context context_speakers   \n",
      "296  [Y'know, y'know I'm lookin' and I don't think ...     [ROSS, JOEY]  \\\n",
      "\n",
      "        show  sarcasm  \n",
      "296  FRIENDS    False  \n",
      "296    False\n",
      "Name: sarcasm, dtype: bool\n",
      "MoviePy - Writing audio in ./audio_extracted_no/296.mp3\n"
     ]
    },
    {
     "name": "stderr",
     "output_type": "stream",
     "text": [
      "                                                                    \r"
     ]
    },
    {
     "name": "stdout",
     "output_type": "stream",
     "text": [
      "MoviePy - Done.\n",
      "              utterance speaker   \n",
      "269  Cover yourself up!  MONICA  \\\n",
      "\n",
      "                                               context   \n",
      "269  [You said, you wanna come in for some lemonade...  \\\n",
      "\n",
      "                 context_speakers     show  sarcasm  \n",
      "269  [JOEY, MONICA, JOEY, MONICA]  FRIENDS    False  \n",
      "269    False\n",
      "Name: sarcasm, dtype: bool\n",
      "MoviePy - Writing audio in ./audio_extracted_no/269.mp3\n"
     ]
    },
    {
     "name": "stderr",
     "output_type": "stream",
     "text": [
      "                                                       "
     ]
    },
    {
     "name": "stdout",
     "output_type": "stream",
     "text": [
      "MoviePy - Done.\n",
      "                                              utterance speaker   \n",
      "15964  Smart. Whisper so the deaf chick can't hear you.  HOWARD  \\\n",
      "\n",
      "                                                 context   \n",
      "15964  [Wow., You're engaged to my friend., Hey, Bern...  \\\n",
      "\n",
      "                     context_speakers show  sarcasm  \n",
      "15964  [HOWARD, PENNY, HOWARD, PENNY]  BBT     True  \n",
      "15964    True\n",
      "Name: sarcasm, dtype: bool\n"
     ]
    },
    {
     "name": "stderr",
     "output_type": "stream",
     "text": [
      "\r"
     ]
    },
    {
     "name": "stdout",
     "output_type": "stream",
     "text": [
      "MoviePy - Writing audio in ./audio_extracted_yes/15964.mp3\n"
     ]
    },
    {
     "name": "stderr",
     "output_type": "stream",
     "text": [
      "                                                       "
     ]
    },
    {
     "name": "stdout",
     "output_type": "stream",
     "text": [
      "MoviePy - Done.\n",
      "                                                utterance speaker   \n",
      "112331  Wow, there's a Denny's in Vegas you can actual...   PENNY  \\\n",
      "\n",
      "                                                  context   \n",
      "112331  [Stuart: It's just my dad, probably calling to...  \\\n",
      "\n",
      "                                         context_speakers show  sarcasm  \n",
      "112331  [PERSON1, PERSON1, PERSON2, RAJ, HOWARD, PERSON1]  BBT    False  \n",
      "112331    False\n",
      "Name: sarcasm, dtype: bool\n"
     ]
    },
    {
     "name": "stderr",
     "output_type": "stream",
     "text": [
      "\r"
     ]
    },
    {
     "name": "stdout",
     "output_type": "stream",
     "text": [
      "MoviePy - Writing audio in ./audio_extracted_no/112331.mp3\n"
     ]
    },
    {
     "name": "stderr",
     "output_type": "stream",
     "text": [
      "                                                       "
     ]
    },
    {
     "name": "stdout",
     "output_type": "stream",
     "text": [
      "MoviePy - Done.\n",
      "                                             utterance speaker   \n",
      "255  Oh hey, great, you're up. Rachel, this is my s...  PERSON  \\\n",
      "\n",
      "                                               context   \n",
      "255  [I'm really glad Monica asked us out., I'd lov...  \\\n",
      "\n",
      "             context_speakers     show  sarcasm  \n",
      "255  [RACHEL, PERSON, RACHEL]  FRIENDS    False  \n",
      "255    False\n",
      "Name: sarcasm, dtype: bool\n"
     ]
    },
    {
     "name": "stderr",
     "output_type": "stream",
     "text": [
      "\r"
     ]
    },
    {
     "name": "stdout",
     "output_type": "stream",
     "text": [
      "MoviePy - Writing audio in ./audio_extracted_no/255.mp3\n"
     ]
    },
    {
     "name": "stderr",
     "output_type": "stream",
     "text": [
      "                                                       "
     ]
    },
    {
     "name": "stdout",
     "output_type": "stream",
     "text": [
      "MoviePy - Done.\n",
      "                                               utterance     speaker   \n",
      "18717  Because you're in the right lane behind a bus ...  BERNADETTE  \\\n",
      "\n",
      "                                 context context_speakers show  sarcasm  \n",
      "18717  [Do you think Penny's mad at me?]        [LEONARD]  BBT     True  \n",
      "18717    True\n",
      "Name: sarcasm, dtype: bool\n"
     ]
    },
    {
     "name": "stderr",
     "output_type": "stream",
     "text": [
      "\r"
     ]
    },
    {
     "name": "stdout",
     "output_type": "stream",
     "text": [
      "MoviePy - Writing audio in ./audio_extracted_yes/18717.mp3\n"
     ]
    },
    {
     "name": "stderr",
     "output_type": "stream",
     "text": [
      "                                                                  "
     ]
    },
    {
     "name": "stdout",
     "output_type": "stream",
     "text": [
      "MoviePy - Done.\n",
      "                                              utterance   speaker   \n",
      "2567  Well yes Ross, pressing my third nipple opens ...  CHANDLER  \\\n",
      "\n",
      "                                       context context_speakers     show   \n",
      "2567  [So uh, does it do anything uh special?]           [ROSS]  FRIENDS  \\\n",
      "\n",
      "      sarcasm  \n",
      "2567     True  \n",
      "2567    True\n",
      "Name: sarcasm, dtype: bool\n"
     ]
    },
    {
     "name": "stderr",
     "output_type": "stream",
     "text": [
      "\r"
     ]
    },
    {
     "name": "stdout",
     "output_type": "stream",
     "text": [
      "MoviePy - Writing audio in ./audio_extracted_yes/2567.mp3\n"
     ]
    },
    {
     "name": "stderr",
     "output_type": "stream",
     "text": [
      "                                                                    "
     ]
    },
    {
     "name": "stdout",
     "output_type": "stream",
     "text": [
      "MoviePy - Done.\n",
      "                                              utterance   speaker   \n",
      "2573  Oh I see, I thought you just really really lik...  CHANDLER  \\\n",
      "\n",
      "                                                context   \n",
      "2573  [Look I drew a sketch of how we are gonna do i...  \\\n",
      "\n",
      "                        context_speakers     show  sarcasm  \n",
      "2573  [ROSS, RACHEL, ROSS, RACHEL, ROSS]  FRIENDS     True  \n",
      "2573    True\n",
      "Name: sarcasm, dtype: bool\n"
     ]
    },
    {
     "name": "stderr",
     "output_type": "stream",
     "text": [
      "\r"
     ]
    },
    {
     "name": "stdout",
     "output_type": "stream",
     "text": [
      "MoviePy - Writing audio in ./audio_extracted_yes/2573.mp3\n"
     ]
    },
    {
     "name": "stderr",
     "output_type": "stream",
     "text": [
      "                                                                    "
     ]
    },
    {
     "name": "stdout",
     "output_type": "stream",
     "text": [
      "MoviePy - Done.\n",
      "                                              utterance   speaker   \n",
      "2598  Our balcony? Seriously? That's so funny becaus...  CHANDLER  \\\n",
      "\n",
      "                                                context context_speakers   \n",
      "2598  [After the party I saw Rachel kissing that jer...           [ROSS]  \\\n",
      "\n",
      "         show  sarcasm  \n",
      "2598  FRIENDS     True  \n",
      "2598    True\n",
      "Name: sarcasm, dtype: bool\n"
     ]
    },
    {
     "name": "stderr",
     "output_type": "stream",
     "text": [
      "\r"
     ]
    },
    {
     "name": "stdout",
     "output_type": "stream",
     "text": [
      "MoviePy - Writing audio in ./audio_extracted_yes/2598.mp3\n"
     ]
    },
    {
     "name": "stderr",
     "output_type": "stream",
     "text": [
      "                                                                    \r"
     ]
    },
    {
     "name": "stdout",
     "output_type": "stream",
     "text": [
      "MoviePy - Done.\n",
      "                                               utterance  speaker   \n",
      "14850  I understand. Your loyalty is admirable. But w...  SHELDON  \\\n",
      "\n",
      "                                                 context   \n",
      "14850  [Why not \"World's Greatest Engineer\"?, I'm sor...  \\\n",
      "\n",
      "                                  context_speakers show  sarcasm  \n",
      "14850  [HOWARD, SHELDON, SHELDON, SHELDON, HOWARD]  BBT    False  \n",
      "14850    False\n",
      "Name: sarcasm, dtype: bool\n",
      "MoviePy - Writing audio in ./audio_extracted_no/14850.mp3\n"
     ]
    },
    {
     "name": "stderr",
     "output_type": "stream",
     "text": [
      "                                                                  "
     ]
    },
    {
     "name": "stdout",
     "output_type": "stream",
     "text": [
      "MoviePy - Done.\n",
      "                                              utterance  speaker   \n",
      "1467  That woman looks exactly like the pictures of ...  SHELDON  \\\n",
      "\n",
      "                                                context   \n",
      "1467  [When I was a little boy and got sick, which w...  \\\n",
      "\n",
      "                                       context_speakers show  sarcasm  \n",
      "1467  [SHELDON, SHELDON, SHELDON, PENNY, LEONARD, LE...  BBT    False  \n",
      "1467    False\n",
      "Name: sarcasm, dtype: bool\n"
     ]
    },
    {
     "name": "stderr",
     "output_type": "stream",
     "text": [
      "\r"
     ]
    },
    {
     "name": "stdout",
     "output_type": "stream",
     "text": [
      "MoviePy - Writing audio in ./audio_extracted_no/1467.mp3\n"
     ]
    },
    {
     "name": "stderr",
     "output_type": "stream",
     "text": [
      "                                                                  "
     ]
    },
    {
     "name": "stdout",
     "output_type": "stream",
     "text": [
      "MoviePy - Done.\n",
      "                                               utterance speaker   \n",
      "17395  Well, if that's all it takes, it's a good thin...     AMY  \\\n",
      "\n",
      "                                                 context   \n",
      "17395  [You slept with him?, I didn't know what else ...  \\\n",
      "\n",
      "                      context_speakers show  sarcasm  \n",
      "17395  [AMY, PENNY, BERNADETTE, PENNY]  BBT     True  \n",
      "17395    True\n",
      "Name: sarcasm, dtype: bool\n"
     ]
    },
    {
     "name": "stderr",
     "output_type": "stream",
     "text": [
      "\r"
     ]
    },
    {
     "name": "stdout",
     "output_type": "stream",
     "text": [
      "MoviePy - Writing audio in ./audio_extracted_yes/17395.mp3\n"
     ]
    },
    {
     "name": "stderr",
     "output_type": "stream",
     "text": [
      "                                                       "
     ]
    },
    {
     "name": "stdout",
     "output_type": "stream",
     "text": [
      "MoviePy - Done.\n",
      "                                              utterance  speaker   \n",
      "2599  No I am upset because crocodin turbs are weari...  DOROTHY  \\\n",
      "\n",
      "                                                context    context_speakers   \n",
      "2599  [I am not talking to you, I guess you are stil...  [DOROTHY, BLANCHE]  \\\n",
      "\n",
      "             show  sarcasm  \n",
      "2599  GOLDENGIRLS     True  \n",
      "2599    True\n",
      "Name: sarcasm, dtype: bool\n"
     ]
    },
    {
     "name": "stderr",
     "output_type": "stream",
     "text": [
      "\r"
     ]
    },
    {
     "name": "stdout",
     "output_type": "stream",
     "text": [
      "MoviePy - Writing audio in ./audio_extracted_yes/2599.mp3\n"
     ]
    },
    {
     "name": "stderr",
     "output_type": "stream",
     "text": [
      "                                                       "
     ]
    },
    {
     "name": "stdout",
     "output_type": "stream",
     "text": [
      "MoviePy - Done.\n",
      "                                utterance  speaker   \n",
      "17357  I'm starting to get a sense of it.  LEONARD  \\\n",
      "\n",
      "                                                 context   \n",
      "17357  [My tongue won't go as far forward as it used ...  \\\n",
      "\n",
      "                           context_speakers show  sarcasm  \n",
      "17357  [SHELDON, LEONARD, SHELDON, SHELDON]  BBT     True  \n",
      "17357    True\n",
      "Name: sarcasm, dtype: bool\n"
     ]
    },
    {
     "name": "stderr",
     "output_type": "stream",
     "text": [
      "\r"
     ]
    },
    {
     "name": "stdout",
     "output_type": "stream",
     "text": [
      "MoviePy - Writing audio in ./audio_extracted_yes/17357.mp3\n"
     ]
    },
    {
     "name": "stderr",
     "output_type": "stream",
     "text": [
      "                                                                  "
     ]
    },
    {
     "name": "stdout",
     "output_type": "stream",
     "text": [
      "MoviePy - Done.\n",
      "                       utterance speaker   \n",
      "2572  No! I'm so happy for them!  RACHEL  \\\n",
      "\n",
      "                                                context   \n",
      "2572  [I know, they're gonna be, Ohh ..   I mean two...  \\\n",
      "\n",
      "              context_speakers     show  sarcasm  \n",
      "2572  [PHOEBE, RACHEL, PHOEBE]  FRIENDS    False  \n",
      "2572    False\n",
      "Name: sarcasm, dtype: bool\n"
     ]
    },
    {
     "name": "stderr",
     "output_type": "stream",
     "text": [
      "\r"
     ]
    },
    {
     "name": "stdout",
     "output_type": "stream",
     "text": [
      "MoviePy - Writing audio in ./audio_extracted_no/2572.mp3\n"
     ]
    },
    {
     "name": "stderr",
     "output_type": "stream",
     "text": [
      "                                                       "
     ]
    },
    {
     "name": "stdout",
     "output_type": "stream",
     "text": [
      "MoviePy - Done.\n",
      "                                               utterance speaker   \n",
      "13125  But if she dumps you, she'll have a new boyfri...  HOWARD  \\\n",
      "\n",
      "                                                 context   \n",
      "13125  [Let me ask you something., Do you think it's ...  \\\n",
      "\n",
      "                          context_speakers show  sarcasm  \n",
      "13125  [LEONARD, LEONARD, HOWARD, LEONARD]  BBT     True  \n",
      "13125    True\n",
      "Name: sarcasm, dtype: bool\n"
     ]
    },
    {
     "name": "stderr",
     "output_type": "stream",
     "text": [
      "\r"
     ]
    },
    {
     "name": "stdout",
     "output_type": "stream",
     "text": [
      "MoviePy - Writing audio in ./audio_extracted_yes/13125.mp3\n"
     ]
    },
    {
     "name": "stderr",
     "output_type": "stream",
     "text": [
      "                                                                  "
     ]
    },
    {
     "name": "stdout",
     "output_type": "stream",
     "text": [
      "MoviePy - Done.\n",
      "                                               utterance speaker   \n",
      "11732  You were right. Your larynx is terribly inflam...  PERSON  \\\n",
      "\n",
      "              context   context_speakers show  sarcasm  \n",
      "11732  [Oh no, What?]  [PERSON, SHELDON]  BBT     True  \n",
      "11732    True\n",
      "Name: sarcasm, dtype: bool\n"
     ]
    },
    {
     "name": "stderr",
     "output_type": "stream",
     "text": [
      "\r"
     ]
    },
    {
     "name": "stdout",
     "output_type": "stream",
     "text": [
      "MoviePy - Writing audio in ./audio_extracted_yes/11732.mp3\n"
     ]
    },
    {
     "name": "stderr",
     "output_type": "stream",
     "text": [
      "                                                                   "
     ]
    },
    {
     "name": "stdout",
     "output_type": "stream",
     "text": [
      "MoviePy - Done.\n",
      "                                              utterance speaker   \n",
      "2228  Then we went to this bar and he hooked us up w...  PERSON  \\\n",
      "\n",
      "                                                context  context_speakers   \n",
      "2228  [Hi Tag! Hey, so did you have fun with uh, wit...  [RACHEL, PERSON]  \\\n",
      "\n",
      "         show  sarcasm  \n",
      "2228  FRIENDS    False  \n",
      "2228    False\n",
      "Name: sarcasm, dtype: bool\n"
     ]
    },
    {
     "name": "stderr",
     "output_type": "stream",
     "text": [
      "\r"
     ]
    },
    {
     "name": "stdout",
     "output_type": "stream",
     "text": [
      "MoviePy - Writing audio in ./audio_extracted_no/2228.mp3\n"
     ]
    },
    {
     "name": "stderr",
     "output_type": "stream",
     "text": [
      "                                                       "
     ]
    },
    {
     "name": "stdout",
     "output_type": "stream",
     "text": [
      "MoviePy - Done.\n",
      "                                               utterance  speaker   \n",
      "12575  You don't really believe in that superstition,...  SHELDON  \\\n",
      "\n",
      "                                                 context   \n",
      "12575  [This thing has to hold up against a hearty po...  \\\n",
      "\n",
      "                              context_speakers show  sarcasm  \n",
      "12575  [HOWARD, LEONARD, HOWARD, LEONARD, RAJ]  BBT    False  \n",
      "12575    False\n",
      "Name: sarcasm, dtype: bool\n"
     ]
    },
    {
     "name": "stderr",
     "output_type": "stream",
     "text": [
      "\r"
     ]
    },
    {
     "name": "stdout",
     "output_type": "stream",
     "text": [
      "MoviePy - Writing audio in ./audio_extracted_no/12575.mp3\n"
     ]
    },
    {
     "name": "stderr",
     "output_type": "stream",
     "text": [
      "                                                       "
     ]
    },
    {
     "name": "stdout",
     "output_type": "stream",
     "text": [
      "MoviePy - Done.\n",
      "                                             utterance speaker   \n",
      "254  That's easy for you to say, you weren't almost...  RACHEL  \\\n",
      "\n",
      "                                               context   \n",
      "254  [Yes! And he said really mean things that were...  \\\n",
      "\n",
      "           context_speakers     show  sarcasm  \n",
      "254  [RACHEL, JOEY, MONICA]  FRIENDS     True  \n",
      "254    True\n",
      "Name: sarcasm, dtype: bool\n"
     ]
    },
    {
     "name": "stderr",
     "output_type": "stream",
     "text": [
      "\r"
     ]
    },
    {
     "name": "stdout",
     "output_type": "stream",
     "text": [
      "MoviePy - Writing audio in ./audio_extracted_yes/254.mp3\n"
     ]
    },
    {
     "name": "stderr",
     "output_type": "stream",
     "text": [
      "                                                       "
     ]
    },
    {
     "name": "stdout",
     "output_type": "stream",
     "text": [
      "MoviePy - Done.\n",
      "                                                utterance  speaker   \n",
      "111177  I'm listening to you snore. I'm wondering how ...  SHELDON  \\\n",
      "\n",
      "             context context_speakers show  sarcasm  \n",
      "111177  [Okay, why?]        [LEONARD]  BBT     True  \n",
      "111177    True\n",
      "Name: sarcasm, dtype: bool\n"
     ]
    },
    {
     "name": "stderr",
     "output_type": "stream",
     "text": [
      "\r"
     ]
    },
    {
     "name": "stdout",
     "output_type": "stream",
     "text": [
      "MoviePy - Writing audio in ./audio_extracted_yes/111177.mp3\n"
     ]
    },
    {
     "name": "stderr",
     "output_type": "stream",
     "text": [
      "                                                                  "
     ]
    },
    {
     "name": "stdout",
     "output_type": "stream",
     "text": [
      "MoviePy - Done.\n",
      "                                  utterance speaker   \n",
      "13333  Okay, I got a bone to pick with you.  HOWARD  \\\n",
      "\n",
      "                                                 context   \n",
      "13333  [That's why Leonard does it., Okay, I just hav...  \\\n",
      "\n",
      "                                context_speakers show  sarcasm  \n",
      "13333  [SHELDON, PENNY, SHELDON, PENNY, SHELDON]  BBT    False  \n",
      "13333    False\n",
      "Name: sarcasm, dtype: bool\n"
     ]
    },
    {
     "name": "stderr",
     "output_type": "stream",
     "text": [
      "\r"
     ]
    },
    {
     "name": "stdout",
     "output_type": "stream",
     "text": [
      "MoviePy - Writing audio in ./audio_extracted_no/13333.mp3\n"
     ]
    },
    {
     "name": "stderr",
     "output_type": "stream",
     "text": [
      "                                                                 "
     ]
    },
    {
     "name": "stdout",
     "output_type": "stream",
     "text": [
      "MoviePy - Done.\n",
      "                                             utterance speaker   \n",
      "297  It would be nice to have a little guarantee th...  RACHEL  \\\n",
      "\n",
      "                                               context  context_speakers   \n",
      "297  [Definitely!, Yeah, I'm pretty confident about...  [PHOEBE, RACHEL]  \\\n",
      "\n",
      "        show  sarcasm  \n",
      "297  FRIENDS     True  \n",
      "297    True\n",
      "Name: sarcasm, dtype: bool\n"
     ]
    },
    {
     "name": "stderr",
     "output_type": "stream",
     "text": [
      "\r"
     ]
    },
    {
     "name": "stdout",
     "output_type": "stream",
     "text": [
      "MoviePy - Writing audio in ./audio_extracted_yes/297.mp3\n"
     ]
    },
    {
     "name": "stderr",
     "output_type": "stream",
     "text": [
      "                                                       "
     ]
    },
    {
     "name": "stdout",
     "output_type": "stream",
     "text": [
      "MoviePy - Done.\n",
      "                                               utterance speaker   \n",
      "19971  I was gonna say we pick up a cake or a pie. Bu...  HOWARD  \\\n",
      "\n",
      "                                                 context   \n",
      "19971  [We can't show up to your mom's empty-handed. ...  \\\n",
      "\n",
      "                         context_speakers show  sarcasm  \n",
      "19971  [HOWARD, SHELDON, HOWARD, SHELDON]  BBT     True  \n",
      "19971    True\n",
      "Name: sarcasm, dtype: bool\n"
     ]
    },
    {
     "name": "stderr",
     "output_type": "stream",
     "text": [
      "\r"
     ]
    },
    {
     "name": "stdout",
     "output_type": "stream",
     "text": [
      "MoviePy - Writing audio in ./audio_extracted_yes/19971.mp3\n"
     ]
    },
    {
     "name": "stderr",
     "output_type": "stream",
     "text": [
      "                                                                  "
     ]
    },
    {
     "name": "stdout",
     "output_type": "stream",
     "text": [
      "MoviePy - Done.\n",
      "                                               utterance speaker   \n",
      "12830  No, I'm behind on my Wiki-reading. I'm kind of...     RAJ  \\\n",
      "\n",
      "                                                 context   \n",
      "12830  [I think we're fitting in quite nicely., It'd ...  \\\n",
      "\n",
      "                         context_speakers show  sarcasm  \n",
      "12830  [RAJ, HOWARD, RAJ, HOWARD, HOWARD]  BBT    False  \n",
      "12830    False\n",
      "Name: sarcasm, dtype: bool\n"
     ]
    },
    {
     "name": "stderr",
     "output_type": "stream",
     "text": [
      "\r"
     ]
    },
    {
     "name": "stdout",
     "output_type": "stream",
     "text": [
      "MoviePy - Writing audio in ./audio_extracted_no/12830.mp3\n"
     ]
    },
    {
     "name": "stderr",
     "output_type": "stream",
     "text": [
      "                                                                  "
     ]
    },
    {
     "name": "stdout",
     "output_type": "stream",
     "text": [
      "MoviePy - Done.\n",
      "                                              utterance   speaker   \n",
      "2189  Yeah okay, I was just talking to the guys. Jus...  CHANDLER  \\\n",
      "\n",
      "                                                context   \n",
      "2189  [Ahh! Aren't you dressed yet?, Am I naked agai...  \\\n",
      "\n",
      "                context_speakers     show  sarcasm  \n",
      "2189  [MONICA, CHANDLER, MONICA]  FRIENDS     True  \n",
      "2189    True\n",
      "Name: sarcasm, dtype: bool\n"
     ]
    },
    {
     "name": "stderr",
     "output_type": "stream",
     "text": [
      "\r"
     ]
    },
    {
     "name": "stdout",
     "output_type": "stream",
     "text": [
      "MoviePy - Writing audio in ./audio_extracted_yes/2189.mp3\n"
     ]
    },
    {
     "name": "stderr",
     "output_type": "stream",
     "text": [
      "                                                        "
     ]
    },
    {
     "name": "stdout",
     "output_type": "stream",
     "text": [
      "MoviePy - Done.\n",
      "                                             utterance speaker   \n",
      "2162  Ow, ow, ow, ow, leg cramp, leg cramp, leg cramp.  PERSON  \\\n",
      "\n",
      "                                                context      context_speakers   \n",
      "2162  [No-no-no. I don't have a son named Jordie. We...  [ROSS, PERSON, ROSS]  \\\n",
      "\n",
      "         show  sarcasm  \n",
      "2162  FRIENDS    False  \n",
      "2162    False\n",
      "Name: sarcasm, dtype: bool\n"
     ]
    },
    {
     "name": "stderr",
     "output_type": "stream",
     "text": [
      "\r"
     ]
    },
    {
     "name": "stdout",
     "output_type": "stream",
     "text": [
      "MoviePy - Writing audio in ./audio_extracted_no/2162.mp3\n"
     ]
    },
    {
     "name": "stderr",
     "output_type": "stream",
     "text": [
      "                                                       "
     ]
    },
    {
     "name": "stdout",
     "output_type": "stream",
     "text": [
      "MoviePy - Done.\n",
      "                                              utterance  speaker   \n",
      "2604  No Rose, I am developing pictures from the mag...  DOROTHY  \\\n",
      "\n",
      "                     context context_speakers         show  sarcasm  \n",
      "2604  [Hi Dorothy, cooking?]           [ROSE]  GOLDENGIRLS     True  \n",
      "2604    True\n",
      "Name: sarcasm, dtype: bool\n"
     ]
    },
    {
     "name": "stderr",
     "output_type": "stream",
     "text": [
      "\r"
     ]
    },
    {
     "name": "stdout",
     "output_type": "stream",
     "text": [
      "MoviePy - Writing audio in ./audio_extracted_yes/2604.mp3\n"
     ]
    },
    {
     "name": "stderr",
     "output_type": "stream",
     "text": [
      "                                                       "
     ]
    },
    {
     "name": "stdout",
     "output_type": "stream",
     "text": [
      "MoviePy - Done.\n",
      "                     utterance   speaker   \n",
      "2176  I'm the ruptured spleen.  CHANDLER  \\\n",
      "\n",
      "                                                context   \n",
      "2176  [Yeah, come on, eat, whatever you want. Dr. Ro...  \\\n",
      "\n",
      "                context_speakers     show  sarcasm  \n",
      "2176  [MONICA, CHANDLER, MONICA]  FRIENDS    False  \n",
      "2176    False\n",
      "Name: sarcasm, dtype: bool\n"
     ]
    },
    {
     "name": "stderr",
     "output_type": "stream",
     "text": [
      "\r"
     ]
    },
    {
     "name": "stdout",
     "output_type": "stream",
     "text": [
      "MoviePy - Writing audio in ./audio_extracted_no/2176.mp3\n"
     ]
    },
    {
     "name": "stderr",
     "output_type": "stream",
     "text": [
      "                                                       "
     ]
    },
    {
     "name": "stdout",
     "output_type": "stream",
     "text": [
      "MoviePy - Done.\n",
      "                                               utterance speaker   \n",
      "11478  Sadly, Mrs. Giselle Wolowitz is sensitive to c...  HOWARD  \\\n",
      "\n",
      "                                                 context context_speakers   \n",
      "11478  [Did I miss anything? Did they kick Giselle of...   [LEONARD, RAJ]  \\\n",
      "\n",
      "      show  sarcasm  \n",
      "11478  BBT     True  \n",
      "11478    True\n",
      "Name: sarcasm, dtype: bool\n"
     ]
    },
    {
     "name": "stderr",
     "output_type": "stream",
     "text": [
      "\r"
     ]
    },
    {
     "name": "stdout",
     "output_type": "stream",
     "text": [
      "MoviePy - Writing audio in ./audio_extracted_yes/11478.mp3\n"
     ]
    },
    {
     "name": "stderr",
     "output_type": "stream",
     "text": [
      "                                                                  \r"
     ]
    },
    {
     "name": "stdout",
     "output_type": "stream",
     "text": [
      "MoviePy - Done.\n",
      "                                              utterance  speaker   \n",
      "1506  Not to mention you'd have to power down on sat...  SHELDON  \\\n",
      "\n",
      "                                                context   \n",
      "1506  [I'm with you. I just have to make sure if I'm...  \\\n",
      "\n",
      "                context_speakers show  sarcasm  \n",
      "1506  [HOWARD, HOWARD, RAJ, RAJ]  BBT    False  \n",
      "1506    False\n",
      "Name: sarcasm, dtype: bool\n",
      "MoviePy - Writing audio in ./audio_extracted_no/1506.mp3\n"
     ]
    },
    {
     "name": "stderr",
     "output_type": "stream",
     "text": [
      "                                                       "
     ]
    },
    {
     "name": "stdout",
     "output_type": "stream",
     "text": [
      "MoviePy - Done.\n",
      "                                                utterance speaker   \n",
      "111201  He probably got a new one. Finish your breakfa...     AMY  \\\n",
      "\n",
      "                                                  context   \n",
      "111201  [It's nice they're getting exercise., Although...  \\\n",
      "\n",
      "                         context_speakers show  sarcasm  \n",
      "111201  [AMY, SHELDON, AMY, SHELDON, AMY]  BBT    False  \n",
      "111201    False\n",
      "Name: sarcasm, dtype: bool\n"
     ]
    },
    {
     "name": "stderr",
     "output_type": "stream",
     "text": [
      "\r"
     ]
    },
    {
     "name": "stdout",
     "output_type": "stream",
     "text": [
      "MoviePy - Writing audio in ./audio_extracted_no/111201.mp3\n"
     ]
    },
    {
     "name": "stderr",
     "output_type": "stream",
     "text": [
      "                                                                  "
     ]
    },
    {
     "name": "stdout",
     "output_type": "stream",
     "text": [
      "MoviePy - Done.\n",
      "                                              utterance speaker   \n",
      "2406  For what? For letting you throw me out of your...    ROSS  \\\n",
      "\n",
      "                                                context   \n",
      "2406  [Hi. Look um, about what happened earlier..., ...  \\\n",
      "\n",
      "            context_speakers     show  sarcasm  \n",
      "2406  [RACHEL, ROSS, RACHEL]  FRIENDS     True  \n",
      "2406    True\n",
      "Name: sarcasm, dtype: bool\n"
     ]
    },
    {
     "name": "stderr",
     "output_type": "stream",
     "text": [
      "\r"
     ]
    },
    {
     "name": "stdout",
     "output_type": "stream",
     "text": [
      "MoviePy - Writing audio in ./audio_extracted_yes/2406.mp3\n"
     ]
    },
    {
     "name": "stderr",
     "output_type": "stream",
     "text": [
      "                                                       "
     ]
    },
    {
     "name": "stdout",
     "output_type": "stream",
     "text": [
      "MoviePy - Done.\n",
      "            utterance   speaker   \n",
      "2374  Janice? Janice?  CHANDLER  \\\n",
      "\n",
      "                                                context context_speakers   \n",
      "2374  [Will you get me a white zinfandel and glass o...         [PERSON]  \\\n",
      "\n",
      "         show  sarcasm  \n",
      "2374  FRIENDS     True  \n",
      "2374    True\n",
      "Name: sarcasm, dtype: bool\n"
     ]
    },
    {
     "name": "stderr",
     "output_type": "stream",
     "text": [
      "\r"
     ]
    },
    {
     "name": "stdout",
     "output_type": "stream",
     "text": [
      "MoviePy - Writing audio in ./audio_extracted_yes/2374.mp3\n"
     ]
    },
    {
     "name": "stderr",
     "output_type": "stream",
     "text": [
      "                                                                   \r"
     ]
    },
    {
     "name": "stdout",
     "output_type": "stream",
     "text": [
      "MoviePy - Done.\n",
      "                                      utterance   speaker   \n",
      "2438  Really? Struck down in the prime of life.  CHANDLER  \\\n",
      "\n",
      "                            context context_speakers     show  sarcasm  \n",
      "2438  [Chandler, I think I am sick]         [MONICA]  FRIENDS     True  \n",
      "2438    True\n",
      "Name: sarcasm, dtype: bool\n",
      "MoviePy - Writing audio in ./audio_extracted_yes/2438.mp3\n"
     ]
    },
    {
     "name": "stderr",
     "output_type": "stream",
     "text": [
      "                                                                    "
     ]
    },
    {
     "name": "stdout",
     "output_type": "stream",
     "text": [
      "MoviePy - Done.\n",
      "                                               utterance speaker   \n",
      "11678  Answering the question once and for all why Wo...     RAJ  \\\n",
      "\n",
      "                                                 context   \n",
      "11678  [Can you open this for me?, Can I see your sti...  \\\n",
      "\n",
      "              context_speakers show  sarcasm  \n",
      "11678  [LEONARD, RAJ, LEONARD]  BBT    False  \n",
      "11678    False\n",
      "Name: sarcasm, dtype: bool\n"
     ]
    },
    {
     "name": "stderr",
     "output_type": "stream",
     "text": [
      "\r"
     ]
    },
    {
     "name": "stdout",
     "output_type": "stream",
     "text": [
      "MoviePy - Writing audio in ./audio_extracted_no/11678.mp3\n"
     ]
    },
    {
     "name": "stderr",
     "output_type": "stream",
     "text": [
      "                                                                  "
     ]
    },
    {
     "name": "stdout",
     "output_type": "stream",
     "text": [
      "MoviePy - Done.\n",
      "                            utterance speaker   \n",
      "2410  If you wanna put a label on it.    ROSS  \\\n",
      "\n",
      "                                                context   \n",
      "2410  [That's funny. Who are they?, The blond woman ...  \\\n",
      "\n",
      "            context_speakers     show  sarcasm  \n",
      "2410  [PERSON, ROSS, PERSON]  FRIENDS     True  \n",
      "2410    True\n",
      "Name: sarcasm, dtype: bool\n"
     ]
    },
    {
     "name": "stderr",
     "output_type": "stream",
     "text": [
      "\r"
     ]
    },
    {
     "name": "stdout",
     "output_type": "stream",
     "text": [
      "MoviePy - Writing audio in ./audio_extracted_yes/2410.mp3\n"
     ]
    },
    {
     "name": "stderr",
     "output_type": "stream",
     "text": [
      "                                                       "
     ]
    },
    {
     "name": "stdout",
     "output_type": "stream",
     "text": [
      "MoviePy - Done.\n",
      "                      utterance   speaker   \n",
      "2376  Me? I am gonna die alone!  CHANDLER  \\\n",
      "\n",
      "                                                context context_speakers   \n",
      "2376  [Hey Chandler? Monica just broke my sea-shell ...         [RACHEL]  \\\n",
      "\n",
      "         show  sarcasm  \n",
      "2376  FRIENDS     True  \n",
      "2376    True\n",
      "Name: sarcasm, dtype: bool\n"
     ]
    },
    {
     "name": "stderr",
     "output_type": "stream",
     "text": [
      "\r"
     ]
    },
    {
     "name": "stdout",
     "output_type": "stream",
     "text": [
      "MoviePy - Writing audio in ./audio_extracted_yes/2376.mp3\n"
     ]
    },
    {
     "name": "stderr",
     "output_type": "stream",
     "text": [
      "                                                        "
     ]
    },
    {
     "name": "stdout",
     "output_type": "stream",
     "text": [
      "MoviePy - Done.\n",
      "                               utterance speaker   \n",
      "2389  Huh! Whats dufus speled backwards?  MONICA  \\\n",
      "\n",
      "                                                context      context_speakers   \n",
      "2389  [Okay done, Whats pleh?, ThatÕs Help spelled b...  [JOEY, MONICA, JOEY]  \\\n",
      "\n",
      "         show  sarcasm  \n",
      "2389  FRIENDS     True  \n",
      "2389    True\n",
      "Name: sarcasm, dtype: bool\n"
     ]
    },
    {
     "name": "stderr",
     "output_type": "stream",
     "text": [
      "\r"
     ]
    },
    {
     "name": "stdout",
     "output_type": "stream",
     "text": [
      "MoviePy - Writing audio in ./audio_extracted_yes/2389.mp3\n"
     ]
    },
    {
     "name": "stderr",
     "output_type": "stream",
     "text": [
      "                                                                   "
     ]
    },
    {
     "name": "stdout",
     "output_type": "stream",
     "text": [
      "MoviePy - Done.\n",
      "                                              utterance  speaker   \n",
      "1276  Yeah, my parents felt that naming me Leonard a...  LEONARD  \\\n",
      "\n",
      "                                                context   \n",
      "1276  [He switched over to high-energy radiation res...  \\\n",
      "\n",
      "                                       context_speakers show  sarcasm  \n",
      "1276  [PERSON, PERSON, LEONARD, PERSON, LEONARD, PER...  BBT     True  \n",
      "1276    True\n",
      "Name: sarcasm, dtype: bool\n"
     ]
    },
    {
     "name": "stderr",
     "output_type": "stream",
     "text": [
      "\r"
     ]
    },
    {
     "name": "stdout",
     "output_type": "stream",
     "text": [
      "MoviePy - Writing audio in ./audio_extracted_yes/1276.mp3\n"
     ]
    },
    {
     "name": "stderr",
     "output_type": "stream",
     "text": [
      "                                                                    \r"
     ]
    },
    {
     "name": "stdout",
     "output_type": "stream",
     "text": [
      "MoviePy - Done.\n",
      "                             utterance   speaker   \n",
      "2148  Hey, that's Joincidence with a C  CHANDLER  \\\n",
      "\n",
      "                                                context context_speakers   \n",
      "2148  [You know what I just realized? Joker is poker...         [PHOEBE]  \\\n",
      "\n",
      "         show  sarcasm  \n",
      "2148  FRIENDS     True  \n",
      "2148    True\n",
      "Name: sarcasm, dtype: bool\n",
      "MoviePy - Writing audio in ./audio_extracted_yes/2148.mp3\n"
     ]
    },
    {
     "name": "stderr",
     "output_type": "stream",
     "text": [
      "                                                                    \r"
     ]
    },
    {
     "name": "stdout",
     "output_type": "stream",
     "text": [
      "MoviePy - Done.\n",
      "                                              utterance   speaker   \n",
      "2160  Because his penis was too big. I am sorry, tha...  CHANDLER  \\\n",
      "\n",
      "                                             context context_speakers   \n",
      "2160  [I am sorry, why did Phoebe and Mike breakup?]         [PERSON]  \\\n",
      "\n",
      "         show  sarcasm  \n",
      "2160  FRIENDS    False  \n",
      "2160    False\n",
      "Name: sarcasm, dtype: bool\n",
      "MoviePy - Writing audio in ./audio_extracted_no/2160.mp3\n"
     ]
    },
    {
     "name": "stderr",
     "output_type": "stream",
     "text": [
      "                                                                    \r"
     ]
    },
    {
     "name": "stdout",
     "output_type": "stream",
     "text": [
      "MoviePy - Done.\n",
      "                               utterance   speaker   \n",
      "2174  Oh! Satan's minions at work again?  CHANDLER  \\\n",
      "\n",
      "                                                context context_speakers   \n",
      "2174  [And there's five hundred extra dollars in my ...         [PHOEBE]  \\\n",
      "\n",
      "         show  sarcasm  \n",
      "2174  FRIENDS     True  \n",
      "2174    True\n",
      "Name: sarcasm, dtype: bool\n",
      "MoviePy - Writing audio in ./audio_extracted_yes/2174.mp3\n"
     ]
    },
    {
     "name": "stderr",
     "output_type": "stream",
     "text": [
      "                                                       "
     ]
    },
    {
     "name": "stdout",
     "output_type": "stream",
     "text": [
      "MoviePy - Done.\n",
      "                                              utterance  speaker   \n",
      "2612  I don't know Rose, maybe Marry Poppins has an ...  DOROTHY  \\\n",
      "\n",
      "                                                context   \n",
      "2612  [Isn't she happy here?, I think she will be ha...  \\\n",
      "\n",
      "           context_speakers         show  sarcasm  \n",
      "2612  [ROSE, DOROTHY, ROSE]  GOLDENGIRLS     True  \n",
      "2612    True\n",
      "Name: sarcasm, dtype: bool\n"
     ]
    },
    {
     "name": "stderr",
     "output_type": "stream",
     "text": [
      "\r"
     ]
    },
    {
     "name": "stdout",
     "output_type": "stream",
     "text": [
      "MoviePy - Writing audio in ./audio_extracted_yes/2612.mp3\n"
     ]
    },
    {
     "name": "stderr",
     "output_type": "stream",
     "text": [
      "                                                        "
     ]
    },
    {
     "name": "stdout",
     "output_type": "stream",
     "text": [
      "MoviePy - Done.\n",
      "                                                utterance speaker   \n",
      "111773  This is why I've been saying we should keep ch...   PENNY  \\\n",
      "\n",
      "                                                  context   \n",
      "111773  [we decided that the time was right to take a ...  \\\n",
      "\n",
      "                             context_speakers show  sarcasm  \n",
      "111773  [AMY, LEONARD, SHELDON, AMY, SHELDON]  BBT     True  \n",
      "111773    True\n",
      "Name: sarcasm, dtype: bool\n"
     ]
    },
    {
     "name": "stderr",
     "output_type": "stream",
     "text": [
      "\r"
     ]
    },
    {
     "name": "stdout",
     "output_type": "stream",
     "text": [
      "MoviePy - Writing audio in ./audio_extracted_yes/111773.mp3\n"
     ]
    },
    {
     "name": "stderr",
     "output_type": "stream",
     "text": [
      "                                                                  "
     ]
    },
    {
     "name": "stdout",
     "output_type": "stream",
     "text": [
      "MoviePy - Done.\n",
      "                                               utterance  speaker   \n",
      "12198  Assuming I can keep up this pace, three hours,...  SHELDON  \\\n",
      "\n",
      "                                                 context   \n",
      "12198  [See, by attaching RFID tags to my clothing, i...  \\\n",
      "\n",
      "                           context_speakers show  sarcasm  \n",
      "12198  [SHELDON, SHELDON, LEONARD, LEONARD]  BBT     True  \n",
      "12198    True\n",
      "Name: sarcasm, dtype: bool\n"
     ]
    },
    {
     "name": "stderr",
     "output_type": "stream",
     "text": [
      "\r"
     ]
    },
    {
     "name": "stdout",
     "output_type": "stream",
     "text": [
      "MoviePy - Writing audio in ./audio_extracted_yes/12198.mp3\n"
     ]
    },
    {
     "name": "stderr",
     "output_type": "stream",
     "text": [
      "                                                                    "
     ]
    },
    {
     "name": "stdout",
     "output_type": "stream",
     "text": [
      "MoviePy - Done.\n",
      "                                              utterance  speaker   \n",
      "1672  Do you think Penny will come here and take car...  SHELDON  \\\n",
      "\n",
      "                       context context_speakers show  sarcasm  \n",
      "1672  [I want grilled cheese.]        [SHELDON]  BBT    False  \n",
      "1672    False\n",
      "Name: sarcasm, dtype: bool\n"
     ]
    },
    {
     "name": "stderr",
     "output_type": "stream",
     "text": [
      "\r"
     ]
    },
    {
     "name": "stdout",
     "output_type": "stream",
     "text": [
      "MoviePy - Writing audio in ./audio_extracted_no/1672.mp3\n"
     ]
    },
    {
     "name": "stderr",
     "output_type": "stream",
     "text": [
      "                                                                 "
     ]
    },
    {
     "name": "stdout",
     "output_type": "stream",
     "text": [
      "MoviePy - Done.\n",
      "                                         utterance  speaker   \n",
      "242  Look, please, please don't go anywhere, okay?  PERSON1  \\\n",
      "\n",
      "                                               context    context_speakers   \n",
      "242  [Dr. Farber, we've got a bit of an emergency h...  [PERSON2, PERSON1]  \\\n",
      "\n",
      "        show  sarcasm  \n",
      "242  FRIENDS    False  \n",
      "242    False\n",
      "Name: sarcasm, dtype: bool\n"
     ]
    },
    {
     "name": "stderr",
     "output_type": "stream",
     "text": [
      "\r"
     ]
    },
    {
     "name": "stdout",
     "output_type": "stream",
     "text": [
      "MoviePy - Writing audio in ./audio_extracted_no/242.mp3\n"
     ]
    },
    {
     "name": "stderr",
     "output_type": "stream",
     "text": [
      "                                                       "
     ]
    },
    {
     "name": "stdout",
     "output_type": "stream",
     "text": [
      "MoviePy - Done.\n",
      "                                            utterance speaker   \n",
      "256  Uh-huh, well! But umm, still I'm-I'm mad at you.  PHOEBE  \\\n",
      "\n",
      "                                               context   \n",
      "256  [I knew it, wow!!, Wait-wait-wait, wait! Puppi...  \\\n",
      "\n",
      "             context_speakers     show  sarcasm  \n",
      "256  [PERSON, PHOEBE, PERSON]  FRIENDS    False  \n",
      "256    False\n",
      "Name: sarcasm, dtype: bool\n"
     ]
    },
    {
     "name": "stderr",
     "output_type": "stream",
     "text": [
      "\r"
     ]
    },
    {
     "name": "stdout",
     "output_type": "stream",
     "text": [
      "MoviePy - Writing audio in ./audio_extracted_no/256.mp3\n"
     ]
    },
    {
     "name": "stderr",
     "output_type": "stream",
     "text": [
      "                                                                  "
     ]
    },
    {
     "name": "stdout",
     "output_type": "stream",
     "text": [
      "MoviePy - Done.\n",
      "                                              utterance   speaker   \n",
      "2558  I can see it from right here. It'll cost you o...  CHANDLER  \\\n",
      "\n",
      "                                                context   \n",
      "2558  [Oh wait! Stop! Stop! Stop!, Oh I'm sorry! Do ...  \\\n",
      "\n",
      "                context_speakers     show  sarcasm  \n",
      "2558  [MONICA, CHANDLER, MONICA]  FRIENDS     True  \n",
      "2558    True\n",
      "Name: sarcasm, dtype: bool\n"
     ]
    },
    {
     "name": "stderr",
     "output_type": "stream",
     "text": [
      "\r"
     ]
    },
    {
     "name": "stdout",
     "output_type": "stream",
     "text": [
      "MoviePy - Writing audio in ./audio_extracted_yes/2558.mp3\n"
     ]
    },
    {
     "name": "stderr",
     "output_type": "stream",
     "text": [
      "                                                                  "
     ]
    },
    {
     "name": "stdout",
     "output_type": "stream",
     "text": [
      "MoviePy - Done.\n",
      "                              utterance   speaker   \n",
      "2570  Oh my god, where are all the men?  CHANDLER  \\\n",
      "\n",
      "                          context context_speakers     show  sarcasm  \n",
      "2570  [Hey Ross I was wondering.]       [CHANDLER]  FRIENDS    False  \n",
      "2570    False\n",
      "Name: sarcasm, dtype: bool\n"
     ]
    },
    {
     "name": "stderr",
     "output_type": "stream",
     "text": [
      "\r"
     ]
    },
    {
     "name": "stdout",
     "output_type": "stream",
     "text": [
      "MoviePy - Writing audio in ./audio_extracted_no/2570.mp3\n"
     ]
    },
    {
     "name": "stderr",
     "output_type": "stream",
     "text": [
      "                                                                    "
     ]
    },
    {
     "name": "stdout",
     "output_type": "stream",
     "text": [
      "MoviePy - Done.\n",
      "                                              utterance   speaker   \n",
      "2564  And, uh, I don't know if you got any of that, ...  CHANDLER  \\\n",
      "\n",
      "                                                context   \n",
      "2564  [Yes. Yes, thanks for letting me use your phon...  \\\n",
      "\n",
      "                  context_speakers     show  sarcasm  \n",
      "2564  [CHANDLER, PERSON, CHANDLER]  FRIENDS    False  \n",
      "2564    False\n",
      "Name: sarcasm, dtype: bool\n"
     ]
    },
    {
     "name": "stderr",
     "output_type": "stream",
     "text": [
      "\r"
     ]
    },
    {
     "name": "stdout",
     "output_type": "stream",
     "text": [
      "MoviePy - Writing audio in ./audio_extracted_no/2564.mp3\n"
     ]
    },
    {
     "name": "stderr",
     "output_type": "stream",
     "text": [
      "                                                       "
     ]
    },
    {
     "name": "stdout",
     "output_type": "stream",
     "text": [
      "MoviePy - Done.\n",
      "                                               utterance  speaker   \n",
      "17341  I am talking to a man in space. If you don't h...  SHELDON  \\\n",
      "\n",
      "                                                 context   \n",
      "17341  [You know, joking, kidding around, hurting fee...  \\\n",
      "\n",
      "                                        context_speakers show  sarcasm  \n",
      "17341  [HOWARD, SHELDON, LEONARD, SHELDON, HOWARD, SH...  BBT    False  \n",
      "17341    False\n",
      "Name: sarcasm, dtype: bool\n"
     ]
    },
    {
     "name": "stderr",
     "output_type": "stream",
     "text": [
      "\r"
     ]
    },
    {
     "name": "stdout",
     "output_type": "stream",
     "text": [
      "MoviePy - Writing audio in ./audio_extracted_no/17341.mp3\n"
     ]
    },
    {
     "name": "stderr",
     "output_type": "stream",
     "text": [
      "                                                                  "
     ]
    },
    {
     "name": "stdout",
     "output_type": "stream",
     "text": [
      "MoviePy - Done.\n",
      "     utterance speaker                                            context   \n",
      "2202     Yeah?  PHOEBE  [Uh, okay, Pheebs?, Yeah?, Umm, y'know how the...  \\\n",
      "\n",
      "          context_speakers     show  sarcasm  \n",
      "2202  [JOEY, PHOEBE, JOEY]  FRIENDS    False  \n",
      "2202    False\n",
      "Name: sarcasm, dtype: bool\n"
     ]
    },
    {
     "name": "stderr",
     "output_type": "stream",
     "text": [
      "\r"
     ]
    },
    {
     "name": "stdout",
     "output_type": "stream",
     "text": [
      "MoviePy - Writing audio in ./audio_extracted_no/2202.mp3\n"
     ]
    },
    {
     "name": "stderr",
     "output_type": "stream",
     "text": [
      "                                                       "
     ]
    },
    {
     "name": "stdout",
     "output_type": "stream",
     "text": [
      "MoviePy - Done.\n",
      "                                               utterance  speaker   \n",
      "15581  I gargled with tequila and may have swallowed ...  SHELDON  \\\n",
      "\n",
      "                                                 context   \n",
      "15581  [Hey, have you told your parents you're dating...  \\\n",
      "\n",
      "               context_speakers show  sarcasm  \n",
      "15581  [HOWARD, PERSON, HOWARD]  BBT    False  \n",
      "15581    False\n",
      "Name: sarcasm, dtype: bool\n"
     ]
    },
    {
     "name": "stderr",
     "output_type": "stream",
     "text": [
      "\r"
     ]
    },
    {
     "name": "stdout",
     "output_type": "stream",
     "text": [
      "MoviePy - Writing audio in ./audio_extracted_no/15581.mp3\n"
     ]
    },
    {
     "name": "stderr",
     "output_type": "stream",
     "text": [
      "                                                       "
     ]
    },
    {
     "name": "stdout",
     "output_type": "stream",
     "text": [
      "MoviePy - Done.\n",
      "                                                utterance speaker   \n",
      "111439  No, you're right, we should do what you do. Ha...   PENNY  \\\n",
      "\n",
      "                                                  context   \n",
      "111439  [This isn't so bad., That's easy for you to sa...  \\\n",
      "\n",
      "                                 context_speakers show  sarcasm  \n",
      "111439  [LEONARD, SHELDON, SHELDON, AMY, SHELDON]  BBT     True  \n",
      "111439    True\n",
      "Name: sarcasm, dtype: bool\n"
     ]
    },
    {
     "name": "stderr",
     "output_type": "stream",
     "text": [
      "\r"
     ]
    },
    {
     "name": "stdout",
     "output_type": "stream",
     "text": [
      "MoviePy - Writing audio in ./audio_extracted_yes/111439.mp3\n"
     ]
    },
    {
     "name": "stderr",
     "output_type": "stream",
     "text": [
      "                                                                   "
     ]
    },
    {
     "name": "stdout",
     "output_type": "stream",
     "text": [
      "MoviePy - Done.\n",
      "                                               utterance speaker   \n",
      "15580  Right, right, whereas Jewish mothers take a ca...  HOWARD  \\\n",
      "\n",
      "                                                 context   \n",
      "15580  [I was thinking of weaving it into her eulogy....  \\\n",
      "\n",
      "                       context_speakers show  sarcasm  \n",
      "15580  [HOWARD, PERSON, HOWARD, PERSON]  BBT     True  \n",
      "15580    True\n",
      "Name: sarcasm, dtype: bool\n"
     ]
    },
    {
     "name": "stderr",
     "output_type": "stream",
     "text": [
      "\r"
     ]
    },
    {
     "name": "stdout",
     "output_type": "stream",
     "text": [
      "MoviePy - Writing audio in ./audio_extracted_yes/15580.mp3\n"
     ]
    },
    {
     "name": "stderr",
     "output_type": "stream",
     "text": [
      "                                                                  "
     ]
    },
    {
     "name": "stdout",
     "output_type": "stream",
     "text": [
      "MoviePy - Done.\n",
      "            utterance speaker   \n",
      "2203  It's not funny!    ROSS  \\\n",
      "\n",
      "                                                context context_speakers   \n",
      "2203  [That only is not funny, it's physically impos...           [ROSS]  \\\n",
      "\n",
      "         show  sarcasm  \n",
      "2203  FRIENDS    False  \n",
      "2203    False\n",
      "Name: sarcasm, dtype: bool\n"
     ]
    },
    {
     "name": "stderr",
     "output_type": "stream",
     "text": [
      "\r"
     ]
    },
    {
     "name": "stdout",
     "output_type": "stream",
     "text": [
      "MoviePy - Writing audio in ./audio_extracted_no/2203.mp3\n"
     ]
    },
    {
     "name": "stderr",
     "output_type": "stream",
     "text": [
      "                                                       "
     ]
    },
    {
     "name": "stdout",
     "output_type": "stream",
     "text": [
      "MoviePy - Done.\n",
      "     utterance speaker                                            context   \n",
      "2217  Ohhh!!!!  RACHEL  [OK, I have a question. Well, actually, it's n...  \\\n",
      "\n",
      "          context_speakers     show  sarcasm  \n",
      "2217  [ROSS, RACHEL, ROSS]  FRIENDS    False  \n",
      "2217    False\n",
      "Name: sarcasm, dtype: bool\n"
     ]
    },
    {
     "name": "stderr",
     "output_type": "stream",
     "text": [
      "\r"
     ]
    },
    {
     "name": "stdout",
     "output_type": "stream",
     "text": [
      "MoviePy - Writing audio in ./audio_extracted_no/2217.mp3\n"
     ]
    },
    {
     "name": "stderr",
     "output_type": "stream",
     "text": [
      "                                                       "
     ]
    },
    {
     "name": "stdout",
     "output_type": "stream",
     "text": [
      "MoviePy - Done.\n",
      "     utterance speaker                                            context   \n",
      "2559  What?!?!  MONICA  [Well, you-you coulda just turned the cushion ...  \\\n",
      "\n",
      "      context_speakers     show  sarcasm  \n",
      "2559  [MONICA, PHOEBE]  FRIENDS    False  \n",
      "2559    False\n",
      "Name: sarcasm, dtype: bool\n"
     ]
    },
    {
     "name": "stderr",
     "output_type": "stream",
     "text": [
      "\r"
     ]
    },
    {
     "name": "stdout",
     "output_type": "stream",
     "text": [
      "MoviePy - Writing audio in ./audio_extracted_no/2559.mp3\n"
     ]
    },
    {
     "name": "stderr",
     "output_type": "stream",
     "text": [
      "                                                       "
     ]
    },
    {
     "name": "stdout",
     "output_type": "stream",
     "text": [
      "MoviePy - Done.\n",
      "                                               utterance speaker   \n",
      "11296  They gave him an assistant? If I want a new pe...  HOWARD  \\\n",
      "\n",
      "                                                 context   \n",
      "11296  [They're going to digitally add a supernova.\\n...  \\\n",
      "\n",
      "               context_speakers show  sarcasm  \n",
      "11296  [RAJ, SHELDON, RAJ, RAJ]  BBT     True  \n",
      "11296    True\n",
      "Name: sarcasm, dtype: bool\n"
     ]
    },
    {
     "name": "stderr",
     "output_type": "stream",
     "text": [
      "\r"
     ]
    },
    {
     "name": "stdout",
     "output_type": "stream",
     "text": [
      "MoviePy - Writing audio in ./audio_extracted_yes/11296.mp3\n"
     ]
    },
    {
     "name": "stderr",
     "output_type": "stream",
     "text": [
      "                                                                  "
     ]
    },
    {
     "name": "stdout",
     "output_type": "stream",
     "text": [
      "MoviePy - Done.\n",
      "                                             utterance   speaker   \n",
      "243  Well, y'know I'm 29. I mean who needs a saving...  CHANDLER  \\\n",
      "\n",
      "                                               context   \n",
      "243  [Well, you're amazing., Oh no-no-no., A TV as ...  \\\n",
      "\n",
      "           context_speakers     show  sarcasm  \n",
      "243  [JOEY, CHANDLER, JOEY]  FRIENDS     True  \n",
      "243    True\n",
      "Name: sarcasm, dtype: bool\n"
     ]
    },
    {
     "name": "stderr",
     "output_type": "stream",
     "text": [
      "\r"
     ]
    },
    {
     "name": "stdout",
     "output_type": "stream",
     "text": [
      "MoviePy - Writing audio in ./audio_extracted_yes/243.mp3\n"
     ]
    },
    {
     "name": "stderr",
     "output_type": "stream",
     "text": [
      "                                                       "
     ]
    },
    {
     "name": "stdout",
     "output_type": "stream",
     "text": [
      "MoviePy - Done.\n",
      "                 utterance speaker   \n",
      "294  Can't do it, can you?    ROSS  \\\n",
      "\n",
      "                                               context      context_speakers   \n",
      "294  [I can't believe you'd rather go out with him ...  [ROSS, RACHEL, ROSS]  \\\n",
      "\n",
      "        show  sarcasm  \n",
      "294  FRIENDS    False  \n",
      "294    False\n",
      "Name: sarcasm, dtype: bool\n"
     ]
    },
    {
     "name": "stderr",
     "output_type": "stream",
     "text": [
      "\r"
     ]
    },
    {
     "name": "stdout",
     "output_type": "stream",
     "text": [
      "MoviePy - Writing audio in ./audio_extracted_no/294.mp3\n"
     ]
    },
    {
     "name": "stderr",
     "output_type": "stream",
     "text": [
      "                                                       "
     ]
    },
    {
     "name": "stdout",
     "output_type": "stream",
     "text": [
      "MoviePy - Done.\n",
      "                                               utterance speaker   \n",
      "14477  I just want to ask you a few questions about H...  PERSON  \\\n",
      "\n",
      "                                                 context   \n",
      "14477  [Yes.\\nI'm Special Agent Page, FBI., You say y...  \\\n",
      "\n",
      "                         context_speakers show  sarcasm  \n",
      "14477  [PERSON, SHELDON, PERSON, SHELDON]  BBT    False  \n",
      "14477    False\n",
      "Name: sarcasm, dtype: bool\n"
     ]
    },
    {
     "name": "stderr",
     "output_type": "stream",
     "text": [
      "\r"
     ]
    },
    {
     "name": "stdout",
     "output_type": "stream",
     "text": [
      "MoviePy - Writing audio in ./audio_extracted_no/14477.mp3\n"
     ]
    },
    {
     "name": "stderr",
     "output_type": "stream",
     "text": [
      "                                                                  "
     ]
    },
    {
     "name": "stdout",
     "output_type": "stream",
     "text": [
      "MoviePy - Done.\n",
      "                                               utterance  speaker   \n",
      "13293  Leonard's work is nearly as amazing as third g...  SHELDON  \\\n",
      "\n",
      "                                                 context   \n",
      "13293  [I am.\\nAre you interested in physics?, Oh, I ...  \\\n",
      "\n",
      "                                        context_speakers show  sarcasm  \n",
      "13293  [LEONARD, BERNADETTE, LEONARD, BERNADETTE, SHE...  BBT     True  \n",
      "13293    True\n",
      "Name: sarcasm, dtype: bool\n"
     ]
    },
    {
     "name": "stderr",
     "output_type": "stream",
     "text": [
      "\r"
     ]
    },
    {
     "name": "stdout",
     "output_type": "stream",
     "text": [
      "MoviePy - Writing audio in ./audio_extracted_yes/13293.mp3\n"
     ]
    },
    {
     "name": "stderr",
     "output_type": "stream",
     "text": [
      "                                                                  "
     ]
    },
    {
     "name": "stdout",
     "output_type": "stream",
     "text": [
      "MoviePy - Done.\n",
      "                                               utterance  speaker   \n",
      "11484  The big deal is that nobody touches food on my...  SHELDON  \\\n",
      "\n",
      "                                                 context   \n",
      "11484  [Who touched my…, Penny! Penny did it., Why wo...  \\\n",
      "\n",
      "                        context_speakers show  sarcasm  \n",
      "11484  [SHELDON, HOWARD, SHELDON, PENNY]  BBT    False  \n",
      "11484    False\n",
      "Name: sarcasm, dtype: bool\n"
     ]
    },
    {
     "name": "stderr",
     "output_type": "stream",
     "text": [
      "\r"
     ]
    },
    {
     "name": "stdout",
     "output_type": "stream",
     "text": [
      "MoviePy - Writing audio in ./audio_extracted_no/11484.mp3\n"
     ]
    },
    {
     "name": "stderr",
     "output_type": "stream",
     "text": [
      "                                                       "
     ]
    },
    {
     "name": "stdout",
     "output_type": "stream",
     "text": [
      "MoviePy - Done.\n",
      "                                               utterance  speaker   \n",
      "13287  Oh, sure. And while we're at it, why don't we ...  SHELDON  \\\n",
      "\n",
      "                                                 context   \n",
      "13287  [I told my girlfriend Bernadette she could joi...  \\\n",
      "\n",
      "                                        context_speakers show  sarcasm  \n",
      "13287  [HOWARD, LEONARD, SHELDON, SHELDON, LEONARD, S...  BBT     True  \n",
      "13287    True\n",
      "Name: sarcasm, dtype: bool\n"
     ]
    },
    {
     "name": "stderr",
     "output_type": "stream",
     "text": [
      "\r"
     ]
    },
    {
     "name": "stdout",
     "output_type": "stream",
     "text": [
      "MoviePy - Writing audio in ./audio_extracted_yes/13287.mp3\n"
     ]
    },
    {
     "name": "stderr",
     "output_type": "stream",
     "text": [
      "                                                                    "
     ]
    },
    {
     "name": "stdout",
     "output_type": "stream",
     "text": [
      "MoviePy - Done.\n",
      "                                               utterance speaker   \n",
      "19972  Ooh, I'm gonna check the fridge, and see if th...   PENNY  \\\n",
      "\n",
      "                                                 context   context_speakers   \n",
      "19972  [So, what happens next?, I can't tell you that...  [BERNADETTE, RAJ]  \\\n",
      "\n",
      "      show  sarcasm  \n",
      "19972  BBT     True  \n",
      "19972    True\n",
      "Name: sarcasm, dtype: bool\n"
     ]
    },
    {
     "name": "stderr",
     "output_type": "stream",
     "text": [
      "\r"
     ]
    },
    {
     "name": "stdout",
     "output_type": "stream",
     "text": [
      "MoviePy - Writing audio in ./audio_extracted_yes/19972.mp3\n"
     ]
    },
    {
     "name": "stderr",
     "output_type": "stream",
     "text": [
      "                                                        "
     ]
    },
    {
     "name": "stdout",
     "output_type": "stream",
     "text": [
      "MoviePy - Done.\n",
      "     utterance speaker                                            context   \n",
      "2607      Hey.  PERSON  [Okay., Listen uh, could you put Kathy on, I w...  \\\n",
      "\n",
      "                context_speakers     show  sarcasm  \n",
      "2607  [CHANDLER, JOEY, CHANDLER]  FRIENDS    False  \n",
      "2607    False\n",
      "Name: sarcasm, dtype: bool\n"
     ]
    },
    {
     "name": "stderr",
     "output_type": "stream",
     "text": [
      "\r"
     ]
    },
    {
     "name": "stdout",
     "output_type": "stream",
     "text": [
      "MoviePy - Writing audio in ./audio_extracted_no/2607.mp3\n"
     ]
    },
    {
     "name": "stderr",
     "output_type": "stream",
     "text": [
      "                                                       "
     ]
    },
    {
     "name": "stdout",
     "output_type": "stream",
     "text": [
      "MoviePy - Done.\n",
      "                                              utterance   speaker   \n",
      "2161  I can see it from right here. It'll cost you o...  CHANDLER  \\\n",
      "\n",
      "                                                context context_speakers   \n",
      "2161  [Can you give me a closer look so that I can s...         [MONICA]  \\\n",
      "\n",
      "         show  sarcasm  \n",
      "2161  FRIENDS     True  \n",
      "2161    True\n",
      "Name: sarcasm, dtype: bool\n"
     ]
    },
    {
     "name": "stderr",
     "output_type": "stream",
     "text": [
      "\r"
     ]
    },
    {
     "name": "stdout",
     "output_type": "stream",
     "text": [
      "MoviePy - Writing audio in ./audio_extracted_yes/2161.mp3\n"
     ]
    },
    {
     "name": "stderr",
     "output_type": "stream",
     "text": [
      "                                                       "
     ]
    },
    {
     "name": "stdout",
     "output_type": "stream",
     "text": [
      "MoviePy - Done.\n",
      "       utterance speaker                                            context   \n",
      "2149  Thank you.  MONICA  [Yeah??? Oh... Okay, yes, we'll be right, we'l...  \\\n",
      "\n",
      "     context_speakers     show  sarcasm  \n",
      "2149         [MONICA]  FRIENDS    False  \n",
      "2149    False\n",
      "Name: sarcasm, dtype: bool\n"
     ]
    },
    {
     "name": "stderr",
     "output_type": "stream",
     "text": [
      "\r"
     ]
    },
    {
     "name": "stdout",
     "output_type": "stream",
     "text": [
      "MoviePy - Writing audio in ./audio_extracted_no/2149.mp3\n"
     ]
    },
    {
     "name": "stderr",
     "output_type": "stream",
     "text": [
      "                                                       "
     ]
    },
    {
     "name": "stdout",
     "output_type": "stream",
     "text": [
      "MoviePy - Done.\n",
      "                                               utterance  speaker   \n",
      "16472  You'd think a winner could make a decent cup o...  SHELDON  \\\n",
      "\n",
      "                                                 context   \n",
      "16472  [Then take away his keys and make him wander t...  \\\n",
      "\n",
      "                                        context_speakers show  sarcasm  \n",
      "16472  [SHELDON, LEONARD, PERSON, PERSON, PERSON, PER...  BBT     True  \n",
      "16472    True\n",
      "Name: sarcasm, dtype: bool\n"
     ]
    },
    {
     "name": "stderr",
     "output_type": "stream",
     "text": [
      "\r"
     ]
    },
    {
     "name": "stdout",
     "output_type": "stream",
     "text": [
      "MoviePy - Writing audio in ./audio_extracted_yes/16472.mp3\n"
     ]
    },
    {
     "name": "stderr",
     "output_type": "stream",
     "text": [
      "                                                       "
     ]
    },
    {
     "name": "stdout",
     "output_type": "stream",
     "text": [
      "MoviePy - Done.\n",
      "                                               utterance  speaker   \n",
      "12614  Hardly a day goes by when I don't think about it.  LEONARD  \\\n",
      "\n",
      "                                                 context   \n",
      "12614  [You went to President Seibert's house in the ...  \\\n",
      "\n",
      "                                    context_speakers show  sarcasm  \n",
      "12614  [LEONARD, SHELDON, LEONARD, LEONARD, SHELDON]  BBT     True  \n",
      "12614    True\n",
      "Name: sarcasm, dtype: bool\n"
     ]
    },
    {
     "name": "stderr",
     "output_type": "stream",
     "text": [
      "\r"
     ]
    },
    {
     "name": "stdout",
     "output_type": "stream",
     "text": [
      "MoviePy - Writing audio in ./audio_extracted_yes/12614.mp3\n"
     ]
    },
    {
     "name": "stderr",
     "output_type": "stream",
     "text": [
      "                                                       "
     ]
    },
    {
     "name": "stdout",
     "output_type": "stream",
     "text": [
      "MoviePy - Done.\n",
      "                                           utterance   speaker   \n",
      "2388  Yeah, she couldn't live without the Chan Love.  CHANDLER  \\\n",
      "\n",
      "                                                context   \n",
      "2388  [Hey Pheebs!, Ohh! You made up!, Yeah, I could...  \\\n",
      "\n",
      "                context_speakers     show  sarcasm  \n",
      "2388  [CHANDLER, PHOEBE, MONICA]  FRIENDS    False  \n",
      "2388    False\n",
      "Name: sarcasm, dtype: bool\n"
     ]
    },
    {
     "name": "stderr",
     "output_type": "stream",
     "text": [
      "\r"
     ]
    },
    {
     "name": "stdout",
     "output_type": "stream",
     "text": [
      "MoviePy - Writing audio in ./audio_extracted_no/2388.mp3\n"
     ]
    },
    {
     "name": "stderr",
     "output_type": "stream",
     "text": [
      "                                                                  "
     ]
    },
    {
     "name": "stdout",
     "output_type": "stream",
     "text": [
      "MoviePy - Done.\n",
      "                                               utterance  speaker   \n",
      "19594  I can't believe we wasted all that time on our...  SHELDON  \\\n",
      "\n",
      "                                                 context   \n",
      "19594  [You know, there-there's always WonderCon in A...  \\\n",
      "\n",
      "                                context_speakers show  sarcasm  \n",
      "19594  [SHELDON, SHELDON, SHELDON, PENNY, PENNY]  BBT    False  \n",
      "19594    False\n",
      "Name: sarcasm, dtype: bool\n"
     ]
    },
    {
     "name": "stderr",
     "output_type": "stream",
     "text": [
      "\r"
     ]
    },
    {
     "name": "stdout",
     "output_type": "stream",
     "text": [
      "MoviePy - Writing audio in ./audio_extracted_no/19594.mp3\n"
     ]
    },
    {
     "name": "stderr",
     "output_type": "stream",
     "text": [
      "                                                                  "
     ]
    },
    {
     "name": "stdout",
     "output_type": "stream",
     "text": [
      "MoviePy - Done.\n",
      "                                                utterance speaker   \n",
      "110849  That's how much buying a comic book store mean...  HOWARD  \\\n",
      "\n",
      "                                                  context   \n",
      "110849  [he used to... take me to the comic book store...  \\\n",
      "\n",
      "                                        context_speakers show  sarcasm  \n",
      "110849  [HOWARD, HOWARD, BERNADETTE, HOWARD, BERNADETTE]  BBT    False  \n",
      "110849    False\n",
      "Name: sarcasm, dtype: bool\n"
     ]
    },
    {
     "name": "stderr",
     "output_type": "stream",
     "text": [
      "\r"
     ]
    },
    {
     "name": "stdout",
     "output_type": "stream",
     "text": [
      "MoviePy - Writing audio in ./audio_extracted_no/110849.mp3\n"
     ]
    },
    {
     "name": "stderr",
     "output_type": "stream",
     "text": [
      "                                                                  "
     ]
    },
    {
     "name": "stdout",
     "output_type": "stream",
     "text": [
      "MoviePy - Done.\n",
      "                                              utterance   speaker   \n",
      "2377  Yeah either that or gloria estefan was right e...  CHANDLER  \\\n",
      "\n",
      "                                                context context_speakers   \n",
      "2377  [Oh Mommy, Oh Daddy, I am a big ol Baddy., I g...     [JOEY, ROSS]  \\\n",
      "\n",
      "         show  sarcasm  \n",
      "2377  FRIENDS     True  \n",
      "2377    True\n",
      "Name: sarcasm, dtype: bool\n"
     ]
    },
    {
     "name": "stderr",
     "output_type": "stream",
     "text": [
      "\r"
     ]
    },
    {
     "name": "stdout",
     "output_type": "stream",
     "text": [
      "MoviePy - Writing audio in ./audio_extracted_yes/2377.mp3\n"
     ]
    },
    {
     "name": "stderr",
     "output_type": "stream",
     "text": [
      "                                                        "
     ]
    },
    {
     "name": "stdout",
     "output_type": "stream",
     "text": [
      "MoviePy - Done.\n",
      "                                              utterance speaker   \n",
      "2405  I'm supposed to teach a graduate seminar there...    ROSS  \\\n",
      "\n",
      "                                                context context_speakers   \n",
      "2405  [Okay, that-that's all for today. Oh, uh does ...   [ROSS, PERSON]  \\\n",
      "\n",
      "         show  sarcasm  \n",
      "2405  FRIENDS    False  \n",
      "2405    False\n",
      "Name: sarcasm, dtype: bool\n"
     ]
    },
    {
     "name": "stderr",
     "output_type": "stream",
     "text": [
      "\r"
     ]
    },
    {
     "name": "stdout",
     "output_type": "stream",
     "text": [
      "MoviePy - Writing audio in ./audio_extracted_no/2405.mp3\n"
     ]
    },
    {
     "name": "stderr",
     "output_type": "stream",
     "text": [
      "                                                       "
     ]
    },
    {
     "name": "stdout",
     "output_type": "stream",
     "text": [
      "MoviePy - Done.\n",
      "                             utterance speaker   \n",
      "2439  Twenty-one hours, you're a hero.  PERSON  \\\n",
      "\n",
      "                                                context context_speakers   \n",
      "2439  [Y'know what I think it is? I think you've mad...   [ROSS, RACHEL]  \\\n",
      "\n",
      "         show  sarcasm  \n",
      "2439  FRIENDS    False  \n",
      "2439    False\n",
      "Name: sarcasm, dtype: bool\n"
     ]
    },
    {
     "name": "stderr",
     "output_type": "stream",
     "text": [
      "\r"
     ]
    },
    {
     "name": "stdout",
     "output_type": "stream",
     "text": [
      "MoviePy - Writing audio in ./audio_extracted_no/2439.mp3\n"
     ]
    },
    {
     "name": "stderr",
     "output_type": "stream",
     "text": [
      "                                                       "
     ]
    },
    {
     "name": "stdout",
     "output_type": "stream",
     "text": [
      "MoviePy - Done.\n",
      "                                     utterance speaker   \n",
      "110859  I don't need a reason-- it's my house.  HOWARD  \\\n",
      "\n",
      "                                                  context   \n",
      "110859  [It's true-- you're both gorgeous., Kind of sa...  \\\n",
      "\n",
      "               context_speakers show  sarcasm  \n",
      "110859  [RAJ, RAJ, RAJ, PERSON]  BBT    False  \n",
      "110859    False\n",
      "Name: sarcasm, dtype: bool\n"
     ]
    },
    {
     "name": "stderr",
     "output_type": "stream",
     "text": [
      "\r"
     ]
    },
    {
     "name": "stdout",
     "output_type": "stream",
     "text": [
      "MoviePy - Writing audio in ./audio_extracted_no/110859.mp3\n"
     ]
    },
    {
     "name": "stderr",
     "output_type": "stream",
     "text": [
      "                                                       "
     ]
    },
    {
     "name": "stdout",
     "output_type": "stream",
     "text": [
      "MoviePy - Done.\n",
      "                     utterance speaker   \n",
      "2367  Well, don't  'cha wanna?  MONICA  \\\n",
      "\n",
      "                                                context   \n",
      "2367  [It's just y'know, been a couple of hours, and...  \\\n",
      "\n",
      "              context_speakers     show  sarcasm  \n",
      "2367  [PHOEBE, MONICA, PHOEBE]  FRIENDS    False  \n",
      "2367    False\n",
      "Name: sarcasm, dtype: bool\n"
     ]
    },
    {
     "name": "stderr",
     "output_type": "stream",
     "text": [
      "\r"
     ]
    },
    {
     "name": "stdout",
     "output_type": "stream",
     "text": [
      "MoviePy - Writing audio in ./audio_extracted_no/2367.mp3\n"
     ]
    },
    {
     "name": "stderr",
     "output_type": "stream",
     "text": [
      "                                                       "
     ]
    },
    {
     "name": "stdout",
     "output_type": "stream",
     "text": [
      "MoviePy - Done.\n",
      "                                           utterance   speaker   \n",
      "2373  I was making a coconut phone with a professor.  CHANDLER  \\\n",
      "\n",
      "                              context context_speakers     show  sarcasm  \n",
      "2373  [Where the hell have you been?]           [JOEY]  FRIENDS     True  \n",
      "2373    True\n",
      "Name: sarcasm, dtype: bool\n"
     ]
    },
    {
     "name": "stderr",
     "output_type": "stream",
     "text": [
      "\r"
     ]
    },
    {
     "name": "stdout",
     "output_type": "stream",
     "text": [
      "MoviePy - Writing audio in ./audio_extracted_yes/2373.mp3\n"
     ]
    },
    {
     "name": "stderr",
     "output_type": "stream",
     "text": [
      "                                                       "
     ]
    },
    {
     "name": "stdout",
     "output_type": "stream",
     "text": [
      "MoviePy - Done.\n",
      "                                               utterance  speaker   \n",
      "16648  You mean for a person whose neck massages feel...  LEONARD  \\\n",
      "\n",
      "                                                 context   \n",
      "16648  [This is amazing.\\nHow did you even get this i...  \\\n",
      "\n",
      "                       context_speakers show  sarcasm  \n",
      "16648  [PENNY, LEONARD, LEONARD, PENNY]  BBT     True  \n",
      "16648    True\n",
      "Name: sarcasm, dtype: bool\n"
     ]
    },
    {
     "name": "stderr",
     "output_type": "stream",
     "text": [
      "\r"
     ]
    },
    {
     "name": "stdout",
     "output_type": "stream",
     "text": [
      "MoviePy - Writing audio in ./audio_extracted_yes/16648.mp3\n"
     ]
    },
    {
     "name": "stderr",
     "output_type": "stream",
     "text": [
      "                                                                  "
     ]
    },
    {
     "name": "stdout",
     "output_type": "stream",
     "text": [
      "MoviePy - Done.\n",
      "                                              utterance speaker   \n",
      "2415  Chloe, switch with me, there's some guys here ...  PERSON  \\\n",
      "\n",
      "                                                context   \n",
      "2415  [Can I help you?, Uh-oh., Uh, y'know what, we'...  \\\n",
      "\n",
      "              context_speakers     show  sarcasm  \n",
      "2415  [PERSON, CHANDLER, JOEY]  FRIENDS    False  \n",
      "2415    False\n",
      "Name: sarcasm, dtype: bool\n"
     ]
    },
    {
     "name": "stderr",
     "output_type": "stream",
     "text": [
      "\r"
     ]
    },
    {
     "name": "stdout",
     "output_type": "stream",
     "text": [
      "MoviePy - Writing audio in ./audio_extracted_no/2415.mp3\n"
     ]
    },
    {
     "name": "stderr",
     "output_type": "stream",
     "text": [
      "                                                       "
     ]
    },
    {
     "name": "stdout",
     "output_type": "stream",
     "text": [
      "MoviePy - Done.\n",
      "                                      utterance speaker   \n",
      "2429  I really, really enjoyed it. Very exotic.  PHOEBE  \\\n",
      "\n",
      "                                                context  context_speakers   \n",
      "2429  [Ha-ha, it's not my baby, ha-ha-ha!, Very good...  [PHOEBE, MONICA]  \\\n",
      "\n",
      "         show  sarcasm  \n",
      "2429  FRIENDS     True  \n",
      "2429    True\n",
      "Name: sarcasm, dtype: bool\n"
     ]
    },
    {
     "name": "stderr",
     "output_type": "stream",
     "text": [
      "\r"
     ]
    },
    {
     "name": "stdout",
     "output_type": "stream",
     "text": [
      "MoviePy - Writing audio in ./audio_extracted_yes/2429.mp3\n"
     ]
    },
    {
     "name": "stderr",
     "output_type": "stream",
     "text": [
      "                                                                 "
     ]
    },
    {
     "name": "stdout",
     "output_type": "stream",
     "text": [
      "MoviePy - Done.\n",
      "                                              utterance  speaker   \n",
      "2398  Rose, you should sit here and watch her hack h...  DOROTHY  \\\n",
      "\n",
      "                                                context context_speakers   \n",
      "2398  [ma I think you should sit down, Dorothy, shou...  [DOROTHY, ROSE]  \\\n",
      "\n",
      "             show  sarcasm  \n",
      "2398  GOLDENGIRLS     True  \n",
      "2398    True\n",
      "Name: sarcasm, dtype: bool\n"
     ]
    },
    {
     "name": "stderr",
     "output_type": "stream",
     "text": [
      "\r"
     ]
    },
    {
     "name": "stdout",
     "output_type": "stream",
     "text": [
      "MoviePy - Writing audio in ./audio_extracted_yes/2398.mp3\n"
     ]
    },
    {
     "name": "stderr",
     "output_type": "stream",
     "text": [
      "                                                        "
     ]
    },
    {
     "name": "stdout",
     "output_type": "stream",
     "text": [
      "MoviePy - Done.\n",
      "                               utterance   speaker   \n",
      "2617  And protected them from a tornado?  CHANDLER  \\\n",
      "\n",
      "                                                context   \n",
      "2617  [How do you feel?, Well, let's just say that K...  \\\n",
      "\n",
      "                context_speakers     show  sarcasm  \n",
      "2617  [PHOEBE, CHANDLER, PHOEBE]  FRIENDS     True  \n",
      "2617    True\n",
      "Name: sarcasm, dtype: bool\n"
     ]
    },
    {
     "name": "stderr",
     "output_type": "stream",
     "text": [
      "\r"
     ]
    },
    {
     "name": "stdout",
     "output_type": "stream",
     "text": [
      "MoviePy - Writing audio in ./audio_extracted_yes/2617.mp3\n"
     ]
    },
    {
     "name": "stderr",
     "output_type": "stream",
     "text": [
      "                                                       "
     ]
    },
    {
     "name": "stdout",
     "output_type": "stream",
     "text": [
      "MoviePy - Done.\n",
      "                                utterance speaker   \n",
      "2171  What is the matter with your face?!  MONICA  \\\n",
      "\n",
      "                                                context context_speakers   \n",
      "2171  [Let's try a look .. of far off .. wonderment....         [MONICA]  \\\n",
      "\n",
      "         show  sarcasm  \n",
      "2171  FRIENDS    False  \n",
      "2171    False\n",
      "Name: sarcasm, dtype: bool\n"
     ]
    },
    {
     "name": "stderr",
     "output_type": "stream",
     "text": [
      "\r"
     ]
    },
    {
     "name": "stdout",
     "output_type": "stream",
     "text": [
      "MoviePy - Writing audio in ./audio_extracted_no/2171.mp3\n"
     ]
    },
    {
     "name": "stderr",
     "output_type": "stream",
     "text": [
      "                                                       "
     ]
    },
    {
     "name": "stdout",
     "output_type": "stream",
     "text": [
      "MoviePy - Done.\n",
      "                                            utterance  speaker   \n",
      "12837  - Chocolate? - No, I don't want any chocolate!  LEONARD  \\\n",
      "\n",
      "                                                 context   \n",
      "12837  [You'll never guess who they got to replace yo...  \\\n",
      "\n",
      "                           context_speakers show  sarcasm  \n",
      "12837  [LEONARD, SHELDON, LEONARD, SHELDON]  BBT    False  \n",
      "12837    False\n",
      "Name: sarcasm, dtype: bool\n"
     ]
    },
    {
     "name": "stderr",
     "output_type": "stream",
     "text": [
      "\r"
     ]
    },
    {
     "name": "stdout",
     "output_type": "stream",
     "text": [
      "MoviePy - Writing audio in ./audio_extracted_no/12837.mp3\n"
     ]
    },
    {
     "name": "stderr",
     "output_type": "stream",
     "text": [
      "                                                                 "
     ]
    },
    {
     "name": "stdout",
     "output_type": "stream",
     "text": [
      "MoviePy - Done.\n",
      "                                           utterance   speaker   \n",
      "284  If that doesn't keep kids in school, what will?  CHANDLER  \\\n",
      "\n",
      "                                               context   \n",
      "284  [Two week straight and she hasn't smoked since...  \\\n",
      "\n",
      "                                context_speakers     show  sarcasm  \n",
      "284  [RACHEL, MONICA, PERSON1, PERSON2, PERSON1]  FRIENDS     True  \n",
      "284    True\n",
      "Name: sarcasm, dtype: bool\n"
     ]
    },
    {
     "name": "stderr",
     "output_type": "stream",
     "text": [
      "\r"
     ]
    },
    {
     "name": "stdout",
     "output_type": "stream",
     "text": [
      "MoviePy - Writing audio in ./audio_extracted_yes/284.mp3\n"
     ]
    },
    {
     "name": "stderr",
     "output_type": "stream",
     "text": [
      "                                                       "
     ]
    },
    {
     "name": "stdout",
     "output_type": "stream",
     "text": [
      "MoviePy - Done.\n",
      "                                               utterance     speaker   \n",
      "15751  Of course you do. You're a cutie pie! Any girl...  BERNADETTE  \\\n",
      "\n",
      "                                                 context   \n",
      "15751  [What the hell is wrong with you?!, Well...\\nY...  \\\n",
      "\n",
      "                                        context_speakers show  sarcasm  \n",
      "15751  [BERNADETTE, RAJ, BERNADETTE, RAJ, BERNADETTE,...  BBT    False  \n",
      "15751    False\n",
      "Name: sarcasm, dtype: bool\n"
     ]
    },
    {
     "name": "stderr",
     "output_type": "stream",
     "text": [
      "\r"
     ]
    },
    {
     "name": "stdout",
     "output_type": "stream",
     "text": [
      "MoviePy - Writing audio in ./audio_extracted_no/15751.mp3\n"
     ]
    },
    {
     "name": "stderr",
     "output_type": "stream",
     "text": [
      "                                                                    "
     ]
    },
    {
     "name": "stdout",
     "output_type": "stream",
     "text": [
      "MoviePy - Done.\n",
      "                                               utterance  speaker   \n",
      "15786  All right, so technically it's not a dinner da...  SHELDON  \\\n",
      "\n",
      "                                                 context   \n",
      "15786  [What are you doing?, Oh, uh, Priya's calling ...  \\\n",
      "\n",
      "                           context_speakers show  sarcasm  \n",
      "15786  [SHELDON, LEONARD, SHELDON, LEONARD]  BBT    False  \n",
      "15786    False\n",
      "Name: sarcasm, dtype: bool\n"
     ]
    },
    {
     "name": "stderr",
     "output_type": "stream",
     "text": [
      "\r"
     ]
    },
    {
     "name": "stdout",
     "output_type": "stream",
     "text": [
      "MoviePy - Writing audio in ./audio_extracted_no/15786.mp3\n"
     ]
    },
    {
     "name": "stderr",
     "output_type": "stream",
     "text": [
      "                                                                    \r"
     ]
    },
    {
     "name": "stdout",
     "output_type": "stream",
     "text": [
      "MoviePy - Done.\n",
      "                                          utterance speaker   \n",
      "253  You're gonna have to tell me how you did that.  RACHEL  \\\n",
      "\n",
      "                                               context  context_speakers   \n",
      "253  [Oh good, you're here. Yeah, and I was worried...  [PERSON, RACHEL]  \\\n",
      "\n",
      "        show  sarcasm  \n",
      "253  FRIENDS    False  \n",
      "253    False\n",
      "Name: sarcasm, dtype: bool\n",
      "MoviePy - Writing audio in ./audio_extracted_no/253.mp3\n"
     ]
    },
    {
     "name": "stderr",
     "output_type": "stream",
     "text": [
      "                                                       "
     ]
    },
    {
     "name": "stdout",
     "output_type": "stream",
     "text": [
      "MoviePy - Done.\n",
      "                                              utterance  speaker   \n",
      "1105  I'm just inferring this is a couch because the...  SHELDON  \\\n",
      "\n",
      "                                                context   \n",
      "1105  [Great Caesar's ghost, look at this place., So...  \\\n",
      "\n",
      "                                       context_speakers show  sarcasm  \n",
      "1105  [SHELDON, LEONARD, SHELDON, SHELDON, SHELDON, ...  BBT     True  \n",
      "1105    True\n",
      "Name: sarcasm, dtype: bool\n"
     ]
    },
    {
     "name": "stderr",
     "output_type": "stream",
     "text": [
      "\r"
     ]
    },
    {
     "name": "stdout",
     "output_type": "stream",
     "text": [
      "MoviePy - Writing audio in ./audio_extracted_yes/1105.mp3\n"
     ]
    },
    {
     "name": "stderr",
     "output_type": "stream",
     "text": [
      "                                                                  "
     ]
    },
    {
     "name": "stdout",
     "output_type": "stream",
     "text": [
      "MoviePy - Done.\n",
      "                                              utterance speaker   \n",
      "2575  Why? Because she can sing and play guitar and ...  PHOEBE  \\\n",
      "\n",
      "                                                context   \n",
      "2575  [Wow! This girl is good., Oh-ho yeah! A song w...  \\\n",
      "\n",
      "              context_speakers     show  sarcasm  \n",
      "2575  [JOEY, PHOEBE, CHANDLER]  FRIENDS     True  \n",
      "2575    True\n",
      "Name: sarcasm, dtype: bool\n"
     ]
    },
    {
     "name": "stderr",
     "output_type": "stream",
     "text": [
      "\r"
     ]
    },
    {
     "name": "stdout",
     "output_type": "stream",
     "text": [
      "MoviePy - Writing audio in ./audio_extracted_yes/2575.mp3\n"
     ]
    },
    {
     "name": "stderr",
     "output_type": "stream",
     "text": [
      "                                                       "
     ]
    },
    {
     "name": "stdout",
     "output_type": "stream",
     "text": [
      "MoviePy - Done.\n",
      "                                              utterance speaker   \n",
      "2213  Wait, wait, Chandler, this is what you're havi...  RACHEL  \\\n",
      "\n",
      "                                                context   \n",
      "2213  [You owe me 20 bucks., Thank you. Thank you so...  \\\n",
      "\n",
      "              context_speakers     show  sarcasm  \n",
      "2213  [MONICA, RACHEL, MONICA]  FRIENDS    False  \n",
      "2213    False\n",
      "Name: sarcasm, dtype: bool\n"
     ]
    },
    {
     "name": "stderr",
     "output_type": "stream",
     "text": [
      "\r"
     ]
    },
    {
     "name": "stdout",
     "output_type": "stream",
     "text": [
      "MoviePy - Writing audio in ./audio_extracted_no/2213.mp3\n"
     ]
    },
    {
     "name": "stderr",
     "output_type": "stream",
     "text": [
      "                                                       "
     ]
    },
    {
     "name": "stdout",
     "output_type": "stream",
     "text": [
      "MoviePy - Done.\n",
      "     utterance speaker                              context context_speakers   \n",
      "2549   Really?  MONICA  [Honey the Miami vice sound track?]         [MONICA]  \\\n",
      "\n",
      "         show  sarcasm  \n",
      "2549  FRIENDS    False  \n",
      "2549    False\n",
      "Name: sarcasm, dtype: bool\n"
     ]
    },
    {
     "name": "stderr",
     "output_type": "stream",
     "text": [
      "\r"
     ]
    },
    {
     "name": "stdout",
     "output_type": "stream",
     "text": [
      "MoviePy - Writing audio in ./audio_extracted_no/2549.mp3\n"
     ]
    },
    {
     "name": "stderr",
     "output_type": "stream",
     "text": [
      "                                                       "
     ]
    },
    {
     "name": "stdout",
     "output_type": "stream",
     "text": [
      "MoviePy - Done.\n",
      "                               utterance speaker   \n",
      "2548  Almost! But first, we gotta start.  PERSON  \\\n",
      "\n",
      "                                                context   \n",
      "2548  [All right, I'm outta here!, I'm kidding! I'm ...  \\\n",
      "\n",
      "              context_speakers     show  sarcasm  \n",
      "2548  [RACHEL, MONICA, RACHEL]  FRIENDS     True  \n",
      "2548    True\n",
      "Name: sarcasm, dtype: bool\n"
     ]
    },
    {
     "name": "stderr",
     "output_type": "stream",
     "text": [
      "\r"
     ]
    },
    {
     "name": "stdout",
     "output_type": "stream",
     "text": [
      "MoviePy - Writing audio in ./audio_extracted_yes/2548.mp3\n"
     ]
    },
    {
     "name": "stderr",
     "output_type": "stream",
     "text": [
      "                                                       "
     ]
    },
    {
     "name": "stdout",
     "output_type": "stream",
     "text": [
      "MoviePy - Done.\n",
      "                                      utterance   speaker   \n",
      "2206  A tshirt that says - I don't belong here.  CHANDLER  \\\n",
      "\n",
      "                                               context context_speakers   \n",
      "2206  [Hey guys, what should I wear to a Nick's game?]         [MONICA]  \\\n",
      "\n",
      "         show  sarcasm  \n",
      "2206  FRIENDS     True  \n",
      "2206    True\n",
      "Name: sarcasm, dtype: bool\n"
     ]
    },
    {
     "name": "stderr",
     "output_type": "stream",
     "text": [
      "\r"
     ]
    },
    {
     "name": "stdout",
     "output_type": "stream",
     "text": [
      "MoviePy - Writing audio in ./audio_extracted_yes/2206.mp3\n"
     ]
    },
    {
     "name": "stderr",
     "output_type": "stream",
     "text": [
      "                                                       "
     ]
    },
    {
     "name": "stdout",
     "output_type": "stream",
     "text": [
      "MoviePy - Done.\n",
      "                                              utterance speaker   \n",
      "2560  So now I have to go so he'll think that I'm to...  PHOEBE  \\\n",
      "\n",
      "                                                context context_speakers   \n",
      "2560  [And she was like \"Oh, don't worry! I asked hi...         [PHOEBE]  \\\n",
      "\n",
      "         show  sarcasm  \n",
      "2560  FRIENDS     True  \n",
      "2560    True\n",
      "Name: sarcasm, dtype: bool\n"
     ]
    },
    {
     "name": "stderr",
     "output_type": "stream",
     "text": [
      "\r"
     ]
    },
    {
     "name": "stdout",
     "output_type": "stream",
     "text": [
      "MoviePy - Writing audio in ./audio_extracted_yes/2560.mp3\n"
     ]
    },
    {
     "name": "stderr",
     "output_type": "stream",
     "text": [
      "                                                       "
     ]
    },
    {
     "name": "stdout",
     "output_type": "stream",
     "text": [
      "MoviePy - Done.\n",
      "                   utterance speaker   \n",
      "2574  You can't do anything.    JOEY  \\\n",
      "\n",
      "                                                context   \n",
      "2574  [Pickin up wedding dresses. Wapah., Whats wapa...  \\\n",
      "\n",
      "                                context_speakers     show  sarcasm  \n",
      "2574  [CHANDLER, ROSS, CHANDLER, JOEY, CHANDLER]  FRIENDS    False  \n",
      "2574    False\n",
      "Name: sarcasm, dtype: bool\n"
     ]
    },
    {
     "name": "stderr",
     "output_type": "stream",
     "text": [
      "\r"
     ]
    },
    {
     "name": "stdout",
     "output_type": "stream",
     "text": [
      "MoviePy - Writing audio in ./audio_extracted_no/2574.mp3\n"
     ]
    },
    {
     "name": "stderr",
     "output_type": "stream",
     "text": [
      "                                                       "
     ]
    },
    {
     "name": "stdout",
     "output_type": "stream",
     "text": [
      "MoviePy - Done.\n",
      "                                             utterance speaker   \n",
      "291  Alright, I'm gonna go pick up a few things for...  MONICA  \\\n",
      "\n",
      "                                               context   \n",
      "291  [Oh, certainly. That's a combination of Bernou...  \\\n",
      "\n",
      "               context_speakers     show  sarcasm  \n",
      "291  [PERSON, MONICA, CHANDLER]  FRIENDS    False  \n",
      "291    False\n",
      "Name: sarcasm, dtype: bool\n"
     ]
    },
    {
     "name": "stderr",
     "output_type": "stream",
     "text": [
      "\r"
     ]
    },
    {
     "name": "stdout",
     "output_type": "stream",
     "text": [
      "MoviePy - Writing audio in ./audio_extracted_no/291.mp3\n"
     ]
    },
    {
     "name": "stderr",
     "output_type": "stream",
     "text": [
      "                                                       "
     ]
    },
    {
     "name": "stdout",
     "output_type": "stream",
     "text": [
      "MoviePy - Done.\n",
      "                                       utterance speaker   \n",
      "19963  What do you think I was gonna do at home?  PERSON  \\\n",
      "\n",
      "                                                 context   \n",
      "19963  [Koothrappali murder mystery dinner., I'm leav...  \\\n",
      "\n",
      "                              context_speakers show  sarcasm  \n",
      "19963  [RAJ, AMY, RAJ, BERNADETTE, AMY, PENNY]  BBT    False  \n",
      "19963    False\n",
      "Name: sarcasm, dtype: bool\n"
     ]
    },
    {
     "name": "stderr",
     "output_type": "stream",
     "text": [
      "\r"
     ]
    },
    {
     "name": "stdout",
     "output_type": "stream",
     "text": [
      "MoviePy - Writing audio in ./audio_extracted_no/19963.mp3\n"
     ]
    },
    {
     "name": "stderr",
     "output_type": "stream",
     "text": [
      "                                                       "
     ]
    },
    {
     "name": "stdout",
     "output_type": "stream",
     "text": [
      "MoviePy - Done.\n",
      "                                              utterance  speaker   \n",
      "2158  A bucket of chicked. I hope you like it extra ...  DOROTHY  \\\n",
      "\n",
      "                                  context context_speakers         show   \n",
      "2158  [We brought dinner., What you get?]   [ROSE, SOPHIA]  GOLDENGIRLS  \\\n",
      "\n",
      "      sarcasm  \n",
      "2158     True  \n",
      "2158    True\n",
      "Name: sarcasm, dtype: bool\n"
     ]
    },
    {
     "name": "stderr",
     "output_type": "stream",
     "text": [
      "\r"
     ]
    },
    {
     "name": "stdout",
     "output_type": "stream",
     "text": [
      "MoviePy - Writing audio in ./audio_extracted_yes/2158.mp3\n"
     ]
    },
    {
     "name": "stderr",
     "output_type": "stream",
     "text": [
      "                                                                    \r"
     ]
    },
    {
     "name": "stdout",
     "output_type": "stream",
     "text": [
      "MoviePy - Done.\n",
      "                                                utterance  speaker   \n",
      "110496  - You and... Oh, sure. And while we're at it, ...  SHELDON  \\\n",
      "\n",
      "                                                  context   \n",
      "110496  [And not the good Amazon with one-day shipping...  \\\n",
      "\n",
      "                                  context_speakers show  sarcasm  \n",
      "110496  [SHELDON, AMY, SHELDON, AMY, SHELDON, AMY]  BBT     True  \n",
      "110496    True\n",
      "Name: sarcasm, dtype: bool\n",
      "MoviePy - Writing audio in ./audio_extracted_yes/110496.mp3\n"
     ]
    },
    {
     "name": "stderr",
     "output_type": "stream",
     "text": [
      "                                                                    \r"
     ]
    },
    {
     "name": "stdout",
     "output_type": "stream",
     "text": [
      "MoviePy - Done.\n",
      "                    utterance   speaker                      context   \n",
      "2170  The British are coming?  CHANDLER  [Hey you guys, guess what?]  \\\n",
      "\n",
      "     context_speakers     show  sarcasm  \n",
      "2170         [PHOEBE]  FRIENDS     True  \n",
      "2170    True\n",
      "Name: sarcasm, dtype: bool\n",
      "MoviePy - Writing audio in ./audio_extracted_yes/2170.mp3\n"
     ]
    },
    {
     "name": "stderr",
     "output_type": "stream",
     "text": [
      "                                                       "
     ]
    },
    {
     "name": "stdout",
     "output_type": "stream",
     "text": [
      "MoviePy - Done.\n",
      "                                               utterance speaker   \n",
      "15156  That's got to be fun for you, huh? Watching Ho...  HOWARD  \\\n",
      "\n",
      "                                                 context   \n",
      "15156  [The audible sigh is a show of exasperation, r...  \\\n",
      "\n",
      "                                        context_speakers show  sarcasm  \n",
      "15156  [SHELDON, LEONARD, SHELDON, RAJ, LEONARD, SHEL...  BBT     True  \n",
      "15156    True\n",
      "Name: sarcasm, dtype: bool\n"
     ]
    },
    {
     "name": "stderr",
     "output_type": "stream",
     "text": [
      "\r"
     ]
    },
    {
     "name": "stdout",
     "output_type": "stream",
     "text": [
      "MoviePy - Writing audio in ./audio_extracted_yes/15156.mp3\n"
     ]
    },
    {
     "name": "stderr",
     "output_type": "stream",
     "text": [
      "                                                                    "
     ]
    },
    {
     "name": "stdout",
     "output_type": "stream",
     "text": [
      "MoviePy - Done.\n",
      "     utterance   speaker                                            context   \n",
      "2602   No way!  CHANDLER  [You wanna hear something that sucks., Do I ev...  \\\n",
      "\n",
      "                context_speakers     show  sarcasm  \n",
      "2602  [MONICA, CHANDLER, MONICA]  FRIENDS    False  \n",
      "2602    False\n",
      "Name: sarcasm, dtype: bool\n"
     ]
    },
    {
     "name": "stderr",
     "output_type": "stream",
     "text": [
      "\r"
     ]
    },
    {
     "name": "stdout",
     "output_type": "stream",
     "text": [
      "MoviePy - Writing audio in ./audio_extracted_no/2602.mp3\n"
     ]
    },
    {
     "name": "stderr",
     "output_type": "stream",
     "text": [
      "                                                       "
     ]
    },
    {
     "name": "stdout",
     "output_type": "stream",
     "text": [
      "MoviePy - Done.\n",
      "                                              utterance   speaker   \n",
      "2428  His legs flail about as if independent from hi...  CHANDLER  \\\n",
      "\n",
      "                                                context   \n",
      "2428  [According to Chandler, what phenomenon scares...  \\\n",
      "\n",
      "                context_speakers     show  sarcasm  \n",
      "2428  [ROSS, MONICA, ROSS, JOEY]  FRIENDS    False  \n",
      "2428    False\n",
      "Name: sarcasm, dtype: bool\n"
     ]
    },
    {
     "name": "stderr",
     "output_type": "stream",
     "text": [
      "\r"
     ]
    },
    {
     "name": "stdout",
     "output_type": "stream",
     "text": [
      "MoviePy - Writing audio in ./audio_extracted_no/2428.mp3\n"
     ]
    },
    {
     "name": "stderr",
     "output_type": "stream",
     "text": [
      "                                                                    "
     ]
    },
    {
     "name": "stdout",
     "output_type": "stream",
     "text": [
      "MoviePy - Done.\n",
      "                                               utterance speaker   \n",
      "16113  So, this spring, I get to go to the Internatio...  HOWARD  \\\n",
      "\n",
      "                                                 context   \n",
      "16113  [Now I'm going out tonight. Would it be crazy ...  \\\n",
      "\n",
      "                       context_speakers show  sarcasm  \n",
      "16113  [PENNY, PERSON, PERSON, SHELDON]  BBT    False  \n",
      "16113    False\n",
      "Name: sarcasm, dtype: bool\n"
     ]
    },
    {
     "name": "stderr",
     "output_type": "stream",
     "text": [
      "\r"
     ]
    },
    {
     "name": "stdout",
     "output_type": "stream",
     "text": [
      "MoviePy - Writing audio in ./audio_extracted_no/16113.mp3\n"
     ]
    },
    {
     "name": "stderr",
     "output_type": "stream",
     "text": [
      "                                                                  "
     ]
    },
    {
     "name": "stdout",
     "output_type": "stream",
     "text": [
      "MoviePy - Done.\n",
      "                                               utterance  speaker   \n",
      "12361  Thank you so much for giving me the opportunit...  LEONARD  \\\n",
      "\n",
      "                                context context_speakers show  sarcasm  \n",
      "12361  [Thanks so much for helping me.]         [PERSON]  BBT    False  \n",
      "12361    False\n",
      "Name: sarcasm, dtype: bool\n"
     ]
    },
    {
     "name": "stderr",
     "output_type": "stream",
     "text": [
      "\r"
     ]
    },
    {
     "name": "stdout",
     "output_type": "stream",
     "text": [
      "MoviePy - Writing audio in ./audio_extracted_no/12361.mp3\n"
     ]
    },
    {
     "name": "stderr",
     "output_type": "stream",
     "text": [
      "                                                       "
     ]
    },
    {
     "name": "stdout",
     "output_type": "stream",
     "text": [
      "MoviePy - Done.\n",
      "                                              utterance   speaker   \n",
      "2372  Actually I yesterday I was smoking again. Toda...  CHANDLER  \\\n",
      "\n",
      "                                                context   \n",
      "2372  [Boy do I feel bad, very bad., Chandler what a...  \\\n",
      "\n",
      "                      context_speakers     show  sarcasm  \n",
      "2372  [PHOEBE, MONICA, PHOEBE, MONICA]  FRIENDS     True  \n",
      "2372    True\n",
      "Name: sarcasm, dtype: bool\n"
     ]
    },
    {
     "name": "stderr",
     "output_type": "stream",
     "text": [
      "\r"
     ]
    },
    {
     "name": "stdout",
     "output_type": "stream",
     "text": [
      "MoviePy - Writing audio in ./audio_extracted_yes/2372.mp3\n"
     ]
    },
    {
     "name": "stderr",
     "output_type": "stream",
     "text": [
      "                                                       "
     ]
    },
    {
     "name": "stdout",
     "output_type": "stream",
     "text": [
      "MoviePy - Done.\n",
      "                                                utterance speaker   \n",
      "112083  Oh, just put it in your mouth and pop it like ...  HOWARD  \\\n",
      "\n",
      "                                                  context   \n",
      "112083  [What's going on in here?, I am making molecul...  \\\n",
      "\n",
      "                        context_speakers show  sarcasm  \n",
      "112083  [BERNADETTE, HOWARD, BERNADETTE]  BBT    False  \n",
      "112083    False\n",
      "Name: sarcasm, dtype: bool\n"
     ]
    },
    {
     "name": "stderr",
     "output_type": "stream",
     "text": [
      "\r"
     ]
    },
    {
     "name": "stdout",
     "output_type": "stream",
     "text": [
      "MoviePy - Writing audio in ./audio_extracted_no/112083.mp3\n"
     ]
    },
    {
     "name": "stderr",
     "output_type": "stream",
     "text": [
      "                                                       "
     ]
    },
    {
     "name": "stdout",
     "output_type": "stream",
     "text": [
      "MoviePy - Done.\n",
      "                                              utterance   speaker   \n",
      "2400  Anyway, I should go, one of the lifeguards was...  CHANDLER  \\\n",
      "\n",
      "                                                context   \n",
      "2400  [I know, it is isn't it?, No, I mean it, this ...  \\\n",
      "\n",
      "                context_speakers     show  sarcasm  \n",
      "2400  [MONICA, CHANDLER, MONICA]  FRIENDS    False  \n",
      "2400    False\n",
      "Name: sarcasm, dtype: bool\n"
     ]
    },
    {
     "name": "stderr",
     "output_type": "stream",
     "text": [
      "\r"
     ]
    },
    {
     "name": "stdout",
     "output_type": "stream",
     "text": [
      "MoviePy - Writing audio in ./audio_extracted_no/2400.mp3\n"
     ]
    },
    {
     "name": "stderr",
     "output_type": "stream",
     "text": [
      "                                                                  "
     ]
    },
    {
     "name": "stdout",
     "output_type": "stream",
     "text": [
      "MoviePy - Done.\n",
      "                                              utterance   speaker   \n",
      "2416  Were you so late because you were burying this...  CHANDLER  \\\n",
      "\n",
      "                                                context context_speakers   \n",
      "2416  [Ok it was just me and her at the back of the ...           [ROSS]  \\\n",
      "\n",
      "         show  sarcasm  \n",
      "2416  FRIENDS     True  \n",
      "2416    True\n",
      "Name: sarcasm, dtype: bool\n"
     ]
    },
    {
     "name": "stderr",
     "output_type": "stream",
     "text": [
      "\r"
     ]
    },
    {
     "name": "stdout",
     "output_type": "stream",
     "text": [
      "MoviePy - Writing audio in ./audio_extracted_yes/2416.mp3\n"
     ]
    },
    {
     "name": "stderr",
     "output_type": "stream",
     "text": [
      "                                                       "
     ]
    },
    {
     "name": "stdout",
     "output_type": "stream",
     "text": [
      "MoviePy - Done.\n",
      "                                              utterance   speaker   \n",
      "2370  You have to stop the Q-Tip when there is resis...  CHANDLER  \\\n",
      "\n",
      "                                                context context_speakers   \n",
      "2370  [My family's been going to him forever. He did...           [JOEY]  \\\n",
      "\n",
      "         show  sarcasm  \n",
      "2370  FRIENDS     True  \n",
      "2370    True\n",
      "Name: sarcasm, dtype: bool\n"
     ]
    },
    {
     "name": "stderr",
     "output_type": "stream",
     "text": [
      "\r"
     ]
    },
    {
     "name": "stdout",
     "output_type": "stream",
     "text": [
      "MoviePy - Writing audio in ./audio_extracted_yes/2370.mp3\n"
     ]
    },
    {
     "name": "stderr",
     "output_type": "stream",
     "text": [
      "                                                       "
     ]
    },
    {
     "name": "stdout",
     "output_type": "stream",
     "text": [
      "MoviePy - Done.\n",
      "                                               utterance  speaker   \n",
      "13069  Seems like an awful lot of trouble to go throu...  SHELDON  \\\n",
      "\n",
      "                                                 context   \n",
      "13069  [Am I correct in assuming that your attempt to...  \\\n",
      "\n",
      "                           context_speakers show  sarcasm  \n",
      "13069  [SHELDON, LEONARD, SHELDON, LEONARD]  BBT    False  \n",
      "13069    False\n",
      "Name: sarcasm, dtype: bool\n"
     ]
    },
    {
     "name": "stderr",
     "output_type": "stream",
     "text": [
      "\r"
     ]
    },
    {
     "name": "stdout",
     "output_type": "stream",
     "text": [
      "MoviePy - Writing audio in ./audio_extracted_no/13069.mp3\n"
     ]
    },
    {
     "name": "stderr",
     "output_type": "stream",
     "text": [
      "                                                       "
     ]
    },
    {
     "name": "stdout",
     "output_type": "stream",
     "text": [
      "MoviePy - Done.\n",
      "                                   utterance speaker   \n",
      "2358  I do not always have to be,okay, okay.    ROSS  \\\n",
      "\n",
      "                                                context context_speakers   \n",
      "2358  [No you do,y'know what, you're not gonna suck ...   [ROSS, RACHEL]  \\\n",
      "\n",
      "         show  sarcasm  \n",
      "2358  FRIENDS    False  \n",
      "2358    False\n",
      "Name: sarcasm, dtype: bool\n"
     ]
    },
    {
     "name": "stderr",
     "output_type": "stream",
     "text": [
      "\r"
     ]
    },
    {
     "name": "stdout",
     "output_type": "stream",
     "text": [
      "MoviePy - Writing audio in ./audio_extracted_no/2358.mp3\n"
     ]
    },
    {
     "name": "stderr",
     "output_type": "stream",
     "text": [
      "                                                       "
     ]
    },
    {
     "name": "stdout",
     "output_type": "stream",
     "text": [
      "MoviePy - Done.\n",
      "                        utterance   speaker   \n",
      "2172  The whole thing! Can we go?  CHANDLER  \\\n",
      "\n",
      "                                                context   \n",
      "2172  [You liked it? You really liked it?, Oh-ho-ho,...  \\\n",
      "\n",
      "            context_speakers     show  sarcasm  \n",
      "2172  [JOEY, CHANDLER, JOEY]  FRIENDS     True  \n",
      "2172    True\n",
      "Name: sarcasm, dtype: bool\n"
     ]
    },
    {
     "name": "stderr",
     "output_type": "stream",
     "text": [
      "\r"
     ]
    },
    {
     "name": "stdout",
     "output_type": "stream",
     "text": [
      "MoviePy - Writing audio in ./audio_extracted_yes/2172.mp3\n"
     ]
    },
    {
     "name": "stderr",
     "output_type": "stream",
     "text": [
      "                                                       "
     ]
    },
    {
     "name": "stdout",
     "output_type": "stream",
     "text": [
      "MoviePy - Done.\n",
      "              utterance speaker   \n",
      "2166  But I'm the host!    JOEY  \\\n",
      "\n",
      "                                                context   \n",
      "2166  [This will be your phone., That's great. But u...  \\\n",
      "\n",
      "            context_speakers     show  sarcasm  \n",
      "2166  [PERSON, JOEY, PERSON]  FRIENDS    False  \n",
      "2166    False\n",
      "Name: sarcasm, dtype: bool\n"
     ]
    },
    {
     "name": "stderr",
     "output_type": "stream",
     "text": [
      "\r"
     ]
    },
    {
     "name": "stdout",
     "output_type": "stream",
     "text": [
      "MoviePy - Writing audio in ./audio_extracted_no/2166.mp3\n"
     ]
    },
    {
     "name": "stderr",
     "output_type": "stream",
     "text": [
      "                                                       "
     ]
    },
    {
     "name": "stdout",
     "output_type": "stream",
     "text": [
      "MoviePy - Done.\n",
      "          utterance speaker   \n",
      "287  Yeah it would!    ROSS  \\\n",
      "\n",
      "                                               context    context_speakers   \n",
      "287  [Uhh, the ball thing., Yeah?, Hey Ross, wouldn...  [JOEY, ROSS, JOEY]  \\\n",
      "\n",
      "        show  sarcasm  \n",
      "287  FRIENDS    False  \n",
      "287    False\n",
      "Name: sarcasm, dtype: bool\n"
     ]
    },
    {
     "name": "stderr",
     "output_type": "stream",
     "text": [
      "\r"
     ]
    },
    {
     "name": "stdout",
     "output_type": "stream",
     "text": [
      "MoviePy - Writing audio in ./audio_extracted_no/287.mp3\n"
     ]
    },
    {
     "name": "stderr",
     "output_type": "stream",
     "text": [
      "                                                       "
     ]
    },
    {
     "name": "stdout",
     "output_type": "stream",
     "text": [
      "MoviePy - Done.\n",
      "                        utterance   speaker   \n",
      "250  Nope, that patch is no good.  CHANDLER  \\\n",
      "\n",
      "                                               context    context_speakers   \n",
      "250  [Okay thatÕs like the least fun game ever., We...  [CHANDLER, RACHEL]  \\\n",
      "\n",
      "        show  sarcasm  \n",
      "250  FRIENDS     True  \n",
      "250    True\n",
      "Name: sarcasm, dtype: bool\n"
     ]
    },
    {
     "name": "stderr",
     "output_type": "stream",
     "text": [
      "\r"
     ]
    },
    {
     "name": "stdout",
     "output_type": "stream",
     "text": [
      "MoviePy - Writing audio in ./audio_extracted_yes/250.mp3\n"
     ]
    },
    {
     "name": "stderr",
     "output_type": "stream",
     "text": [
      "                                                                    \r"
     ]
    },
    {
     "name": "stdout",
     "output_type": "stream",
     "text": [
      "MoviePy - Done.\n",
      "                                               utterance speaker   \n",
      "17186  Not exactly. Listen, if you don't mind, I'm no...  HOWARD  \\\n",
      "\n",
      "                                                 context   \n",
      "17186  [and she makes me Froot Loops., Go with gay st...  \\\n",
      "\n",
      "                                        context_speakers show  sarcasm  \n",
      "17186  [HOWARD, PERSON1, PERSON2, PERSON1, HOWARD, PE...  BBT    False  \n",
      "17186    False\n",
      "Name: sarcasm, dtype: bool\n",
      "MoviePy - Writing audio in ./audio_extracted_no/17186.mp3\n"
     ]
    },
    {
     "name": "stderr",
     "output_type": "stream",
     "text": [
      "                                                                    \r"
     ]
    },
    {
     "name": "stdout",
     "output_type": "stream",
     "text": [
      "MoviePy - Done.\n",
      "                                                utterance speaker   \n",
      "112320  Oh, yes, we've got the moon and the trees and....     RAJ  \\\n",
      "\n",
      "                                                  context   \n",
      "112320  [Okay. Well, then it's settled: small indoor c...  \\\n",
      "\n",
      "                        context_speakers show  sarcasm  \n",
      "112320  [LEONARD, PENNY, SHELDON, PENNY]  BBT    False  \n",
      "112320    False\n",
      "Name: sarcasm, dtype: bool\n",
      "MoviePy - Writing audio in ./audio_extracted_no/112320.mp3\n"
     ]
    },
    {
     "name": "stderr",
     "output_type": "stream",
     "text": [
      "                                                                   \r"
     ]
    },
    {
     "name": "stdout",
     "output_type": "stream",
     "text": [
      "MoviePy - Done.\n",
      "              utterance speaker   \n",
      "244  Whoa, maybe I was!    JOEY  \\\n",
      "\n",
      "                                               context context_speakers   \n",
      "244  [Very life-like and funny. Okay. Oh no-no-no, ...           [JOEY]  \\\n",
      "\n",
      "        show  sarcasm  \n",
      "244  FRIENDS    False  \n",
      "244    False\n",
      "Name: sarcasm, dtype: bool\n",
      "MoviePy - Writing audio in ./audio_extracted_no/244.mp3\n"
     ]
    },
    {
     "name": "stderr",
     "output_type": "stream",
     "text": [
      "                                                       "
     ]
    },
    {
     "name": "stdout",
     "output_type": "stream",
     "text": [
      "MoviePy - Done.\n",
      "                                             utterance   speaker   \n",
      "278  I didn't know you and Carol were getting divor...  CHANDLER  \\\n",
      "\n",
      "                                               context   \n",
      "278  [Honey, you remember my boss Doug right?, Yes,...  \\\n",
      "\n",
      "               context_speakers     show  sarcasm  \n",
      "278  [CHANDLER, MONICA, PERSON]  FRIENDS    False  \n",
      "278    False\n",
      "Name: sarcasm, dtype: bool\n"
     ]
    },
    {
     "name": "stderr",
     "output_type": "stream",
     "text": [
      "\r"
     ]
    },
    {
     "name": "stdout",
     "output_type": "stream",
     "text": [
      "MoviePy - Writing audio in ./audio_extracted_no/278.mp3\n"
     ]
    },
    {
     "name": "stderr",
     "output_type": "stream",
     "text": [
      "                                                       "
     ]
    },
    {
     "name": "stdout",
     "output_type": "stream",
     "text": [
      "MoviePy - Done.\n",
      "                                              utterance speaker   \n",
      "2562  Look now, Phoebe remember, hey, their just ful...    JOEY  \\\n",
      "\n",
      "                                                context context_speakers   \n",
      "2562  [Hey. What, what are you doing here?, Well, I-...   [JOEY, PHOEBE]  \\\n",
      "\n",
      "         show  sarcasm  \n",
      "2562  FRIENDS    False  \n",
      "2562    False\n",
      "Name: sarcasm, dtype: bool\n"
     ]
    },
    {
     "name": "stderr",
     "output_type": "stream",
     "text": [
      "\r"
     ]
    },
    {
     "name": "stdout",
     "output_type": "stream",
     "text": [
      "MoviePy - Writing audio in ./audio_extracted_no/2562.mp3\n"
     ]
    },
    {
     "name": "stderr",
     "output_type": "stream",
     "text": [
      "                                                                  "
     ]
    },
    {
     "name": "stdout",
     "output_type": "stream",
     "text": [
      "MoviePy - Done.\n",
      "                   utterance   speaker   \n",
      "2204  Oh Oh, I am convinced!  CHANDLER  \\\n",
      "\n",
      "                                                context   \n",
      "2204  [What if you could keep the apartment and get ...  \\\n",
      "\n",
      "                                       context_speakers     show  sarcasm  \n",
      "2204  [RACHEL, JOEY, RACHEL, JOEY, PHOEBE, JOEY, MON...  FRIENDS     True  \n",
      "2204    True\n",
      "Name: sarcasm, dtype: bool\n"
     ]
    },
    {
     "name": "stderr",
     "output_type": "stream",
     "text": [
      "\r"
     ]
    },
    {
     "name": "stdout",
     "output_type": "stream",
     "text": [
      "MoviePy - Writing audio in ./audio_extracted_yes/2204.mp3\n"
     ]
    },
    {
     "name": "stderr",
     "output_type": "stream",
     "text": [
      "                                                        "
     ]
    },
    {
     "name": "stdout",
     "output_type": "stream",
     "text": [
      "MoviePy - Done.\n",
      "                      utterance speaker   \n",
      "2210  When are you coming home?  PERSON  \\\n",
      "\n",
      "                                                context   \n",
      "2210  [Well, the biggest news is still you dumping B...  \\\n",
      "\n",
      "              context_speakers     show  sarcasm  \n",
      "2210  [PERSON, PERSON, RACHEL]  FRIENDS    False  \n",
      "2210    False\n",
      "Name: sarcasm, dtype: bool\n"
     ]
    },
    {
     "name": "stderr",
     "output_type": "stream",
     "text": [
      "\r"
     ]
    },
    {
     "name": "stdout",
     "output_type": "stream",
     "text": [
      "MoviePy - Writing audio in ./audio_extracted_no/2210.mp3\n"
     ]
    },
    {
     "name": "stderr",
     "output_type": "stream",
     "text": [
      "                                                       "
     ]
    },
    {
     "name": "stdout",
     "output_type": "stream",
     "text": [
      "MoviePy - Done.\n",
      "                                         utterance speaker   \n",
      "2576  And then for forgetting to invite you to it.  PHOEBE  \\\n",
      "\n",
      "                                                context   \n",
      "2576  [Oh Monica, we are so sorry., For what?, Well ...  \\\n",
      "\n",
      "              context_speakers     show  sarcasm  \n",
      "2576  [RACHEL, MONICA, RACHEL]  FRIENDS    False  \n",
      "2576    False\n",
      "Name: sarcasm, dtype: bool\n"
     ]
    },
    {
     "name": "stderr",
     "output_type": "stream",
     "text": [
      "\r"
     ]
    },
    {
     "name": "stdout",
     "output_type": "stream",
     "text": [
      "MoviePy - Writing audio in ./audio_extracted_no/2576.mp3\n"
     ]
    },
    {
     "name": "stderr",
     "output_type": "stream",
     "text": [
      "                                                       "
     ]
    },
    {
     "name": "stdout",
     "output_type": "stream",
     "text": [
      "MoviePy - Done.\n",
      "                                               utterance  speaker   \n",
      "11722  My aunt Marion gave them to me for my 12th bir...  SHELDON  \\\n",
      "\n",
      "                                                 context   \n",
      "11722  [What are you doing here?, Hang on. 130 over 8...  \\\n",
      "\n",
      "                         context_speakers show  sarcasm  \n",
      "11722  [PERSON, SHELDON, SHELDON, PERSON]  BBT    False  \n",
      "11722    False\n",
      "Name: sarcasm, dtype: bool\n"
     ]
    },
    {
     "name": "stderr",
     "output_type": "stream",
     "text": [
      "\r"
     ]
    },
    {
     "name": "stdout",
     "output_type": "stream",
     "text": [
      "MoviePy - Writing audio in ./audio_extracted_no/11722.mp3\n"
     ]
    },
    {
     "name": "stderr",
     "output_type": "stream",
     "text": [
      "                                                       "
     ]
    },
    {
     "name": "stdout",
     "output_type": "stream",
     "text": [
      "MoviePy - Done.\n",
      "                                               utterance  speaker   \n",
      "16065  Frankly, Mom, I'm encouraged to see how advanc...  SHELDON  \\\n",
      "\n",
      "                                                 context   \n",
      "16065  [All-you-can-eat Last Supper Buffet. \\nAnd my ...  \\\n",
      "\n",
      "                        context_speakers show  sarcasm  \n",
      "16065  [PERSON, LEONARD, PERSON, PERSON]  BBT     True  \n",
      "16065    True\n",
      "Name: sarcasm, dtype: bool\n"
     ]
    },
    {
     "name": "stderr",
     "output_type": "stream",
     "text": [
      "\r"
     ]
    },
    {
     "name": "stdout",
     "output_type": "stream",
     "text": [
      "MoviePy - Writing audio in ./audio_extracted_yes/16065.mp3\n"
     ]
    },
    {
     "name": "stderr",
     "output_type": "stream",
     "text": [
      "                                                                  "
     ]
    },
    {
     "name": "stdout",
     "output_type": "stream",
     "text": [
      "MoviePy - Done.\n",
      "                                              utterance   speaker   \n",
      "2589  Well why don't you check in one of my saddle b...  CHANDLER  \\\n",
      "\n",
      "                                                context   \n",
      "2589  [I am sorry I think I can walk the rest of the...  \\\n",
      "\n",
      "                context_speakers     show  sarcasm  \n",
      "2589  [MONICA, CHANDLER, MONICA]  FRIENDS     True  \n",
      "2589    True\n",
      "Name: sarcasm, dtype: bool\n"
     ]
    },
    {
     "name": "stderr",
     "output_type": "stream",
     "text": [
      "\r"
     ]
    },
    {
     "name": "stdout",
     "output_type": "stream",
     "text": [
      "MoviePy - Writing audio in ./audio_extracted_yes/2589.mp3\n"
     ]
    },
    {
     "name": "stderr",
     "output_type": "stream",
     "text": [
      "                                                                  "
     ]
    },
    {
     "name": "stdout",
     "output_type": "stream",
     "text": [
      "MoviePy - Done.\n",
      "                       utterance speaker   \n",
      "2588  I talk to you and nothin'.    JOEY  \\\n",
      "\n",
      "                                                context context_speakers   \n",
      "2588  [Well, why don't you tell me what you're suppo...           [JOEY]  \\\n",
      "\n",
      "         show  sarcasm  \n",
      "2588  FRIENDS    False  \n",
      "2588    False\n",
      "Name: sarcasm, dtype: bool\n"
     ]
    },
    {
     "name": "stderr",
     "output_type": "stream",
     "text": [
      "\r"
     ]
    },
    {
     "name": "stdout",
     "output_type": "stream",
     "text": [
      "MoviePy - Writing audio in ./audio_extracted_no/2588.mp3\n"
     ]
    },
    {
     "name": "stderr",
     "output_type": "stream",
     "text": [
      "                                                       "
     ]
    },
    {
     "name": "stdout",
     "output_type": "stream",
     "text": [
      "MoviePy - Done.\n",
      "                                               utterance  speaker   \n",
      "12216  Excuse me, but what about me? Why don't I get ...  LEONARD  \\\n",
      "\n",
      "                                                 context   \n",
      "12216  [Unlike you, I can actually talk to women when...  \\\n",
      "\n",
      "            context_speakers show  sarcasm  \n",
      "12216  [HOWARD, RAJ, HOWARD]  BBT    False  \n",
      "12216    False\n",
      "Name: sarcasm, dtype: bool\n"
     ]
    },
    {
     "name": "stderr",
     "output_type": "stream",
     "text": [
      "\r"
     ]
    },
    {
     "name": "stdout",
     "output_type": "stream",
     "text": [
      "MoviePy - Writing audio in ./audio_extracted_no/12216.mp3\n"
     ]
    },
    {
     "name": "stderr",
     "output_type": "stream",
     "text": [
      "                                                       "
     ]
    },
    {
     "name": "stdout",
     "output_type": "stream",
     "text": [
      "MoviePy - Done.\n",
      "                                              utterance speaker   \n",
      "2577  On the other hand in um, in about seven months...    ROSS  \\\n",
      "\n",
      "                                                context context_speakers   \n",
      "2577  [It's one more thing in my life that's suddenl...   [RACHEL, ROSS]  \\\n",
      "\n",
      "         show  sarcasm  \n",
      "2577  FRIENDS    False  \n",
      "2577    False\n",
      "Name: sarcasm, dtype: bool\n"
     ]
    },
    {
     "name": "stderr",
     "output_type": "stream",
     "text": [
      "\r"
     ]
    },
    {
     "name": "stdout",
     "output_type": "stream",
     "text": [
      "MoviePy - Writing audio in ./audio_extracted_no/2577.mp3\n"
     ]
    },
    {
     "name": "stderr",
     "output_type": "stream",
     "text": [
      "                                                                    \r"
     ]
    },
    {
     "name": "stdout",
     "output_type": "stream",
     "text": [
      "MoviePy - Done.\n",
      "                                utterance speaker   \n",
      "2205  I did not mean to touch that,I mean  RACHEL  \\\n",
      "\n",
      "                                                context context_speakers   \n",
      "2205  [Okay, well then how about a handshake? Oh God...         [RACHEL]  \\\n",
      "\n",
      "         show  sarcasm  \n",
      "2205  FRIENDS    False  \n",
      "2205    False\n",
      "Name: sarcasm, dtype: bool\n",
      "MoviePy - Writing audio in ./audio_extracted_no/2205.mp3\n"
     ]
    },
    {
     "name": "stderr",
     "output_type": "stream",
     "text": [
      "                                                       "
     ]
    },
    {
     "name": "stdout",
     "output_type": "stream",
     "text": [
      "MoviePy - Done.\n",
      "                                             utterance speaker   \n",
      "279  I'm just gonna throw it out, it's probably jus...  RACHEL  \\\n",
      "\n",
      "                                               context   \n",
      "279  [Oh, great. Although I did sit down where ther...  \\\n",
      "\n",
      "             context_speakers     show  sarcasm  \n",
      "279  [RACHEL, MONICA, RACHEL]  FRIENDS    False  \n",
      "279    False\n",
      "Name: sarcasm, dtype: bool\n"
     ]
    },
    {
     "name": "stderr",
     "output_type": "stream",
     "text": [
      "\r"
     ]
    },
    {
     "name": "stdout",
     "output_type": "stream",
     "text": [
      "MoviePy - Writing audio in ./audio_extracted_no/279.mp3\n"
     ]
    },
    {
     "name": "stderr",
     "output_type": "stream",
     "text": [
      "                                                       "
     ]
    },
    {
     "name": "stdout",
     "output_type": "stream",
     "text": [
      "MoviePy - Done.\n",
      "                                             utterance  speaker   \n",
      "245  Oh ma no, it was a little girl selling girl sc...  DOROTHY  \\\n",
      "\n",
      "                                context   context_speakers         show   \n",
      "245  [Oh fine we will!, Is that Paolo?]  [DOROTHY, SOPHIA]  GOLDENGIRLS  \\\n",
      "\n",
      "     sarcasm  \n",
      "245     True  \n",
      "245    True\n",
      "Name: sarcasm, dtype: bool\n"
     ]
    },
    {
     "name": "stderr",
     "output_type": "stream",
     "text": [
      "\r"
     ]
    },
    {
     "name": "stdout",
     "output_type": "stream",
     "text": [
      "MoviePy - Writing audio in ./audio_extracted_yes/245.mp3\n"
     ]
    },
    {
     "name": "stderr",
     "output_type": "stream",
     "text": [
      "                                                        "
     ]
    },
    {
     "name": "stdout",
     "output_type": "stream",
     "text": [
      "MoviePy - Done.\n",
      "                                             utterance   speaker   \n",
      "251  Well, I believe the piece of furniture was fin...  CHANDLER  \\\n",
      "\n",
      "                                               context   \n",
      "251  [That's the rule., What rule? There's no rule,...  \\\n",
      "\n",
      "           context_speakers     show  sarcasm  \n",
      "251  [JOEY, CHANDLER, JOEY]  FRIENDS    False  \n",
      "251    False\n",
      "Name: sarcasm, dtype: bool\n"
     ]
    },
    {
     "name": "stderr",
     "output_type": "stream",
     "text": [
      "\r"
     ]
    },
    {
     "name": "stdout",
     "output_type": "stream",
     "text": [
      "MoviePy - Writing audio in ./audio_extracted_no/251.mp3\n"
     ]
    },
    {
     "name": "stderr",
     "output_type": "stream",
     "text": [
      "                                                       "
     ]
    },
    {
     "name": "stdout",
     "output_type": "stream",
     "text": [
      "MoviePy - Done.\n",
      "              utterance   speaker   \n",
      "286  Great! Okay, here.  CHANDLER  \\\n",
      "\n",
      "                                               context   \n",
      "286  [See, if I am not buried with that ring then m...  \\\n",
      "\n",
      "               context_speakers     show  sarcasm  \n",
      "286  [PHOEBE, CHANDLER, PERSON]  FRIENDS    False  \n",
      "286    False\n",
      "Name: sarcasm, dtype: bool\n"
     ]
    },
    {
     "name": "stderr",
     "output_type": "stream",
     "text": [
      "\r"
     ]
    },
    {
     "name": "stdout",
     "output_type": "stream",
     "text": [
      "MoviePy - Writing audio in ./audio_extracted_no/286.mp3\n"
     ]
    },
    {
     "name": "stderr",
     "output_type": "stream",
     "text": [
      "                                                       "
     ]
    },
    {
     "name": "stdout",
     "output_type": "stream",
     "text": [
      "MoviePy - Done.\n",
      "                                               utterance speaker   \n",
      "18505  A lane frequented by liars. Like you, you big ...     RAJ  \\\n",
      "\n",
      "                                                 context   \n",
      "18505  [I just Googled \"foo-foo little dogs.\", (Skype...  \\\n",
      "\n",
      "                            context_speakers show  sarcasm  \n",
      "18505  [HOWARD, HOWARD, HOWARD, RAJ, HOWARD]  BBT    False  \n",
      "18505    False\n",
      "Name: sarcasm, dtype: bool\n"
     ]
    },
    {
     "name": "stderr",
     "output_type": "stream",
     "text": [
      "\r"
     ]
    },
    {
     "name": "stdout",
     "output_type": "stream",
     "text": [
      "MoviePy - Writing audio in ./audio_extracted_no/18505.mp3\n"
     ]
    },
    {
     "name": "stderr",
     "output_type": "stream",
     "text": [
      "                                                       "
     ]
    },
    {
     "name": "stdout",
     "output_type": "stream",
     "text": [
      "MoviePy - Done.\n",
      "                                             utterance   speaker   \n",
      "292  No, no, I am just looking for a man to draw on...  CHANDLER  \\\n",
      "\n",
      "                                               context  context_speakers   \n",
      "292  [Anybody know a good tailor?, You needs some c...  [CHANDLER, JOEY]  \\\n",
      "\n",
      "        show  sarcasm  \n",
      "292  FRIENDS     True  \n",
      "292    True\n",
      "Name: sarcasm, dtype: bool\n"
     ]
    },
    {
     "name": "stderr",
     "output_type": "stream",
     "text": [
      "\r"
     ]
    },
    {
     "name": "stdout",
     "output_type": "stream",
     "text": [
      "MoviePy - Writing audio in ./audio_extracted_yes/292.mp3\n"
     ]
    },
    {
     "name": "stderr",
     "output_type": "stream",
     "text": [
      "                                                       "
     ]
    },
    {
     "name": "stdout",
     "output_type": "stream",
     "text": [
      "MoviePy - Done.\n",
      "                                                utterance speaker   \n",
      "111006  Maybe it's a good thing we came here. It's lik...   PENNY  \\\n",
      "\n",
      "                                                  context   \n",
      "111006  [Well, if I do well in sales, I could end up m...  \\\n",
      "\n",
      "                             context_speakers show  sarcasm  \n",
      "111006  [PENNY, LEONARD, LEONARD, BERNADETTE]  BBT     True  \n",
      "111006    True\n",
      "Name: sarcasm, dtype: bool\n"
     ]
    },
    {
     "name": "stderr",
     "output_type": "stream",
     "text": [
      "\r"
     ]
    },
    {
     "name": "stdout",
     "output_type": "stream",
     "text": [
      "MoviePy - Writing audio in ./audio_extracted_yes/111006.mp3\n"
     ]
    },
    {
     "name": "stderr",
     "output_type": "stream",
     "text": [
      "                                                       "
     ]
    },
    {
     "name": "stdout",
     "output_type": "stream",
     "text": [
      "MoviePy - Done.\n",
      "               utterance speaker   \n",
      "2198  Yeah, she's fired.    ROSS  \\\n",
      "\n",
      "                                                context   \n",
      "2198  [Was it my work? Were they mad? Was it Jack? D...  \\\n",
      "\n",
      "            context_speakers     show  sarcasm  \n",
      "2198  [PHOEBE, ROSS, PHOEBE]  FRIENDS    False  \n",
      "2198    False\n",
      "Name: sarcasm, dtype: bool\n"
     ]
    },
    {
     "name": "stderr",
     "output_type": "stream",
     "text": [
      "\r"
     ]
    },
    {
     "name": "stdout",
     "output_type": "stream",
     "text": [
      "MoviePy - Writing audio in ./audio_extracted_no/2198.mp3\n"
     ]
    },
    {
     "name": "stderr",
     "output_type": "stream",
     "text": [
      "                                                       "
     ]
    },
    {
     "name": "stdout",
     "output_type": "stream",
     "text": [
      "MoviePy - Done.\n",
      "                                               utterance speaker   \n",
      "15169  I'm not saying that you're not fun. You're the...     AMY  \\\n",
      "\n",
      "                                                 context   \n",
      "15169  [Your flaring nostrils indicate otherwise., Cl...  \\\n",
      "\n",
      "                            context_speakers show  sarcasm  \n",
      "15169  [AMY, SHELDON, AMY, SHELDON, SHELDON]  BBT    False  \n",
      "15169    False\n",
      "Name: sarcasm, dtype: bool\n"
     ]
    },
    {
     "name": "stderr",
     "output_type": "stream",
     "text": [
      "\r"
     ]
    },
    {
     "name": "stdout",
     "output_type": "stream",
     "text": [
      "MoviePy - Writing audio in ./audio_extracted_no/15169.mp3\n"
     ]
    },
    {
     "name": "stderr",
     "output_type": "stream",
     "text": [
      "                                                                  "
     ]
    },
    {
     "name": "stdout",
     "output_type": "stream",
     "text": [
      "MoviePy - Done.\n",
      "                                               utterance  speaker   \n",
      "19009  - No, no, no. I'm really good at this. All rig...  SHELDON  \\\n",
      "\n",
      "                                                 context   \n",
      "19009  [Dr. Jeffries, hello again. Leonard Hofstadter...  \\\n",
      "\n",
      "                                        context_speakers show  sarcasm  \n",
      "19009  [LEONARD, PERSON, PERSON, LEONARD, SHELDON, LE...  BBT    False  \n",
      "19009    False\n",
      "Name: sarcasm, dtype: bool\n"
     ]
    },
    {
     "name": "stderr",
     "output_type": "stream",
     "text": [
      "\r"
     ]
    },
    {
     "name": "stdout",
     "output_type": "stream",
     "text": [
      "MoviePy - Writing audio in ./audio_extracted_no/19009.mp3\n"
     ]
    },
    {
     "name": "stderr",
     "output_type": "stream",
     "text": [
      "                                                                  "
     ]
    },
    {
     "name": "stdout",
     "output_type": "stream",
     "text": [
      "MoviePy - Done.\n",
      "                                              utterance   speaker   \n",
      "2167  I am not freaking out, why would I be freaking...  CHANDLER  \\\n",
      "\n",
      "                                         context context_speakers     show   \n",
      "2167  [I am so sorry, please stop freaking out.]         [MONICA]  FRIENDS  \\\n",
      "\n",
      "      sarcasm  \n",
      "2167     True  \n",
      "2167    True\n",
      "Name: sarcasm, dtype: bool\n"
     ]
    },
    {
     "name": "stderr",
     "output_type": "stream",
     "text": [
      "\r"
     ]
    },
    {
     "name": "stdout",
     "output_type": "stream",
     "text": [
      "MoviePy - Writing audio in ./audio_extracted_yes/2167.mp3\n"
     ]
    },
    {
     "name": "stderr",
     "output_type": "stream",
     "text": [
      "                                                                    "
     ]
    },
    {
     "name": "stdout",
     "output_type": "stream",
     "text": [
      "MoviePy - Done.\n",
      "                                     utterance speaker   \n",
      "2173  We- we had our first fight this morning.    ROSS  \\\n",
      "\n",
      "                                                context context_speakers   \n",
      "2173  [Do you always have to bring him here?, I didn...   [MONICA, ROSS]  \\\n",
      "\n",
      "         show  sarcasm  \n",
      "2173  FRIENDS    False  \n",
      "2173    False\n",
      "Name: sarcasm, dtype: bool\n"
     ]
    },
    {
     "name": "stderr",
     "output_type": "stream",
     "text": [
      "\r"
     ]
    },
    {
     "name": "stdout",
     "output_type": "stream",
     "text": [
      "MoviePy - Writing audio in ./audio_extracted_no/2173.mp3\n"
     ]
    },
    {
     "name": "stderr",
     "output_type": "stream",
     "text": [
      "                                                       "
     ]
    },
    {
     "name": "stdout",
     "output_type": "stream",
     "text": [
      "MoviePy - Done.\n",
      "                                                utterance speaker   \n",
      "110495  And if it turns out you don't... - you and I c...     AMY  \\\n",
      "\n",
      "                                                  context   \n",
      "110495  [Ugh! It's like walking into the Amazon.\\nAnd ...  \\\n",
      "\n",
      "                             context_speakers show  sarcasm  \n",
      "110495  [SHELDON, AMY, SHELDON, AMY, SHELDON]  BBT     True  \n",
      "110495    True\n",
      "Name: sarcasm, dtype: bool\n"
     ]
    },
    {
     "name": "stderr",
     "output_type": "stream",
     "text": [
      "\r"
     ]
    },
    {
     "name": "stdout",
     "output_type": "stream",
     "text": [
      "MoviePy - Writing audio in ./audio_extracted_yes/110495.mp3\n"
     ]
    },
    {
     "name": "stderr",
     "output_type": "stream",
     "text": [
      "                                                                  "
     ]
    },
    {
     "name": "stdout",
     "output_type": "stream",
     "text": [
      "MoviePy - Done.\n",
      "                                              utterance speaker   \n",
      "2615  Hi, Joey. Well well, look what you brought. Ve...  PERSON  \\\n",
      "\n",
      "                                                context context_speakers   \n",
      "2615  [Oh, uh, I... don't... care. Ok, now, remember...       [CHANDLER]  \\\n",
      "\n",
      "         show  sarcasm  \n",
      "2615  FRIENDS    False  \n",
      "2615    False\n",
      "Name: sarcasm, dtype: bool\n"
     ]
    },
    {
     "name": "stderr",
     "output_type": "stream",
     "text": [
      "\r"
     ]
    },
    {
     "name": "stdout",
     "output_type": "stream",
     "text": [
      "MoviePy - Writing audio in ./audio_extracted_no/2615.mp3\n"
     ]
    },
    {
     "name": "stderr",
     "output_type": "stream",
     "text": [
      "                                                                  "
     ]
    },
    {
     "name": "stdout",
     "output_type": "stream",
     "text": [
      "MoviePy - Done.\n",
      "                                               utterance speaker   \n",
      "13256  I'm sorry, fiddling with yourself in the batht...  PERSON  \\\n",
      "\n",
      "                                                 context   \n",
      "13256  [So nice you could join me this evening., You'...  \\\n",
      "\n",
      "                       context_speakers show  sarcasm  \n",
      "13256  [HOWARD, HOWARD, PERSON, HOWARD]  BBT     True  \n",
      "13256    True\n",
      "Name: sarcasm, dtype: bool\n"
     ]
    },
    {
     "name": "stderr",
     "output_type": "stream",
     "text": [
      "\r"
     ]
    },
    {
     "name": "stdout",
     "output_type": "stream",
     "text": [
      "MoviePy - Writing audio in ./audio_extracted_yes/13256.mp3\n"
     ]
    },
    {
     "name": "stderr",
     "output_type": "stream",
     "text": [
      "                                                                    "
     ]
    },
    {
     "name": "stdout",
     "output_type": "stream",
     "text": [
      "MoviePy - Done.\n",
      "                                               utterance speaker   \n",
      "15627  Your girlfriend and your ex-girlfriend are han...     RAJ  \\\n",
      "\n",
      "                                                 context   \n",
      "15627  [You mean when he was little., Not as little a...  \\\n",
      "\n",
      "                                   context_speakers show  sarcasm  \n",
      "15627  [PENNY, PERSON, PENNY, PERSON, LEONARD, RAJ]  BBT     True  \n",
      "15627    True\n",
      "Name: sarcasm, dtype: bool\n"
     ]
    },
    {
     "name": "stderr",
     "output_type": "stream",
     "text": [
      "\r"
     ]
    },
    {
     "name": "stdout",
     "output_type": "stream",
     "text": [
      "MoviePy - Writing audio in ./audio_extracted_yes/15627.mp3\n"
     ]
    },
    {
     "name": "stderr",
     "output_type": "stream",
     "text": [
      "                                                        \r"
     ]
    },
    {
     "name": "stdout",
     "output_type": "stream",
     "text": [
      "MoviePy - Done.\n",
      "                                              utterance   speaker     context   \n",
      "2359  You know once you are inside, you don't have t...  CHANDLER  [Hey, Hey]  \\\n",
      "\n",
      "      context_speakers     show  sarcasm  \n",
      "2359  [JOEY, CHANDLER]  FRIENDS     True  \n",
      "2359    True\n",
      "Name: sarcasm, dtype: bool\n",
      "MoviePy - Writing audio in ./audio_extracted_yes/2359.mp3\n"
     ]
    },
    {
     "name": "stderr",
     "output_type": "stream",
     "text": [
      "                                                                  "
     ]
    },
    {
     "name": "stdout",
     "output_type": "stream",
     "text": [
      "MoviePy - Done.\n",
      "                           utterance speaker   \n",
      "2365  Nope. Op, wait! There he goes.    JOEY  \\\n",
      "\n",
      "                                                context context_speakers   \n",
      "2365  [And you can see me! Same as yesterday, same a...   [JOEY, MONICA]  \\\n",
      "\n",
      "         show  sarcasm  \n",
      "2365  FRIENDS    False  \n",
      "2365    False\n",
      "Name: sarcasm, dtype: bool\n"
     ]
    },
    {
     "name": "stderr",
     "output_type": "stream",
     "text": [
      "\r"
     ]
    },
    {
     "name": "stdout",
     "output_type": "stream",
     "text": [
      "MoviePy - Writing audio in ./audio_extracted_no/2365.mp3\n"
     ]
    },
    {
     "name": "stderr",
     "output_type": "stream",
     "text": [
      "                                                       "
     ]
    },
    {
     "name": "stdout",
     "output_type": "stream",
     "text": [
      "MoviePy - Done.\n",
      "                                 utterance speaker   \n",
      "2371  I-I'm really sorry. It's just that I    ROSS  \\\n",
      "\n",
      "                                                context context_speakers   \n",
      "2371  [Hi umm, listen come here, come in. I'm so-so ...           [ROSS]  \\\n",
      "\n",
      "         show  sarcasm  \n",
      "2371  FRIENDS    False  \n",
      "2371    False\n",
      "Name: sarcasm, dtype: bool\n"
     ]
    },
    {
     "name": "stderr",
     "output_type": "stream",
     "text": [
      "\r"
     ]
    },
    {
     "name": "stdout",
     "output_type": "stream",
     "text": [
      "MoviePy - Writing audio in ./audio_extracted_no/2371.mp3\n"
     ]
    },
    {
     "name": "stderr",
     "output_type": "stream",
     "text": [
      "                                                       "
     ]
    },
    {
     "name": "stdout",
     "output_type": "stream",
     "text": [
      "MoviePy - Done.\n",
      "                                               utterance  speaker   \n",
      "14760  In the bedrooms of ten-year- old girls, where ...  SHELDON  \\\n",
      "\n",
      "                                                 context  context_speakers   \n",
      "14760  [Wow, this place is awesome., Where do they ke...  [PERSON, PERSON]  \\\n",
      "\n",
      "      show  sarcasm  \n",
      "14760  BBT     True  \n",
      "14760    True\n",
      "Name: sarcasm, dtype: bool\n"
     ]
    },
    {
     "name": "stderr",
     "output_type": "stream",
     "text": [
      "\r"
     ]
    },
    {
     "name": "stdout",
     "output_type": "stream",
     "text": [
      "MoviePy - Writing audio in ./audio_extracted_yes/14760.mp3\n"
     ]
    },
    {
     "name": "stderr",
     "output_type": "stream",
     "text": [
      "                                                                  "
     ]
    },
    {
     "name": "stdout",
     "output_type": "stream",
     "text": [
      "MoviePy - Done.\n",
      "                 utterance speaker   \n",
      "2458  What are you up too?  MONICA  \\\n",
      "\n",
      "                                                context context_speakers   \n",
      "2458  [Yeah! And also, a little like a French guy. I...           [JOEY]  \\\n",
      "\n",
      "         show  sarcasm  \n",
      "2458  FRIENDS    False  \n",
      "2458    False\n",
      "Name: sarcasm, dtype: bool\n"
     ]
    },
    {
     "name": "stderr",
     "output_type": "stream",
     "text": [
      "\r"
     ]
    },
    {
     "name": "stdout",
     "output_type": "stream",
     "text": [
      "MoviePy - Writing audio in ./audio_extracted_no/2458.mp3\n"
     ]
    },
    {
     "name": "stderr",
     "output_type": "stream",
     "text": [
      "                                                       "
     ]
    },
    {
     "name": "stdout",
     "output_type": "stream",
     "text": [
      "MoviePy - Done.\n",
      "            utterance speaker   \n",
      "2316  Yeah, I'm fine.  RACHEL  \\\n",
      "\n",
      "                                                context   \n",
      "2316  [Hi. Well, look, I was just gonna leave a mess...  \\\n",
      "\n",
      "              context_speakers     show  sarcasm  \n",
      "2316  [PERSON, RACHEL, PERSON]  FRIENDS    False  \n",
      "2316    False\n",
      "Name: sarcasm, dtype: bool\n"
     ]
    },
    {
     "name": "stderr",
     "output_type": "stream",
     "text": [
      "\r"
     ]
    },
    {
     "name": "stdout",
     "output_type": "stream",
     "text": [
      "MoviePy - Writing audio in ./audio_extracted_no/2316.mp3\n"
     ]
    },
    {
     "name": "stderr",
     "output_type": "stream",
     "text": [
      "                                                       "
     ]
    },
    {
     "name": "stdout",
     "output_type": "stream",
     "text": [
      "MoviePy - Done.\n",
      "                                              utterance speaker   \n",
      "2302  I know but it's so hard! Nothing rhymes with y...  PHOEBE  \\\n",
      "\n",
      "                                                context   \n",
      "2302  [Pheebs, that's great!, Oh, yay!, But y'know u...  \\\n",
      "\n",
      "              context_speakers     show  sarcasm  \n",
      "2302  [RACHEL, PHOEBE, RACHEL]  FRIENDS    False  \n",
      "2302    False\n",
      "Name: sarcasm, dtype: bool\n"
     ]
    },
    {
     "name": "stderr",
     "output_type": "stream",
     "text": [
      "\r"
     ]
    },
    {
     "name": "stdout",
     "output_type": "stream",
     "text": [
      "MoviePy - Writing audio in ./audio_extracted_no/2302.mp3\n"
     ]
    },
    {
     "name": "stderr",
     "output_type": "stream",
     "text": [
      "                                                                 "
     ]
    },
    {
     "name": "stdout",
     "output_type": "stream",
     "text": [
      "MoviePy - Done.\n",
      "                                  utterance   speaker   \n",
      "2464  Oh, uh, no thanks. I just had an M&M.  CHANDLER  \\\n",
      "\n",
      "                                                context context_speakers   \n",
      "2464  [Hey, you guys the water is great. You should ...         [PERSON]  \\\n",
      "\n",
      "         show  sarcasm  \n",
      "2464  FRIENDS     True  \n",
      "2464    True\n",
      "Name: sarcasm, dtype: bool\n"
     ]
    },
    {
     "name": "stderr",
     "output_type": "stream",
     "text": [
      "\r"
     ]
    },
    {
     "name": "stdout",
     "output_type": "stream",
     "text": [
      "MoviePy - Writing audio in ./audio_extracted_yes/2464.mp3\n"
     ]
    },
    {
     "name": "stderr",
     "output_type": "stream",
     "text": [
      "                                                       "
     ]
    },
    {
     "name": "stdout",
     "output_type": "stream",
     "text": [
      "MoviePy - Done.\n",
      "                                               utterance  speaker   \n",
      "11803  - Maybe I heard you wrong. A lot of words soun...  LEONARD  \\\n",
      "\n",
      "                                                 context   \n",
      "11803  [Leonard. Come, join us., Hey, Dave.\\nAnd Penn...  \\\n",
      "\n",
      "                        context_speakers show  sarcasm  \n",
      "11803  [PERSON, LEONARD, PENNY, LEONARD]  BBT     True  \n",
      "11803    True\n",
      "Name: sarcasm, dtype: bool\n"
     ]
    },
    {
     "name": "stderr",
     "output_type": "stream",
     "text": [
      "\r"
     ]
    },
    {
     "name": "stdout",
     "output_type": "stream",
     "text": [
      "MoviePy - Writing audio in ./audio_extracted_yes/11803.mp3\n"
     ]
    },
    {
     "name": "stderr",
     "output_type": "stream",
     "text": [
      "                                                                  "
     ]
    },
    {
     "name": "stdout",
     "output_type": "stream",
     "text": [
      "MoviePy - Done.\n",
      "                                               utterance speaker   \n",
      "18827  How do you not tear off his clothes and take h...   PENNY  \\\n",
      "\n",
      "                                                 context   \n",
      "18827  [Awkward silence. Sheldon on his phone.\\nNo to...  \\\n",
      "\n",
      "            context_speakers show  sarcasm  \n",
      "18827  [PENNY, AMY, SHELDON]  BBT     True  \n",
      "18827    True\n",
      "Name: sarcasm, dtype: bool\n"
     ]
    },
    {
     "name": "stderr",
     "output_type": "stream",
     "text": [
      "\r"
     ]
    },
    {
     "name": "stdout",
     "output_type": "stream",
     "text": [
      "MoviePy - Writing audio in ./audio_extracted_yes/18827.mp3\n"
     ]
    },
    {
     "name": "stderr",
     "output_type": "stream",
     "text": [
      "                                                                  "
     ]
    },
    {
     "name": "stdout",
     "output_type": "stream",
     "text": [
      "MoviePy - Done.\n",
      "                                       utterance speaker   \n",
      "16188  Oh, my God, that's where I know you from.   PENNY  \\\n",
      "\n",
      "                                                 context   \n",
      "16188  [Yeah, sure, come on in., Thanks., Want some m...  \\\n",
      "\n",
      "                                        context_speakers show  sarcasm  \n",
      "16188  [PENNY, LEONARD, PENNY, LEONARD, PENNY, LEONAR...  BBT     True  \n",
      "16188    True\n",
      "Name: sarcasm, dtype: bool\n"
     ]
    },
    {
     "name": "stderr",
     "output_type": "stream",
     "text": [
      "\r"
     ]
    },
    {
     "name": "stdout",
     "output_type": "stream",
     "text": [
      "MoviePy - Writing audio in ./audio_extracted_yes/16188.mp3\n"
     ]
    },
    {
     "name": "stderr",
     "output_type": "stream",
     "text": [
      "                                                       "
     ]
    },
    {
     "name": "stdout",
     "output_type": "stream",
     "text": [
      "MoviePy - Done.\n",
      "                        utterance   speaker   \n",
      "2128  You building a post office?  CHANDLER  \\\n",
      "\n",
      "                                                context context_speakers   \n",
      "2128  [Hey, we know how we always say we need a plac...           [JOEY]  \\\n",
      "\n",
      "         show  sarcasm  \n",
      "2128  FRIENDS     True  \n",
      "2128    True\n",
      "Name: sarcasm, dtype: bool\n"
     ]
    },
    {
     "name": "stderr",
     "output_type": "stream",
     "text": [
      "\r"
     ]
    },
    {
     "name": "stdout",
     "output_type": "stream",
     "text": [
      "MoviePy - Writing audio in ./audio_extracted_yes/2128.mp3\n"
     ]
    },
    {
     "name": "stderr",
     "output_type": "stream",
     "text": [
      "                                                       "
     ]
    },
    {
     "name": "stdout",
     "output_type": "stream",
     "text": [
      "MoviePy - Done.\n",
      "                                               utterance speaker   \n",
      "14576  Bernadette dared me to tell a dirty story. \"Th...     AMY  \\\n",
      "\n",
      "                                                 context context_speakers   \n",
      "14576  [\"And Absolon hath kist hir nether ye, \"and Ni...     [AMY, PENNY]  \\\n",
      "\n",
      "      show  sarcasm  \n",
      "14576  BBT    False  \n",
      "14576    False\n",
      "Name: sarcasm, dtype: bool\n"
     ]
    },
    {
     "name": "stderr",
     "output_type": "stream",
     "text": [
      "\r"
     ]
    },
    {
     "name": "stdout",
     "output_type": "stream",
     "text": [
      "MoviePy - Writing audio in ./audio_extracted_no/14576.mp3\n"
     ]
    },
    {
     "name": "stderr",
     "output_type": "stream",
     "text": [
      "                                                                    \r"
     ]
    },
    {
     "name": "stdout",
     "output_type": "stream",
     "text": [
      "MoviePy - Done.\n",
      "                                              utterance   speaker   \n",
      "2114  Spanish midgets wrestling Julie! Okay yes I se...  CHANDLER  \\\n",
      "\n",
      "                       context context_speakers     show  sarcasm  \n",
      "2114  [Man, I sure miss Julie]           [ROSS]  FRIENDS     True  \n",
      "2114    True\n",
      "Name: sarcasm, dtype: bool\n",
      "MoviePy - Writing audio in ./audio_extracted_yes/2114.mp3\n"
     ]
    },
    {
     "name": "stderr",
     "output_type": "stream",
     "text": [
      "                                                                    "
     ]
    },
    {
     "name": "stdout",
     "output_type": "stream",
     "text": [
      "MoviePy - Done.\n",
      "                                            utterance speaker   \n",
      "28  It's white plastic, with a handle, and it fits...    JOEY  \\\n",
      "\n",
      "                                              context  context_speakers   \n",
      "28  [I'm doing research for a book, and I was wond...  [CHANDLER, JOEY]  \\\n",
      "\n",
      "       show  sarcasm  \n",
      "28  FRIENDS    False  \n",
      "28    False\n",
      "Name: sarcasm, dtype: bool\n"
     ]
    },
    {
     "name": "stderr",
     "output_type": "stream",
     "text": [
      "\r"
     ]
    },
    {
     "name": "stdout",
     "output_type": "stream",
     "text": [
      "MoviePy - Writing audio in ./audio_extracted_no/28.mp3\n"
     ]
    },
    {
     "name": "stderr",
     "output_type": "stream",
     "text": [
      "                                                       "
     ]
    },
    {
     "name": "stdout",
     "output_type": "stream",
     "text": [
      "MoviePy - Done.\n",
      "                                               utterance  speaker   \n",
      "19668  People usually start a meeting with a joke, bu...  SHELDON  \\\n",
      "\n",
      "                                                 context   \n",
      "19668  [We'll come back to that one., This brings us ...  \\\n",
      "\n",
      "                        context_speakers show  sarcasm  \n",
      "19668  [AMY, AMY, SHELDON, SHELDON, AMY]  BBT    False  \n",
      "19668    False\n",
      "Name: sarcasm, dtype: bool\n"
     ]
    },
    {
     "name": "stderr",
     "output_type": "stream",
     "text": [
      "\r"
     ]
    },
    {
     "name": "stdout",
     "output_type": "stream",
     "text": [
      "MoviePy - Writing audio in ./audio_extracted_no/19668.mp3\n"
     ]
    },
    {
     "name": "stderr",
     "output_type": "stream",
     "text": [
      "                                                                   "
     ]
    },
    {
     "name": "stdout",
     "output_type": "stream",
     "text": [
      "MoviePy - Done.\n",
      "                                             utterance speaker   \n",
      "236  The big deal is I don't want naked, greasy str...    ROSS  \\\n",
      "\n",
      "                                               context   \n",
      "236  [Okay, well Ross, what is this really about?, ...  \\\n",
      "\n",
      "           context_speakers     show  sarcasm  \n",
      "236  [PHOEBE, ROSS, PHOEBE]  FRIENDS    False  \n",
      "236    False\n",
      "Name: sarcasm, dtype: bool\n"
     ]
    },
    {
     "name": "stderr",
     "output_type": "stream",
     "text": [
      "\r"
     ]
    },
    {
     "name": "stdout",
     "output_type": "stream",
     "text": [
      "MoviePy - Writing audio in ./audio_extracted_no/236.mp3\n"
     ]
    },
    {
     "name": "stderr",
     "output_type": "stream",
     "text": [
      "                                                                   "
     ]
    },
    {
     "name": "stdout",
     "output_type": "stream",
     "text": [
      "MoviePy - Done.\n",
      "                                   utterance speaker   \n",
      "2504  All right, okay, well, apparently not!  PHOEBE  \\\n",
      "\n",
      "                                                context context_speakers   \n",
      "2504  [So you like the drums! That's, that's great! ...         [PHOEBE]  \\\n",
      "\n",
      "         show  sarcasm  \n",
      "2504  FRIENDS     True  \n",
      "2504    True\n",
      "Name: sarcasm, dtype: bool\n"
     ]
    },
    {
     "name": "stderr",
     "output_type": "stream",
     "text": [
      "\r"
     ]
    },
    {
     "name": "stdout",
     "output_type": "stream",
     "text": [
      "MoviePy - Writing audio in ./audio_extracted_yes/2504.mp3\n"
     ]
    },
    {
     "name": "stderr",
     "output_type": "stream",
     "text": [
      "                                                       "
     ]
    },
    {
     "name": "stdout",
     "output_type": "stream",
     "text": [
      "MoviePy - Done.\n",
      "                                                utterance speaker   \n",
      "110009  Let the dead man talk. So, why do you think that?   PENNY  \\\n",
      "\n",
      "                                                  context   \n",
      "110009  [FYI, we plan on selling out the human race ha...  \\\n",
      "\n",
      "                                         context_speakers show  sarcasm  \n",
      "110009  [AMY, PENNY, PERSON, PENNY, PERSON, PENNY, AMY...  BBT    False  \n",
      "110009    False\n",
      "Name: sarcasm, dtype: bool\n"
     ]
    },
    {
     "name": "stderr",
     "output_type": "stream",
     "text": [
      "\r"
     ]
    },
    {
     "name": "stdout",
     "output_type": "stream",
     "text": [
      "MoviePy - Writing audio in ./audio_extracted_no/110009.mp3\n"
     ]
    },
    {
     "name": "stderr",
     "output_type": "stream",
     "text": [
      "                                                        \r"
     ]
    },
    {
     "name": "stdout",
     "output_type": "stream",
     "text": [
      "MoviePy - Done.\n",
      "                                              utterance speaker   \n",
      "2289  Nooo! No, that's not true. No, best time ever!...  MONICA  \\\n",
      "\n",
      "                                                context   \n",
      "2289  [Do you know what just happened?, Yeah. We-we ...  \\\n",
      "\n",
      "                  context_speakers     show  sarcasm  \n",
      "2289  [CHANDLER, MONICA, CHANDLER]  FRIENDS     True  \n",
      "2289    True\n",
      "Name: sarcasm, dtype: bool\n",
      "MoviePy - Writing audio in ./audio_extracted_yes/2289.mp3\n"
     ]
    },
    {
     "name": "stderr",
     "output_type": "stream",
     "text": [
      "                                                                  \r"
     ]
    },
    {
     "name": "stdout",
     "output_type": "stream",
     "text": [
      "MoviePy - Done.\n",
      "                                               utterance speaker   \n",
      "17490  It's okay, you know, we space cowboys don't do...  HOWARD  \\\n",
      "\n",
      "                                                 context   \n",
      "17490  [Yeah, well, Bernadette's a little under the w...  \\\n",
      "\n",
      "                 context_speakers show  sarcasm  \n",
      "17490  [HOWARD, RAJ, HOWARD, RAJ]  BBT    False  \n",
      "17490    False\n",
      "Name: sarcasm, dtype: bool\n",
      "MoviePy - Writing audio in ./audio_extracted_no/17490.mp3\n"
     ]
    },
    {
     "name": "stderr",
     "output_type": "stream",
     "text": [
      "                                                                    \r"
     ]
    },
    {
     "name": "stdout",
     "output_type": "stream",
     "text": [
      "MoviePy - Done.\n",
      "                                              utterance speaker   \n",
      "1410  Leonard, may I present, live from New Delhi, D...     RAJ  \\\n",
      "\n",
      "                                                context   \n",
      "1410  [Do you really need the Honorary Justice Leagu...  \\\n",
      "\n",
      "                                       context_speakers show  sarcasm  \n",
      "1410  [LEONARD, SHELDON, LEONARD, SHELDON, SHELDON, ...  BBT    False  \n",
      "1410    False\n",
      "Name: sarcasm, dtype: bool\n",
      "MoviePy - Writing audio in ./audio_extracted_no/1410.mp3\n"
     ]
    },
    {
     "name": "stderr",
     "output_type": "stream",
     "text": [
      "                                                                  "
     ]
    },
    {
     "name": "stdout",
     "output_type": "stream",
     "text": [
      "MoviePy - Done.\n",
      "                  utterance   speaker   \n",
      "2288  Maybe he was nervous.  CHANDLER  \\\n",
      "\n",
      "                                                context context_speakers   \n",
      "2288  [Whoa ostralopificus isn't supposed to be in t...           [ROSS]  \\\n",
      "\n",
      "         show  sarcasm  \n",
      "2288  FRIENDS     True  \n",
      "2288    True\n",
      "Name: sarcasm, dtype: bool\n"
     ]
    },
    {
     "name": "stderr",
     "output_type": "stream",
     "text": [
      "\r"
     ]
    },
    {
     "name": "stdout",
     "output_type": "stream",
     "text": [
      "MoviePy - Writing audio in ./audio_extracted_yes/2288.mp3\n"
     ]
    },
    {
     "name": "stderr",
     "output_type": "stream",
     "text": [
      "                                                       "
     ]
    },
    {
     "name": "stdout",
     "output_type": "stream",
     "text": [
      "MoviePy - Done.\n",
      "                                              utterance   speaker   \n",
      "2511  You said you spent all that money because thos...  CHANDLER  \\\n",
      "\n",
      "                                       context context_speakers     show   \n",
      "2511  [And the boots don't really go with it.]         [MONICA]  FRIENDS  \\\n",
      "\n",
      "      sarcasm  \n",
      "2511     True  \n",
      "2511    True\n",
      "Name: sarcasm, dtype: bool\n"
     ]
    },
    {
     "name": "stderr",
     "output_type": "stream",
     "text": [
      "\r"
     ]
    },
    {
     "name": "stdout",
     "output_type": "stream",
     "text": [
      "MoviePy - Writing audio in ./audio_extracted_yes/2511.mp3\n"
     ]
    },
    {
     "name": "stderr",
     "output_type": "stream",
     "text": [
      "                                                                    "
     ]
    },
    {
     "name": "stdout",
     "output_type": "stream",
     "text": [
      "MoviePy - Done.\n",
      "                  utterance  speaker   \n",
      "2505  To feed the cat Rose.  DOROTHY  \\\n",
      "\n",
      "                                                context   \n",
      "2505  [Your kidney?, My kidney., Why would she need ...  \\\n",
      "\n",
      "              context_speakers         show  sarcasm  \n",
      "2505  [DOROTHY, BLANCHE, ROSE]  GOLDENGIRLS     True  \n",
      "2505    True\n",
      "Name: sarcasm, dtype: bool\n"
     ]
    },
    {
     "name": "stderr",
     "output_type": "stream",
     "text": [
      "\r"
     ]
    },
    {
     "name": "stdout",
     "output_type": "stream",
     "text": [
      "MoviePy - Writing audio in ./audio_extracted_yes/2505.mp3\n"
     ]
    },
    {
     "name": "stderr",
     "output_type": "stream",
     "text": [
      "                                                       "
     ]
    },
    {
     "name": "stdout",
     "output_type": "stream",
     "text": [
      "MoviePy - Done.\n",
      "                                        utterance speaker   \n",
      "2263  Wow! Imagine what our kids would look like!  MONICA  \\\n",
      "\n",
      "                                                context   \n",
      "2263  [You guys make a, Yeah, we look great together...  \\\n",
      "\n",
      "              context_speakers     show  sarcasm  \n",
      "2263  [PHOEBE, JOEY, CHANDLER]  FRIENDS    False  \n",
      "2263    False\n",
      "Name: sarcasm, dtype: bool\n"
     ]
    },
    {
     "name": "stderr",
     "output_type": "stream",
     "text": [
      "\r"
     ]
    },
    {
     "name": "stdout",
     "output_type": "stream",
     "text": [
      "MoviePy - Writing audio in ./audio_extracted_no/2263.mp3\n"
     ]
    },
    {
     "name": "stderr",
     "output_type": "stream",
     "text": [
      "                                                       "
     ]
    },
    {
     "name": "stdout",
     "output_type": "stream",
     "text": [
      "MoviePy - Done.\n",
      "                                               utterance speaker   \n",
      "18749  It was very entertaining... despite the glarin...     AMY  \\\n",
      "\n",
      "                                                 context   \n",
      "18749  [I enjoyed it. When you told me I was going to...  \\\n",
      "\n",
      "              context_speakers show  sarcasm  \n",
      "18749  [AMY, SHELDON, SHELDON]  BBT     True  \n",
      "18749    True\n",
      "Name: sarcasm, dtype: bool\n"
     ]
    },
    {
     "name": "stderr",
     "output_type": "stream",
     "text": [
      "\r"
     ]
    },
    {
     "name": "stdout",
     "output_type": "stream",
     "text": [
      "MoviePy - Writing audio in ./audio_extracted_yes/18749.mp3\n"
     ]
    },
    {
     "name": "stderr",
     "output_type": "stream",
     "text": [
      "                                                                  "
     ]
    },
    {
     "name": "stdout",
     "output_type": "stream",
     "text": [
      "MoviePy - Done.\n",
      "                                              utterance  speaker   \n",
      "1175  If you're compiling a mix CD for a double suic...  SHELDON  \\\n",
      "\n",
      "                                         context    context_speakers show   \n",
      "1175  [Oh, good Lord., God, that's a good song.]  [SHELDON, LEONARD]  BBT  \\\n",
      "\n",
      "      sarcasm  \n",
      "1175     True  \n",
      "1175    True\n",
      "Name: sarcasm, dtype: bool\n"
     ]
    },
    {
     "name": "stderr",
     "output_type": "stream",
     "text": [
      "\r"
     ]
    },
    {
     "name": "stdout",
     "output_type": "stream",
     "text": [
      "MoviePy - Writing audio in ./audio_extracted_yes/1175.mp3\n"
     ]
    },
    {
     "name": "stderr",
     "output_type": "stream",
     "text": [
      "                                                                  "
     ]
    },
    {
     "name": "stdout",
     "output_type": "stream",
     "text": [
      "MoviePy - Done.\n",
      "                                                utterance speaker   \n",
      "111699  No, Stuart picked out those throw pillows all ...     RAJ  \\\n",
      "\n",
      "                                                  context   \n",
      "111699  [Hold that thought., Hello?, How can I make th...  \\\n",
      "\n",
      "                                         context_speakers show  sarcasm  \n",
      "111699  [HOWARD, HOWARD, AMY, PENNY, BERNADETTE, RAJ, ...  BBT     True  \n",
      "111699    True\n",
      "Name: sarcasm, dtype: bool\n"
     ]
    },
    {
     "name": "stderr",
     "output_type": "stream",
     "text": [
      "\r"
     ]
    },
    {
     "name": "stdout",
     "output_type": "stream",
     "text": [
      "MoviePy - Writing audio in ./audio_extracted_yes/111699.mp3\n"
     ]
    },
    {
     "name": "stderr",
     "output_type": "stream",
     "text": [
      "                                                       "
     ]
    },
    {
     "name": "stdout",
     "output_type": "stream",
     "text": [
      "MoviePy - Done.\n",
      "                                     utterance  speaker   \n",
      "29  No Rose, go to the corner and open a stand  DOROTHY  \\\n",
      "\n",
      "                               context context_speakers         show  sarcasm  \n",
      "29  [Shall I set this down someplace?]           [ROSE]  GOLDENGIRLS     True  \n",
      "29    True\n",
      "Name: sarcasm, dtype: bool\n"
     ]
    },
    {
     "name": "stderr",
     "output_type": "stream",
     "text": [
      "\r"
     ]
    },
    {
     "name": "stdout",
     "output_type": "stream",
     "text": [
      "MoviePy - Writing audio in ./audio_extracted_yes/29.mp3\n"
     ]
    },
    {
     "name": "stderr",
     "output_type": "stream",
     "text": [
      "                                                       "
     ]
    },
    {
     "name": "stdout",
     "output_type": "stream",
     "text": [
      "MoviePy - Done.\n",
      "                                               utterance  speaker   \n",
      "12853  Obviously, waitressing at The Cheese Cake Fact...  SHELDON  \\\n",
      "\n",
      "                                                 context  context_speakers   \n",
      "12853  [My God, she didn't!, What could she possibly ...  [PENNY, LEONARD]  \\\n",
      "\n",
      "      show  sarcasm  \n",
      "12853  BBT     True  \n",
      "12853    True\n",
      "Name: sarcasm, dtype: bool\n"
     ]
    },
    {
     "name": "stderr",
     "output_type": "stream",
     "text": [
      "\r"
     ]
    },
    {
     "name": "stdout",
     "output_type": "stream",
     "text": [
      "MoviePy - Writing audio in ./audio_extracted_yes/12853.mp3\n"
     ]
    },
    {
     "name": "stderr",
     "output_type": "stream",
     "text": [
      "                                                                   "
     ]
    },
    {
     "name": "stdout",
     "output_type": "stream",
     "text": [
      "MoviePy - Done.\n",
      "                                               utterance speaker   \n",
      "18417  Oh, I think we were looking at creepy in the r...  HOWARD  \\\n",
      "\n",
      "                                                 context   \n",
      "18417  [Roger is Raj., I always thought, if I had a w...  \\\n",
      "\n",
      "                                   context_speakers show  sarcasm  \n",
      "18417  [HOWARD, RAJ, HOWARD, RAJ, RAJ, HOWARD, RAJ]  BBT    False  \n",
      "18417    False\n",
      "Name: sarcasm, dtype: bool\n"
     ]
    },
    {
     "name": "stderr",
     "output_type": "stream",
     "text": [
      "\r"
     ]
    },
    {
     "name": "stdout",
     "output_type": "stream",
     "text": [
      "MoviePy - Writing audio in ./audio_extracted_no/18417.mp3\n"
     ]
    },
    {
     "name": "stderr",
     "output_type": "stream",
     "text": [
      "                                                                  "
     ]
    },
    {
     "name": "stdout",
     "output_type": "stream",
     "text": [
      "MoviePy - Done.\n",
      "                                  utterance   speaker context   \n",
      "2115  I am sorry, we donÕt have your sheep.  CHANDLER   [Hey]  \\\n",
      "\n",
      "     context_speakers     show  sarcasm  \n",
      "2115         [RACHEL]  FRIENDS     True  \n",
      "2115    True\n",
      "Name: sarcasm, dtype: bool\n"
     ]
    },
    {
     "name": "stderr",
     "output_type": "stream",
     "text": [
      "\r"
     ]
    },
    {
     "name": "stdout",
     "output_type": "stream",
     "text": [
      "MoviePy - Writing audio in ./audio_extracted_yes/2115.mp3\n"
     ]
    },
    {
     "name": "stderr",
     "output_type": "stream",
     "text": [
      "                                                       "
     ]
    },
    {
     "name": "stdout",
     "output_type": "stream",
     "text": [
      "MoviePy - Done.\n",
      "                   utterance  speaker   \n",
      "2129  What are these? Claws?  DOROTHY  \\\n",
      "\n",
      "                                                context   \n",
      "2129  [Oh Dorothy would please open this jar of nuts...  \\\n",
      "\n",
      "                 context_speakers         show  sarcasm  \n",
      "2129  [BLANCHE, DOROTHY, BLANCHE]  GOLDENGIRLS     True  \n",
      "2129    True\n",
      "Name: sarcasm, dtype: bool\n"
     ]
    },
    {
     "name": "stderr",
     "output_type": "stream",
     "text": [
      "\r"
     ]
    },
    {
     "name": "stdout",
     "output_type": "stream",
     "text": [
      "MoviePy - Writing audio in ./audio_extracted_yes/2129.mp3\n"
     ]
    },
    {
     "name": "stderr",
     "output_type": "stream",
     "text": [
      "                                                       "
     ]
    },
    {
     "name": "stdout",
     "output_type": "stream",
     "text": [
      "MoviePy - Done.\n",
      "                                               utterance  speaker   \n",
      "11180  Oh, please. The only way she could make a cont...  SHELDON  \\\n",
      "\n",
      "                                                 context   \n",
      "11180  [Pastries such as bear claws?, Yeah, sure., I ...  \\\n",
      "\n",
      "                                        context_speakers show  sarcasm  \n",
      "11180  [SHELDON, PENNY, SHELDON, PERSON, PERSON, SHEL...  BBT     True  \n",
      "11180    True\n",
      "Name: sarcasm, dtype: bool\n"
     ]
    },
    {
     "name": "stderr",
     "output_type": "stream",
     "text": [
      "\r"
     ]
    },
    {
     "name": "stdout",
     "output_type": "stream",
     "text": [
      "MoviePy - Writing audio in ./audio_extracted_yes/11180.mp3\n"
     ]
    },
    {
     "name": "stderr",
     "output_type": "stream",
     "text": [
      "                                                                    "
     ]
    },
    {
     "name": "stdout",
     "output_type": "stream",
     "text": [
      "MoviePy - Done.\n",
      "                 utterance   speaker   \n",
      "2303  No thanks Josephine!  CHANDLER  \\\n",
      "\n",
      "                                                context context_speakers   \n",
      "2303  [Hey Chandler!, come on in we are knitting pot...           [JOEY]  \\\n",
      "\n",
      "         show  sarcasm  \n",
      "2303  FRIENDS     True  \n",
      "2303    True\n",
      "Name: sarcasm, dtype: bool\n"
     ]
    },
    {
     "name": "stderr",
     "output_type": "stream",
     "text": [
      "\r"
     ]
    },
    {
     "name": "stdout",
     "output_type": "stream",
     "text": [
      "MoviePy - Writing audio in ./audio_extracted_yes/2303.mp3\n"
     ]
    },
    {
     "name": "stderr",
     "output_type": "stream",
     "text": [
      "                                                                   "
     ]
    },
    {
     "name": "stdout",
     "output_type": "stream",
     "text": [
      "MoviePy - Done.\n",
      "                         utterance  speaker   \n",
      "2465  No Rose, that you should do.  DOROTHY  \\\n",
      "\n",
      "                                                context context_speakers   \n",
      "2465  [No more ice-skating, And I am not gonna go Ni...     [ROSE, ROSE]  \\\n",
      "\n",
      "             show  sarcasm  \n",
      "2465  GOLDENGIRLS     True  \n",
      "2465    True\n",
      "Name: sarcasm, dtype: bool\n"
     ]
    },
    {
     "name": "stderr",
     "output_type": "stream",
     "text": [
      "\r"
     ]
    },
    {
     "name": "stdout",
     "output_type": "stream",
     "text": [
      "MoviePy - Writing audio in ./audio_extracted_yes/2465.mp3\n"
     ]
    },
    {
     "name": "stderr",
     "output_type": "stream",
     "text": [
      "                                                       "
     ]
    },
    {
     "name": "stdout",
     "output_type": "stream",
     "text": [
      "MoviePy - Done.\n",
      "     utterance      speaker                                context   \n",
      "2471  Amazing.  MEMBER-GIRL  [Hello everybody! How was your week?]  \\\n",
      "\n",
      "     context_speakers            show  sarcasm  \n",
      "2471      [MODERATOR]  SARCASMOHOLICS     True  \n",
      "2471    True\n",
      "Name: sarcasm, dtype: bool\n"
     ]
    },
    {
     "name": "stderr",
     "output_type": "stream",
     "text": [
      "\r"
     ]
    },
    {
     "name": "stdout",
     "output_type": "stream",
     "text": [
      "MoviePy - Writing audio in ./audio_extracted_yes/2471.mp3\n"
     ]
    },
    {
     "name": "stderr",
     "output_type": "stream",
     "text": [
      "                                                       "
     ]
    },
    {
     "name": "stdout",
     "output_type": "stream",
     "text": [
      "MoviePy - Done.\n",
      "                                                utterance  speaker   \n",
      "110829  On the bright side, that Oxford study was righ...  SHELDON  \\\n",
      "\n",
      "                                                  context   \n",
      "110829  [You would leave me out of the conversation wi...  \\\n",
      "\n",
      "                     context_speakers show  sarcasm  \n",
      "110829  [RAJ, PENNY, RAJ, PENNY, RAJ]  BBT     True  \n",
      "110829    True\n",
      "Name: sarcasm, dtype: bool\n"
     ]
    },
    {
     "name": "stderr",
     "output_type": "stream",
     "text": [
      "\r"
     ]
    },
    {
     "name": "stdout",
     "output_type": "stream",
     "text": [
      "MoviePy - Writing audio in ./audio_extracted_yes/110829.mp3\n"
     ]
    },
    {
     "name": "stderr",
     "output_type": "stream",
     "text": [
      "                                                                    "
     ]
    },
    {
     "name": "stdout",
     "output_type": "stream",
     "text": [
      "MoviePy - Done.\n",
      "                                              utterance speaker   \n",
      "2317  Ah, oh, hang on a second. Come in, come in. Al...  PERSON  \\\n",
      "\n",
      "                                                context  context_speakers   \n",
      "2317  [It has umm, three beautiful bedrooms and ah, ...  [PERSON, PHOEBE]  \\\n",
      "\n",
      "         show  sarcasm  \n",
      "2317  FRIENDS    False  \n",
      "2317    False\n",
      "Name: sarcasm, dtype: bool\n"
     ]
    },
    {
     "name": "stderr",
     "output_type": "stream",
     "text": [
      "\r"
     ]
    },
    {
     "name": "stdout",
     "output_type": "stream",
     "text": [
      "MoviePy - Writing audio in ./audio_extracted_no/2317.mp3\n"
     ]
    },
    {
     "name": "stderr",
     "output_type": "stream",
     "text": [
      "                                                       "
     ]
    },
    {
     "name": "stdout",
     "output_type": "stream",
     "text": [
      "MoviePy - Done.\n",
      "                                               utterance  speaker   \n",
      "19245  Can we talk about something else? Do you know ...  SHELDON  \\\n",
      "\n",
      "                                                 context   \n",
      "19245  [Yes., And some people in the science communit...  \\\n",
      "\n",
      "                                 context_speakers show  sarcasm  \n",
      "19245  [SHELDON, PERSON, SHELDON, PERSON, PERSON]  BBT    False  \n",
      "19245    False\n",
      "Name: sarcasm, dtype: bool\n"
     ]
    },
    {
     "name": "stderr",
     "output_type": "stream",
     "text": [
      "\r"
     ]
    },
    {
     "name": "stdout",
     "output_type": "stream",
     "text": [
      "MoviePy - Writing audio in ./audio_extracted_no/19245.mp3\n"
     ]
    },
    {
     "name": "stderr",
     "output_type": "stream",
     "text": [
      "                                                                    "
     ]
    },
    {
     "name": "stdout",
     "output_type": "stream",
     "text": [
      "MoviePy - Done.\n",
      "                                               utterance  speaker   \n",
      "18159  And I'm cool with surprises. But nothing on a ...  LEONARD  \\\n",
      "\n",
      "                                                 context   \n",
      "18159  [But if someday you decide you want to get mar...  \\\n",
      "\n",
      "                                        context_speakers show  sarcasm  \n",
      "18159  [LEONARD, PENNY, LEONARD, LEONARD, LEONARD, PE...  BBT    False  \n",
      "18159    False\n",
      "Name: sarcasm, dtype: bool\n"
     ]
    },
    {
     "name": "stderr",
     "output_type": "stream",
     "text": [
      "\r"
     ]
    },
    {
     "name": "stdout",
     "output_type": "stream",
     "text": [
      "MoviePy - Writing audio in ./audio_extracted_no/18159.mp3\n"
     ]
    },
    {
     "name": "stderr",
     "output_type": "stream",
     "text": [
      "                                                                  "
     ]
    },
    {
     "name": "stdout",
     "output_type": "stream",
     "text": [
      "MoviePy - Done.\n",
      "                     utterance speaker   \n",
      "2467  That is the coast guard!  RACHEL  \\\n",
      "\n",
      "                                                context context_speakers   \n",
      "2467  [Just because he's got a bigger boat he thinks...           [JOEY]  \\\n",
      "\n",
      "         show  sarcasm  \n",
      "2467  FRIENDS    False  \n",
      "2467    False\n",
      "Name: sarcasm, dtype: bool\n"
     ]
    },
    {
     "name": "stderr",
     "output_type": "stream",
     "text": [
      "\r"
     ]
    },
    {
     "name": "stdout",
     "output_type": "stream",
     "text": [
      "MoviePy - Writing audio in ./audio_extracted_no/2467.mp3\n"
     ]
    },
    {
     "name": "stderr",
     "output_type": "stream",
     "text": [
      "                                                       "
     ]
    },
    {
     "name": "stdout",
     "output_type": "stream",
     "text": [
      "MoviePy - Done.\n",
      "                                        utterance   speaker   \n",
      "2301  Hey, do you know a six-letter word for red?  CHANDLER  \\\n",
      "\n",
      "                                                context  context_speakers   \n",
      "2301  [Hey! Hey! What are you guys doing up?, Oh, we...  [JOEY, CHANDLER]  \\\n",
      "\n",
      "         show  sarcasm  \n",
      "2301  FRIENDS    False  \n",
      "2301    False\n",
      "Name: sarcasm, dtype: bool\n"
     ]
    },
    {
     "name": "stderr",
     "output_type": "stream",
     "text": [
      "\r"
     ]
    },
    {
     "name": "stdout",
     "output_type": "stream",
     "text": [
      "MoviePy - Writing audio in ./audio_extracted_no/2301.mp3\n"
     ]
    },
    {
     "name": "stderr",
     "output_type": "stream",
     "text": [
      "                                                       "
     ]
    },
    {
     "name": "stdout",
     "output_type": "stream",
     "text": [
      "MoviePy - Done.\n",
      "                                              utterance speaker   \n",
      "2315  I guess you'd know that, being one of the two ...  RACHEL  \\\n",
      "\n",
      "                                                context context_speakers   \n",
      "2315  [So. I just thought the two of us should hang ...         [RACHEL]  \\\n",
      "\n",
      "         show  sarcasm  \n",
      "2315  FRIENDS     True  \n",
      "2315    True\n",
      "Name: sarcasm, dtype: bool\n"
     ]
    },
    {
     "name": "stderr",
     "output_type": "stream",
     "text": [
      "\r"
     ]
    },
    {
     "name": "stdout",
     "output_type": "stream",
     "text": [
      "MoviePy - Writing audio in ./audio_extracted_yes/2315.mp3\n"
     ]
    },
    {
     "name": "stderr",
     "output_type": "stream",
     "text": [
      "                                                       "
     ]
    },
    {
     "name": "stdout",
     "output_type": "stream",
     "text": [
      "MoviePy - Done.\n",
      "                                               utterance speaker   \n",
      "11627  What do you think I did? I discreetly slipped ...  PERSON  \\\n",
      "\n",
      "                                                 context   context_speakers   \n",
      "11627  [So, we're all standing around looking at the ...  [PERSON, LEONARD]  \\\n",
      "\n",
      "      show  sarcasm  \n",
      "11627  BBT    False  \n",
      "11627    False\n",
      "Name: sarcasm, dtype: bool\n"
     ]
    },
    {
     "name": "stderr",
     "output_type": "stream",
     "text": [
      "\r"
     ]
    },
    {
     "name": "stdout",
     "output_type": "stream",
     "text": [
      "MoviePy - Writing audio in ./audio_extracted_no/11627.mp3\n"
     ]
    },
    {
     "name": "stderr",
     "output_type": "stream",
     "text": [
      "                                                                  "
     ]
    },
    {
     "name": "stdout",
     "output_type": "stream",
     "text": [
      "MoviePy - Done.\n",
      "                    utterance speaker   \n",
      "2473  I'm the supply manager.  PERSON  \\\n",
      "\n",
      "                                                context   \n",
      "2473  [Okay, I can do that! Oh, by the way,, I Why d...  \\\n",
      "\n",
      "              context_speakers     show  sarcasm  \n",
      "2473  [PHOEBE, PERSON, PHOEBE]  FRIENDS    False  \n",
      "2473    False\n",
      "Name: sarcasm, dtype: bool\n"
     ]
    },
    {
     "name": "stderr",
     "output_type": "stream",
     "text": [
      "\r"
     ]
    },
    {
     "name": "stdout",
     "output_type": "stream",
     "text": [
      "MoviePy - Writing audio in ./audio_extracted_no/2473.mp3\n"
     ]
    },
    {
     "name": "stderr",
     "output_type": "stream",
     "text": [
      "                                                       "
     ]
    },
    {
     "name": "stdout",
     "output_type": "stream",
     "text": [
      "MoviePy - Done.\n",
      "                                         utterance   speaker   \n",
      "2498  Uh, so how many cameras are actually on you.  CHANDLER  \\\n",
      "\n",
      "                                                context   \n",
      "2498  [Where's Monica?, Over here Dad, How to you zo...  \\\n",
      "\n",
      "                              context_speakers     show  sarcasm  \n",
      "2498  [PERSON1, MONICA, PERSON2, JOEY, MONICA]  FRIENDS     True  \n",
      "2498    True\n",
      "Name: sarcasm, dtype: bool\n"
     ]
    },
    {
     "name": "stderr",
     "output_type": "stream",
     "text": [
      "\r"
     ]
    },
    {
     "name": "stdout",
     "output_type": "stream",
     "text": [
      "MoviePy - Writing audio in ./audio_extracted_yes/2498.mp3\n"
     ]
    },
    {
     "name": "stderr",
     "output_type": "stream",
     "text": [
      "                                                                    "
     ]
    },
    {
     "name": "stdout",
     "output_type": "stream",
     "text": [
      "MoviePy - Done.\n",
      "                                               utterance speaker   \n",
      "15496  Okay, Amy, you're being silly. I'm not concern...   PENNY  \\\n",
      "\n",
      "                                                 context   \n",
      "15496  [That bitch is crafty., You think?, Of course....  \\\n",
      "\n",
      "                              context_speakers show  sarcasm  \n",
      "15496  [AMY, BERNADETTE, AMY, BERNADETTE, AMY]  BBT     True  \n",
      "15496    True\n",
      "Name: sarcasm, dtype: bool\n"
     ]
    },
    {
     "name": "stderr",
     "output_type": "stream",
     "text": [
      "\r"
     ]
    },
    {
     "name": "stdout",
     "output_type": "stream",
     "text": [
      "MoviePy - Writing audio in ./audio_extracted_yes/15496.mp3\n"
     ]
    },
    {
     "name": "stderr",
     "output_type": "stream",
     "text": [
      "                                                                    \r"
     ]
    },
    {
     "name": "stdout",
     "output_type": "stream",
     "text": [
      "MoviePy - Done.\n",
      "                                               utterance  speaker   \n",
      "17281  Darn. If you weren't busy, I'd ask you to join...  SHELDON  \\\n",
      "\n",
      "                                                 context   \n",
      "17281  [\"Release the Kraken.\" That never gets old., \"...  \\\n",
      "\n",
      "                            context_speakers show  sarcasm  \n",
      "17281  [SHELDON, SHELDON, SHELDON, RAJ, RAJ]  BBT     True  \n",
      "17281    True\n",
      "Name: sarcasm, dtype: bool\n",
      "MoviePy - Writing audio in ./audio_extracted_yes/17281.mp3\n"
     ]
    },
    {
     "name": "stderr",
     "output_type": "stream",
     "text": [
      "                                                                  "
     ]
    },
    {
     "name": "stdout",
     "output_type": "stream",
     "text": [
      "MoviePy - Done.\n",
      "                                               utterance speaker   \n",
      "16835  Oh, screw her. She's just lucky we let her han...     AMY  \\\n",
      "\n",
      "                                                 context   \n",
      "16835  [The painting is a constant reminder that of t...  \\\n",
      "\n",
      "                                       context_speakers show  sarcasm  \n",
      "16835  [AMY, PENNY, AMY, PENNY, AMY, PENNY, AMY, PENNY]  BBT    False  \n",
      "16835    False\n",
      "Name: sarcasm, dtype: bool\n"
     ]
    },
    {
     "name": "stderr",
     "output_type": "stream",
     "text": [
      "\r"
     ]
    },
    {
     "name": "stdout",
     "output_type": "stream",
     "text": [
      "MoviePy - Writing audio in ./audio_extracted_no/16835.mp3\n"
     ]
    },
    {
     "name": "stderr",
     "output_type": "stream",
     "text": [
      "                                                       "
     ]
    },
    {
     "name": "stdout",
     "output_type": "stream",
     "text": [
      "MoviePy - Done.\n",
      "                                              utterance   speaker   \n",
      "2103  No, this is just part of a daredevil game that...  CHANDLER  \\\n",
      "\n",
      "                  context context_speakers     show  sarcasm  \n",
      "2103  [Someone in there?]         [PERSON]  FRIENDS     True  \n",
      "2103    True\n",
      "Name: sarcasm, dtype: bool\n"
     ]
    },
    {
     "name": "stderr",
     "output_type": "stream",
     "text": [
      "\r"
     ]
    },
    {
     "name": "stdout",
     "output_type": "stream",
     "text": [
      "MoviePy - Writing audio in ./audio_extracted_yes/2103.mp3\n"
     ]
    },
    {
     "name": "stderr",
     "output_type": "stream",
     "text": [
      "                                                                    "
     ]
    },
    {
     "name": "stdout",
     "output_type": "stream",
     "text": [
      "MoviePy - Done.\n",
      "                                             utterance   speaker   \n",
      "235  Oh no donÕt go. I have scared you. I have said...  CHANDLER  \\\n",
      "\n",
      "                                               context context_speakers   \n",
      "235  [I am not divorced yet. Chandler, you know you...         [PERSON]  \\\n",
      "\n",
      "        show  sarcasm  \n",
      "235  FRIENDS    False  \n",
      "235    False\n",
      "Name: sarcasm, dtype: bool\n"
     ]
    },
    {
     "name": "stderr",
     "output_type": "stream",
     "text": [
      "\r"
     ]
    },
    {
     "name": "stdout",
     "output_type": "stream",
     "text": [
      "MoviePy - Writing audio in ./audio_extracted_no/235.mp3\n"
     ]
    },
    {
     "name": "stderr",
     "output_type": "stream",
     "text": [
      "                                                                    "
     ]
    },
    {
     "name": "stdout",
     "output_type": "stream",
     "text": [
      "MoviePy - Done.\n",
      "                                               utterance speaker   \n",
      "14603  Is it possible that she was going for your che...  HOWARD  \\\n",
      "\n",
      "                                                 context    context_speakers   \n",
      "14603  [to bring us all with you to the year 7010 whe...  [SHELDON, LEONARD]  \\\n",
      "\n",
      "      show  sarcasm  \n",
      "14603  BBT    False  \n",
      "14603    False\n",
      "Name: sarcasm, dtype: bool\n"
     ]
    },
    {
     "name": "stderr",
     "output_type": "stream",
     "text": [
      "\r"
     ]
    },
    {
     "name": "stdout",
     "output_type": "stream",
     "text": [
      "MoviePy - Writing audio in ./audio_extracted_no/14603.mp3\n"
     ]
    },
    {
     "name": "stderr",
     "output_type": "stream",
     "text": [
      "                                                                    "
     ]
    },
    {
     "name": "stdout",
     "output_type": "stream",
     "text": [
      "MoviePy - Done.\n",
      "                                                utterance speaker   \n",
      "110977  Let's not talk about this in front of our frie...  HOWARD  \\\n",
      "\n",
      "                                                  context   \n",
      "110977  [Like what? Your incomplete set of <i>Star Tre...  \\\n",
      "\n",
      "                                         context_speakers show  sarcasm  \n",
      "110977  [BERNADETTE, HOWARD, BERNADETTE, HOWARD, BERNA...  BBT    False  \n",
      "110977    False\n",
      "Name: sarcasm, dtype: bool\n"
     ]
    },
    {
     "name": "stderr",
     "output_type": "stream",
     "text": [
      "\r"
     ]
    },
    {
     "name": "stdout",
     "output_type": "stream",
     "text": [
      "MoviePy - Writing audio in ./audio_extracted_no/110977.mp3\n"
     ]
    },
    {
     "name": "stderr",
     "output_type": "stream",
     "text": [
      "                                                                 "
     ]
    },
    {
     "name": "stdout",
     "output_type": "stream",
     "text": [
      "MoviePy - Done.\n",
      "                                               utterance  speaker   \n",
      "16766  Maybe that's because I'm not being challenged....  SHELDON  \\\n",
      "\n",
      "                                                 context   \n",
      "16766  [And I'm super smart, so it's probably true., ...  \\\n",
      "\n",
      "                        context_speakers show  sarcasm  \n",
      "16766  [SHELDON, AMY, AMY, SHELDON, AMY]  BBT    False  \n",
      "16766    False\n",
      "Name: sarcasm, dtype: bool\n"
     ]
    },
    {
     "name": "stderr",
     "output_type": "stream",
     "text": [
      "\r"
     ]
    },
    {
     "name": "stdout",
     "output_type": "stream",
     "text": [
      "MoviePy - Writing audio in ./audio_extracted_no/16766.mp3\n"
     ]
    },
    {
     "name": "stderr",
     "output_type": "stream",
     "text": [
      "                                                                    "
     ]
    },
    {
     "name": "stdout",
     "output_type": "stream",
     "text": [
      "MoviePy - Done.\n",
      "                                     utterance   speaker   \n",
      "2261  Oh, no, no. I just meant hypothetically.  CHANDLER  \\\n",
      "\n",
      "                                                context    context_speakers   \n",
      "2261  [I'll tell you what. When we're 40, if neither...  [CHANDLER, MONICA]  \\\n",
      "\n",
      "         show  sarcasm  \n",
      "2261  FRIENDS    False  \n",
      "2261    False\n",
      "Name: sarcasm, dtype: bool\n"
     ]
    },
    {
     "name": "stderr",
     "output_type": "stream",
     "text": [
      "\r"
     ]
    },
    {
     "name": "stdout",
     "output_type": "stream",
     "text": [
      "MoviePy - Writing audio in ./audio_extracted_no/2261.mp3\n"
     ]
    },
    {
     "name": "stderr",
     "output_type": "stream",
     "text": [
      "                                                       "
     ]
    },
    {
     "name": "stdout",
     "output_type": "stream",
     "text": [
      "MoviePy - Done.\n",
      "                                              utterance  speaker   \n",
      "2507  No, I haven't taken her out of the trunk of th...  DOROTHY  \\\n",
      "\n",
      "                                    context context_speakers         show   \n",
      "2507  [Sophia was discharged, is she here?]         [PERSON]  GOLDENGIRLS  \\\n",
      "\n",
      "      sarcasm  \n",
      "2507     True  \n",
      "2507    True\n",
      "Name: sarcasm, dtype: bool\n"
     ]
    },
    {
     "name": "stderr",
     "output_type": "stream",
     "text": [
      "\r"
     ]
    },
    {
     "name": "stdout",
     "output_type": "stream",
     "text": [
      "MoviePy - Writing audio in ./audio_extracted_yes/2507.mp3\n"
     ]
    },
    {
     "name": "stderr",
     "output_type": "stream",
     "text": [
      "                                                        "
     ]
    },
    {
     "name": "stdout",
     "output_type": "stream",
     "text": [
      "MoviePy - Done.\n",
      "                                             utterance speaker   \n",
      "170  I don't think I'll be able to stop thinking ab...   PENNY  \\\n",
      "\n",
      "                                               context   \n",
      "170  [This is one of my favorite places to kick bac...  \\\n",
      "\n",
      "                                      context_speakers show  sarcasm  \n",
      "170  [HOWARD, PENNY, HOWARD, HOWARD, HOWARD, PENNY,...  BBT     True  \n",
      "170    True\n",
      "Name: sarcasm, dtype: bool\n"
     ]
    },
    {
     "name": "stderr",
     "output_type": "stream",
     "text": [
      "\r"
     ]
    },
    {
     "name": "stdout",
     "output_type": "stream",
     "text": [
      "MoviePy - Writing audio in ./audio_extracted_yes/170.mp3\n"
     ]
    },
    {
     "name": "stderr",
     "output_type": "stream",
     "text": [
      "                                                       "
     ]
    },
    {
     "name": "stdout",
     "output_type": "stream",
     "text": [
      "MoviePy - Done.\n",
      "                                               utterance speaker   \n",
      "17487  Yeah, well, Bernadette's a little under the we...  HOWARD  \\\n",
      "\n",
      "                                                 context   \n",
      "17487  [Oh, look at you.\\nYou, you look like you grew...  \\\n",
      "\n",
      "                      context_speakers show  sarcasm  \n",
      "17487  [RAJ, HOWARD, HOWARD, RAJ, RAJ]  BBT    False  \n",
      "17487    False\n",
      "Name: sarcasm, dtype: bool\n"
     ]
    },
    {
     "name": "stderr",
     "output_type": "stream",
     "text": [
      "\r"
     ]
    },
    {
     "name": "stdout",
     "output_type": "stream",
     "text": [
      "MoviePy - Writing audio in ./audio_extracted_no/17487.mp3\n"
     ]
    },
    {
     "name": "stderr",
     "output_type": "stream",
     "text": [
      "                                                                   "
     ]
    },
    {
     "name": "stdout",
     "output_type": "stream",
     "text": [
      "MoviePy - Done.\n",
      "                                  utterance   speaker   \n",
      "2260  Okay, are you aware unagi  is an eel?  CHANDLER  \\\n",
      "\n",
      "                                                context   \n",
      "2260  [Chandler. I sensed it was you., What?!, Unagi...  \\\n",
      "\n",
      "            context_speakers     show  sarcasm  \n",
      "2260  [ROSS, CHANDLER, ROSS]  FRIENDS     True  \n",
      "2260    True\n",
      "Name: sarcasm, dtype: bool\n"
     ]
    },
    {
     "name": "stderr",
     "output_type": "stream",
     "text": [
      "\r"
     ]
    },
    {
     "name": "stdout",
     "output_type": "stream",
     "text": [
      "MoviePy - Writing audio in ./audio_extracted_yes/2260.mp3\n"
     ]
    },
    {
     "name": "stderr",
     "output_type": "stream",
     "text": [
      "                                                       "
     ]
    },
    {
     "name": "stdout",
     "output_type": "stream",
     "text": [
      "MoviePy - Done.\n",
      "                                            utterance speaker   \n",
      "17445  My limbic system wants to take your pants off.   PENNY  \\\n",
      "\n",
      "                                                 context   \n",
      "17445  [Uh, do you work with Dr. Hofstadter?, In a wa...  \\\n",
      "\n",
      "                                        context_speakers show  sarcasm  \n",
      "17445  [PERSON, PENNY, PENNY, PERSON, PENNY, PENNY, L...  BBT    False  \n",
      "17445    False\n",
      "Name: sarcasm, dtype: bool\n"
     ]
    },
    {
     "name": "stderr",
     "output_type": "stream",
     "text": [
      "\r"
     ]
    },
    {
     "name": "stdout",
     "output_type": "stream",
     "text": [
      "MoviePy - Writing audio in ./audio_extracted_no/17445.mp3\n"
     ]
    },
    {
     "name": "stderr",
     "output_type": "stream",
     "text": [
      "                                                       "
     ]
    },
    {
     "name": "stdout",
     "output_type": "stream",
     "text": [
      "MoviePy - Done.\n",
      "                                              utterance speaker   \n",
      "2506  Oh my God!! Ohh, that is it! I'm leaving! You ...  RACHEL  \\\n",
      "\n",
      "                                                context   \n",
      "2506  [Oh, I must've said that after you left., Said...  \\\n",
      "\n",
      "              context_speakers     show  sarcasm  \n",
      "2506  [PERSON, RACHEL, PERSON]  FRIENDS    False  \n",
      "2506    False\n",
      "Name: sarcasm, dtype: bool\n"
     ]
    },
    {
     "name": "stderr",
     "output_type": "stream",
     "text": [
      "\r"
     ]
    },
    {
     "name": "stdout",
     "output_type": "stream",
     "text": [
      "MoviePy - Writing audio in ./audio_extracted_no/2506.mp3\n"
     ]
    },
    {
     "name": "stderr",
     "output_type": "stream",
     "text": [
      "                                                                  "
     ]
    },
    {
     "name": "stdout",
     "output_type": "stream",
     "text": [
      "MoviePy - Done.\n",
      "                                      utterance  speaker   \n",
      "2512  Because it wears a little sunbrella Rose.  DOROTHY  \\\n",
      "\n",
      "                                                context   \n",
      "2512  [It is not a fly Rose, Spanish fly is not a fl...  \\\n",
      "\n",
      "                                   context_speakers         show  sarcasm  \n",
      "2512  [DOROTHY, ROSE, DOROTHY, ROSE, DOROTHY, ROSE]  GOLDENGIRLS     True  \n",
      "2512    True\n",
      "Name: sarcasm, dtype: bool\n"
     ]
    },
    {
     "name": "stderr",
     "output_type": "stream",
     "text": [
      "\r"
     ]
    },
    {
     "name": "stdout",
     "output_type": "stream",
     "text": [
      "MoviePy - Writing audio in ./audio_extracted_yes/2512.mp3\n"
     ]
    },
    {
     "name": "stderr",
     "output_type": "stream",
     "text": [
      "                                                       "
     ]
    },
    {
     "name": "stdout",
     "output_type": "stream",
     "text": [
      "MoviePy - Done.\n",
      "                                              utterance   speaker   \n",
      "2248  I mean, you and I we're just, y'know, we're no...  CHANDLER  \\\n",
      "\n",
      "                                                context    context_speakers   \n",
      "2248  [Umm, listen there's something I think you sho...  [MONICA, CHANDLER]  \\\n",
      "\n",
      "         show  sarcasm  \n",
      "2248  FRIENDS     True  \n",
      "2248    True\n",
      "Name: sarcasm, dtype: bool\n"
     ]
    },
    {
     "name": "stderr",
     "output_type": "stream",
     "text": [
      "\r"
     ]
    },
    {
     "name": "stdout",
     "output_type": "stream",
     "text": [
      "MoviePy - Writing audio in ./audio_extracted_yes/2248.mp3\n"
     ]
    },
    {
     "name": "stderr",
     "output_type": "stream",
     "text": [
      "                                                       "
     ]
    },
    {
     "name": "stdout",
     "output_type": "stream",
     "text": [
      "MoviePy - Done.\n",
      "                                              utterance speaker   \n",
      "1162  Sheldon, if you were a robot, and I knew and y...  HOWARD  \\\n",
      "\n",
      "                                                context   \n",
      "1162  [On the other hand, no arousal., None?, None.,...  \\\n",
      "\n",
      "                                       context_speakers show  sarcasm  \n",
      "1162  [PERSON, LEONARD, PERSON, LEONARD, PERSON, LEO...  BBT    False  \n",
      "1162    False\n",
      "Name: sarcasm, dtype: bool\n"
     ]
    },
    {
     "name": "stderr",
     "output_type": "stream",
     "text": [
      "\r"
     ]
    },
    {
     "name": "stdout",
     "output_type": "stream",
     "text": [
      "MoviePy - Writing audio in ./audio_extracted_no/1162.mp3\n"
     ]
    },
    {
     "name": "stderr",
     "output_type": "stream",
     "text": [
      "                                                                  "
     ]
    },
    {
     "name": "stdout",
     "output_type": "stream",
     "text": [
      "MoviePy - Done.\n",
      "                                             utterance   speaker   \n",
      "234  Is it me or the greetings gone downhill around...  CHANDLER  \\\n",
      "\n",
      "                        context  context_speakers     show  sarcasm  \n",
      "234  [Hey, You son of a bitch!]  [CHANDLER, JOEY]  FRIENDS     True  \n",
      "234    True\n",
      "Name: sarcasm, dtype: bool\n"
     ]
    },
    {
     "name": "stderr",
     "output_type": "stream",
     "text": [
      "\r"
     ]
    },
    {
     "name": "stdout",
     "output_type": "stream",
     "text": [
      "MoviePy - Writing audio in ./audio_extracted_yes/234.mp3\n"
     ]
    },
    {
     "name": "stderr",
     "output_type": "stream",
     "text": [
      "                                                       "
     ]
    },
    {
     "name": "stdout",
     "output_type": "stream",
     "text": [
      "MoviePy - Done.\n",
      "                  utterance   speaker   \n",
      "220  My duties?  All right.  CHANDLER  \\\n",
      "\n",
      "                                               context   \n",
      "220  [You must've had your hands full, That I did. ...  \\\n",
      "\n",
      "               context_speakers     show  sarcasm  \n",
      "220  [PERSON, CHANDLER, PERSON]  FRIENDS    False  \n",
      "220    False\n",
      "Name: sarcasm, dtype: bool\n"
     ]
    },
    {
     "name": "stderr",
     "output_type": "stream",
     "text": [
      "\r"
     ]
    },
    {
     "name": "stdout",
     "output_type": "stream",
     "text": [
      "MoviePy - Writing audio in ./audio_extracted_no/220.mp3\n"
     ]
    },
    {
     "name": "stderr",
     "output_type": "stream",
     "text": [
      "                                                                  "
     ]
    },
    {
     "name": "stdout",
     "output_type": "stream",
     "text": [
      "MoviePy - Done.\n",
      "                                               utterance speaker   \n",
      "17082  ...to all the good times we had, like, uh, whe...     RAJ  \\\n",
      "\n",
      "                                                 context   \n",
      "17082  [This man became my whole world., Yeah, nice s...  \\\n",
      "\n",
      "              context_speakers show  sarcasm  \n",
      "17082  [RAJ, PERSON, RAJ, RAJ]  BBT    False  \n",
      "17082    False\n",
      "Name: sarcasm, dtype: bool\n"
     ]
    },
    {
     "name": "stderr",
     "output_type": "stream",
     "text": [
      "\r"
     ]
    },
    {
     "name": "stdout",
     "output_type": "stream",
     "text": [
      "MoviePy - Writing audio in ./audio_extracted_no/17082.mp3\n"
     ]
    },
    {
     "name": "stderr",
     "output_type": "stream",
     "text": [
      "                                                                    \r"
     ]
    },
    {
     "name": "stdout",
     "output_type": "stream",
     "text": [
      "MoviePy - Done.\n",
      "                                               utterance  speaker   \n",
      "19087  Why? Because I got an ugly, itchy sweater, and...  LEONARD  \\\n",
      "\n",
      "                                                 context   \n",
      "19087  [Yup, oh... here you go., Oh, thank you., Here...  \\\n",
      "\n",
      "                                  context_speakers show  sarcasm  \n",
      "19087  [LEONARD, SHELDON, SHELDON, LEONARD, PENNY]  BBT     True  \n",
      "19087    True\n",
      "Name: sarcasm, dtype: bool\n",
      "MoviePy - Writing audio in ./audio_extracted_yes/19087.mp3\n"
     ]
    },
    {
     "name": "stderr",
     "output_type": "stream",
     "text": [
      "                                                                  "
     ]
    },
    {
     "name": "stdout",
     "output_type": "stream",
     "text": [
      "MoviePy - Done.\n",
      "                                              utterance  speaker   \n",
      "2102  No Blanche she is upset because they keep chan...  DOROTHY  \\\n",
      "\n",
      "                                                context   \n",
      "2102  [Honey you alright?, I'll be fine, Is this abo...  \\\n",
      "\n",
      "              context_speakers         show  sarcasm  \n",
      "2102  [DOROTHY, ROSE, BLANCHE]  GOLDENGIRLS     True  \n",
      "2102    True\n",
      "Name: sarcasm, dtype: bool\n"
     ]
    },
    {
     "name": "stderr",
     "output_type": "stream",
     "text": [
      "\r"
     ]
    },
    {
     "name": "stdout",
     "output_type": "stream",
     "text": [
      "MoviePy - Writing audio in ./audio_extracted_yes/2102.mp3\n"
     ]
    },
    {
     "name": "stderr",
     "output_type": "stream",
     "text": [
      "                                                                    "
     ]
    },
    {
     "name": "stdout",
     "output_type": "stream",
     "text": [
      "MoviePy - Done.\n",
      "                                               utterance speaker   \n",
      "14789  I don't know. Somebody bigger and... Yeah, sur...  PERSON  \\\n",
      "\n",
      "                                                 context   \n",
      "14789  [Stupid Aquaman., If it makes you feel any bet...  \\\n",
      "\n",
      "                                        context_speakers show  sarcasm  \n",
      "14789  [RAJ, LEONARD, PERSON, LEONARD, PERSON, PERSON...  BBT     True  \n",
      "14789    True\n",
      "Name: sarcasm, dtype: bool\n"
     ]
    },
    {
     "name": "stderr",
     "output_type": "stream",
     "text": [
      "\r"
     ]
    },
    {
     "name": "stdout",
     "output_type": "stream",
     "text": [
      "MoviePy - Writing audio in ./audio_extracted_yes/14789.mp3\n"
     ]
    },
    {
     "name": "stderr",
     "output_type": "stream",
     "text": [
      "                                                                  "
     ]
    },
    {
     "name": "stdout",
     "output_type": "stream",
     "text": [
      "MoviePy - Done.\n",
      "     utterance speaker                                            context   \n",
      "2499  The end.  PHOEBE  [Oh, but he was my pig man...how did I not see...  \\\n",
      "\n",
      "              context_speakers     show  sarcasm  \n",
      "2499  [RACHEL, PHOEBE, RACHEL]  FRIENDS    False  \n",
      "2499    False\n",
      "Name: sarcasm, dtype: bool\n"
     ]
    },
    {
     "name": "stderr",
     "output_type": "stream",
     "text": [
      "\r"
     ]
    },
    {
     "name": "stdout",
     "output_type": "stream",
     "text": [
      "MoviePy - Writing audio in ./audio_extracted_no/2499.mp3\n"
     ]
    },
    {
     "name": "stderr",
     "output_type": "stream",
     "text": [
      "                                                       "
     ]
    },
    {
     "name": "stdout",
     "output_type": "stream",
     "text": [
      "MoviePy - Done.\n",
      "                 utterance speaker   \n",
      "2314  Am I out of control?  MONICA  \\\n",
      "\n",
      "                                                context context_speakers   \n",
      "2314  [Uh, belt's to tight, gotta change the belt. D...         [MONICA]  \\\n",
      "\n",
      "         show  sarcasm  \n",
      "2314  FRIENDS    False  \n",
      "2314    False\n",
      "Name: sarcasm, dtype: bool\n"
     ]
    },
    {
     "name": "stderr",
     "output_type": "stream",
     "text": [
      "\r"
     ]
    },
    {
     "name": "stdout",
     "output_type": "stream",
     "text": [
      "MoviePy - Writing audio in ./audio_extracted_no/2314.mp3\n"
     ]
    },
    {
     "name": "stderr",
     "output_type": "stream",
     "text": [
      "                                                       "
     ]
    },
    {
     "name": "stdout",
     "output_type": "stream",
     "text": [
      "MoviePy - Done.\n",
      "                              utterance   speaker   \n",
      "2472  And I just won a million dollars!  CHANDLER  \\\n",
      "\n",
      "                                                context context_speakers   \n",
      "2472  [I don't want to be single. I just, I just wan...           [ROSS]  \\\n",
      "\n",
      "         show  sarcasm  \n",
      "2472  FRIENDS    False  \n",
      "2472    False\n",
      "Name: sarcasm, dtype: bool\n"
     ]
    },
    {
     "name": "stderr",
     "output_type": "stream",
     "text": [
      "\r"
     ]
    },
    {
     "name": "stdout",
     "output_type": "stream",
     "text": [
      "MoviePy - Writing audio in ./audio_extracted_no/2472.mp3\n"
     ]
    },
    {
     "name": "stderr",
     "output_type": "stream",
     "text": [
      "                                                                  "
     ]
    },
    {
     "name": "stdout",
     "output_type": "stream",
     "text": [
      "MoviePy - Done.\n",
      "                                  utterance speaker   \n",
      "2300  I don't think you could ever do that.  PHOEBE  \\\n",
      "\n",
      "                                                context   \n",
      "2300  [There is nothing wrong with Jake! Okay? He is...  \\\n",
      "\n",
      "            context_speakers     show  sarcasm  \n",
      "2300  [PHOEBE, JOEY, PHOEBE]  FRIENDS    False  \n",
      "2300    False\n",
      "Name: sarcasm, dtype: bool\n"
     ]
    },
    {
     "name": "stderr",
     "output_type": "stream",
     "text": [
      "\r"
     ]
    },
    {
     "name": "stdout",
     "output_type": "stream",
     "text": [
      "MoviePy - Writing audio in ./audio_extracted_no/2300.mp3\n"
     ]
    },
    {
     "name": "stderr",
     "output_type": "stream",
     "text": [
      "                                                       "
     ]
    },
    {
     "name": "stdout",
     "output_type": "stream",
     "text": [
      "MoviePy - Done.\n",
      "                              utterance  speaker   \n",
      "2462  No Rose, at a pie eating contest.  DOROTHY  \\\n",
      "\n",
      "                                                context context_speakers   \n",
      "2462  [Oh I am so nervous. Have you ever given an eu...  [DOROTHY, ROSE]  \\\n",
      "\n",
      "             show  sarcasm  \n",
      "2462  GOLDENGIRLS     True  \n",
      "2462    True\n",
      "Name: sarcasm, dtype: bool\n"
     ]
    },
    {
     "name": "stderr",
     "output_type": "stream",
     "text": [
      "\r"
     ]
    },
    {
     "name": "stdout",
     "output_type": "stream",
     "text": [
      "MoviePy - Writing audio in ./audio_extracted_yes/2462.mp3\n"
     ]
    },
    {
     "name": "stderr",
     "output_type": "stream",
     "text": [
      "                                                                   "
     ]
    },
    {
     "name": "stdout",
     "output_type": "stream",
     "text": [
      "MoviePy - Done.\n",
      "                                              utterance   speaker   \n",
      "2310  Well thank God your livelihood doesn't depend ...  CHANDLER  \\\n",
      "\n",
      "                                                context  context_speakers   \n",
      "2310  [Hey, I need you to set me up for a joke. Late...  [CHANDLER, JOEY]  \\\n",
      "\n",
      "         show  sarcasm  \n",
      "2310  FRIENDS     True  \n",
      "2310    True\n",
      "Name: sarcasm, dtype: bool\n"
     ]
    },
    {
     "name": "stderr",
     "output_type": "stream",
     "text": [
      "\r"
     ]
    },
    {
     "name": "stdout",
     "output_type": "stream",
     "text": [
      "MoviePy - Writing audio in ./audio_extracted_yes/2310.mp3\n"
     ]
    },
    {
     "name": "stderr",
     "output_type": "stream",
     "text": [
      "                                                       "
     ]
    },
    {
     "name": "stdout",
     "output_type": "stream",
     "text": [
      "MoviePy - Done.\n",
      "                                                utterance  speaker   \n",
      "110190  Well, now that I've given up string theory, I'...  SHELDON  \\\n",
      "\n",
      "                                                  context   \n",
      "110190  [it's important to the story that my boobs be ...  \\\n",
      "\n",
      "                                        context_speakers show  sarcasm  \n",
      "110190  [PENNY, LEONARD, PENNY, PENNY, SHELDON, LEONARD]  BBT    False  \n",
      "110190    False\n",
      "Name: sarcasm, dtype: bool\n"
     ]
    },
    {
     "name": "stderr",
     "output_type": "stream",
     "text": [
      "\r"
     ]
    },
    {
     "name": "stdout",
     "output_type": "stream",
     "text": [
      "MoviePy - Writing audio in ./audio_extracted_no/110190.mp3\n"
     ]
    },
    {
     "name": "stderr",
     "output_type": "stream",
     "text": [
      "                                                                  "
     ]
    },
    {
     "name": "stdout",
     "output_type": "stream",
     "text": [
      "MoviePy - Done.\n",
      "                                               utterance  speaker   \n",
      "11144  Notify the editors of the Oxford English Dicti...  SHELDON  \\\n",
      "\n",
      "                                                 context   \n",
      "11144  [Are you saying that you've been holding back?...  \\\n",
      "\n",
      "                                       context_speakers show  sarcasm  \n",
      "11144  [HOWARD, LEONARD, HOWARD, RAJ, LEONARD, LEONARD]  BBT     True  \n",
      "11144    True\n",
      "Name: sarcasm, dtype: bool\n"
     ]
    },
    {
     "name": "stderr",
     "output_type": "stream",
     "text": [
      "\r"
     ]
    },
    {
     "name": "stdout",
     "output_type": "stream",
     "text": [
      "MoviePy - Writing audio in ./audio_extracted_yes/11144.mp3\n"
     ]
    },
    {
     "name": "stderr",
     "output_type": "stream",
     "text": [
      "                                                                  "
     ]
    },
    {
     "name": "stdout",
     "output_type": "stream",
     "text": [
      "MoviePy - Done.\n",
      "                                              utterance    speaker   \n",
      "2338  And I am sure every person here really really ...  MODERATOR  \\\n",
      "\n",
      "                                                context   \n",
      "2338  [Scott scott come back. You have to realize th...  \\\n",
      "\n",
      "                                  context_speakers            show  sarcasm  \n",
      "2338  [MODERATOR, MODERATOR, MODERATOR, MODERATOR]  SARCASMOHOLICS     True  \n",
      "2338    True\n",
      "Name: sarcasm, dtype: bool\n"
     ]
    },
    {
     "name": "stderr",
     "output_type": "stream",
     "text": [
      "\r"
     ]
    },
    {
     "name": "stdout",
     "output_type": "stream",
     "text": [
      "MoviePy - Writing audio in ./audio_extracted_yes/2338.mp3\n"
     ]
    },
    {
     "name": "stderr",
     "output_type": "stream",
     "text": [
      "                                                                    "
     ]
    },
    {
     "name": "stdout",
     "output_type": "stream",
     "text": [
      "MoviePy - Done.\n",
      "                                               utterance  speaker   \n",
      "16165  Yes, there's nothing quite like the slightly w...  SHELDON  \\\n",
      "\n",
      "                                                 context   \n",
      "16165  [Okay, all right., That one was clever., Skele...  \\\n",
      "\n",
      "                                        context_speakers show  sarcasm  \n",
      "16165  [SHELDON, SHELDON, SHELDON, SHELDON, SHELDON, ...  BBT     True  \n",
      "16165    True\n",
      "Name: sarcasm, dtype: bool\n"
     ]
    },
    {
     "name": "stderr",
     "output_type": "stream",
     "text": [
      "\r"
     ]
    },
    {
     "name": "stdout",
     "output_type": "stream",
     "text": [
      "MoviePy - Writing audio in ./audio_extracted_yes/16165.mp3\n"
     ]
    },
    {
     "name": "stderr",
     "output_type": "stream",
     "text": [
      "                                                                   "
     ]
    },
    {
     "name": "stdout",
     "output_type": "stream",
     "text": [
      "MoviePy - Done.\n",
      "                                              utterance  speaker   \n",
      "2489  No, its because I cannot make any sense of tho...  DOROTHY  \\\n",
      "\n",
      "                                                context context_speakers   \n",
      "2489  [Sorry I snapped at your Rose. It's just that ...  [DOROTHY, ROSE]  \\\n",
      "\n",
      "             show  sarcasm  \n",
      "2489  GOLDENGIRLS     True  \n",
      "2489    True\n",
      "Name: sarcasm, dtype: bool\n"
     ]
    },
    {
     "name": "stderr",
     "output_type": "stream",
     "text": [
      "\r"
     ]
    },
    {
     "name": "stdout",
     "output_type": "stream",
     "text": [
      "MoviePy - Writing audio in ./audio_extracted_yes/2489.mp3\n"
     ]
    },
    {
     "name": "stderr",
     "output_type": "stream",
     "text": [
      "                                                                    "
     ]
    },
    {
     "name": "stdout",
     "output_type": "stream",
     "text": [
      "MoviePy - Done.\n",
      "                                                utterance     speaker   \n",
      "111098  Wow, you still have it? I just assumed it was ...  BERNADETTE  \\\n",
      "\n",
      "                                                  context   \n",
      "111098  [I don't suppose you also brought napkins, cle...  \\\n",
      "\n",
      "                                         context_speakers show  sarcasm  \n",
      "111098  [PENNY, BERNADETTE, PENNY, AMY, PENNY, AMY, AM...  BBT     True  \n",
      "111098    True\n",
      "Name: sarcasm, dtype: bool\n"
     ]
    },
    {
     "name": "stderr",
     "output_type": "stream",
     "text": [
      "\r"
     ]
    },
    {
     "name": "stdout",
     "output_type": "stream",
     "text": [
      "MoviePy - Writing audio in ./audio_extracted_yes/111098.mp3\n"
     ]
    },
    {
     "name": "stderr",
     "output_type": "stream",
     "text": [
      "                                                                   "
     ]
    },
    {
     "name": "stdout",
     "output_type": "stream",
     "text": [
      "MoviePy - Done.\n",
      "                                               utterance speaker   \n",
      "13545  I understand your point, but given a choice, J...  HOWARD  \\\n",
      "\n",
      "                                                 context   \n",
      "13545  [There's a 39.95 lover's special at P.F. Chang...  \\\n",
      "\n",
      "                context_speakers show  sarcasm  \n",
      "13545  [HOWARD, HOWARD, SHELDON]  BBT     True  \n",
      "13545    True\n",
      "Name: sarcasm, dtype: bool\n"
     ]
    },
    {
     "name": "stderr",
     "output_type": "stream",
     "text": [
      "\r"
     ]
    },
    {
     "name": "stdout",
     "output_type": "stream",
     "text": [
      "MoviePy - Writing audio in ./audio_extracted_yes/13545.mp3\n"
     ]
    },
    {
     "name": "stderr",
     "output_type": "stream",
     "text": [
      "                                                                  "
     ]
    },
    {
     "name": "stdout",
     "output_type": "stream",
     "text": [
      "MoviePy - Done.\n",
      "                                               utterance speaker   \n",
      "15134  Oh, yeah, yeah. It's real great. Today I drove...   PENNY  \\\n",
      "\n",
      "                                                 context   \n",
      "15134  [Thank you, Leonard. That doesn't make it soun...  \\\n",
      "\n",
      "                        context_speakers show  sarcasm  \n",
      "15134  [PERSON, AMY, PENNY, AMY, PERSON]  BBT     True  \n",
      "15134    True\n",
      "Name: sarcasm, dtype: bool\n"
     ]
    },
    {
     "name": "stderr",
     "output_type": "stream",
     "text": [
      "\r"
     ]
    },
    {
     "name": "stdout",
     "output_type": "stream",
     "text": [
      "MoviePy - Writing audio in ./audio_extracted_yes/15134.mp3\n"
     ]
    },
    {
     "name": "stderr",
     "output_type": "stream",
     "text": [
      "                                                                  "
     ]
    },
    {
     "name": "stdout",
     "output_type": "stream",
     "text": [
      "MoviePy - Done.\n",
      "                                              utterance   speaker   \n",
      "2112  I think this is probably why Damone smokes in ...  CHANDLER  \\\n",
      "\n",
      "                                                context  context_speakers   \n",
      "2112  [I just want to go back to my cell, cause in m...  [JOEY, CHANDLER]  \\\n",
      "\n",
      "         show  sarcasm  \n",
      "2112  FRIENDS     True  \n",
      "2112    True\n",
      "Name: sarcasm, dtype: bool\n"
     ]
    },
    {
     "name": "stderr",
     "output_type": "stream",
     "text": [
      "\r"
     ]
    },
    {
     "name": "stdout",
     "output_type": "stream",
     "text": [
      "MoviePy - Writing audio in ./audio_extracted_yes/2112.mp3\n"
     ]
    },
    {
     "name": "stderr",
     "output_type": "stream",
     "text": [
      "                                                                    "
     ]
    },
    {
     "name": "stdout",
     "output_type": "stream",
     "text": [
      "MoviePy - Done.\n",
      "                                               utterance  speaker   \n",
      "17938  Come on, let's just start walking. There's got...  LEONARD  \\\n",
      "\n",
      "                                                 context   \n",
      "17938  [What if we were to get in a car with a crazy ...  \\\n",
      "\n",
      "                          context_speakers show  sarcasm  \n",
      "17938  [SHELDON, LEONARD, SHELDON, HOWARD]  BBT    False  \n",
      "17938    False\n",
      "Name: sarcasm, dtype: bool\n"
     ]
    },
    {
     "name": "stderr",
     "output_type": "stream",
     "text": [
      "\r"
     ]
    },
    {
     "name": "stdout",
     "output_type": "stream",
     "text": [
      "MoviePy - Writing audio in ./audio_extracted_no/17938.mp3\n"
     ]
    },
    {
     "name": "stderr",
     "output_type": "stream",
     "text": [
      "                                                                  "
     ]
    },
    {
     "name": "stdout",
     "output_type": "stream",
     "text": [
      "MoviePy - Done.\n",
      "                                               utterance  speaker   \n",
      "12075  There's no hurry. Tell them more about their s...  LEONARD  \\\n",
      "\n",
      "                                                 context   \n",
      "12075  [Say what?, That's basically what I just said....  \\\n",
      "\n",
      "                                 context_speakers show  sarcasm  \n",
      "12075  [HOWARD, HOWARD, LEONARD, LEONARD, PERSON]  BBT    False  \n",
      "12075    False\n",
      "Name: sarcasm, dtype: bool\n"
     ]
    },
    {
     "name": "stderr",
     "output_type": "stream",
     "text": [
      "\r"
     ]
    },
    {
     "name": "stdout",
     "output_type": "stream",
     "text": [
      "MoviePy - Writing audio in ./audio_extracted_no/12075.mp3\n"
     ]
    },
    {
     "name": "stderr",
     "output_type": "stream",
     "text": [
      "                                                       "
     ]
    },
    {
     "name": "stdout",
     "output_type": "stream",
     "text": [
      "MoviePy - Done.\n",
      "                                               utterance speaker   \n",
      "13419  Oh, we don't need to talk about that anymore. ...   PENNY  \\\n",
      "\n",
      "                                                 context   \n",
      "13419  [So, what should we talk about?, Well, we coul...  \\\n",
      "\n",
      "           context_speakers show  sarcasm  \n",
      "13419  [BERNADETTE, HOWARD]  BBT     True  \n",
      "13419    True\n",
      "Name: sarcasm, dtype: bool\n"
     ]
    },
    {
     "name": "stderr",
     "output_type": "stream",
     "text": [
      "\r"
     ]
    },
    {
     "name": "stdout",
     "output_type": "stream",
     "text": [
      "MoviePy - Writing audio in ./audio_extracted_yes/13419.mp3\n"
     ]
    },
    {
     "name": "stderr",
     "output_type": "stream",
     "text": [
      "                                                                  "
     ]
    },
    {
     "name": "stdout",
     "output_type": "stream",
     "text": [
      "MoviePy - Done.\n",
      "                                             utterance   speaker   \n",
      "224  Uh, okay. The fifth dentist caved and not they...  CHANDLER  \\\n",
      "\n",
      "                                               context   \n",
      "224  [Who?, Dee, the sarcastic sister from What's H...  \\\n",
      "\n",
      "             context_speakers     show  sarcasm  \n",
      "224  [ROSS, CHANDLER, RACHEL]  FRIENDS     True  \n",
      "224    True\n",
      "Name: sarcasm, dtype: bool\n"
     ]
    },
    {
     "name": "stderr",
     "output_type": "stream",
     "text": [
      "\r"
     ]
    },
    {
     "name": "stdout",
     "output_type": "stream",
     "text": [
      "MoviePy - Writing audio in ./audio_extracted_yes/224.mp3\n"
     ]
    },
    {
     "name": "stderr",
     "output_type": "stream",
     "text": [
      "                                                                 "
     ]
    },
    {
     "name": "stdout",
     "output_type": "stream",
     "text": [
      "MoviePy - Done.\n",
      "           utterance speaker                                   context   \n",
      "230  So how'd it go?    ROSS  [Yeah. He could row like a viking., Hi.]  \\\n",
      "\n",
      "    context_speakers     show  sarcasm  \n",
      "230   [ROSS, MONICA]  FRIENDS    False  \n",
      "230    False\n",
      "Name: sarcasm, dtype: bool\n"
     ]
    },
    {
     "name": "stderr",
     "output_type": "stream",
     "text": [
      "\r"
     ]
    },
    {
     "name": "stdout",
     "output_type": "stream",
     "text": [
      "MoviePy - Writing audio in ./audio_extracted_no/230.mp3\n"
     ]
    },
    {
     "name": "stderr",
     "output_type": "stream",
     "text": [
      "                                                       "
     ]
    },
    {
     "name": "stdout",
     "output_type": "stream",
     "text": [
      "MoviePy - Done.\n",
      "                                                utterance speaker   \n",
      "111885  Yeah, turns out half a dozen menorahs really s...  PERSON  \\\n",
      "\n",
      "                                                  context   \n",
      "111885  [Glad you guys could make it., Of course., Wow...  \\\n",
      "\n",
      "                context_speakers show  sarcasm  \n",
      "111885  [PERSON, LEONARD, PENNY]  BBT     True  \n",
      "111885    True\n",
      "Name: sarcasm, dtype: bool\n"
     ]
    },
    {
     "name": "stderr",
     "output_type": "stream",
     "text": [
      "\r"
     ]
    },
    {
     "name": "stdout",
     "output_type": "stream",
     "text": [
      "MoviePy - Writing audio in ./audio_extracted_yes/111885.mp3\n"
     ]
    },
    {
     "name": "stderr",
     "output_type": "stream",
     "text": [
      "                                                        "
     ]
    },
    {
     "name": "stdout",
     "output_type": "stream",
     "text": [
      "MoviePy - Done.\n",
      "     utterance speaker                                            context   \n",
      "2270      Hey.    JOEY  [Where'd you get fruit at four in the morning?...  \\\n",
      "\n",
      "            context_speakers     show  sarcasm  \n",
      "2270  [ROSS, MONICA, RACHEL]  FRIENDS    False  \n",
      "2270    False\n",
      "Name: sarcasm, dtype: bool\n"
     ]
    },
    {
     "name": "stderr",
     "output_type": "stream",
     "text": [
      "\r"
     ]
    },
    {
     "name": "stdout",
     "output_type": "stream",
     "text": [
      "MoviePy - Writing audio in ./audio_extracted_no/2270.mp3\n"
     ]
    },
    {
     "name": "stderr",
     "output_type": "stream",
     "text": [
      "                                                       "
     ]
    },
    {
     "name": "stdout",
     "output_type": "stream",
     "text": [
      "MoviePy - Done.\n",
      "                                              utterance  speaker   \n",
      "2502  I'm worried about whether Michael Jackson will...  DOROTHY  \\\n",
      "\n",
      "                                                context context_speakers   \n",
      "2502  [Still worried about the money you owe the gov...        [BLANCHE]  \\\n",
      "\n",
      "             show  sarcasm  \n",
      "2502  GOLDENGIRLS     True  \n",
      "2502    True\n",
      "Name: sarcasm, dtype: bool\n"
     ]
    },
    {
     "name": "stderr",
     "output_type": "stream",
     "text": [
      "\r"
     ]
    },
    {
     "name": "stdout",
     "output_type": "stream",
     "text": [
      "MoviePy - Writing audio in ./audio_extracted_yes/2502.mp3\n"
     ]
    },
    {
     "name": "stderr",
     "output_type": "stream",
     "text": [
      "                                                                    "
     ]
    },
    {
     "name": "stdout",
     "output_type": "stream",
     "text": [
      "MoviePy - Done.\n",
      "                                               utterance     speaker   \n",
      "16039  I don't know what I'm going to do. I don't wan...  BERNADETTE  \\\n",
      "\n",
      "                                                 context   \n",
      "16039  [He can't go to space., He's like a baby bird....  \\\n",
      "\n",
      "                                        context_speakers show  sarcasm  \n",
      "16039  [BERNADETTE, BERNADETTE, BERNADETTE, AMY, PENN...  BBT    False  \n",
      "16039    False\n",
      "Name: sarcasm, dtype: bool\n"
     ]
    },
    {
     "name": "stderr",
     "output_type": "stream",
     "text": [
      "\r"
     ]
    },
    {
     "name": "stdout",
     "output_type": "stream",
     "text": [
      "MoviePy - Writing audio in ./audio_extracted_no/16039.mp3\n"
     ]
    },
    {
     "name": "stderr",
     "output_type": "stream",
     "text": [
      "                                                                    "
     ]
    },
    {
     "name": "stdout",
     "output_type": "stream",
     "text": [
      "MoviePy - Done.\n",
      "     utterance speaker                                            context   \n",
      "2264     Okay?  PHOEBE  [Listen, I'm sorry about that whole thing with...  \\\n",
      "\n",
      "     context_speakers     show  sarcasm  \n",
      "2264         [PHOEBE]  FRIENDS    False  \n",
      "2264    False\n",
      "Name: sarcasm, dtype: bool\n"
     ]
    },
    {
     "name": "stderr",
     "output_type": "stream",
     "text": [
      "\r"
     ]
    },
    {
     "name": "stdout",
     "output_type": "stream",
     "text": [
      "MoviePy - Writing audio in ./audio_extracted_no/2264.mp3\n"
     ]
    },
    {
     "name": "stderr",
     "output_type": "stream",
     "text": [
      "                                                       "
     ]
    },
    {
     "name": "stdout",
     "output_type": "stream",
     "text": [
      "MoviePy - Done.\n",
      "                                              utterance   speaker   \n",
      "2258  I am telling you, when she leaned back, I coul...  CHANDLER  \\\n",
      "\n",
      "                                                context   \n",
      "2258  [Hey, So how was Joan?, Broke up with her, Why...  \\\n",
      "\n",
      "                                context_speakers     show  sarcasm  \n",
      "2258  [CHANDLER, MONICA, CHANDLER, MONICA, ROSS]  FRIENDS     True  \n",
      "2258    True\n",
      "Name: sarcasm, dtype: bool\n"
     ]
    },
    {
     "name": "stderr",
     "output_type": "stream",
     "text": [
      "\r"
     ]
    },
    {
     "name": "stdout",
     "output_type": "stream",
     "text": [
      "MoviePy - Writing audio in ./audio_extracted_yes/2258.mp3\n"
     ]
    },
    {
     "name": "stderr",
     "output_type": "stream",
     "text": [
      "                                                                    "
     ]
    },
    {
     "name": "stdout",
     "output_type": "stream",
     "text": [
      "MoviePy - Done.\n",
      "                                             utterance  speaker   \n",
      "160  It's just a privilege to watch your mind at work.  SHELDON  \\\n",
      "\n",
      "                                               context    context_speakers   \n",
      "160  [I never would have identified the fingerprint...  [LEONARD, SHELDON]  \\\n",
      "\n",
      "    show  sarcasm  \n",
      "160  BBT     True  \n",
      "160    True\n",
      "Name: sarcasm, dtype: bool\n"
     ]
    },
    {
     "name": "stderr",
     "output_type": "stream",
     "text": [
      "\r"
     ]
    },
    {
     "name": "stdout",
     "output_type": "stream",
     "text": [
      "MoviePy - Writing audio in ./audio_extracted_yes/160.mp3\n"
     ]
    },
    {
     "name": "stderr",
     "output_type": "stream",
     "text": [
      "                                                       "
     ]
    },
    {
     "name": "stdout",
     "output_type": "stream",
     "text": [
      "MoviePy - Done.\n",
      "                                              utterance  speaker   \n",
      "2259  I wasn't by myself. I had a doctor, a nurse, a...  PERSON1  \\\n",
      "\n",
      "                                                context   \n",
      "2259  [Your mom called me. So is this her?, No, this...  \\\n",
      "\n",
      "                 context_speakers     show  sarcasm  \n",
      "2259  [PERSON2, PERSON1, PERSON2]  FRIENDS    False  \n",
      "2259    False\n",
      "Name: sarcasm, dtype: bool\n"
     ]
    },
    {
     "name": "stderr",
     "output_type": "stream",
     "text": [
      "\r"
     ]
    },
    {
     "name": "stdout",
     "output_type": "stream",
     "text": [
      "MoviePy - Writing audio in ./audio_extracted_no/2259.mp3\n"
     ]
    },
    {
     "name": "stderr",
     "output_type": "stream",
     "text": [
      "                                                                    "
     ]
    },
    {
     "name": "stdout",
     "output_type": "stream",
     "text": [
      "MoviePy - Done.\n",
      "          utterance    speaker                     context context_speakers   \n",
      "2271  Sarcasm? Noo.  MODERATOR  [Sorry, was that sarcasm?]          [SCOTT]  \\\n",
      "\n",
      "                show  sarcasm  \n",
      "2271  SARCASMOHOLICS     True  \n",
      "2271    True\n",
      "Name: sarcasm, dtype: bool\n"
     ]
    },
    {
     "name": "stderr",
     "output_type": "stream",
     "text": [
      "\r"
     ]
    },
    {
     "name": "stdout",
     "output_type": "stream",
     "text": [
      "MoviePy - Writing audio in ./audio_extracted_yes/2271.mp3\n"
     ]
    },
    {
     "name": "stderr",
     "output_type": "stream",
     "text": [
      "                                                       "
     ]
    },
    {
     "name": "stdout",
     "output_type": "stream",
     "text": [
      "MoviePy - Done.\n",
      "     utterance speaker                                     context   \n",
      "2517     Yeah?  PHOEBE  [Hi!, Hey!, Uh, Pheebs, about your mom...]  \\\n",
      "\n",
      "          context_speakers     show  sarcasm  \n",
      "2517  [PHOEBE, JOEY, JOEY]  FRIENDS    False  \n",
      "2517    False\n",
      "Name: sarcasm, dtype: bool\n"
     ]
    },
    {
     "name": "stderr",
     "output_type": "stream",
     "text": [
      "\r"
     ]
    },
    {
     "name": "stdout",
     "output_type": "stream",
     "text": [
      "MoviePy - Writing audio in ./audio_extracted_no/2517.mp3\n"
     ]
    },
    {
     "name": "stderr",
     "output_type": "stream",
     "text": [
      "                                                       "
     ]
    },
    {
     "name": "stdout",
     "output_type": "stream",
     "text": [
      "MoviePy - Done.\n",
      "                                                utterance speaker   \n",
      "110797  I'm with him three years, nothing. She's with ...     AMY  \\\n",
      "\n",
      "                                                  context   \n",
      "110797  [to be a pharmaceutical sales rep., Maybe she ...  \\\n",
      "\n",
      "                                         context_speakers show  sarcasm  \n",
      "110797  [BERNADETTE, BERNADETTE, PENNY, PERSON, SHELDO...  BBT    False  \n",
      "110797    False\n",
      "Name: sarcasm, dtype: bool\n"
     ]
    },
    {
     "name": "stderr",
     "output_type": "stream",
     "text": [
      "\r"
     ]
    },
    {
     "name": "stdout",
     "output_type": "stream",
     "text": [
      "MoviePy - Writing audio in ./audio_extracted_no/110797.mp3\n"
     ]
    },
    {
     "name": "stderr",
     "output_type": "stream",
     "text": [
      "                                                                  "
     ]
    },
    {
     "name": "stdout",
     "output_type": "stream",
     "text": [
      "MoviePy - Done.\n",
      "                      utterance speaker   \n",
      "231  Even if people are on it!\"  RACHEL  \\\n",
      "\n",
      "                                               context context_speakers   \n",
      "231  [You know what else I'm not gonna miss? \"I'm M...         [RACHEL]  \\\n",
      "\n",
      "        show  sarcasm  \n",
      "231  FRIENDS     True  \n",
      "231    True\n",
      "Name: sarcasm, dtype: bool\n"
     ]
    },
    {
     "name": "stderr",
     "output_type": "stream",
     "text": [
      "\r"
     ]
    },
    {
     "name": "stdout",
     "output_type": "stream",
     "text": [
      "MoviePy - Writing audio in ./audio_extracted_yes/231.mp3\n"
     ]
    },
    {
     "name": "stderr",
     "output_type": "stream",
     "text": [
      "                                                       "
     ]
    },
    {
     "name": "stdout",
     "output_type": "stream",
     "text": [
      "MoviePy - Done.\n",
      "                                               utterance speaker   \n",
      "18217  Go out with me on one date, and I promise you,...     RAJ  \\\n",
      "\n",
      "                                                 context   \n",
      "18217  [There are many things seriously wrong with me...  \\\n",
      "\n",
      "              context_speakers show  sarcasm  \n",
      "18217  [RAJ, RAJ, RAJ, PERSON]  BBT    False  \n",
      "18217    False\n",
      "Name: sarcasm, dtype: bool\n"
     ]
    },
    {
     "name": "stderr",
     "output_type": "stream",
     "text": [
      "\r"
     ]
    },
    {
     "name": "stdout",
     "output_type": "stream",
     "text": [
      "MoviePy - Writing audio in ./audio_extracted_no/18217.mp3\n"
     ]
    },
    {
     "name": "stderr",
     "output_type": "stream",
     "text": [
      "                                                                  "
     ]
    },
    {
     "name": "stdout",
     "output_type": "stream",
     "text": [
      "MoviePy - Done.\n",
      "                                               utterance speaker   \n",
      "15109  Yeah, but you were just sleeping, because I fo...     RAJ  \\\n",
      "\n",
      "                                                 context   \n",
      "15109  [That's very nice of you, but I made other pla...  \\\n",
      "\n",
      "                                      context_speakers show  sarcasm  \n",
      "15109  [HOWARD, SHELDON, PERSON, SHELDON, RAJ, PERSON]  BBT    False  \n",
      "15109    False\n",
      "Name: sarcasm, dtype: bool\n"
     ]
    },
    {
     "name": "stderr",
     "output_type": "stream",
     "text": [
      "\r"
     ]
    },
    {
     "name": "stdout",
     "output_type": "stream",
     "text": [
      "MoviePy - Writing audio in ./audio_extracted_no/15109.mp3\n"
     ]
    },
    {
     "name": "stderr",
     "output_type": "stream",
     "text": [
      "                                                                  "
     ]
    },
    {
     "name": "stdout",
     "output_type": "stream",
     "text": [
      "MoviePy - Done.\n",
      "                                              utterance   speaker   \n",
      "2113  No, no the actual cartoon character .. Of cour...  CHANDLER  \\\n",
      "\n",
      "                                                context context_speakers   \n",
      "2113  [The most unbelievable thing has happened. Und...       [CHANDLER]  \\\n",
      "\n",
      "         show  sarcasm  \n",
      "2113  FRIENDS     True  \n",
      "2113    True\n",
      "Name: sarcasm, dtype: bool\n"
     ]
    },
    {
     "name": "stderr",
     "output_type": "stream",
     "text": [
      "\r"
     ]
    },
    {
     "name": "stdout",
     "output_type": "stream",
     "text": [
      "MoviePy - Writing audio in ./audio_extracted_yes/2113.mp3\n"
     ]
    },
    {
     "name": "stderr",
     "output_type": "stream",
     "text": [
      "                                                                   "
     ]
    },
    {
     "name": "stdout",
     "output_type": "stream",
     "text": [
      "MoviePy - Done.\n",
      "                                               utterance  speaker   \n",
      "16428  Sure. You want to see what all the scientists ...  LEONARD  \\\n",
      "\n",
      "                                                 context    context_speakers   \n",
      "16428  [It's 2:00 a.m. What are you doing up?, Nobel ...  [LEONARD, SHELDON]  \\\n",
      "\n",
      "      show  sarcasm  \n",
      "16428  BBT     True  \n",
      "16428    True\n",
      "Name: sarcasm, dtype: bool\n"
     ]
    },
    {
     "name": "stderr",
     "output_type": "stream",
     "text": [
      "\r"
     ]
    },
    {
     "name": "stdout",
     "output_type": "stream",
     "text": [
      "MoviePy - Writing audio in ./audio_extracted_yes/16428.mp3\n"
     ]
    },
    {
     "name": "stderr",
     "output_type": "stream",
     "text": [
      "                                                                  "
     ]
    },
    {
     "name": "stdout",
     "output_type": "stream",
     "text": [
      "MoviePy - Done.\n",
      "                                               utterance  speaker   \n",
      "17722  Exactly what it was half an hour ago. It's lik...  SHELDON  \\\n",
      "\n",
      "                                      context context_speakers show  sarcasm  \n",
      "17722  [(thermometer beeps) 102.2.\\n(coughs)]        [SHELDON]  BBT     True  \n",
      "17722    True\n",
      "Name: sarcasm, dtype: bool\n"
     ]
    },
    {
     "name": "stderr",
     "output_type": "stream",
     "text": [
      "\r"
     ]
    },
    {
     "name": "stdout",
     "output_type": "stream",
     "text": [
      "MoviePy - Writing audio in ./audio_extracted_yes/17722.mp3\n"
     ]
    },
    {
     "name": "stderr",
     "output_type": "stream",
     "text": [
      "                                                                  "
     ]
    },
    {
     "name": "stdout",
     "output_type": "stream",
     "text": [
      "MoviePy - Done.\n",
      "                        utterance speaker   \n",
      "2107  You'd better act surprised.    JOEY  \\\n",
      "\n",
      "                                                context   \n",
      "2107  [About what?, He's planning your birthday part...  \\\n",
      "\n",
      "            context_speakers     show  sarcasm  \n",
      "2107  [MONICA, JOEY, MONICA]  FRIENDS    False  \n",
      "2107    False\n",
      "Name: sarcasm, dtype: bool\n"
     ]
    },
    {
     "name": "stderr",
     "output_type": "stream",
     "text": [
      "\r"
     ]
    },
    {
     "name": "stdout",
     "output_type": "stream",
     "text": [
      "MoviePy - Writing audio in ./audio_extracted_no/2107.mp3\n"
     ]
    },
    {
     "name": "stderr",
     "output_type": "stream",
     "text": [
      "                                                       "
     ]
    },
    {
     "name": "stdout",
     "output_type": "stream",
     "text": [
      "MoviePy - Done.\n",
      "                                              utterance   speaker   \n",
      "2488  Just a sec, give me a minute to wake up for th...  CHANDLER  \\\n",
      "\n",
      "                               context            context_speakers     show   \n",
      "2488  [What?, The ring is gone!, Ugh.]  [CHANDLER, JOEY, CHANDLER]  FRIENDS  \\\n",
      "\n",
      "      sarcasm  \n",
      "2488    False  \n",
      "2488    False\n",
      "Name: sarcasm, dtype: bool\n"
     ]
    },
    {
     "name": "stderr",
     "output_type": "stream",
     "text": [
      "\r"
     ]
    },
    {
     "name": "stdout",
     "output_type": "stream",
     "text": [
      "MoviePy - Writing audio in ./audio_extracted_no/2488.mp3\n"
     ]
    },
    {
     "name": "stderr",
     "output_type": "stream",
     "text": [
      "                                                                    "
     ]
    },
    {
     "name": "stdout",
     "output_type": "stream",
     "text": [
      "MoviePy - Done.\n",
      "                                               utterance speaker   \n",
      "12464  You think \"coffee,\" means coffee. That is so s...   PENNY  \\\n",
      "\n",
      "                                                 context   \n",
      "12464  [Come on. I think it's nice that Captain Sweat...  \\\n",
      "\n",
      "                     context_speakers show  sarcasm  \n",
      "12464  [PENNY, PERSON, PENNY, PERSON]  BBT     True  \n",
      "12464    True\n",
      "Name: sarcasm, dtype: bool\n"
     ]
    },
    {
     "name": "stderr",
     "output_type": "stream",
     "text": [
      "\r"
     ]
    },
    {
     "name": "stdout",
     "output_type": "stream",
     "text": [
      "MoviePy - Writing audio in ./audio_extracted_yes/12464.mp3\n"
     ]
    },
    {
     "name": "stderr",
     "output_type": "stream",
     "text": [
      "                                                       "
     ]
    },
    {
     "name": "stdout",
     "output_type": "stream",
     "text": [
      "MoviePy - Done.\n",
      "       utterance speaker                                            context   \n",
      "2339  Thank you.    ROSS  [I have a question. Umm, I used your pen to dr...  \\\n",
      "\n",
      "     context_speakers     show  sarcasm  \n",
      "2339           [ROSS]  FRIENDS    False  \n",
      "2339    False\n",
      "Name: sarcasm, dtype: bool\n"
     ]
    },
    {
     "name": "stderr",
     "output_type": "stream",
     "text": [
      "\r"
     ]
    },
    {
     "name": "stdout",
     "output_type": "stream",
     "text": [
      "MoviePy - Writing audio in ./audio_extracted_no/2339.mp3\n"
     ]
    },
    {
     "name": "stderr",
     "output_type": "stream",
     "text": [
      "                                                       "
     ]
    },
    {
     "name": "stdout",
     "output_type": "stream",
     "text": [
      "MoviePy - Done.\n",
      "                                              utterance   speaker   \n",
      "2477  And then and then you clicked it again, she's ...  CHANDLER  \\\n",
      "\n",
      "                                                context    context_speakers   \n",
      "2477  [Did you have fun at the bachelor's party last...  [RACHEL, CHANDLER]  \\\n",
      "\n",
      "         show  sarcasm  \n",
      "2477  FRIENDS    False  \n",
      "2477    False\n",
      "Name: sarcasm, dtype: bool\n"
     ]
    },
    {
     "name": "stderr",
     "output_type": "stream",
     "text": [
      "\r"
     ]
    },
    {
     "name": "stdout",
     "output_type": "stream",
     "text": [
      "MoviePy - Writing audio in ./audio_extracted_no/2477.mp3\n"
     ]
    },
    {
     "name": "stderr",
     "output_type": "stream",
     "text": [
      "                                                                    \r"
     ]
    },
    {
     "name": "stdout",
     "output_type": "stream",
     "text": [
      "MoviePy - Done.\n",
      "                        utterance speaker   \n",
      "2305  Take a couple deep breaths.    JOEY  \\\n",
      "\n",
      "                                                context context_speakers   \n",
      "2305  [Okay, I can do this. I can tell her how I fee...           [JOEY]  \\\n",
      "\n",
      "         show  sarcasm  \n",
      "2305  FRIENDS    False  \n",
      "2305    False\n",
      "Name: sarcasm, dtype: bool\n",
      "MoviePy - Writing audio in ./audio_extracted_no/2305.mp3\n"
     ]
    },
    {
     "name": "stderr",
     "output_type": "stream",
     "text": [
      "                                                       "
     ]
    },
    {
     "name": "stdout",
     "output_type": "stream",
     "text": [
      "MoviePy - Done.\n",
      "     utterance speaker                                            context   \n",
      "2463       Ok!    JOEY  [You know? Forget it!, No-no-no-no, no! Who, w...  \\\n",
      "\n",
      "            context_speakers     show  sarcasm  \n",
      "2463  [RACHEL, JOEY, RACHEL]  FRIENDS    False  \n",
      "2463    False\n",
      "Name: sarcasm, dtype: bool\n"
     ]
    },
    {
     "name": "stderr",
     "output_type": "stream",
     "text": [
      "\r"
     ]
    },
    {
     "name": "stdout",
     "output_type": "stream",
     "text": [
      "MoviePy - Writing audio in ./audio_extracted_no/2463.mp3\n"
     ]
    },
    {
     "name": "stderr",
     "output_type": "stream",
     "text": [
      "                                                       "
     ]
    },
    {
     "name": "stdout",
     "output_type": "stream",
     "text": [
      "MoviePy - Done.\n",
      "                        utterance speaker   \n",
      "2313  Oh sure, go with the sissy.    JOEY  \\\n",
      "\n",
      "                                                context   \n",
      "2313  [Yeah, but Jason's really sensitive., Well sen...  \\\n",
      "\n",
      "                context_speakers     show  sarcasm  \n",
      "2313  [PHOEBE, CHANDLER, PHOEBE]  FRIENDS     True  \n",
      "2313    True\n",
      "Name: sarcasm, dtype: bool\n"
     ]
    },
    {
     "name": "stderr",
     "output_type": "stream",
     "text": [
      "\r"
     ]
    },
    {
     "name": "stdout",
     "output_type": "stream",
     "text": [
      "MoviePy - Writing audio in ./audio_extracted_yes/2313.mp3\n"
     ]
    },
    {
     "name": "stderr",
     "output_type": "stream",
     "text": [
      "                                                       "
     ]
    },
    {
     "name": "stdout",
     "output_type": "stream",
     "text": [
      "MoviePy - Done.\n",
      "                                              utterance   speaker   \n",
      "2475  Oh yeah ok, including the waffles last week, y...  CHANDLER  \\\n",
      "\n",
      "                                                context context_speakers   \n",
      "2475  [Hey, Chan. Can you help me out here, I promis...           [JOEY]  \\\n",
      "\n",
      "         show  sarcasm  \n",
      "2475  FRIENDS     True  \n",
      "2475    True\n",
      "Name: sarcasm, dtype: bool\n"
     ]
    },
    {
     "name": "stderr",
     "output_type": "stream",
     "text": [
      "\r"
     ]
    },
    {
     "name": "stdout",
     "output_type": "stream",
     "text": [
      "MoviePy - Writing audio in ./audio_extracted_yes/2475.mp3\n"
     ]
    },
    {
     "name": "stderr",
     "output_type": "stream",
     "text": [
      "                                                                  "
     ]
    },
    {
     "name": "stdout",
     "output_type": "stream",
     "text": [
      "MoviePy - Done.\n",
      "                                            utterance   speaker     context   \n",
      "2461  Wow you look just like your son, Mrs. Tribbiani  CHANDLER  [[Laughs]]  \\\n",
      "\n",
      "     context_speakers     show  sarcasm  \n",
      "2461         [PERSON]  FRIENDS     True  \n",
      "2461    True\n",
      "Name: sarcasm, dtype: bool\n"
     ]
    },
    {
     "name": "stderr",
     "output_type": "stream",
     "text": [
      "\r"
     ]
    },
    {
     "name": "stdout",
     "output_type": "stream",
     "text": [
      "MoviePy - Writing audio in ./audio_extracted_yes/2461.mp3\n"
     ]
    },
    {
     "name": "stderr",
     "output_type": "stream",
     "text": [
      "                                                                   "
     ]
    },
    {
     "name": "stdout",
     "output_type": "stream",
     "text": [
      "MoviePy - Done.\n",
      "                                               utterance  speaker   \n",
      "14995  Hey, you taught me something. Who would have t...  SHELDON  \\\n",
      "\n",
      "                                                 context   \n",
      "14995  [Why not? It seems like you're improvising you...  \\\n",
      "\n",
      "                                        context_speakers show  sarcasm  \n",
      "14995  [SHELDON, PENNY, SHELDON, PENNY, SHELDON, PENN...  BBT     True  \n",
      "14995    True\n",
      "Name: sarcasm, dtype: bool\n"
     ]
    },
    {
     "name": "stderr",
     "output_type": "stream",
     "text": [
      "\r"
     ]
    },
    {
     "name": "stdout",
     "output_type": "stream",
     "text": [
      "MoviePy - Writing audio in ./audio_extracted_yes/14995.mp3\n"
     ]
    },
    {
     "name": "stderr",
     "output_type": "stream",
     "text": [
      "                                                                   "
     ]
    },
    {
     "name": "stdout",
     "output_type": "stream",
     "text": [
      "MoviePy - Done.\n",
      "                                    utterance   speaker   \n",
      "2449  Oh no, now its not gonna make any sense  CHANDLER  \\\n",
      "\n",
      "                                                context   \n",
      "2449  [Oh Oh car car., Its Ross on one of his drives...  \\\n",
      "\n",
      "                    context_speakers     show  sarcasm  \n",
      "2449  [RACHEL, PHOEBE, RACHEL, ROSS]  FRIENDS     True  \n",
      "2449    True\n",
      "Name: sarcasm, dtype: bool\n"
     ]
    },
    {
     "name": "stderr",
     "output_type": "stream",
     "text": [
      "\r"
     ]
    },
    {
     "name": "stdout",
     "output_type": "stream",
     "text": [
      "MoviePy - Writing audio in ./audio_extracted_yes/2449.mp3\n"
     ]
    },
    {
     "name": "stderr",
     "output_type": "stream",
     "text": [
      "                                                                    "
     ]
    },
    {
     "name": "stdout",
     "output_type": "stream",
     "text": [
      "MoviePy - Done.\n",
      "                                              utterance  speaker   \n",
      "1213  How's this? \"Pleased to meet you, Dr. Gablehau...  SHELDON  \\\n",
      "\n",
      "                                                context   \n",
      "1213  [You know, I am not going to enjoy this party....  \\\n",
      "\n",
      "                                       context_speakers show  sarcasm  \n",
      "1213  [SHELDON, LEONARD, SHELDON, LEONARD, SHELDON, ...  BBT     True  \n",
      "1213    True\n",
      "Name: sarcasm, dtype: bool\n"
     ]
    },
    {
     "name": "stderr",
     "output_type": "stream",
     "text": [
      "\r"
     ]
    },
    {
     "name": "stdout",
     "output_type": "stream",
     "text": [
      "MoviePy - Writing audio in ./audio_extracted_yes/1213.mp3\n"
     ]
    },
    {
     "name": "stderr",
     "output_type": "stream",
     "text": [
      "                                                                    \r"
     ]
    },
    {
     "name": "stdout",
     "output_type": "stream",
     "text": [
      "MoviePy - Done.\n",
      "            utterance speaker   \n",
      "2111  What was that?!  RACHEL  \\\n",
      "\n",
      "                                                context   \n",
      "2111  [Rachel is one of my closest friends. Although...  \\\n",
      "\n",
      "              context_speakers     show  sarcasm  \n",
      "2111  [PHOEBE, RACHEL, PHOEBE]  FRIENDS    False  \n",
      "2111    False\n",
      "Name: sarcasm, dtype: bool\n",
      "MoviePy - Writing audio in ./audio_extracted_no/2111.mp3\n"
     ]
    },
    {
     "name": "stderr",
     "output_type": "stream",
     "text": [
      "                                                       "
     ]
    },
    {
     "name": "stdout",
     "output_type": "stream",
     "text": [
      "MoviePy - Done.\n",
      "                                               utterance  speaker   \n",
      "18407  Oh, sure, what a wonderful idea. And after tha...  SHELDON  \\\n",
      "\n",
      "                                                 context   \n",
      "18407  [It ended on a cliffhanger., They did., Uh, Sh...  \\\n",
      "\n",
      "                                        context_speakers show  sarcasm  \n",
      "18407  [SHELDON, LEONARD, PENNY, SHELDON, PENNY, SHEL...  BBT     True  \n",
      "18407    True\n",
      "Name: sarcasm, dtype: bool\n"
     ]
    },
    {
     "name": "stderr",
     "output_type": "stream",
     "text": [
      "\r"
     ]
    },
    {
     "name": "stdout",
     "output_type": "stream",
     "text": [
      "MoviePy - Writing audio in ./audio_extracted_yes/18407.mp3\n"
     ]
    },
    {
     "name": "stderr",
     "output_type": "stream",
     "text": [
      "                                                                    \r"
     ]
    },
    {
     "name": "stdout",
     "output_type": "stream",
     "text": [
      "MoviePy - Done.\n",
      "                                              utterance   speaker   \n",
      "2105  Why? You never look down in the shower?  Oh pl...  CHANDLER  \\\n",
      "\n",
      "                                                context context_speakers   \n",
      "2105  [This is so exciting! I haven't seen my monkey...           [ROSS]  \\\n",
      "\n",
      "         show  sarcasm  \n",
      "2105  FRIENDS     True  \n",
      "2105    True\n",
      "Name: sarcasm, dtype: bool\n",
      "MoviePy - Writing audio in ./audio_extracted_yes/2105.mp3\n"
     ]
    },
    {
     "name": "stderr",
     "output_type": "stream",
     "text": [
      "                                                                    "
     ]
    },
    {
     "name": "stdout",
     "output_type": "stream",
     "text": [
      "MoviePy - Done.\n",
      "                                               utterance  speaker   \n",
      "15679  I'd like to respond to that sarcastically: Yes...  SHELDON  \\\n",
      "\n",
      "                                                 context   \n",
      "15679  [the organism responsible for Michelob Lite., ...  \\\n",
      "\n",
      "                                 context_speakers show  sarcasm  \n",
      "15679  [AMY, AMY, SHELDON, SHELDON, SHELDON, AMY]  BBT     True  \n",
      "15679    True\n",
      "Name: sarcasm, dtype: bool\n"
     ]
    },
    {
     "name": "stderr",
     "output_type": "stream",
     "text": [
      "\r"
     ]
    },
    {
     "name": "stdout",
     "output_type": "stream",
     "text": [
      "MoviePy - Writing audio in ./audio_extracted_yes/15679.mp3\n"
     ]
    },
    {
     "name": "stderr",
     "output_type": "stream",
     "text": [
      "                                                                   "
     ]
    },
    {
     "name": "stdout",
     "output_type": "stream",
     "text": [
      "MoviePy - Done.\n",
      "                                               utterance  speaker   \n",
      "16370  Oh, of course he is. She's very interesting. D...  SHELDON  \\\n",
      "\n",
      "                                                 context   \n",
      "16370  [consider changing disciplines.\\nYeah, to the ...  \\\n",
      "\n",
      "                                        context_speakers show  sarcasm  \n",
      "16370  [SHELDON, SHELDON, SHELDON, SHELDON, LEONARD, ...  BBT     True  \n",
      "16370    True\n",
      "Name: sarcasm, dtype: bool\n"
     ]
    },
    {
     "name": "stderr",
     "output_type": "stream",
     "text": [
      "\r"
     ]
    },
    {
     "name": "stdout",
     "output_type": "stream",
     "text": [
      "MoviePy - Writing audio in ./audio_extracted_yes/16370.mp3\n"
     ]
    },
    {
     "name": "stderr",
     "output_type": "stream",
     "text": [
      "                                                                    "
     ]
    },
    {
     "name": "stdout",
     "output_type": "stream",
     "text": [
      "MoviePy - Done.\n",
      "                                               utterance  speaker   \n",
      "12664  Terrific, it's just that... I don't think Penn...  LEONARD  \\\n",
      "\n",
      "                                                 context   \n",
      "12664  [I don't think I can go to the North Pole., I ...  \\\n",
      "\n",
      "                           context_speakers show  sarcasm  \n",
      "12664  [LEONARD, SHELDON, LEONARD, SHELDON]  BBT    False  \n",
      "12664    False\n",
      "Name: sarcasm, dtype: bool\n"
     ]
    },
    {
     "name": "stderr",
     "output_type": "stream",
     "text": [
      "\r"
     ]
    },
    {
     "name": "stdout",
     "output_type": "stream",
     "text": [
      "MoviePy - Writing audio in ./audio_extracted_no/12664.mp3\n"
     ]
    },
    {
     "name": "stderr",
     "output_type": "stream",
     "text": [
      "                                                                  "
     ]
    },
    {
     "name": "stdout",
     "output_type": "stream",
     "text": [
      "MoviePy - Done.\n",
      "                                             utterance speaker   \n",
      "233  This-this, no, oh no, no-no-no, this is not,th...  RACHEL  \\\n",
      "\n",
      "                                               context   \n",
      "233  [Ohh! It's so nice to meet you.  Hello. Hello....  \\\n",
      "\n",
      "             context_speakers     show  sarcasm  \n",
      "233  [RACHEL, PERSON, RACHEL]  FRIENDS    False  \n",
      "233    False\n",
      "Name: sarcasm, dtype: bool\n"
     ]
    },
    {
     "name": "stderr",
     "output_type": "stream",
     "text": [
      "\r"
     ]
    },
    {
     "name": "stdout",
     "output_type": "stream",
     "text": [
      "MoviePy - Writing audio in ./audio_extracted_no/233.mp3\n"
     ]
    },
    {
     "name": "stderr",
     "output_type": "stream",
     "text": [
      "                                                                   "
     ]
    },
    {
     "name": "stdout",
     "output_type": "stream",
     "text": [
      "MoviePy - Done.\n",
      "                                      utterance speaker   \n",
      "227  No no, you don't have to fly back, really.  MONICA  \\\n",
      "\n",
      "                                               context context_speakers   \n",
      "227  [Yeah, Ross is great. He's uh, he's in a whole...         [MONICA]  \\\n",
      "\n",
      "        show  sarcasm  \n",
      "227  FRIENDS    False  \n",
      "227    False\n",
      "Name: sarcasm, dtype: bool\n"
     ]
    },
    {
     "name": "stderr",
     "output_type": "stream",
     "text": [
      "\r"
     ]
    },
    {
     "name": "stdout",
     "output_type": "stream",
     "text": [
      "MoviePy - Writing audio in ./audio_extracted_no/227.mp3\n"
     ]
    },
    {
     "name": "stderr",
     "output_type": "stream",
     "text": [
      "                                                       "
     ]
    },
    {
     "name": "stdout",
     "output_type": "stream",
     "text": [
      "MoviePy - Done.\n",
      "     utterance speaker                                            context   \n",
      "2267  Really!?  RACHEL  [Look honey, Mark is in fashion okay, I like h...  \\\n",
      "\n",
      "     context_speakers     show  sarcasm  \n",
      "2267   [RACHEL, ROSS]  FRIENDS    False  \n",
      "2267    False\n",
      "Name: sarcasm, dtype: bool\n"
     ]
    },
    {
     "name": "stderr",
     "output_type": "stream",
     "text": [
      "\r"
     ]
    },
    {
     "name": "stdout",
     "output_type": "stream",
     "text": [
      "MoviePy - Writing audio in ./audio_extracted_no/2267.mp3\n"
     ]
    },
    {
     "name": "stderr",
     "output_type": "stream",
     "text": [
      "                                                       "
     ]
    },
    {
     "name": "stdout",
     "output_type": "stream",
     "text": [
      "MoviePy - Done.\n",
      "                                               utterance  speaker   \n",
      "17442  The original title was \"A Rederivation of Maxw...  SHELDON  \\\n",
      "\n",
      "                                                 context   \n",
      "17442  [This will interest you. And, Penny, feel free...  \\\n",
      "\n",
      "                                    context_speakers show  sarcasm  \n",
      "17442  [SHELDON, LEONARD, SHELDON, SHELDON, LEONARD]  BBT    False  \n",
      "17442    False\n",
      "Name: sarcasm, dtype: bool\n"
     ]
    },
    {
     "name": "stderr",
     "output_type": "stream",
     "text": [
      "\r"
     ]
    },
    {
     "name": "stdout",
     "output_type": "stream",
     "text": [
      "MoviePy - Writing audio in ./audio_extracted_no/17442.mp3\n"
     ]
    },
    {
     "name": "stderr",
     "output_type": "stream",
     "text": [
      "                                                                    \r"
     ]
    },
    {
     "name": "stdout",
     "output_type": "stream",
     "text": [
      "MoviePy - Done.\n",
      "                                               utterance speaker   \n",
      "14639  Well, I'm just glad you finally found yourself...  PERSON  \\\n",
      "\n",
      "                                                 context   \n",
      "14639  [and pump it into his mom's Camry., Yeah, that...  \\\n",
      "\n",
      "                                        context_speakers show  sarcasm  \n",
      "14639  [PERSON, PENNY, PERSON, PERSON, PENNY, PERSON,...  BBT    False  \n",
      "14639    False\n",
      "Name: sarcasm, dtype: bool\n",
      "MoviePy - Writing audio in ./audio_extracted_no/14639.mp3\n"
     ]
    },
    {
     "name": "stderr",
     "output_type": "stream",
     "text": [
      "                                                       "
     ]
    },
    {
     "name": "stdout",
     "output_type": "stream",
     "text": [
      "MoviePy - Done.\n",
      "                                                utterance speaker   \n",
      "111306  I guess the sad truth is, not everyone will ac...  HOWARD  \\\n",
      "\n",
      "                                                  context   \n",
      "111306  [Well, that's it., That's the end of Roger Abb...  \\\n",
      "\n",
      "                        context_speakers show  sarcasm  \n",
      "111306  [LEONARD, LEONARD, RAJ, LEONARD]  BBT    False  \n",
      "111306    False\n",
      "Name: sarcasm, dtype: bool\n"
     ]
    },
    {
     "name": "stderr",
     "output_type": "stream",
     "text": [
      "\r"
     ]
    },
    {
     "name": "stdout",
     "output_type": "stream",
     "text": [
      "MoviePy - Writing audio in ./audio_extracted_no/111306.mp3\n"
     ]
    },
    {
     "name": "stderr",
     "output_type": "stream",
     "text": [
      "                                                                    \r"
     ]
    },
    {
     "name": "stdout",
     "output_type": "stream",
     "text": [
      "MoviePy - Done.\n",
      "                                              utterance   speaker   \n",
      "2299  What would you give to a kid if he wanted a ti...  CHANDLER  \\\n",
      "\n",
      "                                                context    context_speakers   \n",
      "2299  [One ticket to Yemen? Oh no-no-no, no. No, no,...  [CHANDLER, PERSON]  \\\n",
      "\n",
      "         show  sarcasm  \n",
      "2299  FRIENDS    False  \n",
      "2299    False\n",
      "Name: sarcasm, dtype: bool\n",
      "MoviePy - Writing audio in ./audio_extracted_no/2299.mp3\n"
     ]
    },
    {
     "name": "stderr",
     "output_type": "stream",
     "text": [
      "                                                       "
     ]
    },
    {
     "name": "stdout",
     "output_type": "stream",
     "text": [
      "MoviePy - Done.\n",
      "                                               utterance speaker   \n",
      "11973  I hope I'm a waitress at the Cheesecake Factor...   PENNY  \\\n",
      "\n",
      "                                                 context   \n",
      "11973  [Ask me why., Do I have to?, Of course. That's...  \\\n",
      "\n",
      "                                        context_speakers show  sarcasm  \n",
      "11973  [SHELDON, LEONARD, SHELDON, LEONARD, SHELDON, ...  BBT     True  \n",
      "11973    True\n",
      "Name: sarcasm, dtype: bool\n"
     ]
    },
    {
     "name": "stderr",
     "output_type": "stream",
     "text": [
      "\r"
     ]
    },
    {
     "name": "stdout",
     "output_type": "stream",
     "text": [
      "MoviePy - Writing audio in ./audio_extracted_yes/11973.mp3\n"
     ]
    },
    {
     "name": "stderr",
     "output_type": "stream",
     "text": [
      "                                                                    "
     ]
    },
    {
     "name": "stdout",
     "output_type": "stream",
     "text": [
      "MoviePy - Done.\n",
      "                                            utterance speaker   \n",
      "17494  that sounds a little funny to an American ear.  PERSON  \\\n",
      "\n",
      "                                                 context   \n",
      "17494  [Wow, so you guys are like buds now?, Oh, yeah...  \\\n",
      "\n",
      "                 context_speakers show  sarcasm  \n",
      "17494  [HOWARD, RAJ, PERSON, RAJ]  BBT    False  \n",
      "17494    False\n",
      "Name: sarcasm, dtype: bool\n"
     ]
    },
    {
     "name": "stderr",
     "output_type": "stream",
     "text": [
      "\r"
     ]
    },
    {
     "name": "stdout",
     "output_type": "stream",
     "text": [
      "MoviePy - Writing audio in ./audio_extracted_no/17494.mp3\n"
     ]
    },
    {
     "name": "stderr",
     "output_type": "stream",
     "text": [
      "                                                                  "
     ]
    },
    {
     "name": "stdout",
     "output_type": "stream",
     "text": [
      "MoviePy - Done.\n",
      "                                        utterance speaker   \n",
      "2514  What's going on?!  That's what's going on!!    ROSS  \\\n",
      "\n",
      "                                                context   \n",
      "2514  [Okay, okay look, I know I'm being Mr. Inappro...  \\\n",
      "\n",
      "            context_speakers     show  sarcasm  \n",
      "2514  [PERSON, ROSS, PERSON]  FRIENDS    False  \n",
      "2514    False\n",
      "Name: sarcasm, dtype: bool\n"
     ]
    },
    {
     "name": "stderr",
     "output_type": "stream",
     "text": [
      "\r"
     ]
    },
    {
     "name": "stdout",
     "output_type": "stream",
     "text": [
      "MoviePy - Writing audio in ./audio_extracted_no/2514.mp3\n"
     ]
    },
    {
     "name": "stderr",
     "output_type": "stream",
     "text": [
      "                                                       "
     ]
    },
    {
     "name": "stdout",
     "output_type": "stream",
     "text": [
      "MoviePy - Done.\n",
      "                 utterance speaker     context context_speakers     show   \n",
      "2272  Weā€™re not peeking?    JOEY  [Come on!]         [PERSON]  FRIENDS  \\\n",
      "\n",
      "      sarcasm  \n",
      "2272    False  \n",
      "2272    False\n",
      "Name: sarcasm, dtype: bool\n"
     ]
    },
    {
     "name": "stderr",
     "output_type": "stream",
     "text": [
      "\r"
     ]
    },
    {
     "name": "stdout",
     "output_type": "stream",
     "text": [
      "MoviePy - Writing audio in ./audio_extracted_no/2272.mp3\n"
     ]
    },
    {
     "name": "stderr",
     "output_type": "stream",
     "text": [
      "                                                       "
     ]
    },
    {
     "name": "stdout",
     "output_type": "stream",
     "text": [
      "MoviePy - Done.\n",
      "                                               utterance speaker   \n",
      "17443  We've kind of been involved in a five-year exp...   PENNY  \\\n",
      "\n",
      "                                                 context   \n",
      "17443  [in town were starting to say I was a witch., ...  \\\n",
      "\n",
      "                                     context_speakers show  sarcasm  \n",
      "17443  [SHELDON, PERSON, PENNY, PENNY, PERSON, PENNY]  BBT    False  \n",
      "17443    False\n",
      "Name: sarcasm, dtype: bool\n"
     ]
    },
    {
     "name": "stderr",
     "output_type": "stream",
     "text": [
      "\r"
     ]
    },
    {
     "name": "stdout",
     "output_type": "stream",
     "text": [
      "MoviePy - Writing audio in ./audio_extracted_no/17443.mp3\n"
     ]
    },
    {
     "name": "stderr",
     "output_type": "stream",
     "text": [
      "                                                                  "
     ]
    },
    {
     "name": "stdout",
     "output_type": "stream",
     "text": [
      "MoviePy - Done.\n",
      "                                   utterance speaker   \n",
      "2500  Oh my God I love that! - Really? - NO!  MONICA  \\\n",
      "\n",
      "                                                context context_speakers   \n",
      "2500  [I want to show you something too. You know th...       [CHANDLER]  \\\n",
      "\n",
      "         show  sarcasm  \n",
      "2500  FRIENDS     True  \n",
      "2500    True\n",
      "Name: sarcasm, dtype: bool\n"
     ]
    },
    {
     "name": "stderr",
     "output_type": "stream",
     "text": [
      "\r"
     ]
    },
    {
     "name": "stdout",
     "output_type": "stream",
     "text": [
      "MoviePy - Writing audio in ./audio_extracted_yes/2500.mp3\n"
     ]
    },
    {
     "name": "stderr",
     "output_type": "stream",
     "text": [
      "                                                                  "
     ]
    },
    {
     "name": "stdout",
     "output_type": "stream",
     "text": [
      "MoviePy - Done.\n",
      "                                               utterance  speaker   \n",
      "16211  No. You mean this was all a ruse? Oh, how coul...  SHELDON  \\\n",
      "\n",
      "                                                 context   \n",
      "16211  [Oh, no! I can't!, Hurry! \\nWe're running out ...  \\\n",
      "\n",
      "                                        context_speakers show  sarcasm  \n",
      "16211  [SHELDON, BERNADETTE, SHELDON, BERNADETTE, SHE...  BBT    False  \n",
      "16211    False\n",
      "Name: sarcasm, dtype: bool\n"
     ]
    },
    {
     "name": "stderr",
     "output_type": "stream",
     "text": [
      "\r"
     ]
    },
    {
     "name": "stdout",
     "output_type": "stream",
     "text": [
      "MoviePy - Writing audio in ./audio_extracted_no/16211.mp3\n"
     ]
    },
    {
     "name": "stderr",
     "output_type": "stream",
     "text": [
      "                                                                  "
     ]
    },
    {
     "name": "stdout",
     "output_type": "stream",
     "text": [
      "MoviePy - Done.\n",
      "                                               utterance speaker   \n",
      "17641  She was just so sad all the time. Yeah, I was ...  HOWARD  \\\n",
      "\n",
      "                                                 context   \n",
      "17641  [You are now the only woman in my life who I'l...  \\\n",
      "\n",
      "                                        context_speakers show  sarcasm  \n",
      "17641  [HOWARD, BERNADETTE, HOWARD, BERNADETTE, HOWAR...  BBT    False  \n",
      "17641    False\n",
      "Name: sarcasm, dtype: bool\n"
     ]
    },
    {
     "name": "stderr",
     "output_type": "stream",
     "text": [
      "\r"
     ]
    },
    {
     "name": "stdout",
     "output_type": "stream",
     "text": [
      "MoviePy - Writing audio in ./audio_extracted_no/17641.mp3\n"
     ]
    },
    {
     "name": "stderr",
     "output_type": "stream",
     "text": [
      "                                                                  "
     ]
    },
    {
     "name": "stdout",
     "output_type": "stream",
     "text": [
      "MoviePy - Done.\n",
      "                                               utterance speaker   \n",
      "12842  Oh, you know, Goth stuff. Goth magazines, Goth...  HOWARD  \\\n",
      "\n",
      "                          context context_speakers show  sarcasm  \n",
      "12842  [So, what do you guys do?]         [PERSON]  BBT    False  \n",
      "12842    False\n",
      "Name: sarcasm, dtype: bool\n"
     ]
    },
    {
     "name": "stderr",
     "output_type": "stream",
     "text": [
      "\r"
     ]
    },
    {
     "name": "stdout",
     "output_type": "stream",
     "text": [
      "MoviePy - Writing audio in ./audio_extracted_no/12842.mp3\n"
     ]
    },
    {
     "name": "stderr",
     "output_type": "stream",
     "text": [
      "                                                                  "
     ]
    },
    {
     "name": "stdout",
     "output_type": "stream",
     "text": [
      "MoviePy - Done.\n",
      "                    utterance   speaker   \n",
      "2104  Was that place the sun?  CHANDLER  \\\n",
      "\n",
      "                                                context  context_speakers   \n",
      "2104  [Hold on, there is something different., I wen...  [CHANDLER, ROSS]  \\\n",
      "\n",
      "         show  sarcasm  \n",
      "2104  FRIENDS     True  \n",
      "2104    True\n",
      "Name: sarcasm, dtype: bool\n"
     ]
    },
    {
     "name": "stderr",
     "output_type": "stream",
     "text": [
      "\r"
     ]
    },
    {
     "name": "stdout",
     "output_type": "stream",
     "text": [
      "MoviePy - Writing audio in ./audio_extracted_yes/2104.mp3\n"
     ]
    },
    {
     "name": "stderr",
     "output_type": "stream",
     "text": [
      "                                                                 "
     ]
    },
    {
     "name": "stdout",
     "output_type": "stream",
     "text": [
      "MoviePy - Done.\n",
      "                                                utterance speaker   \n",
      "111924  All right, Amy's in charge of pricing and bein...  HOWARD  \\\n",
      "\n",
      "                                                  context   \n",
      "111924  [So, I put stickers on everything we're gonna ...  \\\n",
      "\n",
      "              context_speakers show  sarcasm  \n",
      "111924  [BERNADETTE, AMY, AMY]  BBT     True  \n",
      "111924    True\n",
      "Name: sarcasm, dtype: bool\n"
     ]
    },
    {
     "name": "stderr",
     "output_type": "stream",
     "text": [
      "\r"
     ]
    },
    {
     "name": "stdout",
     "output_type": "stream",
     "text": [
      "MoviePy - Writing audio in ./audio_extracted_yes/111924.mp3\n"
     ]
    },
    {
     "name": "stderr",
     "output_type": "stream",
     "text": [
      "                                                                  "
     ]
    },
    {
     "name": "stdout",
     "output_type": "stream",
     "text": [
      "MoviePy - Done.\n",
      "                                               utterance  speaker   \n",
      "17047  Also instead of just living in your mother's h...  LEONARD  \\\n",
      "\n",
      "                                                 context   \n",
      "17047  [Wrong. Leonard?, Horse, but mostly just for t...  \\\n",
      "\n",
      "                                        context_speakers show  sarcasm  \n",
      "17047  [SHELDON, LEONARD, LEONARD, SHELDON, HOWARD, H...  BBT     True  \n",
      "17047    True\n",
      "Name: sarcasm, dtype: bool\n"
     ]
    },
    {
     "name": "stderr",
     "output_type": "stream",
     "text": [
      "\r"
     ]
    },
    {
     "name": "stdout",
     "output_type": "stream",
     "text": [
      "MoviePy - Writing audio in ./audio_extracted_yes/17047.mp3\n"
     ]
    },
    {
     "name": "stderr",
     "output_type": "stream",
     "text": [
      "                                                                  "
     ]
    },
    {
     "name": "stdout",
     "output_type": "stream",
     "text": [
      "MoviePy - Done.\n",
      "                                               utterance  speaker   \n",
      "18837  Not as relieved as I'm about to be. It's a bra...  SHELDON  \\\n",
      "\n",
      "                                                 context   \n",
      "18837  [Really?, Yes., Huh. Yeah, I always took it li...  \\\n",
      "\n",
      "                            context_speakers show  sarcasm  \n",
      "18837  [SHELDON, AMY, SHELDON, SHELDON, AMY]  BBT    False  \n",
      "18837    False\n",
      "Name: sarcasm, dtype: bool\n"
     ]
    },
    {
     "name": "stderr",
     "output_type": "stream",
     "text": [
      "\r"
     ]
    },
    {
     "name": "stdout",
     "output_type": "stream",
     "text": [
      "MoviePy - Writing audio in ./audio_extracted_no/18837.mp3\n"
     ]
    },
    {
     "name": "stderr",
     "output_type": "stream",
     "text": [
      "                                                                   "
     ]
    },
    {
     "name": "stdout",
     "output_type": "stream",
     "text": [
      "MoviePy - Done.\n",
      "                                    utterance  speaker   \n",
      "11185  I think tonight was a very good start.  LEONARD  \\\n",
      "\n",
      "                                                 context   context_speakers   \n",
      "11185  [I'm sorry about all of Sheldon's interruption...  [LEONARD, PERSON]  \\\n",
      "\n",
      "      show  sarcasm  \n",
      "11185  BBT    False  \n",
      "11185    False\n",
      "Name: sarcasm, dtype: bool\n"
     ]
    },
    {
     "name": "stderr",
     "output_type": "stream",
     "text": [
      "\r"
     ]
    },
    {
     "name": "stdout",
     "output_type": "stream",
     "text": [
      "MoviePy - Writing audio in ./audio_extracted_no/11185.mp3\n"
     ]
    },
    {
     "name": "stderr",
     "output_type": "stream",
     "text": [
      "                                                       "
     ]
    },
    {
     "name": "stdout",
     "output_type": "stream",
     "text": [
      "MoviePy - Done.\n",
      "                                                utterance  speaker   \n",
      "111529  And how difficult it is to do when she's bloat...  SHELDON  \\\n",
      "\n",
      "                                                  context   \n",
      "111529  [What exactly do you think goes on here?, Well...  \\\n",
      "\n",
      "                                         context_speakers show  sarcasm  \n",
      "111529  [PENNY, SHELDON, SHELDON, SHELDON, SHELDON, BE...  BBT    False  \n",
      "111529    False\n",
      "Name: sarcasm, dtype: bool\n"
     ]
    },
    {
     "name": "stderr",
     "output_type": "stream",
     "text": [
      "\r"
     ]
    },
    {
     "name": "stdout",
     "output_type": "stream",
     "text": [
      "MoviePy - Writing audio in ./audio_extracted_no/111529.mp3\n"
     ]
    },
    {
     "name": "stderr",
     "output_type": "stream",
     "text": [
      "                                                                  "
     ]
    },
    {
     "name": "stdout",
     "output_type": "stream",
     "text": [
      "MoviePy - Done.\n",
      "                                             utterance speaker   \n",
      "2448  Do you still wanna call  'em? I wanna call  'em.  MONICA  \\\n",
      "\n",
      "                                                context   \n",
      "2448  [Yeah! You gotta tell a girl before you tape h...  \\\n",
      "\n",
      "              context_speakers     show  sarcasm  \n",
      "2448  [JOEY, CHANDLER, PHOEBE]  FRIENDS    False  \n",
      "2448    False\n",
      "Name: sarcasm, dtype: bool\n"
     ]
    },
    {
     "name": "stderr",
     "output_type": "stream",
     "text": [
      "\r"
     ]
    },
    {
     "name": "stdout",
     "output_type": "stream",
     "text": [
      "MoviePy - Writing audio in ./audio_extracted_no/2448.mp3\n"
     ]
    },
    {
     "name": "stderr",
     "output_type": "stream",
     "text": [
      "                                                       "
     ]
    },
    {
     "name": "stdout",
     "output_type": "stream",
     "text": [
      "MoviePy - Done.\n",
      "                                                utterance  speaker   \n",
      "110810  I'll give you a plan right now. Step one: open...  SHELDON  \\\n",
      "\n",
      "                                                  context   \n",
      "110810  [For starters, they shed and bite., Hey, here'...  \\\n",
      "\n",
      "                                     context_speakers show  sarcasm  \n",
      "110810  [SHELDON, LEONARD, RAJ, LEONARD, HOWARD, RAJ]  BBT    False  \n",
      "110810    False\n",
      "Name: sarcasm, dtype: bool\n"
     ]
    },
    {
     "name": "stderr",
     "output_type": "stream",
     "text": [
      "\r"
     ]
    },
    {
     "name": "stdout",
     "output_type": "stream",
     "text": [
      "MoviePy - Writing audio in ./audio_extracted_no/110810.mp3\n"
     ]
    },
    {
     "name": "stderr",
     "output_type": "stream",
     "text": [
      "                                                                   "
     ]
    },
    {
     "name": "stdout",
     "output_type": "stream",
     "text": [
      "MoviePy - Done.\n",
      "                                              utterance    speaker   \n",
      "2306  No, no no, I just mediate the gorup. I just gi...  MODERATOR  \\\n",
      "\n",
      "                       context context_speakers            show  sarcasm  \n",
      "2306  [Sarcasmholic yourself?]          [SCOTT]  SARCASMOHOLICS     True  \n",
      "2306    True\n",
      "Name: sarcasm, dtype: bool\n"
     ]
    },
    {
     "name": "stderr",
     "output_type": "stream",
     "text": [
      "\r"
     ]
    },
    {
     "name": "stdout",
     "output_type": "stream",
     "text": [
      "MoviePy - Writing audio in ./audio_extracted_yes/2306.mp3\n"
     ]
    },
    {
     "name": "stderr",
     "output_type": "stream",
     "text": [
      "                                                                    "
     ]
    },
    {
     "name": "stdout",
     "output_type": "stream",
     "text": [
      "MoviePy - Done.\n",
      "                                  utterance      speaker   \n",
      "2312  Sarcasm? At a sarcasmoholics meeting?  MEMBER-GIRL  \\\n",
      "\n",
      "                     context context_speakers            show  sarcasm  \n",
      "2312  [Alright! Definitely!]          [SCOTT]  SARCASMOHOLICS     True  \n",
      "2312    True\n",
      "Name: sarcasm, dtype: bool\n"
     ]
    },
    {
     "name": "stderr",
     "output_type": "stream",
     "text": [
      "\r"
     ]
    },
    {
     "name": "stdout",
     "output_type": "stream",
     "text": [
      "MoviePy - Writing audio in ./audio_extracted_yes/2312.mp3\n"
     ]
    },
    {
     "name": "stderr",
     "output_type": "stream",
     "text": [
      "                                                       "
     ]
    },
    {
     "name": "stdout",
     "output_type": "stream",
     "text": [
      "MoviePy - Done.\n",
      "     utterance   speaker                                            context   \n",
      "2474    Lovely  CHANDLER  [No., How long have we been home?, About a hal...  \\\n",
      "\n",
      "                context_speakers     show  sarcasm  \n",
      "2474  [MONICA, CHANDLER, MONICA]  FRIENDS     True  \n",
      "2474    True\n",
      "Name: sarcasm, dtype: bool\n"
     ]
    },
    {
     "name": "stderr",
     "output_type": "stream",
     "text": [
      "\r"
     ]
    },
    {
     "name": "stdout",
     "output_type": "stream",
     "text": [
      "MoviePy - Writing audio in ./audio_extracted_yes/2474.mp3\n"
     ]
    },
    {
     "name": "stderr",
     "output_type": "stream",
     "text": [
      "                                                       "
     ]
    },
    {
     "name": "stdout",
     "output_type": "stream",
     "text": [
      "MoviePy - Done.\n",
      "690\n"
     ]
    },
    {
     "name": "stderr",
     "output_type": "stream",
     "text": [
      "\r"
     ]
    }
   ],
   "source": [
    "import pandas as pd\n",
    "import moviepy.editor as mp #pip install ffmpeg moviepy\n",
    "import glob\n",
    "import pandas as pd \n",
    "import json\n",
    "\n",
    "all_video_files = glob.glob(\"utterances_final/*.mp4\", recursive=True)\n",
    "print(all_video_files)\n",
    "\n",
    "df = pd.read_json('../mustard_text/sarcasm_data.json', orient='index')\n",
    "\n",
    "count = 0\n",
    "for val in range(len(all_video_files)):\n",
    "    \n",
    "    i = all_video_files[val]\n",
    "\n",
    "    idx1 = i.index(\"utterances_final/\")\n",
    "    idx2 = i.index(\".mp4\")\n",
    "    res2 = i[idx1 + len(\"utterances_final/\"): idx2]\n",
    "    index = int(res2[0:1] + res2[2:])\n",
    "\n",
    "    print(df.loc[[index]])\n",
    "    print(df.loc[[index]]['sarcasm'])\n",
    "   \n",
    "    if(df.loc[[index]]['sarcasm'].item() == False):\n",
    "        my_clip = mp.VideoFileClip(i)\n",
    "        fileName = \"./audio_extracted_no/\" + str(index) + \".mp3\"\n",
    "        count += 1\n",
    "        my_clip.audio.write_audiofile(fileName)\n",
    "    elif(df.loc[[index]]['sarcasm'].item() == True):\n",
    "        my_clip = mp.VideoFileClip(i)\n",
    "        fileName = \"./audio_extracted_yes/\" + str(index) + \".mp3\"\n",
    "        count += 1\n",
    "        my_clip.audio.write_audiofile(fileName)\n",
    "print(count)"
   ]
  }
 ],
 "metadata": {
  "kernelspec": {
   "display_name": "Python 3",
   "language": "python",
   "name": "python3"
  },
  "language_info": {
   "codemirror_mode": {
    "name": "ipython",
    "version": 3
   },
   "file_extension": ".py",
   "mimetype": "text/x-python",
   "name": "python",
   "nbconvert_exporter": "python",
   "pygments_lexer": "ipython3",
   "version": "3.11.3"
  },
  "orig_nbformat": 4
 },
 "nbformat": 4,
 "nbformat_minor": 2
}
