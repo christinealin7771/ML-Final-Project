{
 "cells": [
  {
   "cell_type": "code",
   "execution_count": 1,
   "metadata": {},
   "outputs": [
    {
     "name": "stdout",
     "output_type": "stream",
     "text": [
      "utterance           Carol called me to thank me for the lasagna, I...\n",
      "speaker                                                        MONICA\n",
      "context             [I mean, I couldn't not know, I mean, if, if t...\n",
      "context_speakers                                       [RACHEL, ROSS]\n",
      "show                                                          FRIENDS\n",
      "sarcasm                                                         False\n",
      "Name: 228, dtype: object\n"
     ]
    }
   ],
   "source": [
    "import pandas as pd \n",
    "import json\n",
    "\n",
    "df = pd.read_json('./sarcasm_data.json', orient='index')\n",
    "print(df.iloc[608])\n",
    "df.reset_index(drop=True, inplace=True)"
   ]
  },
  {
   "cell_type": "markdown",
   "metadata": {},
   "source": []
  }
 ],
 "metadata": {
  "kernelspec": {
   "display_name": "Python 3",
   "language": "python",
   "name": "python3"
  },
  "language_info": {
   "codemirror_mode": {
    "name": "ipython",
    "version": 3
   },
   "file_extension": ".py",
   "mimetype": "text/x-python",
   "name": "python",
   "nbconvert_exporter": "python",
   "pygments_lexer": "ipython3",
   "version": "3.11.3"
  },
  "orig_nbformat": 4
 },
 "nbformat": 4,
 "nbformat_minor": 2
}
